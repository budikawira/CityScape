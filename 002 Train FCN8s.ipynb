{
 "cells": [
  {
   "cell_type": "markdown",
   "id": "c4c1c547-9e53-4f92-983f-e931f38aed2e",
   "metadata": {},
   "source": [
    "## Setup parameters and libraries"
   ]
  },
  {
   "cell_type": "code",
   "execution_count": 1,
   "id": "1829eba8-247f-43eb-96e4-d4af75a83069",
   "metadata": {},
   "outputs": [],
   "source": [
    "import torch\n",
    "import torch.nn as nn\n",
    "import numpy as np\n",
    "import albumentations as A\n",
    "from albumentations.pytorch import ToTensorV2\n",
    "import os\n",
    "import matplotlib.pyplot as plt\n",
    "import pandas as pd"
   ]
  },
  {
   "cell_type": "code",
   "execution_count": 2,
   "id": "c325470d-ec78-4e52-b086-0c3d06cf9d44",
   "metadata": {},
   "outputs": [],
   "source": [
    "# from google.colab import drive\n",
    "\n",
    "# drive.mount(\"/content/drive\")\n",
    "\n",
    "# TRAIN_IMG_PATH = \"/content/drive/MyDrive/AI/Cityscape/images_prepped_train-20230811T065243Z-001/images_prepped_train\"\n",
    "# TRAIN_MASK_PATH = \"/content/drive/MyDrive/AI/Cityscape/annotations_prepped_train-20230811T065240Z-001/annotations_prepped_train\"\n",
    "# VAL_IMG_PATH = \"/content/drive/MyDrive/AI/Cityscape/images_prepped_test-20230811T065241Z-001\"\n",
    "# VAL_MASK_PATH = \"/content/drive/MyDrive/AI/Cityscape/annotations_prepped_test-20230811T065240Z-001\"\n",
    "\n",
    "# EDA_DS_PATH = \"/content/drive/MyDrive/AI/Advance CV - Project 3/Dataset\"\n",
    "# EDA_TRAIN_LABELS = os.path.join(EDA_DS_PATH, \"train_labels.csv\")\n",
    "# EDA_TRAIN_FILES = os.path.join(EDA_DS_PATH, \"train_files.csv\")\n",
    "# EDA_VAL_FILES = os.path.join(EDA_DS_PATH, \"val_files.csv\")\n",
    "\n",
    "# MODEL_PATH = \"/content/drive/MyDrive/AI/Advance CV - Project 3/models/FCN8s\""
   ]
  },
  {
   "cell_type": "code",
   "execution_count": 3,
   "id": "e50a45e8-fa90-4f62-8183-d6d84578727a",
   "metadata": {},
   "outputs": [],
   "source": [
    "TRAIN_IMG_PATH = \"./dataset/bootcamp/train/images\"\n",
    "TRAIN_MASK_PATH = \"./dataset/bootcamp/train/annotations\"\n",
    "VAL_IMG_PATH = \"./dataset/bootcamp/test/images\"\n",
    "VAL_MASK_PATH = \"./dataset/bootcamp/test/annotations\"\n",
    "\n",
    "EDA_DS_PATH = \"./dataset/bootcamp/train\"\n",
    "EDA_TRAIN_LABELS = os.path.join(EDA_DS_PATH, \"train_labels.csv\")\n",
    "EDA_TRAIN_FILES = os.path.join(EDA_DS_PATH, \"train_files.csv\")\n",
    "EDA_VAL_FILES = os.path.join(EDA_DS_PATH, \"val_files.csv\")\n",
    "\n",
    "MODEL_PATH = \"./models/FCN8s\"\n",
    "\n",
    "METRIC_PATH = \"./metrics\"\n",
    "\n",
    "os.makedirs(MODEL_PATH, exist_ok=True)  # Ensure directory exist"
   ]
  },
  {
   "cell_type": "code",
   "execution_count": 4,
   "id": "249291b9-7568-4f20-ac1c-608235ffc0f7",
   "metadata": {},
   "outputs": [],
   "source": [
    "files_df = pd.read_csv(EDA_TRAIN_FILES)\n",
    "labels_df = pd.read_csv(EDA_TRAIN_LABELS)\n",
    "val_files_df = pd.read_csv(EDA_VAL_FILES)"
   ]
  },
  {
   "cell_type": "code",
   "execution_count": 5,
   "id": "b15b164c-309e-4f8b-857a-d911e8f70d23",
   "metadata": {},
   "outputs": [
    {
     "name": "stdout",
     "output_type": "stream",
     "text": [
      "            filename\n",
      "0  0001TP_006690.png\n",
      "1  0001TP_006720.png\n",
      "2  0001TP_006750.png\n",
      "3  0001TP_006780.png\n",
      "4  0001TP_006810.png\n",
      "\n",
      "   class     label\n",
      "0      0       sky\n",
      "1      1  building\n",
      "2      2      pole\n",
      "3      3      road\n",
      "4      4  sidewalk\n",
      "\n",
      "['0001TP_006690.png' '0001TP_006720.png' '0001TP_006750.png'\n",
      " '0001TP_006780.png' '0001TP_006810.png']\n",
      "\n",
      "['0016E5_07959.png' '0016E5_07961.png' '0016E5_07963.png'\n",
      " '0016E5_07965.png' '0016E5_07967.png']\n"
     ]
    }
   ],
   "source": [
    "print(files_df.head())\n",
    "print()\n",
    "print(labels_df.head())\n",
    "print()\n",
    "train_files = files_df['filename'].to_numpy()\n",
    "print(train_files[:5])\n",
    "print()\n",
    "val_files = val_files_df['filename'].to_numpy()\n",
    "print(val_files[:5])"
   ]
  },
  {
   "cell_type": "markdown",
   "id": "1b5d9399-856e-4d52-bd22-bc16e0a7fc31",
   "metadata": {},
   "source": [
    "## Dataset Loader"
   ]
  },
  {
   "cell_type": "code",
   "execution_count": 6,
   "id": "6f8a0fff-04c1-45de-ad46-15405ac1d7ff",
   "metadata": {},
   "outputs": [],
   "source": [
    "# refer to dataset.py\n",
    "from dataset import CityScapes"
   ]
  },
  {
   "cell_type": "code",
   "execution_count": 7,
   "id": "749b5b80-677e-4df2-993b-c0f97f1279cf",
   "metadata": {},
   "outputs": [
    {
     "name": "stdout",
     "output_type": "stream",
     "text": [
      "tensor([[[-1.8439, -1.9124, -1.8782,  ..., -1.8268, -1.8610, -1.8268],\n",
      "         [-1.8782, -1.8782, -1.8953,  ..., -1.8268, -1.8610, -1.8268],\n",
      "         [-1.8953, -1.8610, -1.8610,  ..., -1.9124, -1.8782, -1.8439],\n",
      "         ...,\n",
      "         [-1.8610, -1.8610, -1.8439,  ..., -1.7240, -1.6727, -1.6727],\n",
      "         [-1.8439, -1.8439, -1.8439,  ..., -1.6898, -1.6213, -1.7240],\n",
      "         [-1.8439, -1.8610, -1.8439,  ..., -1.7240, -1.7240, -1.7412]],\n",
      "\n",
      "        [[-1.7556, -1.8256, -1.7906,  ..., -1.6681, -1.7031, -1.7206],\n",
      "         [-1.7906, -1.7906, -1.8081,  ..., -1.6681, -1.7031, -1.7206],\n",
      "         [-1.8081, -1.7731, -1.7731,  ..., -1.7556, -1.7206, -1.7381],\n",
      "         ...,\n",
      "         [-1.7556, -1.7556, -1.7381,  ..., -1.4580, -1.4055, -1.3880],\n",
      "         [-1.7381, -1.7381, -1.7381,  ..., -1.4580, -1.3704, -1.4405],\n",
      "         [-1.7556, -1.7556, -1.7381,  ..., -1.4580, -1.4405, -1.4580]],\n",
      "\n",
      "        [[-1.5256, -1.5953, -1.5604,  ..., -1.4210, -1.4559, -1.4384],\n",
      "         [-1.5604, -1.5604, -1.5779,  ..., -1.4210, -1.4559, -1.4559],\n",
      "         [-1.5779, -1.5430, -1.5430,  ..., -1.5081, -1.4733, -1.4733],\n",
      "         ...,\n",
      "         [-1.4907, -1.4907, -1.4733,  ..., -1.1247, -1.0724, -1.1421],\n",
      "         [-1.4733, -1.4733, -1.4733,  ..., -1.1421, -1.0898, -1.1421],\n",
      "         [-1.4733, -1.4907, -1.4733,  ..., -1.1421, -1.1421, -1.1421]]])\n",
      "\n",
      "tensor([[ 1,  1,  1,  ...,  1,  1,  1],\n",
      "        [ 1,  1,  1,  ...,  1,  1,  1],\n",
      "        [ 1,  1,  1,  ...,  1,  1,  1],\n",
      "        ...,\n",
      "        [ 4,  4,  4,  ..., 11, 11, 11],\n",
      "        [ 4,  4,  4,  ..., 11, 11, 11],\n",
      "        [ 4,  4,  4,  ..., 11, 11, 11]], dtype=torch.uint8)\n",
      "\n",
      "torch.Size([3, 256, 256])\n",
      "\n",
      "torch.Size([256, 256])\n"
     ]
    }
   ],
   "source": [
    "train_datasets = CityScapes(TRAIN_IMG_PATH, TRAIN_MASK_PATH, train_files)\n",
    "image, mask = train_datasets.__getitem__(0)\n",
    "print(image)\n",
    "print()\n",
    "print(mask)\n",
    "print()\n",
    "print(image.shape)\n",
    "print()\n",
    "print(mask.shape)\n",
    "\n",
    "val_datasets = CityScapes(VAL_IMG_PATH, VAL_MASK_PATH, val_files)"
   ]
  },
  {
   "cell_type": "code",
   "execution_count": 8,
   "id": "6ca2b79c-0105-476c-a17d-7a8853e49233",
   "metadata": {},
   "outputs": [],
   "source": [
    "from torch.utils.data import DataLoader\n",
    "\n",
    "train_dataloader = DataLoader(train_datasets, batch_size=32, shuffle=True, num_workers=0)\n",
    "val_dataloader = DataLoader(val_datasets, batch_size=32, shuffle=True, num_workers=0)"
   ]
  },
  {
   "cell_type": "markdown",
   "id": "40e468e0-939f-4de4-870d-08475952464d",
   "metadata": {},
   "source": [
    "## Model Architecture"
   ]
  },
  {
   "cell_type": "code",
   "execution_count": 9,
   "id": "9d20aa0a-bf15-474c-8bb8-548d029116d8",
   "metadata": {},
   "outputs": [],
   "source": [
    "from architecture import FCN8s"
   ]
  },
  {
   "cell_type": "markdown",
   "id": "69139016-43ac-4b2f-8a67-8f6b14de3521",
   "metadata": {},
   "source": [
    "## Engine"
   ]
  },
  {
   "cell_type": "code",
   "execution_count": 10,
   "id": "7ae80138-d237-4d78-88bc-e26d946279a5",
   "metadata": {},
   "outputs": [
    {
     "name": "stderr",
     "output_type": "stream",
     "text": [
      "Z:\\BEKA\\2025\\AI\\Bootcamp\\Source\\Advanced CV\\Project 3\\engine.py:138: FutureWarning: `torch.cuda.amp.GradScaler(args...)` is deprecated. Please use `torch.amp.GradScaler('cuda', args...)` instead.\n",
      "  def train_engine(dataloader, model, loss_fn, optim, scaler=torch.cuda.amp.GradScaler()):\n"
     ]
    }
   ],
   "source": [
    "from engine import DiceLoss\n",
    "from engine import DiceCrossEntropyLoss\n",
    "from engine import train"
   ]
  },
  {
   "cell_type": "markdown",
   "id": "1d4755b5-1d8b-4b13-9ded-15789e32fa8e",
   "metadata": {},
   "source": [
    "## Train FCN8s with DiceLoss"
   ]
  },
  {
   "cell_type": "code",
   "execution_count": 11,
   "id": "f0a9de4a-f655-4aaf-a12e-483664a6efb0",
   "metadata": {},
   "outputs": [
    {
     "name": "stdout",
     "output_type": "stream",
     "text": [
      "12\n"
     ]
    }
   ],
   "source": [
    "model = FCN8s(in_channels=3, out_channels=len(labels_df))\n",
    "model.cuda()\n",
    "loss_fn = DiceLoss()\n",
    "optim = torch.optim.Adam(model.parameters(), lr = 1e-3)\n",
    "print(model.out_channels)"
   ]
  },
  {
   "cell_type": "code",
   "execution_count": 12,
   "id": "b434200e-a97f-4b8e-8c63-4ceed63e4968",
   "metadata": {},
   "outputs": [
    {
     "name": "stderr",
     "output_type": "stream",
     "text": [
      "100%|████████████████████████████████████████████████████████████████████████| 12/12 [00:13<00:00,  1.11s/it, loss=0.8]\n",
      "Z:\\BEKA\\2025\\AI\\Bootcamp\\Source\\Advanced CV\\Project 3\\engine.py:184: FutureWarning: `torch.cuda.amp.autocast(args...)` is deprecated. Please use `torch.amp.autocast('cuda', args...)` instead.\n",
      "  with torch.cuda.amp.autocast():\n",
      "100%|████████████████████████████████████████████████████████████████████████| 4/4 [00:01<00:00,  3.29it/s, loss=0.913]\n"
     ]
    },
    {
     "name": "stdout",
     "output_type": "stream",
     "text": [
      "Epoch 0/99\n",
      "----------\n",
      "Train Loss: 0.8637, Val Loss: 0.9121\n",
      "✅ Best model saved! (Val Loss: 0.9121091067790985)\n",
      "\n"
     ]
    },
    {
     "name": "stderr",
     "output_type": "stream",
     "text": [
      "100%|██████████████████████████████████████████████████████████████████████| 12/12 [00:09<00:00,  1.30it/s, loss=0.717]\n",
      "100%|████████████████████████████████████████████████████████████████████████| 4/4 [00:01<00:00,  3.41it/s, loss=0.913]\n"
     ]
    },
    {
     "name": "stdout",
     "output_type": "stream",
     "text": [
      "Epoch 1/99\n",
      "----------\n",
      "Train Loss: 0.7508, Val Loss: 0.9113\n",
      "✅ Best model saved! (Val Loss: 0.911324605345726)\n",
      "\n"
     ]
    },
    {
     "name": "stderr",
     "output_type": "stream",
     "text": [
      "100%|██████████████████████████████████████████████████████████████████████| 12/12 [00:09<00:00,  1.28it/s, loss=0.729]\n",
      "100%|█████████████████████████████████████████████████████████████████████████| 4/4 [00:01<00:00,  3.38it/s, loss=0.82]\n"
     ]
    },
    {
     "name": "stdout",
     "output_type": "stream",
     "text": [
      "Epoch 2/99\n",
      "----------\n",
      "Train Loss: 0.7261, Val Loss: 0.8165\n",
      "✅ Best model saved! (Val Loss: 0.8164981603622437)\n",
      "\n"
     ]
    },
    {
     "name": "stderr",
     "output_type": "stream",
     "text": [
      "100%|██████████████████████████████████████████████████████████████████████| 12/12 [00:09<00:00,  1.30it/s, loss=0.692]\n",
      "100%|████████████████████████████████████████████████████████████████████████| 4/4 [00:01<00:00,  3.38it/s, loss=0.814]\n"
     ]
    },
    {
     "name": "stdout",
     "output_type": "stream",
     "text": [
      "Epoch 3/99\n",
      "----------\n",
      "Train Loss: 0.7117, Val Loss: 0.8148\n",
      "✅ Best model saved! (Val Loss: 0.8147752285003662)\n",
      "\n"
     ]
    },
    {
     "name": "stderr",
     "output_type": "stream",
     "text": [
      "100%|██████████████████████████████████████████████████████████████████████| 12/12 [00:09<00:00,  1.30it/s, loss=0.685]\n",
      "100%|█████████████████████████████████████████████████████████████████████████| 4/4 [00:01<00:00,  3.35it/s, loss=0.83]\n"
     ]
    },
    {
     "name": "stdout",
     "output_type": "stream",
     "text": [
      "Epoch 4/99\n",
      "----------\n",
      "Train Loss: 0.7024, Val Loss: 0.8293\n",
      "\n"
     ]
    },
    {
     "name": "stderr",
     "output_type": "stream",
     "text": [
      "100%|██████████████████████████████████████████████████████████████████████| 12/12 [00:09<00:00,  1.30it/s, loss=0.702]\n",
      "100%|████████████████████████████████████████████████████████████████████████| 4/4 [00:01<00:00,  3.41it/s, loss=0.777]\n"
     ]
    },
    {
     "name": "stdout",
     "output_type": "stream",
     "text": [
      "Epoch 5/99\n",
      "----------\n",
      "Train Loss: 0.6997, Val Loss: 0.7756\n",
      "✅ Best model saved! (Val Loss: 0.7755903601646423)\n",
      "\n"
     ]
    },
    {
     "name": "stderr",
     "output_type": "stream",
     "text": [
      "100%|██████████████████████████████████████████████████████████████████████| 12/12 [00:09<00:00,  1.31it/s, loss=0.715]\n",
      "100%|████████████████████████████████████████████████████████████████████████| 4/4 [00:01<00:00,  3.42it/s, loss=0.766]\n"
     ]
    },
    {
     "name": "stdout",
     "output_type": "stream",
     "text": [
      "Epoch 6/99\n",
      "----------\n",
      "Train Loss: 0.6920, Val Loss: 0.7672\n",
      "✅ Best model saved! (Val Loss: 0.7672076523303986)\n",
      "\n"
     ]
    },
    {
     "name": "stderr",
     "output_type": "stream",
     "text": [
      "100%|██████████████████████████████████████████████████████████████████████| 12/12 [00:09<00:00,  1.30it/s, loss=0.684]\n",
      "100%|█████████████████████████████████████████████████████████████████████████| 4/4 [00:01<00:00,  3.34it/s, loss=0.79]\n"
     ]
    },
    {
     "name": "stdout",
     "output_type": "stream",
     "text": [
      "Epoch 7/99\n",
      "----------\n",
      "Train Loss: 0.6865, Val Loss: 0.7960\n",
      "\n"
     ]
    },
    {
     "name": "stderr",
     "output_type": "stream",
     "text": [
      "100%|███████████████████████████████████████████████████████████████████████| 12/12 [00:09<00:00,  1.31it/s, loss=0.67]\n",
      "100%|████████████████████████████████████████████████████████████████████████| 4/4 [00:01<00:00,  3.43it/s, loss=0.779]\n"
     ]
    },
    {
     "name": "stdout",
     "output_type": "stream",
     "text": [
      "Epoch 8/99\n",
      "----------\n",
      "Train Loss: 0.6857, Val Loss: 0.7772\n",
      "\n"
     ]
    },
    {
     "name": "stderr",
     "output_type": "stream",
     "text": [
      "100%|██████████████████████████████████████████████████████████████████████| 12/12 [00:09<00:00,  1.30it/s, loss=0.682]\n",
      "100%|████████████████████████████████████████████████████████████████████████| 4/4 [00:01<00:00,  3.40it/s, loss=0.774]\n"
     ]
    },
    {
     "name": "stdout",
     "output_type": "stream",
     "text": [
      "Epoch 9/99\n",
      "----------\n",
      "Train Loss: 0.6832, Val Loss: 0.7752\n",
      "\n"
     ]
    },
    {
     "name": "stderr",
     "output_type": "stream",
     "text": [
      "100%|██████████████████████████████████████████████████████████████████████| 12/12 [00:09<00:00,  1.30it/s, loss=0.692]\n",
      "100%|████████████████████████████████████████████████████████████████████████| 4/4 [00:01<00:00,  3.42it/s, loss=0.782]\n"
     ]
    },
    {
     "name": "stdout",
     "output_type": "stream",
     "text": [
      "Epoch 10/99\n",
      "----------\n",
      "Train Loss: 0.6811, Val Loss: 0.7817\n",
      "\n"
     ]
    },
    {
     "name": "stderr",
     "output_type": "stream",
     "text": [
      "100%|██████████████████████████████████████████████████████████████████████| 12/12 [00:09<00:00,  1.30it/s, loss=0.694]\n",
      "100%|████████████████████████████████████████████████████████████████████████| 4/4 [00:01<00:00,  3.39it/s, loss=0.778]\n"
     ]
    },
    {
     "name": "stdout",
     "output_type": "stream",
     "text": [
      "Epoch 11/99\n",
      "----------\n",
      "Train Loss: 0.6788, Val Loss: 0.7755\n",
      "\n"
     ]
    },
    {
     "name": "stderr",
     "output_type": "stream",
     "text": [
      "100%|██████████████████████████████████████████████████████████████████████| 12/12 [00:09<00:00,  1.30it/s, loss=0.704]\n",
      "100%|████████████████████████████████████████████████████████████████████████| 4/4 [00:01<00:00,  3.44it/s, loss=0.801]\n"
     ]
    },
    {
     "name": "stdout",
     "output_type": "stream",
     "text": [
      "Epoch 12/99\n",
      "----------\n",
      "Train Loss: 0.6754, Val Loss: 0.7884\n",
      "\n"
     ]
    },
    {
     "name": "stderr",
     "output_type": "stream",
     "text": [
      "100%|██████████████████████████████████████████████████████████████████████| 12/12 [00:09<00:00,  1.30it/s, loss=0.695]\n",
      "100%|████████████████████████████████████████████████████████████████████████| 4/4 [00:01<00:00,  3.42it/s, loss=0.795]\n"
     ]
    },
    {
     "name": "stdout",
     "output_type": "stream",
     "text": [
      "Epoch 13/99\n",
      "----------\n",
      "Train Loss: 0.6707, Val Loss: 0.7911\n",
      "\n"
     ]
    },
    {
     "name": "stderr",
     "output_type": "stream",
     "text": [
      "100%|██████████████████████████████████████████████████████████████████████| 12/12 [00:09<00:00,  1.30it/s, loss=0.678]\n",
      "100%|████████████████████████████████████████████████████████████████████████| 4/4 [00:01<00:00,  3.32it/s, loss=0.776]\n"
     ]
    },
    {
     "name": "stdout",
     "output_type": "stream",
     "text": [
      "Epoch 14/99\n",
      "----------\n",
      "Train Loss: 0.6734, Val Loss: 0.7807\n",
      "\n"
     ]
    },
    {
     "name": "stderr",
     "output_type": "stream",
     "text": [
      "100%|██████████████████████████████████████████████████████████████████████| 12/12 [00:09<00:00,  1.31it/s, loss=0.643]\n",
      "100%|████████████████████████████████████████████████████████████████████████| 4/4 [00:01<00:00,  3.40it/s, loss=0.775]\n"
     ]
    },
    {
     "name": "stdout",
     "output_type": "stream",
     "text": [
      "Epoch 15/99\n",
      "----------\n",
      "Train Loss: 0.6669, Val Loss: 0.7735\n",
      "\n"
     ]
    },
    {
     "name": "stderr",
     "output_type": "stream",
     "text": [
      "100%|██████████████████████████████████████████████████████████████████████| 12/12 [00:09<00:00,  1.30it/s, loss=0.657]\n",
      "100%|████████████████████████████████████████████████████████████████████████| 4/4 [00:01<00:00,  3.32it/s, loss=0.759]\n"
     ]
    },
    {
     "name": "stdout",
     "output_type": "stream",
     "text": [
      "Epoch 16/99\n",
      "----------\n",
      "Train Loss: 0.6630, Val Loss: 0.7577\n",
      "✅ Best model saved! (Val Loss: 0.7577124089002609)\n",
      "\n"
     ]
    },
    {
     "name": "stderr",
     "output_type": "stream",
     "text": [
      "100%|██████████████████████████████████████████████████████████████████████| 12/12 [00:09<00:00,  1.29it/s, loss=0.676]\n",
      "100%|████████████████████████████████████████████████████████████████████████| 4/4 [00:01<00:00,  3.38it/s, loss=0.767]\n"
     ]
    },
    {
     "name": "stdout",
     "output_type": "stream",
     "text": [
      "Epoch 17/99\n",
      "----------\n",
      "Train Loss: 0.6646, Val Loss: 0.7678\n",
      "\n"
     ]
    },
    {
     "name": "stderr",
     "output_type": "stream",
     "text": [
      "100%|██████████████████████████████████████████████████████████████████████| 12/12 [00:09<00:00,  1.30it/s, loss=0.647]\n",
      "100%|█████████████████████████████████████████████████████████████████████████| 4/4 [00:01<00:00,  3.37it/s, loss=0.77]\n"
     ]
    },
    {
     "name": "stdout",
     "output_type": "stream",
     "text": [
      "Epoch 18/99\n",
      "----------\n",
      "Train Loss: 0.6613, Val Loss: 0.7684\n",
      "\n"
     ]
    },
    {
     "name": "stderr",
     "output_type": "stream",
     "text": [
      "100%|███████████████████████████████████████████████████████████████████████| 12/12 [00:09<00:00,  1.30it/s, loss=0.68]\n",
      "100%|████████████████████████████████████████████████████████████████████████| 4/4 [00:01<00:00,  3.41it/s, loss=0.764]\n"
     ]
    },
    {
     "name": "stdout",
     "output_type": "stream",
     "text": [
      "Epoch 19/99\n",
      "----------\n",
      "Train Loss: 0.6611, Val Loss: 0.7639\n",
      "\n"
     ]
    },
    {
     "name": "stderr",
     "output_type": "stream",
     "text": [
      "100%|██████████████████████████████████████████████████████████████████████| 12/12 [00:09<00:00,  1.30it/s, loss=0.663]\n",
      "100%|████████████████████████████████████████████████████████████████████████| 4/4 [00:01<00:00,  3.33it/s, loss=0.771]\n"
     ]
    },
    {
     "name": "stdout",
     "output_type": "stream",
     "text": [
      "Epoch 20/99\n",
      "----------\n",
      "Train Loss: 0.6599, Val Loss: 0.7713\n",
      "\n"
     ]
    },
    {
     "name": "stderr",
     "output_type": "stream",
     "text": [
      "100%|██████████████████████████████████████████████████████████████████████| 12/12 [00:09<00:00,  1.31it/s, loss=0.657]\n",
      "100%|█████████████████████████████████████████████████████████████████████████| 4/4 [00:01<00:00,  3.38it/s, loss=0.76]\n"
     ]
    },
    {
     "name": "stdout",
     "output_type": "stream",
     "text": [
      "Epoch 21/99\n",
      "----------\n",
      "Train Loss: 0.6577, Val Loss: 0.7624\n",
      "\n"
     ]
    },
    {
     "name": "stderr",
     "output_type": "stream",
     "text": [
      "100%|██████████████████████████████████████████████████████████████████████| 12/12 [00:09<00:00,  1.30it/s, loss=0.686]\n",
      "100%|████████████████████████████████████████████████████████████████████████| 4/4 [00:01<00:00,  3.40it/s, loss=0.793]\n"
     ]
    },
    {
     "name": "stdout",
     "output_type": "stream",
     "text": [
      "Epoch 22/99\n",
      "----------\n",
      "Train Loss: 0.6567, Val Loss: 0.7914\n",
      "\n"
     ]
    },
    {
     "name": "stderr",
     "output_type": "stream",
     "text": [
      "100%|██████████████████████████████████████████████████████████████████████| 12/12 [00:09<00:00,  1.30it/s, loss=0.666]\n",
      "100%|████████████████████████████████████████████████████████████████████████| 4/4 [00:01<00:00,  3.34it/s, loss=0.764]\n"
     ]
    },
    {
     "name": "stdout",
     "output_type": "stream",
     "text": [
      "Epoch 23/99\n",
      "----------\n",
      "Train Loss: 0.6556, Val Loss: 0.7597\n",
      "\n"
     ]
    },
    {
     "name": "stderr",
     "output_type": "stream",
     "text": [
      "100%|██████████████████████████████████████████████████████████████████████| 12/12 [00:09<00:00,  1.31it/s, loss=0.619]\n",
      "100%|████████████████████████████████████████████████████████████████████████| 4/4 [00:01<00:00,  3.41it/s, loss=0.764]\n"
     ]
    },
    {
     "name": "stdout",
     "output_type": "stream",
     "text": [
      "Epoch 24/99\n",
      "----------\n",
      "Train Loss: 0.6519, Val Loss: 0.7650\n",
      "\n"
     ]
    },
    {
     "name": "stderr",
     "output_type": "stream",
     "text": [
      "100%|██████████████████████████████████████████████████████████████████████| 12/12 [00:09<00:00,  1.30it/s, loss=0.647]\n",
      "100%|████████████████████████████████████████████████████████████████████████| 4/4 [00:01<00:00,  3.42it/s, loss=0.776]\n"
     ]
    },
    {
     "name": "stdout",
     "output_type": "stream",
     "text": [
      "Epoch 25/99\n",
      "----------\n",
      "Train Loss: 0.6501, Val Loss: 0.7683\n",
      "\n"
     ]
    },
    {
     "name": "stderr",
     "output_type": "stream",
     "text": [
      "100%|██████████████████████████████████████████████████████████████████████| 12/12 [00:09<00:00,  1.30it/s, loss=0.683]\n",
      "100%|████████████████████████████████████████████████████████████████████████| 4/4 [00:01<00:00,  3.39it/s, loss=0.774]\n"
     ]
    },
    {
     "name": "stdout",
     "output_type": "stream",
     "text": [
      "Epoch 26/99\n",
      "----------\n",
      "Train Loss: 0.6524, Val Loss: 0.7718\n",
      "\n"
     ]
    },
    {
     "name": "stderr",
     "output_type": "stream",
     "text": [
      "100%|██████████████████████████████████████████████████████████████████████| 12/12 [00:09<00:00,  1.30it/s, loss=0.669]\n",
      "100%|████████████████████████████████████████████████████████████████████████| 4/4 [00:01<00:00,  3.34it/s, loss=0.747]\n"
     ]
    },
    {
     "name": "stdout",
     "output_type": "stream",
     "text": [
      "Epoch 27/99\n",
      "----------\n",
      "Train Loss: 0.6489, Val Loss: 0.7529\n",
      "✅ Best model saved! (Val Loss: 0.7529094517230988)\n",
      "\n"
     ]
    },
    {
     "name": "stderr",
     "output_type": "stream",
     "text": [
      "100%|██████████████████████████████████████████████████████████████████████| 12/12 [00:09<00:00,  1.29it/s, loss=0.621]\n",
      "100%|████████████████████████████████████████████████████████████████████████| 4/4 [00:01<00:00,  3.42it/s, loss=0.754]\n"
     ]
    },
    {
     "name": "stdout",
     "output_type": "stream",
     "text": [
      "Epoch 28/99\n",
      "----------\n",
      "Train Loss: 0.6439, Val Loss: 0.7570\n",
      "\n"
     ]
    },
    {
     "name": "stderr",
     "output_type": "stream",
     "text": [
      "100%|██████████████████████████████████████████████████████████████████████| 12/12 [00:09<00:00,  1.29it/s, loss=0.675]\n",
      "100%|████████████████████████████████████████████████████████████████████████| 4/4 [00:01<00:00,  3.43it/s, loss=0.742]\n"
     ]
    },
    {
     "name": "stdout",
     "output_type": "stream",
     "text": [
      "Epoch 29/99\n",
      "----------\n",
      "Train Loss: 0.6420, Val Loss: 0.7469\n",
      "✅ Best model saved! (Val Loss: 0.7469488978385925)\n",
      "\n"
     ]
    },
    {
     "name": "stderr",
     "output_type": "stream",
     "text": [
      "100%|██████████████████████████████████████████████████████████████████████| 12/12 [00:09<00:00,  1.31it/s, loss=0.658]\n",
      "100%|█████████████████████████████████████████████████████████████████████████| 4/4 [00:01<00:00,  3.42it/s, loss=0.76]\n"
     ]
    },
    {
     "name": "stdout",
     "output_type": "stream",
     "text": [
      "Epoch 30/99\n",
      "----------\n",
      "Train Loss: 0.6455, Val Loss: 0.7588\n",
      "\n"
     ]
    },
    {
     "name": "stderr",
     "output_type": "stream",
     "text": [
      "100%|██████████████████████████████████████████████████████████████████████| 12/12 [00:09<00:00,  1.30it/s, loss=0.659]\n",
      "100%|████████████████████████████████████████████████████████████████████████| 4/4 [00:01<00:00,  3.40it/s, loss=0.751]\n"
     ]
    },
    {
     "name": "stdout",
     "output_type": "stream",
     "text": [
      "Epoch 31/99\n",
      "----------\n",
      "Train Loss: 0.6425, Val Loss: 0.7548\n",
      "\n"
     ]
    },
    {
     "name": "stderr",
     "output_type": "stream",
     "text": [
      "100%|██████████████████████████████████████████████████████████████████████| 12/12 [00:09<00:00,  1.30it/s, loss=0.658]\n",
      "100%|████████████████████████████████████████████████████████████████████████| 4/4 [00:01<00:00,  3.36it/s, loss=0.734]\n"
     ]
    },
    {
     "name": "stdout",
     "output_type": "stream",
     "text": [
      "Epoch 32/99\n",
      "----------\n",
      "Train Loss: 0.6361, Val Loss: 0.7352\n",
      "✅ Best model saved! (Val Loss: 0.7352446615695953)\n",
      "\n"
     ]
    },
    {
     "name": "stderr",
     "output_type": "stream",
     "text": [
      "100%|██████████████████████████████████████████████████████████████████████| 12/12 [00:09<00:00,  1.27it/s, loss=0.627]\n",
      "100%|████████████████████████████████████████████████████████████████████████| 4/4 [00:01<00:00,  3.02it/s, loss=0.749]\n"
     ]
    },
    {
     "name": "stdout",
     "output_type": "stream",
     "text": [
      "Epoch 33/99\n",
      "----------\n",
      "Train Loss: 0.6354, Val Loss: 0.7531\n",
      "\n"
     ]
    },
    {
     "name": "stderr",
     "output_type": "stream",
     "text": [
      "100%|██████████████████████████████████████████████████████████████████████| 12/12 [00:09<00:00,  1.29it/s, loss=0.642]\n",
      "100%|████████████████████████████████████████████████████████████████████████| 4/4 [00:01<00:00,  3.41it/s, loss=0.738]\n"
     ]
    },
    {
     "name": "stdout",
     "output_type": "stream",
     "text": [
      "Epoch 34/99\n",
      "----------\n",
      "Train Loss: 0.6321, Val Loss: 0.7388\n",
      "\n"
     ]
    },
    {
     "name": "stderr",
     "output_type": "stream",
     "text": [
      "100%|██████████████████████████████████████████████████████████████████████| 12/12 [00:09<00:00,  1.31it/s, loss=0.626]\n",
      "100%|████████████████████████████████████████████████████████████████████████| 4/4 [00:01<00:00,  3.36it/s, loss=0.749]\n"
     ]
    },
    {
     "name": "stdout",
     "output_type": "stream",
     "text": [
      "Epoch 35/99\n",
      "----------\n",
      "Train Loss: 0.6269, Val Loss: 0.7452\n",
      "\n"
     ]
    },
    {
     "name": "stderr",
     "output_type": "stream",
     "text": [
      "100%|██████████████████████████████████████████████████████████████████████| 12/12 [00:09<00:00,  1.31it/s, loss=0.634]\n",
      "100%|████████████████████████████████████████████████████████████████████████| 4/4 [00:01<00:00,  3.35it/s, loss=0.746]\n"
     ]
    },
    {
     "name": "stdout",
     "output_type": "stream",
     "text": [
      "Epoch 36/99\n",
      "----------\n",
      "Train Loss: 0.6239, Val Loss: 0.7421\n",
      "\n"
     ]
    },
    {
     "name": "stderr",
     "output_type": "stream",
     "text": [
      "100%|██████████████████████████████████████████████████████████████████████| 12/12 [00:09<00:00,  1.31it/s, loss=0.628]\n",
      "100%|████████████████████████████████████████████████████████████████████████| 4/4 [00:01<00:00,  3.40it/s, loss=0.737]\n"
     ]
    },
    {
     "name": "stdout",
     "output_type": "stream",
     "text": [
      "Epoch 37/99\n",
      "----------\n",
      "Train Loss: 0.6200, Val Loss: 0.7379\n",
      "\n"
     ]
    },
    {
     "name": "stderr",
     "output_type": "stream",
     "text": [
      "100%|███████████████████████████████████████████████████████████████████████| 12/12 [00:09<00:00,  1.30it/s, loss=0.63]\n",
      "100%|████████████████████████████████████████████████████████████████████████| 4/4 [00:01<00:00,  3.45it/s, loss=0.764]\n"
     ]
    },
    {
     "name": "stdout",
     "output_type": "stream",
     "text": [
      "Epoch 38/99\n",
      "----------\n",
      "Train Loss: 0.6231, Val Loss: 0.7578\n",
      "\n"
     ]
    },
    {
     "name": "stderr",
     "output_type": "stream",
     "text": [
      "100%|██████████████████████████████████████████████████████████████████████| 12/12 [00:09<00:00,  1.30it/s, loss=0.623]\n",
      "100%|████████████████████████████████████████████████████████████████████████| 4/4 [00:01<00:00,  3.37it/s, loss=0.736]\n"
     ]
    },
    {
     "name": "stdout",
     "output_type": "stream",
     "text": [
      "Epoch 39/99\n",
      "----------\n",
      "Train Loss: 0.6245, Val Loss: 0.7384\n",
      "\n"
     ]
    },
    {
     "name": "stderr",
     "output_type": "stream",
     "text": [
      "100%|██████████████████████████████████████████████████████████████████████| 12/12 [00:09<00:00,  1.30it/s, loss=0.628]\n",
      "100%|████████████████████████████████████████████████████████████████████████| 4/4 [00:01<00:00,  3.48it/s, loss=0.731]\n"
     ]
    },
    {
     "name": "stdout",
     "output_type": "stream",
     "text": [
      "Epoch 40/99\n",
      "----------\n",
      "Train Loss: 0.6199, Val Loss: 0.7379\n",
      "\n"
     ]
    },
    {
     "name": "stderr",
     "output_type": "stream",
     "text": [
      "100%|██████████████████████████████████████████████████████████████████████| 12/12 [00:09<00:00,  1.30it/s, loss=0.618]\n",
      "100%|████████████████████████████████████████████████████████████████████████| 4/4 [00:01<00:00,  3.48it/s, loss=0.726]\n"
     ]
    },
    {
     "name": "stdout",
     "output_type": "stream",
     "text": [
      "Epoch 41/99\n",
      "----------\n",
      "Train Loss: 0.6154, Val Loss: 0.7287\n",
      "✅ Best model saved! (Val Loss: 0.7286559343338013)\n",
      "\n"
     ]
    },
    {
     "name": "stderr",
     "output_type": "stream",
     "text": [
      "100%|██████████████████████████████████████████████████████████████████████| 12/12 [00:09<00:00,  1.30it/s, loss=0.592]\n",
      "100%|████████████████████████████████████████████████████████████████████████| 4/4 [00:01<00:00,  3.45it/s, loss=0.726]\n"
     ]
    },
    {
     "name": "stdout",
     "output_type": "stream",
     "text": [
      "Epoch 42/99\n",
      "----------\n",
      "Train Loss: 0.6125, Val Loss: 0.7293\n",
      "\n"
     ]
    },
    {
     "name": "stderr",
     "output_type": "stream",
     "text": [
      "100%|██████████████████████████████████████████████████████████████████████| 12/12 [00:09<00:00,  1.30it/s, loss=0.625]\n",
      "100%|█████████████████████████████████████████████████████████████████████████| 4/4 [00:01<00:00,  3.40it/s, loss=0.74]\n"
     ]
    },
    {
     "name": "stdout",
     "output_type": "stream",
     "text": [
      "Epoch 43/99\n",
      "----------\n",
      "Train Loss: 0.6124, Val Loss: 0.7378\n",
      "\n"
     ]
    },
    {
     "name": "stderr",
     "output_type": "stream",
     "text": [
      "100%|██████████████████████████████████████████████████████████████████████| 12/12 [00:09<00:00,  1.30it/s, loss=0.578]\n",
      "100%|████████████████████████████████████████████████████████████████████████| 4/4 [00:01<00:00,  3.40it/s, loss=0.736]\n"
     ]
    },
    {
     "name": "stdout",
     "output_type": "stream",
     "text": [
      "Epoch 44/99\n",
      "----------\n",
      "Train Loss: 0.6121, Val Loss: 0.7409\n",
      "\n"
     ]
    },
    {
     "name": "stderr",
     "output_type": "stream",
     "text": [
      "100%|██████████████████████████████████████████████████████████████████████| 12/12 [00:09<00:00,  1.30it/s, loss=0.608]\n",
      "100%|████████████████████████████████████████████████████████████████████████| 4/4 [00:01<00:00,  3.46it/s, loss=0.742]\n"
     ]
    },
    {
     "name": "stdout",
     "output_type": "stream",
     "text": [
      "Epoch 45/99\n",
      "----------\n",
      "Train Loss: 0.6094, Val Loss: 0.7403\n",
      "\n"
     ]
    },
    {
     "name": "stderr",
     "output_type": "stream",
     "text": [
      "100%|██████████████████████████████████████████████████████████████████████| 12/12 [00:09<00:00,  1.30it/s, loss=0.593]\n",
      "100%|████████████████████████████████████████████████████████████████████████| 4/4 [00:01<00:00,  3.38it/s, loss=0.739]\n"
     ]
    },
    {
     "name": "stdout",
     "output_type": "stream",
     "text": [
      "Epoch 46/99\n",
      "----------\n",
      "Train Loss: 0.6053, Val Loss: 0.7353\n",
      "\n"
     ]
    },
    {
     "name": "stderr",
     "output_type": "stream",
     "text": [
      "100%|██████████████████████████████████████████████████████████████████████| 12/12 [00:09<00:00,  1.29it/s, loss=0.598]\n",
      "100%|████████████████████████████████████████████████████████████████████████| 4/4 [00:01<00:00,  3.37it/s, loss=0.745]\n"
     ]
    },
    {
     "name": "stdout",
     "output_type": "stream",
     "text": [
      "Epoch 47/99\n",
      "----------\n",
      "Train Loss: 0.6036, Val Loss: 0.7351\n",
      "\n"
     ]
    },
    {
     "name": "stderr",
     "output_type": "stream",
     "text": [
      "100%|██████████████████████████████████████████████████████████████████████| 12/12 [00:09<00:00,  1.29it/s, loss=0.589]\n",
      "100%|████████████████████████████████████████████████████████████████████████| 4/4 [00:01<00:00,  3.41it/s, loss=0.724]\n"
     ]
    },
    {
     "name": "stdout",
     "output_type": "stream",
     "text": [
      "Epoch 48/99\n",
      "----------\n",
      "Train Loss: 0.6001, Val Loss: 0.7269\n",
      "✅ Best model saved! (Val Loss: 0.7268654406070709)\n",
      "\n"
     ]
    },
    {
     "name": "stderr",
     "output_type": "stream",
     "text": [
      "100%|██████████████████████████████████████████████████████████████████████| 12/12 [00:09<00:00,  1.31it/s, loss=0.609]\n",
      "100%|████████████████████████████████████████████████████████████████████████| 4/4 [00:01<00:00,  3.43it/s, loss=0.721]\n"
     ]
    },
    {
     "name": "stdout",
     "output_type": "stream",
     "text": [
      "Epoch 49/99\n",
      "----------\n",
      "Train Loss: 0.6001, Val Loss: 0.7268\n",
      "✅ Best model saved! (Val Loss: 0.7268190532922745)\n",
      "\n"
     ]
    },
    {
     "name": "stderr",
     "output_type": "stream",
     "text": [
      "100%|██████████████████████████████████████████████████████████████████████| 12/12 [00:09<00:00,  1.30it/s, loss=0.619]\n",
      "100%|█████████████████████████████████████████████████████████████████████████| 4/4 [00:01<00:00,  3.45it/s, loss=0.74]\n"
     ]
    },
    {
     "name": "stdout",
     "output_type": "stream",
     "text": [
      "Epoch 50/99\n",
      "----------\n",
      "Train Loss: 0.5996, Val Loss: 0.7456\n",
      "\n"
     ]
    },
    {
     "name": "stderr",
     "output_type": "stream",
     "text": [
      "100%|██████████████████████████████████████████████████████████████████████| 12/12 [00:09<00:00,  1.30it/s, loss=0.602]\n",
      "100%|████████████████████████████████████████████████████████████████████████| 4/4 [00:01<00:00,  3.39it/s, loss=0.726]\n"
     ]
    },
    {
     "name": "stdout",
     "output_type": "stream",
     "text": [
      "Epoch 51/99\n",
      "----------\n",
      "Train Loss: 0.5987, Val Loss: 0.7262\n",
      "✅ Best model saved! (Val Loss: 0.7262132316827774)\n",
      "\n"
     ]
    },
    {
     "name": "stderr",
     "output_type": "stream",
     "text": [
      "100%|██████████████████████████████████████████████████████████████████████| 12/12 [00:09<00:00,  1.30it/s, loss=0.598]\n",
      "100%|████████████████████████████████████████████████████████████████████████| 4/4 [00:01<00:00,  3.46it/s, loss=0.734]\n"
     ]
    },
    {
     "name": "stdout",
     "output_type": "stream",
     "text": [
      "Epoch 52/99\n",
      "----------\n",
      "Train Loss: 0.5992, Val Loss: 0.7319\n",
      "\n"
     ]
    },
    {
     "name": "stderr",
     "output_type": "stream",
     "text": [
      "100%|██████████████████████████████████████████████████████████████████████| 12/12 [00:09<00:00,  1.30it/s, loss=0.613]\n",
      "100%|████████████████████████████████████████████████████████████████████████| 4/4 [00:01<00:00,  3.40it/s, loss=0.731]\n"
     ]
    },
    {
     "name": "stdout",
     "output_type": "stream",
     "text": [
      "Epoch 53/99\n",
      "----------\n",
      "Train Loss: 0.5990, Val Loss: 0.7364\n",
      "\n"
     ]
    },
    {
     "name": "stderr",
     "output_type": "stream",
     "text": [
      "100%|████████████████████████████████████████████████████████████████████████| 12/12 [00:09<00:00,  1.30it/s, loss=0.6]\n",
      "100%|████████████████████████████████████████████████████████████████████████| 4/4 [00:01<00:00,  3.37it/s, loss=0.746]\n"
     ]
    },
    {
     "name": "stdout",
     "output_type": "stream",
     "text": [
      "Epoch 54/99\n",
      "----------\n",
      "Train Loss: 0.5968, Val Loss: 0.7334\n",
      "\n"
     ]
    },
    {
     "name": "stderr",
     "output_type": "stream",
     "text": [
      "100%|██████████████████████████████████████████████████████████████████████| 12/12 [00:09<00:00,  1.31it/s, loss=0.571]\n",
      "100%|█████████████████████████████████████████████████████████████████████████| 4/4 [00:01<00:00,  3.48it/s, loss=0.74]\n"
     ]
    },
    {
     "name": "stdout",
     "output_type": "stream",
     "text": [
      "Epoch 55/99\n",
      "----------\n",
      "Train Loss: 0.5975, Val Loss: 0.7326\n",
      "\n"
     ]
    },
    {
     "name": "stderr",
     "output_type": "stream",
     "text": [
      "100%|██████████████████████████████████████████████████████████████████████| 12/12 [00:09<00:00,  1.30it/s, loss=0.563]\n",
      "100%|████████████████████████████████████████████████████████████████████████| 4/4 [00:01<00:00,  2.72it/s, loss=0.757]\n"
     ]
    },
    {
     "name": "stdout",
     "output_type": "stream",
     "text": [
      "Epoch 56/99\n",
      "----------\n",
      "Train Loss: 0.5972, Val Loss: 0.7595\n",
      "\n"
     ]
    },
    {
     "name": "stderr",
     "output_type": "stream",
     "text": [
      "100%|███████████████████████████████████████████████████████████████████████| 12/12 [00:09<00:00,  1.25it/s, loss=0.61]\n",
      "100%|████████████████████████████████████████████████████████████████████████| 4/4 [00:01<00:00,  3.26it/s, loss=0.752]\n"
     ]
    },
    {
     "name": "stdout",
     "output_type": "stream",
     "text": [
      "Epoch 57/99\n",
      "----------\n",
      "Train Loss: 0.6207, Val Loss: 0.7484\n",
      "\n"
     ]
    },
    {
     "name": "stderr",
     "output_type": "stream",
     "text": [
      "100%|██████████████████████████████████████████████████████████████████████| 12/12 [00:09<00:00,  1.27it/s, loss=0.621]\n",
      "100%|████████████████████████████████████████████████████████████████████████| 4/4 [00:01<00:00,  3.32it/s, loss=0.741]\n"
     ]
    },
    {
     "name": "stdout",
     "output_type": "stream",
     "text": [
      "Epoch 58/99\n",
      "----------\n",
      "Train Loss: 0.6098, Val Loss: 0.7356\n",
      "\n"
     ]
    },
    {
     "name": "stderr",
     "output_type": "stream",
     "text": [
      "100%|███████████████████████████████████████████████████████████████████████| 12/12 [00:09<00:00,  1.27it/s, loss=0.58]\n",
      "100%|████████████████████████████████████████████████████████████████████████| 4/4 [00:01<00:00,  3.31it/s, loss=0.732]\n"
     ]
    },
    {
     "name": "stdout",
     "output_type": "stream",
     "text": [
      "Epoch 59/99\n",
      "----------\n",
      "Train Loss: 0.6000, Val Loss: 0.7308\n",
      "\n"
     ]
    },
    {
     "name": "stderr",
     "output_type": "stream",
     "text": [
      "100%|██████████████████████████████████████████████████████████████████████| 12/12 [00:09<00:00,  1.27it/s, loss=0.594]\n",
      "100%|████████████████████████████████████████████████████████████████████████| 4/4 [00:01<00:00,  3.27it/s, loss=0.734]\n"
     ]
    },
    {
     "name": "stdout",
     "output_type": "stream",
     "text": [
      "Epoch 60/99\n",
      "----------\n",
      "Train Loss: 0.5970, Val Loss: 0.7352\n",
      "\n"
     ]
    },
    {
     "name": "stderr",
     "output_type": "stream",
     "text": [
      "100%|██████████████████████████████████████████████████████████████████████| 12/12 [00:09<00:00,  1.27it/s, loss=0.588]\n",
      "100%|████████████████████████████████████████████████████████████████████████| 4/4 [00:01<00:00,  3.34it/s, loss=0.736]\n"
     ]
    },
    {
     "name": "stdout",
     "output_type": "stream",
     "text": [
      "Epoch 61/99\n",
      "----------\n",
      "Train Loss: 0.5931, Val Loss: 0.7352\n",
      "\n"
     ]
    },
    {
     "name": "stderr",
     "output_type": "stream",
     "text": [
      "100%|██████████████████████████████████████████████████████████████████████| 12/12 [00:09<00:00,  1.29it/s, loss=0.574]\n",
      "100%|████████████████████████████████████████████████████████████████████████| 4/4 [00:01<00:00,  3.34it/s, loss=0.742]\n"
     ]
    },
    {
     "name": "stdout",
     "output_type": "stream",
     "text": [
      "Epoch 62/99\n",
      "----------\n",
      "Train Loss: 0.5912, Val Loss: 0.7348\n",
      "\n"
     ]
    },
    {
     "name": "stderr",
     "output_type": "stream",
     "text": [
      "100%|██████████████████████████████████████████████████████████████████████| 12/12 [00:09<00:00,  1.29it/s, loss=0.611]\n",
      "100%|████████████████████████████████████████████████████████████████████████| 4/4 [00:01<00:00,  3.33it/s, loss=0.721]\n"
     ]
    },
    {
     "name": "stdout",
     "output_type": "stream",
     "text": [
      "Epoch 63/99\n",
      "----------\n",
      "Train Loss: 0.5891, Val Loss: 0.7279\n",
      "\n"
     ]
    },
    {
     "name": "stderr",
     "output_type": "stream",
     "text": [
      "100%|██████████████████████████████████████████████████████████████████████| 12/12 [00:09<00:00,  1.29it/s, loss=0.579]\n",
      "100%|████████████████████████████████████████████████████████████████████████| 4/4 [00:01<00:00,  3.32it/s, loss=0.736]\n"
     ]
    },
    {
     "name": "stdout",
     "output_type": "stream",
     "text": [
      "Epoch 64/99\n",
      "----------\n",
      "Train Loss: 0.5846, Val Loss: 0.7355\n",
      "\n"
     ]
    },
    {
     "name": "stderr",
     "output_type": "stream",
     "text": [
      "100%|██████████████████████████████████████████████████████████████████████| 12/12 [00:09<00:00,  1.29it/s, loss=0.547]\n",
      "100%|████████████████████████████████████████████████████████████████████████| 4/4 [00:01<00:00,  3.28it/s, loss=0.733]\n"
     ]
    },
    {
     "name": "stdout",
     "output_type": "stream",
     "text": [
      "Epoch 65/99\n",
      "----------\n",
      "Train Loss: 0.5817, Val Loss: 0.7319\n",
      "\n"
     ]
    },
    {
     "name": "stderr",
     "output_type": "stream",
     "text": [
      "100%|██████████████████████████████████████████████████████████████████████| 12/12 [00:09<00:00,  1.30it/s, loss=0.581]\n",
      "100%|████████████████████████████████████████████████████████████████████████| 4/4 [00:01<00:00,  3.39it/s, loss=0.723]\n"
     ]
    },
    {
     "name": "stdout",
     "output_type": "stream",
     "text": [
      "Epoch 66/99\n",
      "----------\n",
      "Train Loss: 0.5830, Val Loss: 0.7267\n",
      "\n"
     ]
    },
    {
     "name": "stderr",
     "output_type": "stream",
     "text": [
      "100%|██████████████████████████████████████████████████████████████████████| 12/12 [00:09<00:00,  1.29it/s, loss=0.624]\n",
      "100%|████████████████████████████████████████████████████████████████████████| 4/4 [00:01<00:00,  3.36it/s, loss=0.727]\n"
     ]
    },
    {
     "name": "stdout",
     "output_type": "stream",
     "text": [
      "Epoch 67/99\n",
      "----------\n",
      "Train Loss: 0.5857, Val Loss: 0.7276\n",
      "\n"
     ]
    },
    {
     "name": "stderr",
     "output_type": "stream",
     "text": [
      "100%|██████████████████████████████████████████████████████████████████████| 12/12 [00:09<00:00,  1.28it/s, loss=0.604]\n",
      "100%|████████████████████████████████████████████████████████████████████████| 4/4 [00:01<00:00,  3.35it/s, loss=0.719]\n"
     ]
    },
    {
     "name": "stdout",
     "output_type": "stream",
     "text": [
      "Epoch 68/99\n",
      "----------\n",
      "Train Loss: 0.5850, Val Loss: 0.7249\n",
      "✅ Best model saved! (Val Loss: 0.7249339073896408)\n",
      "\n"
     ]
    },
    {
     "name": "stderr",
     "output_type": "stream",
     "text": [
      "100%|██████████████████████████████████████████████████████████████████████| 12/12 [00:09<00:00,  1.28it/s, loss=0.572]\n",
      "100%|████████████████████████████████████████████████████████████████████████| 4/4 [00:01<00:00,  3.24it/s, loss=0.731]\n"
     ]
    },
    {
     "name": "stdout",
     "output_type": "stream",
     "text": [
      "Epoch 69/99\n",
      "----------\n",
      "Train Loss: 0.5811, Val Loss: 0.7295\n",
      "\n"
     ]
    },
    {
     "name": "stderr",
     "output_type": "stream",
     "text": [
      "100%|██████████████████████████████████████████████████████████████████████| 12/12 [00:09<00:00,  1.29it/s, loss=0.571]\n",
      "100%|████████████████████████████████████████████████████████████████████████| 4/4 [00:01<00:00,  3.32it/s, loss=0.735]\n"
     ]
    },
    {
     "name": "stdout",
     "output_type": "stream",
     "text": [
      "Epoch 70/99\n",
      "----------\n",
      "Train Loss: 0.5806, Val Loss: 0.7340\n",
      "\n"
     ]
    },
    {
     "name": "stderr",
     "output_type": "stream",
     "text": [
      "100%|██████████████████████████████████████████████████████████████████████| 12/12 [00:09<00:00,  1.28it/s, loss=0.609]\n",
      "100%|████████████████████████████████████████████████████████████████████████| 4/4 [00:01<00:00,  3.31it/s, loss=0.736]\n"
     ]
    },
    {
     "name": "stdout",
     "output_type": "stream",
     "text": [
      "Epoch 71/99\n",
      "----------\n",
      "Train Loss: 0.5790, Val Loss: 0.7299\n",
      "\n"
     ]
    },
    {
     "name": "stderr",
     "output_type": "stream",
     "text": [
      "100%|██████████████████████████████████████████████████████████████████████| 12/12 [00:09<00:00,  1.28it/s, loss=0.563]\n",
      "100%|████████████████████████████████████████████████████████████████████████| 4/4 [00:01<00:00,  3.35it/s, loss=0.734]\n"
     ]
    },
    {
     "name": "stdout",
     "output_type": "stream",
     "text": [
      "Epoch 72/99\n",
      "----------\n",
      "Train Loss: 0.5762, Val Loss: 0.7316\n",
      "\n"
     ]
    },
    {
     "name": "stderr",
     "output_type": "stream",
     "text": [
      "100%|██████████████████████████████████████████████████████████████████████| 12/12 [00:09<00:00,  1.28it/s, loss=0.578]\n",
      "100%|████████████████████████████████████████████████████████████████████████| 4/4 [00:01<00:00,  3.17it/s, loss=0.719]\n"
     ]
    },
    {
     "name": "stdout",
     "output_type": "stream",
     "text": [
      "Epoch 73/99\n",
      "----------\n",
      "Train Loss: 0.5772, Val Loss: 0.7221\n",
      "✅ Best model saved! (Val Loss: 0.7221443057060242)\n",
      "\n"
     ]
    },
    {
     "name": "stderr",
     "output_type": "stream",
     "text": [
      "100%|██████████████████████████████████████████████████████████████████████| 12/12 [00:09<00:00,  1.28it/s, loss=0.566]\n",
      "100%|████████████████████████████████████████████████████████████████████████| 4/4 [00:01<00:00,  3.38it/s, loss=0.735]\n"
     ]
    },
    {
     "name": "stdout",
     "output_type": "stream",
     "text": [
      "Epoch 74/99\n",
      "----------\n",
      "Train Loss: 0.5749, Val Loss: 0.7312\n",
      "\n"
     ]
    },
    {
     "name": "stderr",
     "output_type": "stream",
     "text": [
      "100%|██████████████████████████████████████████████████████████████████████| 12/12 [00:09<00:00,  1.29it/s, loss=0.564]\n",
      "100%|████████████████████████████████████████████████████████████████████████| 4/4 [00:01<00:00,  3.36it/s, loss=0.725]\n"
     ]
    },
    {
     "name": "stdout",
     "output_type": "stream",
     "text": [
      "Epoch 75/99\n",
      "----------\n",
      "Train Loss: 0.5736, Val Loss: 0.7259\n",
      "\n"
     ]
    },
    {
     "name": "stderr",
     "output_type": "stream",
     "text": [
      "100%|██████████████████████████████████████████████████████████████████████| 12/12 [00:09<00:00,  1.30it/s, loss=0.591]\n",
      "100%|████████████████████████████████████████████████████████████████████████| 4/4 [00:01<00:00,  3.40it/s, loss=0.725]\n"
     ]
    },
    {
     "name": "stdout",
     "output_type": "stream",
     "text": [
      "Epoch 76/99\n",
      "----------\n",
      "Train Loss: 0.5882, Val Loss: 0.7233\n",
      "\n"
     ]
    },
    {
     "name": "stderr",
     "output_type": "stream",
     "text": [
      "100%|██████████████████████████████████████████████████████████████████████| 12/12 [00:09<00:00,  1.29it/s, loss=0.555]\n",
      "100%|████████████████████████████████████████████████████████████████████████| 4/4 [00:01<00:00,  3.43it/s, loss=0.739]\n"
     ]
    },
    {
     "name": "stdout",
     "output_type": "stream",
     "text": [
      "Epoch 77/99\n",
      "----------\n",
      "Train Loss: 0.5841, Val Loss: 0.7330\n",
      "\n"
     ]
    },
    {
     "name": "stderr",
     "output_type": "stream",
     "text": [
      "100%|██████████████████████████████████████████████████████████████████████| 12/12 [00:09<00:00,  1.30it/s, loss=0.579]\n",
      "100%|████████████████████████████████████████████████████████████████████████| 4/4 [00:01<00:00,  3.43it/s, loss=0.728]\n"
     ]
    },
    {
     "name": "stdout",
     "output_type": "stream",
     "text": [
      "Epoch 78/99\n",
      "----------\n",
      "Train Loss: 0.5790, Val Loss: 0.7210\n",
      "✅ Best model saved! (Val Loss: 0.7209737151861191)\n",
      "\n"
     ]
    },
    {
     "name": "stderr",
     "output_type": "stream",
     "text": [
      "100%|██████████████████████████████████████████████████████████████████████| 12/12 [00:09<00:00,  1.30it/s, loss=0.576]\n",
      "100%|████████████████████████████████████████████████████████████████████████| 4/4 [00:01<00:00,  3.39it/s, loss=0.722]\n"
     ]
    },
    {
     "name": "stdout",
     "output_type": "stream",
     "text": [
      "Epoch 79/99\n",
      "----------\n",
      "Train Loss: 0.5744, Val Loss: 0.7212\n",
      "\n"
     ]
    },
    {
     "name": "stderr",
     "output_type": "stream",
     "text": [
      "100%|██████████████████████████████████████████████████████████████████████| 12/12 [00:09<00:00,  1.30it/s, loss=0.601]\n",
      "100%|████████████████████████████████████████████████████████████████████████| 4/4 [00:01<00:00,  3.37it/s, loss=0.718]\n"
     ]
    },
    {
     "name": "stdout",
     "output_type": "stream",
     "text": [
      "Epoch 80/99\n",
      "----------\n",
      "Train Loss: 0.5740, Val Loss: 0.7190\n",
      "✅ Best model saved! (Val Loss: 0.7190269380807877)\n",
      "\n"
     ]
    },
    {
     "name": "stderr",
     "output_type": "stream",
     "text": [
      "100%|██████████████████████████████████████████████████████████████████████| 12/12 [00:09<00:00,  1.29it/s, loss=0.587]\n",
      "100%|████████████████████████████████████████████████████████████████████████| 4/4 [00:01<00:00,  3.33it/s, loss=0.714]\n"
     ]
    },
    {
     "name": "stdout",
     "output_type": "stream",
     "text": [
      "Epoch 81/99\n",
      "----------\n",
      "Train Loss: 0.5689, Val Loss: 0.7153\n",
      "✅ Best model saved! (Val Loss: 0.7152820974588394)\n",
      "\n"
     ]
    },
    {
     "name": "stderr",
     "output_type": "stream",
     "text": [
      "100%|██████████████████████████████████████████████████████████████████████| 12/12 [00:09<00:00,  1.29it/s, loss=0.613]\n",
      "100%|████████████████████████████████████████████████████████████████████████| 4/4 [00:01<00:00,  3.28it/s, loss=0.727]\n"
     ]
    },
    {
     "name": "stdout",
     "output_type": "stream",
     "text": [
      "Epoch 82/99\n",
      "----------\n",
      "Train Loss: 0.5688, Val Loss: 0.7230\n",
      "\n"
     ]
    },
    {
     "name": "stderr",
     "output_type": "stream",
     "text": [
      "100%|██████████████████████████████████████████████████████████████████████| 12/12 [00:09<00:00,  1.29it/s, loss=0.554]\n",
      "100%|█████████████████████████████████████████████████████████████████████████| 4/4 [00:01<00:00,  3.45it/s, loss=0.73]\n"
     ]
    },
    {
     "name": "stdout",
     "output_type": "stream",
     "text": [
      "Epoch 83/99\n",
      "----------\n",
      "Train Loss: 0.5627, Val Loss: 0.7282\n",
      "\n"
     ]
    },
    {
     "name": "stderr",
     "output_type": "stream",
     "text": [
      "100%|██████████████████████████████████████████████████████████████████████| 12/12 [00:09<00:00,  1.30it/s, loss=0.553]\n",
      "100%|████████████████████████████████████████████████████████████████████████| 4/4 [00:01<00:00,  3.45it/s, loss=0.719]\n"
     ]
    },
    {
     "name": "stdout",
     "output_type": "stream",
     "text": [
      "Epoch 84/99\n",
      "----------\n",
      "Train Loss: 0.5653, Val Loss: 0.7176\n",
      "\n"
     ]
    },
    {
     "name": "stderr",
     "output_type": "stream",
     "text": [
      "100%|██████████████████████████████████████████████████████████████████████| 12/12 [00:09<00:00,  1.29it/s, loss=0.581]\n",
      "100%|████████████████████████████████████████████████████████████████████████| 4/4 [00:01<00:00,  3.32it/s, loss=0.732]\n"
     ]
    },
    {
     "name": "stdout",
     "output_type": "stream",
     "text": [
      "Epoch 85/99\n",
      "----------\n",
      "Train Loss: 0.5622, Val Loss: 0.7194\n",
      "\n"
     ]
    },
    {
     "name": "stderr",
     "output_type": "stream",
     "text": [
      "100%|██████████████████████████████████████████████████████████████████████| 12/12 [00:09<00:00,  1.30it/s, loss=0.552]\n",
      "100%|████████████████████████████████████████████████████████████████████████| 4/4 [00:01<00:00,  3.41it/s, loss=0.732]\n"
     ]
    },
    {
     "name": "stdout",
     "output_type": "stream",
     "text": [
      "Epoch 86/99\n",
      "----------\n",
      "Train Loss: 0.5584, Val Loss: 0.7256\n",
      "\n"
     ]
    },
    {
     "name": "stderr",
     "output_type": "stream",
     "text": [
      "100%|██████████████████████████████████████████████████████████████████████| 12/12 [00:09<00:00,  1.30it/s, loss=0.513]\n",
      "100%|████████████████████████████████████████████████████████████████████████| 4/4 [00:01<00:00,  3.40it/s, loss=0.715]\n"
     ]
    },
    {
     "name": "stdout",
     "output_type": "stream",
     "text": [
      "Epoch 87/99\n",
      "----------\n",
      "Train Loss: 0.5534, Val Loss: 0.7206\n",
      "\n"
     ]
    },
    {
     "name": "stderr",
     "output_type": "stream",
     "text": [
      "100%|██████████████████████████████████████████████████████████████████████| 12/12 [00:09<00:00,  1.30it/s, loss=0.572]\n",
      "100%|████████████████████████████████████████████████████████████████████████| 4/4 [00:01<00:00,  3.42it/s, loss=0.703]\n"
     ]
    },
    {
     "name": "stdout",
     "output_type": "stream",
     "text": [
      "Epoch 88/99\n",
      "----------\n",
      "Train Loss: 0.5544, Val Loss: 0.7105\n",
      "✅ Best model saved! (Val Loss: 0.7105042338371277)\n",
      "\n"
     ]
    },
    {
     "name": "stderr",
     "output_type": "stream",
     "text": [
      "100%|██████████████████████████████████████████████████████████████████████| 12/12 [00:09<00:00,  1.30it/s, loss=0.556]\n",
      "100%|█████████████████████████████████████████████████████████████████████████| 4/4 [00:01<00:00,  3.42it/s, loss=0.72]\n"
     ]
    },
    {
     "name": "stdout",
     "output_type": "stream",
     "text": [
      "Epoch 89/99\n",
      "----------\n",
      "Train Loss: 0.5523, Val Loss: 0.7217\n",
      "\n"
     ]
    },
    {
     "name": "stderr",
     "output_type": "stream",
     "text": [
      "100%|██████████████████████████████████████████████████████████████████████| 12/12 [00:09<00:00,  1.31it/s, loss=0.552]\n",
      "100%|████████████████████████████████████████████████████████████████████████| 4/4 [00:01<00:00,  3.40it/s, loss=0.706]\n"
     ]
    },
    {
     "name": "stdout",
     "output_type": "stream",
     "text": [
      "Epoch 90/99\n",
      "----------\n",
      "Train Loss: 0.5500, Val Loss: 0.7118\n",
      "\n"
     ]
    },
    {
     "name": "stderr",
     "output_type": "stream",
     "text": [
      "100%|███████████████████████████████████████████████████████████████████████| 12/12 [00:09<00:00,  1.30it/s, loss=0.55]\n",
      "100%|████████████████████████████████████████████████████████████████████████| 4/4 [00:01<00:00,  3.40it/s, loss=0.726]\n"
     ]
    },
    {
     "name": "stdout",
     "output_type": "stream",
     "text": [
      "Epoch 91/99\n",
      "----------\n",
      "Train Loss: 0.5472, Val Loss: 0.7184\n",
      "\n"
     ]
    },
    {
     "name": "stderr",
     "output_type": "stream",
     "text": [
      "100%|██████████████████████████████████████████████████████████████████████| 12/12 [00:09<00:00,  1.28it/s, loss=0.549]\n",
      "100%|█████████████████████████████████████████████████████████████████████████| 4/4 [00:01<00:00,  3.28it/s, loss=0.71]\n"
     ]
    },
    {
     "name": "stdout",
     "output_type": "stream",
     "text": [
      "Epoch 92/99\n",
      "----------\n",
      "Train Loss: 0.5459, Val Loss: 0.7116\n",
      "\n"
     ]
    },
    {
     "name": "stderr",
     "output_type": "stream",
     "text": [
      "100%|██████████████████████████████████████████████████████████████████████| 12/12 [00:09<00:00,  1.30it/s, loss=0.563]\n",
      "100%|█████████████████████████████████████████████████████████████████████████| 4/4 [00:01<00:00,  3.42it/s, loss=0.72]\n"
     ]
    },
    {
     "name": "stdout",
     "output_type": "stream",
     "text": [
      "Epoch 93/99\n",
      "----------\n",
      "Train Loss: 0.5446, Val Loss: 0.7148\n",
      "\n"
     ]
    },
    {
     "name": "stderr",
     "output_type": "stream",
     "text": [
      "100%|██████████████████████████████████████████████████████████████████████| 12/12 [00:09<00:00,  1.30it/s, loss=0.526]\n",
      "100%|████████████████████████████████████████████████████████████████████████| 4/4 [00:01<00:00,  3.41it/s, loss=0.719]\n"
     ]
    },
    {
     "name": "stdout",
     "output_type": "stream",
     "text": [
      "Epoch 94/99\n",
      "----------\n",
      "Train Loss: 0.5432, Val Loss: 0.7122\n",
      "\n"
     ]
    },
    {
     "name": "stderr",
     "output_type": "stream",
     "text": [
      "100%|██████████████████████████████████████████████████████████████████████| 12/12 [00:09<00:00,  1.30it/s, loss=0.501]\n",
      "100%|████████████████████████████████████████████████████████████████████████| 4/4 [00:01<00:00,  3.34it/s, loss=0.708]\n"
     ]
    },
    {
     "name": "stdout",
     "output_type": "stream",
     "text": [
      "Epoch 95/99\n",
      "----------\n",
      "Train Loss: 0.5427, Val Loss: 0.7074\n",
      "✅ Best model saved! (Val Loss: 0.7074343711137772)\n",
      "\n"
     ]
    },
    {
     "name": "stderr",
     "output_type": "stream",
     "text": [
      "100%|██████████████████████████████████████████████████████████████████████| 12/12 [00:09<00:00,  1.31it/s, loss=0.535]\n",
      "100%|████████████████████████████████████████████████████████████████████████| 4/4 [00:01<00:00,  3.40it/s, loss=0.722]\n"
     ]
    },
    {
     "name": "stdout",
     "output_type": "stream",
     "text": [
      "Epoch 96/99\n",
      "----------\n",
      "Train Loss: 0.5420, Val Loss: 0.7187\n",
      "\n"
     ]
    },
    {
     "name": "stderr",
     "output_type": "stream",
     "text": [
      "100%|██████████████████████████████████████████████████████████████████████| 12/12 [00:09<00:00,  1.30it/s, loss=0.537]\n",
      "100%|████████████████████████████████████████████████████████████████████████| 4/4 [00:01<00:00,  3.35it/s, loss=0.709]\n"
     ]
    },
    {
     "name": "stdout",
     "output_type": "stream",
     "text": [
      "Epoch 97/99\n",
      "----------\n",
      "Train Loss: 0.5417, Val Loss: 0.7092\n",
      "\n"
     ]
    },
    {
     "name": "stderr",
     "output_type": "stream",
     "text": [
      "100%|██████████████████████████████████████████████████████████████████████| 12/12 [00:09<00:00,  1.30it/s, loss=0.525]\n",
      "100%|████████████████████████████████████████████████████████████████████████| 4/4 [00:01<00:00,  3.33it/s, loss=0.718]\n"
     ]
    },
    {
     "name": "stdout",
     "output_type": "stream",
     "text": [
      "Epoch 98/99\n",
      "----------\n",
      "Train Loss: 0.5404, Val Loss: 0.7159\n",
      "\n"
     ]
    },
    {
     "name": "stderr",
     "output_type": "stream",
     "text": [
      "100%|██████████████████████████████████████████████████████████████████████| 12/12 [00:09<00:00,  1.29it/s, loss=0.533]\n",
      "100%|████████████████████████████████████████████████████████████████████████| 4/4 [00:01<00:00,  3.39it/s, loss=0.725]"
     ]
    },
    {
     "name": "stdout",
     "output_type": "stream",
     "text": [
      "Epoch 99/99\n",
      "----------\n",
      "Train Loss: 0.5393, Val Loss: 0.7180\n",
      "\n",
      "Training complete in 17m 34s\n",
      "Best test (smallest validation lost): 0.707434\n",
      "CUDA GPU: NVIDIA GeForce RTX 4060 Laptop GPU\n",
      "Architecture: FCN8s DiceLoss\n"
     ]
    },
    {
     "name": "stderr",
     "output_type": "stream",
     "text": [
      "\n"
     ]
    }
   ],
   "source": [
    "model, logs = train(train_dataloader, val_dataloader, model, loss_fn, optim, 100, log_freq=1, save_best_model=True, \n",
    "              best_model_name='best_model_dice.pth', last_model_name='last_model_dice.pth', save_path=MODEL_PATH)\n",
    "print(f\"CUDA GPU: {torch.cuda.get_device_name(0)}\")\n",
    "print(f\"Architecture: FCN8s DiceLoss\")"
   ]
  },
  {
   "cell_type": "code",
   "execution_count": 13,
   "id": "1b4f9624-21fa-47b1-8d6d-645d35c501fb",
   "metadata": {},
   "outputs": [],
   "source": [
    "logs_df = pd.DataFrame(logs)\n",
    "logs_df.to_csv(os.path.join(METRIC_PATH, 'train_fcn8s_dice.csv'), index=False)"
   ]
  },
  {
   "cell_type": "code",
   "execution_count": 14,
   "id": "96c98cee-c5cd-4654-92d9-09915dd36004",
   "metadata": {},
   "outputs": [
    {
     "name": "stdout",
     "output_type": "stream",
     "text": [
      "12\n"
     ]
    }
   ],
   "source": [
    "import torch.nn as nn\n",
    "\n",
    "model = FCN8s(in_channels=3, out_channels=len(labels_df))\n",
    "model.cuda()\n",
    "loss_fn = nn.CrossEntropyLoss()\n",
    "optim = torch.optim.Adam(model.parameters(), lr = 1e-3)\n",
    "print(model.out_channels)"
   ]
  },
  {
   "cell_type": "code",
   "execution_count": 15,
   "id": "79bc5dc5-cba7-45dd-8c5f-466999fefab7",
   "metadata": {},
   "outputs": [
    {
     "name": "stderr",
     "output_type": "stream",
     "text": [
      "100%|███████████████████████████████████████████████████████████████████████| 12/12 [00:08<00:00,  1.35it/s, loss=1.21]\n",
      "100%|█████████████████████████████████████████████████████████████████████████| 4/4 [00:01<00:00,  3.36it/s, loss=2.31]\n"
     ]
    },
    {
     "name": "stdout",
     "output_type": "stream",
     "text": [
      "Epoch 0/99\n",
      "----------\n",
      "Train Loss: 1.5918, Val Loss: 2.2300\n",
      "✅ Best model saved! (Val Loss: 2.2300477623939514)\n",
      "\n"
     ]
    },
    {
     "name": "stderr",
     "output_type": "stream",
     "text": [
      "100%|██████████████████████████████████████████████████████████████████████| 12/12 [00:08<00:00,  1.39it/s, loss=0.888]\n",
      "100%|█████████████████████████████████████████████████████████████████████████| 4/4 [00:01<00:00,  3.50it/s, loss=2.74]\n"
     ]
    },
    {
     "name": "stdout",
     "output_type": "stream",
     "text": [
      "Epoch 1/99\n",
      "----------\n",
      "Train Loss: 0.9785, Val Loss: 2.6054\n",
      "\n"
     ]
    },
    {
     "name": "stderr",
     "output_type": "stream",
     "text": [
      "100%|██████████████████████████████████████████████████████████████████████| 12/12 [00:08<00:00,  1.38it/s, loss=0.665]\n",
      "100%|█████████████████████████████████████████████████████████████████████████| 4/4 [00:01<00:00,  3.45it/s, loss=0.99]\n"
     ]
    },
    {
     "name": "stdout",
     "output_type": "stream",
     "text": [
      "Epoch 2/99\n",
      "----------\n",
      "Train Loss: 0.8319, Val Loss: 0.9927\n",
      "✅ Best model saved! (Val Loss: 0.9926870912313461)\n",
      "\n"
     ]
    },
    {
     "name": "stderr",
     "output_type": "stream",
     "text": [
      "100%|██████████████████████████████████████████████████████████████████████| 12/12 [00:08<00:00,  1.37it/s, loss=0.768]\n",
      "100%|████████████████████████████████████████████████████████████████████████| 4/4 [00:01<00:00,  3.48it/s, loss=0.888]\n"
     ]
    },
    {
     "name": "stdout",
     "output_type": "stream",
     "text": [
      "Epoch 3/99\n",
      "----------\n",
      "Train Loss: 0.7480, Val Loss: 0.9081\n",
      "✅ Best model saved! (Val Loss: 0.9081445187330246)\n",
      "\n"
     ]
    },
    {
     "name": "stderr",
     "output_type": "stream",
     "text": [
      "100%|██████████████████████████████████████████████████████████████████████| 12/12 [00:08<00:00,  1.38it/s, loss=0.616]\n",
      "100%|████████████████████████████████████████████████████████████████████████| 4/4 [00:01<00:00,  3.46it/s, loss=0.822]\n"
     ]
    },
    {
     "name": "stdout",
     "output_type": "stream",
     "text": [
      "Epoch 4/99\n",
      "----------\n",
      "Train Loss: 0.6823, Val Loss: 0.8074\n",
      "✅ Best model saved! (Val Loss: 0.8074075877666473)\n",
      "\n"
     ]
    },
    {
     "name": "stderr",
     "output_type": "stream",
     "text": [
      "100%|██████████████████████████████████████████████████████████████████████| 12/12 [00:08<00:00,  1.38it/s, loss=0.577]\n",
      "100%|████████████████████████████████████████████████████████████████████████| 4/4 [00:01<00:00,  3.41it/s, loss=0.765]\n"
     ]
    },
    {
     "name": "stdout",
     "output_type": "stream",
     "text": [
      "Epoch 5/99\n",
      "----------\n",
      "Train Loss: 0.6240, Val Loss: 0.7410\n",
      "✅ Best model saved! (Val Loss: 0.7410038411617279)\n",
      "\n"
     ]
    },
    {
     "name": "stderr",
     "output_type": "stream",
     "text": [
      "100%|██████████████████████████████████████████████████████████████████████| 12/12 [00:08<00:00,  1.38it/s, loss=0.534]\n",
      "100%|████████████████████████████████████████████████████████████████████████| 4/4 [00:01<00:00,  3.44it/s, loss=0.664]\n"
     ]
    },
    {
     "name": "stdout",
     "output_type": "stream",
     "text": [
      "Epoch 6/99\n",
      "----------\n",
      "Train Loss: 0.6021, Val Loss: 0.6574\n",
      "✅ Best model saved! (Val Loss: 0.6574425250291824)\n",
      "\n"
     ]
    },
    {
     "name": "stderr",
     "output_type": "stream",
     "text": [
      "100%|██████████████████████████████████████████████████████████████████████| 12/12 [00:08<00:00,  1.37it/s, loss=0.569]\n",
      "100%|█████████████████████████████████████████████████████████████████████████| 4/4 [00:01<00:00,  3.50it/s, loss=0.61]\n"
     ]
    },
    {
     "name": "stdout",
     "output_type": "stream",
     "text": [
      "Epoch 7/99\n",
      "----------\n",
      "Train Loss: 0.5714, Val Loss: 0.6225\n",
      "✅ Best model saved! (Val Loss: 0.6224866062402725)\n",
      "\n"
     ]
    },
    {
     "name": "stderr",
     "output_type": "stream",
     "text": [
      "100%|██████████████████████████████████████████████████████████████████████| 12/12 [00:08<00:00,  1.36it/s, loss=0.498]\n",
      "100%|████████████████████████████████████████████████████████████████████████| 4/4 [00:01<00:00,  3.44it/s, loss=0.642]\n"
     ]
    },
    {
     "name": "stdout",
     "output_type": "stream",
     "text": [
      "Epoch 8/99\n",
      "----------\n",
      "Train Loss: 0.5373, Val Loss: 0.6226\n",
      "\n"
     ]
    },
    {
     "name": "stderr",
     "output_type": "stream",
     "text": [
      "100%|██████████████████████████████████████████████████████████████████████| 12/12 [00:08<00:00,  1.35it/s, loss=0.499]\n",
      "100%|████████████████████████████████████████████████████████████████████████| 4/4 [00:01<00:00,  3.43it/s, loss=0.538]\n"
     ]
    },
    {
     "name": "stdout",
     "output_type": "stream",
     "text": [
      "Epoch 9/99\n",
      "----------\n",
      "Train Loss: 0.5222, Val Loss: 0.5728\n",
      "✅ Best model saved! (Val Loss: 0.5728197395801544)\n",
      "\n"
     ]
    },
    {
     "name": "stderr",
     "output_type": "stream",
     "text": [
      "100%|██████████████████████████████████████████████████████████████████████| 12/12 [00:08<00:00,  1.36it/s, loss=0.472]\n",
      "100%|████████████████████████████████████████████████████████████████████████| 4/4 [00:01<00:00,  3.43it/s, loss=0.542]\n"
     ]
    },
    {
     "name": "stdout",
     "output_type": "stream",
     "text": [
      "Epoch 10/99\n",
      "----------\n",
      "Train Loss: 0.4997, Val Loss: 0.5134\n",
      "✅ Best model saved! (Val Loss: 0.513427384197712)\n",
      "\n"
     ]
    },
    {
     "name": "stderr",
     "output_type": "stream",
     "text": [
      "100%|██████████████████████████████████████████████████████████████████████| 12/12 [00:08<00:00,  1.36it/s, loss=0.502]\n",
      "100%|█████████████████████████████████████████████████████████████████████████| 4/4 [00:01<00:00,  3.42it/s, loss=0.47]\n"
     ]
    },
    {
     "name": "stdout",
     "output_type": "stream",
     "text": [
      "Epoch 11/99\n",
      "----------\n",
      "Train Loss: 0.4946, Val Loss: 0.4881\n",
      "✅ Best model saved! (Val Loss: 0.4880603030323982)\n",
      "\n"
     ]
    },
    {
     "name": "stderr",
     "output_type": "stream",
     "text": [
      "100%|██████████████████████████████████████████████████████████████████████| 12/12 [00:08<00:00,  1.34it/s, loss=0.442]\n",
      "100%|████████████████████████████████████████████████████████████████████████| 4/4 [00:01<00:00,  3.33it/s, loss=0.801]\n"
     ]
    },
    {
     "name": "stdout",
     "output_type": "stream",
     "text": [
      "Epoch 12/99\n",
      "----------\n",
      "Train Loss: 0.4776, Val Loss: 0.7932\n",
      "\n"
     ]
    },
    {
     "name": "stderr",
     "output_type": "stream",
     "text": [
      "100%|██████████████████████████████████████████████████████████████████████| 12/12 [00:08<00:00,  1.34it/s, loss=0.547]\n",
      "100%|████████████████████████████████████████████████████████████████████████| 4/4 [00:01<00:00,  3.24it/s, loss=0.558]\n"
     ]
    },
    {
     "name": "stdout",
     "output_type": "stream",
     "text": [
      "Epoch 13/99\n",
      "----------\n",
      "Train Loss: 0.4926, Val Loss: 0.5435\n",
      "\n"
     ]
    },
    {
     "name": "stderr",
     "output_type": "stream",
     "text": [
      "100%|██████████████████████████████████████████████████████████████████████| 12/12 [00:08<00:00,  1.33it/s, loss=0.462]\n",
      "100%|████████████████████████████████████████████████████████████████████████| 4/4 [00:01<00:00,  3.18it/s, loss=0.702]\n"
     ]
    },
    {
     "name": "stdout",
     "output_type": "stream",
     "text": [
      "Epoch 14/99\n",
      "----------\n",
      "Train Loss: 0.4855, Val Loss: 0.7514\n",
      "\n"
     ]
    },
    {
     "name": "stderr",
     "output_type": "stream",
     "text": [
      "100%|██████████████████████████████████████████████████████████████████████| 12/12 [00:08<00:00,  1.34it/s, loss=0.445]\n",
      "100%|████████████████████████████████████████████████████████████████████████| 4/4 [00:01<00:00,  3.38it/s, loss=0.552]\n"
     ]
    },
    {
     "name": "stdout",
     "output_type": "stream",
     "text": [
      "Epoch 15/99\n",
      "----------\n",
      "Train Loss: 0.4599, Val Loss: 0.5302\n",
      "\n"
     ]
    },
    {
     "name": "stderr",
     "output_type": "stream",
     "text": [
      "100%|██████████████████████████████████████████████████████████████████████| 12/12 [00:08<00:00,  1.36it/s, loss=0.453]\n",
      "100%|████████████████████████████████████████████████████████████████████████| 4/4 [00:01<00:00,  3.39it/s, loss=0.453]\n"
     ]
    },
    {
     "name": "stdout",
     "output_type": "stream",
     "text": [
      "Epoch 16/99\n",
      "----------\n",
      "Train Loss: 0.4278, Val Loss: 0.4427\n",
      "✅ Best model saved! (Val Loss: 0.4427344873547554)\n",
      "\n"
     ]
    },
    {
     "name": "stderr",
     "output_type": "stream",
     "text": [
      "100%|██████████████████████████████████████████████████████████████████████| 12/12 [00:08<00:00,  1.35it/s, loss=0.466]\n",
      "100%|████████████████████████████████████████████████████████████████████████| 4/4 [00:01<00:00,  3.36it/s, loss=0.527]\n"
     ]
    },
    {
     "name": "stdout",
     "output_type": "stream",
     "text": [
      "Epoch 17/99\n",
      "----------\n",
      "Train Loss: 0.4192, Val Loss: 0.4761\n",
      "\n"
     ]
    },
    {
     "name": "stderr",
     "output_type": "stream",
     "text": [
      "100%|██████████████████████████████████████████████████████████████████████| 12/12 [00:08<00:00,  1.34it/s, loss=0.411]\n",
      "100%|████████████████████████████████████████████████████████████████████████| 4/4 [00:01<00:00,  3.51it/s, loss=0.459]\n"
     ]
    },
    {
     "name": "stdout",
     "output_type": "stream",
     "text": [
      "Epoch 18/99\n",
      "----------\n",
      "Train Loss: 0.4135, Val Loss: 0.4308\n",
      "✅ Best model saved! (Val Loss: 0.4308209717273712)\n",
      "\n"
     ]
    },
    {
     "name": "stderr",
     "output_type": "stream",
     "text": [
      "100%|██████████████████████████████████████████████████████████████████████| 12/12 [00:08<00:00,  1.36it/s, loss=0.412]\n",
      "100%|████████████████████████████████████████████████████████████████████████| 4/4 [00:01<00:00,  3.38it/s, loss=0.519]\n"
     ]
    },
    {
     "name": "stdout",
     "output_type": "stream",
     "text": [
      "Epoch 19/99\n",
      "----------\n",
      "Train Loss: 0.3890, Val Loss: 0.5289\n",
      "\n"
     ]
    },
    {
     "name": "stderr",
     "output_type": "stream",
     "text": [
      "100%|██████████████████████████████████████████████████████████████████████| 12/12 [00:08<00:00,  1.37it/s, loss=0.354]\n",
      "100%|████████████████████████████████████████████████████████████████████████| 4/4 [00:01<00:00,  3.53it/s, loss=0.434]\n"
     ]
    },
    {
     "name": "stdout",
     "output_type": "stream",
     "text": [
      "Epoch 20/99\n",
      "----------\n",
      "Train Loss: 0.3934, Val Loss: 0.4162\n",
      "✅ Best model saved! (Val Loss: 0.4161766618490219)\n",
      "\n"
     ]
    },
    {
     "name": "stderr",
     "output_type": "stream",
     "text": [
      "100%|██████████████████████████████████████████████████████████████████████| 12/12 [00:08<00:00,  1.37it/s, loss=0.392]\n",
      "100%|████████████████████████████████████████████████████████████████████████| 4/4 [00:01<00:00,  3.51it/s, loss=0.439]\n"
     ]
    },
    {
     "name": "stdout",
     "output_type": "stream",
     "text": [
      "Epoch 21/99\n",
      "----------\n",
      "Train Loss: 0.3934, Val Loss: 0.4213\n",
      "\n"
     ]
    },
    {
     "name": "stderr",
     "output_type": "stream",
     "text": [
      "100%|██████████████████████████████████████████████████████████████████████| 12/12 [00:08<00:00,  1.38it/s, loss=0.447]\n",
      "100%|████████████████████████████████████████████████████████████████████████| 4/4 [00:01<00:00,  3.51it/s, loss=0.413]\n"
     ]
    },
    {
     "name": "stdout",
     "output_type": "stream",
     "text": [
      "Epoch 22/99\n",
      "----------\n",
      "Train Loss: 0.3793, Val Loss: 0.4212\n",
      "\n"
     ]
    },
    {
     "name": "stderr",
     "output_type": "stream",
     "text": [
      "100%|██████████████████████████████████████████████████████████████████████| 12/12 [00:08<00:00,  1.38it/s, loss=0.384]\n",
      "100%|████████████████████████████████████████████████████████████████████████| 4/4 [00:01<00:00,  3.51it/s, loss=0.505]\n"
     ]
    },
    {
     "name": "stdout",
     "output_type": "stream",
     "text": [
      "Epoch 23/99\n",
      "----------\n",
      "Train Loss: 0.3641, Val Loss: 0.5140\n",
      "\n"
     ]
    },
    {
     "name": "stderr",
     "output_type": "stream",
     "text": [
      "100%|██████████████████████████████████████████████████████████████████████| 12/12 [00:08<00:00,  1.38it/s, loss=0.357]\n",
      "100%|████████████████████████████████████████████████████████████████████████| 4/4 [00:01<00:00,  3.55it/s, loss=0.369]\n"
     ]
    },
    {
     "name": "stdout",
     "output_type": "stream",
     "text": [
      "Epoch 24/99\n",
      "----------\n",
      "Train Loss: 0.3540, Val Loss: 0.3672\n",
      "✅ Best model saved! (Val Loss: 0.3672087714076042)\n",
      "\n"
     ]
    },
    {
     "name": "stderr",
     "output_type": "stream",
     "text": [
      "100%|██████████████████████████████████████████████████████████████████████| 12/12 [00:08<00:00,  1.38it/s, loss=0.334]\n",
      "100%|████████████████████████████████████████████████████████████████████████| 4/4 [00:01<00:00,  3.52it/s, loss=0.376]\n"
     ]
    },
    {
     "name": "stdout",
     "output_type": "stream",
     "text": [
      "Epoch 25/99\n",
      "----------\n",
      "Train Loss: 0.3497, Val Loss: 0.3844\n",
      "\n"
     ]
    },
    {
     "name": "stderr",
     "output_type": "stream",
     "text": [
      "100%|██████████████████████████████████████████████████████████████████████| 12/12 [00:08<00:00,  1.38it/s, loss=0.316]\n",
      "100%|████████████████████████████████████████████████████████████████████████| 4/4 [00:01<00:00,  3.50it/s, loss=0.396]\n"
     ]
    },
    {
     "name": "stdout",
     "output_type": "stream",
     "text": [
      "Epoch 26/99\n",
      "----------\n",
      "Train Loss: 0.3348, Val Loss: 0.3727\n",
      "\n"
     ]
    },
    {
     "name": "stderr",
     "output_type": "stream",
     "text": [
      "100%|███████████████████████████████████████████████████████████████████████| 12/12 [00:08<00:00,  1.38it/s, loss=0.34]\n",
      "100%|████████████████████████████████████████████████████████████████████████| 4/4 [00:01<00:00,  3.54it/s, loss=0.464]\n"
     ]
    },
    {
     "name": "stdout",
     "output_type": "stream",
     "text": [
      "Epoch 27/99\n",
      "----------\n",
      "Train Loss: 0.3286, Val Loss: 0.4740\n",
      "\n"
     ]
    },
    {
     "name": "stderr",
     "output_type": "stream",
     "text": [
      "100%|██████████████████████████████████████████████████████████████████████| 12/12 [00:08<00:00,  1.37it/s, loss=0.286]\n",
      "100%|████████████████████████████████████████████████████████████████████████| 4/4 [00:01<00:00,  3.53it/s, loss=0.379]\n"
     ]
    },
    {
     "name": "stdout",
     "output_type": "stream",
     "text": [
      "Epoch 28/99\n",
      "----------\n",
      "Train Loss: 0.3215, Val Loss: 0.3635\n",
      "✅ Best model saved! (Val Loss: 0.3634890019893646)\n",
      "\n"
     ]
    },
    {
     "name": "stderr",
     "output_type": "stream",
     "text": [
      "100%|██████████████████████████████████████████████████████████████████████| 12/12 [00:08<00:00,  1.38it/s, loss=0.344]\n",
      "100%|████████████████████████████████████████████████████████████████████████| 4/4 [00:01<00:00,  3.54it/s, loss=0.392]\n"
     ]
    },
    {
     "name": "stdout",
     "output_type": "stream",
     "text": [
      "Epoch 29/99\n",
      "----------\n",
      "Train Loss: 0.3102, Val Loss: 0.3812\n",
      "\n"
     ]
    },
    {
     "name": "stderr",
     "output_type": "stream",
     "text": [
      "100%|██████████████████████████████████████████████████████████████████████| 12/12 [00:08<00:00,  1.38it/s, loss=0.288]\n",
      "100%|████████████████████████████████████████████████████████████████████████| 4/4 [00:01<00:00,  3.46it/s, loss=0.363]\n"
     ]
    },
    {
     "name": "stdout",
     "output_type": "stream",
     "text": [
      "Epoch 30/99\n",
      "----------\n",
      "Train Loss: 0.3053, Val Loss: 0.3715\n",
      "\n"
     ]
    },
    {
     "name": "stderr",
     "output_type": "stream",
     "text": [
      "100%|██████████████████████████████████████████████████████████████████████| 12/12 [00:08<00:00,  1.38it/s, loss=0.303]\n",
      "100%|████████████████████████████████████████████████████████████████████████| 4/4 [00:01<00:00,  3.53it/s, loss=0.308]\n"
     ]
    },
    {
     "name": "stdout",
     "output_type": "stream",
     "text": [
      "Epoch 31/99\n",
      "----------\n",
      "Train Loss: 0.2955, Val Loss: 0.3413\n",
      "✅ Best model saved! (Val Loss: 0.3412812128663063)\n",
      "\n"
     ]
    },
    {
     "name": "stderr",
     "output_type": "stream",
     "text": [
      "100%|██████████████████████████████████████████████████████████████████████| 12/12 [00:08<00:00,  1.39it/s, loss=0.277]\n",
      "100%|████████████████████████████████████████████████████████████████████████| 4/4 [00:01<00:00,  3.55it/s, loss=0.367]\n"
     ]
    },
    {
     "name": "stdout",
     "output_type": "stream",
     "text": [
      "Epoch 32/99\n",
      "----------\n",
      "Train Loss: 0.3040, Val Loss: 0.3692\n",
      "\n"
     ]
    },
    {
     "name": "stderr",
     "output_type": "stream",
     "text": [
      "100%|██████████████████████████████████████████████████████████████████████| 12/12 [00:08<00:00,  1.38it/s, loss=0.296]\n",
      "100%|████████████████████████████████████████████████████████████████████████| 4/4 [00:01<00:00,  3.49it/s, loss=0.313]\n"
     ]
    },
    {
     "name": "stdout",
     "output_type": "stream",
     "text": [
      "Epoch 33/99\n",
      "----------\n",
      "Train Loss: 0.2886, Val Loss: 0.3454\n",
      "\n"
     ]
    },
    {
     "name": "stderr",
     "output_type": "stream",
     "text": [
      "100%|██████████████████████████████████████████████████████████████████████| 12/12 [00:08<00:00,  1.39it/s, loss=0.308]\n",
      "100%|████████████████████████████████████████████████████████████████████████| 4/4 [00:01<00:00,  3.46it/s, loss=0.308]\n"
     ]
    },
    {
     "name": "stdout",
     "output_type": "stream",
     "text": [
      "Epoch 34/99\n",
      "----------\n",
      "Train Loss: 0.2830, Val Loss: 0.3345\n",
      "✅ Best model saved! (Val Loss: 0.33453992009162903)\n",
      "\n"
     ]
    },
    {
     "name": "stderr",
     "output_type": "stream",
     "text": [
      "100%|██████████████████████████████████████████████████████████████████████| 12/12 [00:08<00:00,  1.38it/s, loss=0.259]\n",
      "100%|████████████████████████████████████████████████████████████████████████| 4/4 [00:01<00:00,  3.56it/s, loss=0.349]\n"
     ]
    },
    {
     "name": "stdout",
     "output_type": "stream",
     "text": [
      "Epoch 35/99\n",
      "----------\n",
      "Train Loss: 0.2766, Val Loss: 0.3587\n",
      "\n"
     ]
    },
    {
     "name": "stderr",
     "output_type": "stream",
     "text": [
      "100%|██████████████████████████████████████████████████████████████████████| 12/12 [00:08<00:00,  1.38it/s, loss=0.261]\n",
      "100%|█████████████████████████████████████████████████████████████████████████| 4/4 [00:01<00:00,  3.55it/s, loss=0.39]\n"
     ]
    },
    {
     "name": "stdout",
     "output_type": "stream",
     "text": [
      "Epoch 36/99\n",
      "----------\n",
      "Train Loss: 0.2633, Val Loss: 0.3886\n",
      "\n"
     ]
    },
    {
     "name": "stderr",
     "output_type": "stream",
     "text": [
      "100%|██████████████████████████████████████████████████████████████████████| 12/12 [00:08<00:00,  1.38it/s, loss=0.246]\n",
      "100%|████████████████████████████████████████████████████████████████████████| 4/4 [00:01<00:00,  3.43it/s, loss=0.373]\n"
     ]
    },
    {
     "name": "stdout",
     "output_type": "stream",
     "text": [
      "Epoch 37/99\n",
      "----------\n",
      "Train Loss: 0.2643, Val Loss: 0.3645\n",
      "\n"
     ]
    },
    {
     "name": "stderr",
     "output_type": "stream",
     "text": [
      "100%|██████████████████████████████████████████████████████████████████████| 12/12 [00:08<00:00,  1.38it/s, loss=0.261]\n",
      "100%|████████████████████████████████████████████████████████████████████████| 4/4 [00:01<00:00,  3.54it/s, loss=0.283]\n"
     ]
    },
    {
     "name": "stdout",
     "output_type": "stream",
     "text": [
      "Epoch 38/99\n",
      "----------\n",
      "Train Loss: 0.2545, Val Loss: 0.3361\n",
      "\n"
     ]
    },
    {
     "name": "stderr",
     "output_type": "stream",
     "text": [
      "100%|██████████████████████████████████████████████████████████████████████| 12/12 [00:08<00:00,  1.38it/s, loss=0.293]\n",
      "100%|████████████████████████████████████████████████████████████████████████| 4/4 [00:01<00:00,  3.51it/s, loss=0.331]\n"
     ]
    },
    {
     "name": "stdout",
     "output_type": "stream",
     "text": [
      "Epoch 39/99\n",
      "----------\n",
      "Train Loss: 0.2461, Val Loss: 0.3607\n",
      "\n"
     ]
    },
    {
     "name": "stderr",
     "output_type": "stream",
     "text": [
      "100%|██████████████████████████████████████████████████████████████████████| 12/12 [00:08<00:00,  1.38it/s, loss=0.249]\n",
      "100%|████████████████████████████████████████████████████████████████████████| 4/4 [00:01<00:00,  3.51it/s, loss=0.445]\n"
     ]
    },
    {
     "name": "stdout",
     "output_type": "stream",
     "text": [
      "Epoch 40/99\n",
      "----------\n",
      "Train Loss: 0.2493, Val Loss: 0.4498\n",
      "\n"
     ]
    },
    {
     "name": "stderr",
     "output_type": "stream",
     "text": [
      "100%|██████████████████████████████████████████████████████████████████████| 12/12 [00:08<00:00,  1.38it/s, loss=0.217]\n",
      "100%|████████████████████████████████████████████████████████████████████████| 4/4 [00:01<00:00,  3.54it/s, loss=0.326]\n"
     ]
    },
    {
     "name": "stdout",
     "output_type": "stream",
     "text": [
      "Epoch 41/99\n",
      "----------\n",
      "Train Loss: 0.2390, Val Loss: 0.3248\n",
      "✅ Best model saved! (Val Loss: 0.32476526498794556)\n",
      "\n"
     ]
    },
    {
     "name": "stderr",
     "output_type": "stream",
     "text": [
      "100%|██████████████████████████████████████████████████████████████████████| 12/12 [00:08<00:00,  1.39it/s, loss=0.262]\n",
      "100%|████████████████████████████████████████████████████████████████████████| 4/4 [00:01<00:00,  3.49it/s, loss=0.412]\n"
     ]
    },
    {
     "name": "stdout",
     "output_type": "stream",
     "text": [
      "Epoch 42/99\n",
      "----------\n",
      "Train Loss: 0.2295, Val Loss: 0.3958\n",
      "\n"
     ]
    },
    {
     "name": "stderr",
     "output_type": "stream",
     "text": [
      "100%|███████████████████████████████████████████████████████████████████████| 12/12 [00:08<00:00,  1.37it/s, loss=0.25]\n",
      "100%|████████████████████████████████████████████████████████████████████████| 4/4 [00:01<00:00,  3.51it/s, loss=0.318]\n"
     ]
    },
    {
     "name": "stdout",
     "output_type": "stream",
     "text": [
      "Epoch 43/99\n",
      "----------\n",
      "Train Loss: 0.2380, Val Loss: 0.3256\n",
      "\n"
     ]
    },
    {
     "name": "stderr",
     "output_type": "stream",
     "text": [
      "100%|██████████████████████████████████████████████████████████████████████| 12/12 [00:08<00:00,  1.38it/s, loss=0.235]\n",
      "100%|█████████████████████████████████████████████████████████████████████████| 4/4 [00:01<00:00,  3.53it/s, loss=0.37]\n"
     ]
    },
    {
     "name": "stdout",
     "output_type": "stream",
     "text": [
      "Epoch 44/99\n",
      "----------\n",
      "Train Loss: 0.2317, Val Loss: 0.3518\n",
      "\n"
     ]
    },
    {
     "name": "stderr",
     "output_type": "stream",
     "text": [
      "100%|██████████████████████████████████████████████████████████████████████| 12/12 [00:08<00:00,  1.38it/s, loss=0.217]\n",
      "100%|████████████████████████████████████████████████████████████████████████| 4/4 [00:01<00:00,  3.51it/s, loss=0.375]\n"
     ]
    },
    {
     "name": "stdout",
     "output_type": "stream",
     "text": [
      "Epoch 45/99\n",
      "----------\n",
      "Train Loss: 0.2268, Val Loss: 0.3815\n",
      "\n"
     ]
    },
    {
     "name": "stderr",
     "output_type": "stream",
     "text": [
      "100%|██████████████████████████████████████████████████████████████████████| 12/12 [00:08<00:00,  1.38it/s, loss=0.277]\n",
      "100%|████████████████████████████████████████████████████████████████████████| 4/4 [00:01<00:00,  3.59it/s, loss=0.398]\n"
     ]
    },
    {
     "name": "stdout",
     "output_type": "stream",
     "text": [
      "Epoch 46/99\n",
      "----------\n",
      "Train Loss: 0.2219, Val Loss: 0.4181\n",
      "\n"
     ]
    },
    {
     "name": "stderr",
     "output_type": "stream",
     "text": [
      "100%|██████████████████████████████████████████████████████████████████████| 12/12 [00:08<00:00,  1.39it/s, loss=0.218]\n",
      "100%|████████████████████████████████████████████████████████████████████████| 4/4 [00:01<00:00,  3.56it/s, loss=0.448]\n"
     ]
    },
    {
     "name": "stdout",
     "output_type": "stream",
     "text": [
      "Epoch 47/99\n",
      "----------\n",
      "Train Loss: 0.2228, Val Loss: 0.4009\n",
      "\n"
     ]
    },
    {
     "name": "stderr",
     "output_type": "stream",
     "text": [
      "100%|██████████████████████████████████████████████████████████████████████| 12/12 [00:08<00:00,  1.38it/s, loss=0.231]\n",
      "100%|████████████████████████████████████████████████████████████████████████| 4/4 [00:01<00:00,  3.49it/s, loss=0.311]\n"
     ]
    },
    {
     "name": "stdout",
     "output_type": "stream",
     "text": [
      "Epoch 48/99\n",
      "----------\n",
      "Train Loss: 0.2138, Val Loss: 0.3234\n",
      "✅ Best model saved! (Val Loss: 0.3233916759490967)\n",
      "\n"
     ]
    },
    {
     "name": "stderr",
     "output_type": "stream",
     "text": [
      "100%|██████████████████████████████████████████████████████████████████████| 12/12 [00:08<00:00,  1.38it/s, loss=0.217]\n",
      "100%|████████████████████████████████████████████████████████████████████████| 4/4 [00:01<00:00,  3.52it/s, loss=0.337]\n"
     ]
    },
    {
     "name": "stdout",
     "output_type": "stream",
     "text": [
      "Epoch 49/99\n",
      "----------\n",
      "Train Loss: 0.2095, Val Loss: 0.3442\n",
      "\n"
     ]
    },
    {
     "name": "stderr",
     "output_type": "stream",
     "text": [
      "100%|██████████████████████████████████████████████████████████████████████| 12/12 [00:08<00:00,  1.38it/s, loss=0.211]\n",
      "100%|████████████████████████████████████████████████████████████████████████| 4/4 [00:01<00:00,  3.51it/s, loss=0.417]\n"
     ]
    },
    {
     "name": "stdout",
     "output_type": "stream",
     "text": [
      "Epoch 50/99\n",
      "----------\n",
      "Train Loss: 0.2057, Val Loss: 0.3928\n",
      "\n"
     ]
    },
    {
     "name": "stderr",
     "output_type": "stream",
     "text": [
      "100%|██████████████████████████████████████████████████████████████████████| 12/12 [00:08<00:00,  1.38it/s, loss=0.193]\n",
      "100%|████████████████████████████████████████████████████████████████████████| 4/4 [00:01<00:00,  3.50it/s, loss=0.334]\n"
     ]
    },
    {
     "name": "stdout",
     "output_type": "stream",
     "text": [
      "Epoch 51/99\n",
      "----------\n",
      "Train Loss: 0.2012, Val Loss: 0.3434\n",
      "\n"
     ]
    },
    {
     "name": "stderr",
     "output_type": "stream",
     "text": [
      "100%|██████████████████████████████████████████████████████████████████████| 12/12 [00:08<00:00,  1.39it/s, loss=0.239]\n",
      "100%|████████████████████████████████████████████████████████████████████████| 4/4 [00:01<00:00,  3.53it/s, loss=0.371]\n"
     ]
    },
    {
     "name": "stdout",
     "output_type": "stream",
     "text": [
      "Epoch 52/99\n",
      "----------\n",
      "Train Loss: 0.1982, Val Loss: 0.3557\n",
      "\n"
     ]
    },
    {
     "name": "stderr",
     "output_type": "stream",
     "text": [
      "100%|██████████████████████████████████████████████████████████████████████| 12/12 [00:08<00:00,  1.38it/s, loss=0.215]\n",
      "100%|████████████████████████████████████████████████████████████████████████| 4/4 [00:01<00:00,  3.55it/s, loss=0.367]\n"
     ]
    },
    {
     "name": "stdout",
     "output_type": "stream",
     "text": [
      "Epoch 53/99\n",
      "----------\n",
      "Train Loss: 0.1906, Val Loss: 0.3573\n",
      "\n"
     ]
    },
    {
     "name": "stderr",
     "output_type": "stream",
     "text": [
      "100%|██████████████████████████████████████████████████████████████████████| 12/12 [00:08<00:00,  1.38it/s, loss=0.174]\n",
      "100%|████████████████████████████████████████████████████████████████████████| 4/4 [00:01<00:00,  3.52it/s, loss=0.327]\n"
     ]
    },
    {
     "name": "stdout",
     "output_type": "stream",
     "text": [
      "Epoch 54/99\n",
      "----------\n",
      "Train Loss: 0.1816, Val Loss: 0.3495\n",
      "\n"
     ]
    },
    {
     "name": "stderr",
     "output_type": "stream",
     "text": [
      "100%|██████████████████████████████████████████████████████████████████████| 12/12 [00:08<00:00,  1.38it/s, loss=0.148]\n",
      "100%|████████████████████████████████████████████████████████████████████████| 4/4 [00:01<00:00,  3.54it/s, loss=0.359]\n"
     ]
    },
    {
     "name": "stdout",
     "output_type": "stream",
     "text": [
      "Epoch 55/99\n",
      "----------\n",
      "Train Loss: 0.1746, Val Loss: 0.3518\n",
      "\n"
     ]
    },
    {
     "name": "stderr",
     "output_type": "stream",
     "text": [
      "100%|██████████████████████████████████████████████████████████████████████| 12/12 [00:08<00:00,  1.38it/s, loss=0.171]\n",
      "100%|████████████████████████████████████████████████████████████████████████| 4/4 [00:01<00:00,  3.53it/s, loss=0.374]\n"
     ]
    },
    {
     "name": "stdout",
     "output_type": "stream",
     "text": [
      "Epoch 56/99\n",
      "----------\n",
      "Train Loss: 0.1770, Val Loss: 0.3782\n",
      "\n"
     ]
    },
    {
     "name": "stderr",
     "output_type": "stream",
     "text": [
      "100%|██████████████████████████████████████████████████████████████████████| 12/12 [00:08<00:00,  1.38it/s, loss=0.191]\n",
      "100%|████████████████████████████████████████████████████████████████████████| 4/4 [00:01<00:00,  3.56it/s, loss=0.386]\n"
     ]
    },
    {
     "name": "stdout",
     "output_type": "stream",
     "text": [
      "Epoch 57/99\n",
      "----------\n",
      "Train Loss: 0.1770, Val Loss: 0.3676\n",
      "\n"
     ]
    },
    {
     "name": "stderr",
     "output_type": "stream",
     "text": [
      "100%|██████████████████████████████████████████████████████████████████████| 12/12 [00:08<00:00,  1.38it/s, loss=0.175]\n",
      "100%|████████████████████████████████████████████████████████████████████████| 4/4 [00:01<00:00,  3.54it/s, loss=0.364]\n"
     ]
    },
    {
     "name": "stdout",
     "output_type": "stream",
     "text": [
      "Epoch 58/99\n",
      "----------\n",
      "Train Loss: 0.1740, Val Loss: 0.3475\n",
      "\n"
     ]
    },
    {
     "name": "stderr",
     "output_type": "stream",
     "text": [
      "100%|██████████████████████████████████████████████████████████████████████| 12/12 [00:08<00:00,  1.38it/s, loss=0.216]\n",
      "100%|████████████████████████████████████████████████████████████████████████| 4/4 [00:01<00:00,  3.57it/s, loss=0.459]\n"
     ]
    },
    {
     "name": "stdout",
     "output_type": "stream",
     "text": [
      "Epoch 59/99\n",
      "----------\n",
      "Train Loss: 0.1737, Val Loss: 0.4566\n",
      "\n"
     ]
    },
    {
     "name": "stderr",
     "output_type": "stream",
     "text": [
      "100%|██████████████████████████████████████████████████████████████████████| 12/12 [00:08<00:00,  1.39it/s, loss=0.202]\n",
      "100%|████████████████████████████████████████████████████████████████████████| 4/4 [00:01<00:00,  3.53it/s, loss=0.467]\n"
     ]
    },
    {
     "name": "stdout",
     "output_type": "stream",
     "text": [
      "Epoch 60/99\n",
      "----------\n",
      "Train Loss: 0.2037, Val Loss: 0.4166\n",
      "\n"
     ]
    },
    {
     "name": "stderr",
     "output_type": "stream",
     "text": [
      "100%|██████████████████████████████████████████████████████████████████████| 12/12 [00:08<00:00,  1.39it/s, loss=0.224]\n",
      "100%|████████████████████████████████████████████████████████████████████████| 4/4 [00:01<00:00,  3.48it/s, loss=0.526]\n"
     ]
    },
    {
     "name": "stdout",
     "output_type": "stream",
     "text": [
      "Epoch 61/99\n",
      "----------\n",
      "Train Loss: 0.2001, Val Loss: 0.4652\n",
      "\n"
     ]
    },
    {
     "name": "stderr",
     "output_type": "stream",
     "text": [
      "100%|██████████████████████████████████████████████████████████████████████| 12/12 [00:08<00:00,  1.37it/s, loss=0.208]\n",
      "100%|████████████████████████████████████████████████████████████████████████| 4/4 [00:01<00:00,  3.40it/s, loss=0.375]\n"
     ]
    },
    {
     "name": "stdout",
     "output_type": "stream",
     "text": [
      "Epoch 62/99\n",
      "----------\n",
      "Train Loss: 0.1893, Val Loss: 0.3598\n",
      "\n"
     ]
    },
    {
     "name": "stderr",
     "output_type": "stream",
     "text": [
      "100%|██████████████████████████████████████████████████████████████████████| 12/12 [00:08<00:00,  1.36it/s, loss=0.153]\n",
      "100%|████████████████████████████████████████████████████████████████████████| 4/4 [00:01<00:00,  3.47it/s, loss=0.298]\n"
     ]
    },
    {
     "name": "stdout",
     "output_type": "stream",
     "text": [
      "Epoch 63/99\n",
      "----------\n",
      "Train Loss: 0.1770, Val Loss: 0.3255\n",
      "\n"
     ]
    },
    {
     "name": "stderr",
     "output_type": "stream",
     "text": [
      "100%|██████████████████████████████████████████████████████████████████████| 12/12 [00:08<00:00,  1.38it/s, loss=0.176]\n",
      "100%|████████████████████████████████████████████████████████████████████████| 4/4 [00:01<00:00,  3.41it/s, loss=0.398]\n"
     ]
    },
    {
     "name": "stdout",
     "output_type": "stream",
     "text": [
      "Epoch 64/99\n",
      "----------\n",
      "Train Loss: 0.1665, Val Loss: 0.3729\n",
      "\n"
     ]
    },
    {
     "name": "stderr",
     "output_type": "stream",
     "text": [
      "100%|██████████████████████████████████████████████████████████████████████| 12/12 [00:08<00:00,  1.38it/s, loss=0.157]\n",
      "100%|█████████████████████████████████████████████████████████████████████████| 4/4 [00:01<00:00,  3.50it/s, loss=0.45]\n"
     ]
    },
    {
     "name": "stdout",
     "output_type": "stream",
     "text": [
      "Epoch 65/99\n",
      "----------\n",
      "Train Loss: 0.1581, Val Loss: 0.4390\n",
      "\n"
     ]
    },
    {
     "name": "stderr",
     "output_type": "stream",
     "text": [
      "100%|██████████████████████████████████████████████████████████████████████| 12/12 [00:08<00:00,  1.38it/s, loss=0.154]\n",
      "100%|████████████████████████████████████████████████████████████████████████| 4/4 [00:01<00:00,  3.52it/s, loss=0.319]\n"
     ]
    },
    {
     "name": "stdout",
     "output_type": "stream",
     "text": [
      "Epoch 66/99\n",
      "----------\n",
      "Train Loss: 0.1551, Val Loss: 0.3619\n",
      "\n"
     ]
    },
    {
     "name": "stderr",
     "output_type": "stream",
     "text": [
      "100%|██████████████████████████████████████████████████████████████████████| 12/12 [00:08<00:00,  1.39it/s, loss=0.135]\n",
      "100%|█████████████████████████████████████████████████████████████████████████| 4/4 [00:01<00:00,  3.56it/s, loss=0.28]\n"
     ]
    },
    {
     "name": "stdout",
     "output_type": "stream",
     "text": [
      "Epoch 67/99\n",
      "----------\n",
      "Train Loss: 0.1521, Val Loss: 0.3303\n",
      "\n"
     ]
    },
    {
     "name": "stderr",
     "output_type": "stream",
     "text": [
      "100%|██████████████████████████████████████████████████████████████████████| 12/12 [00:08<00:00,  1.39it/s, loss=0.152]\n",
      "100%|████████████████████████████████████████████████████████████████████████| 4/4 [00:01<00:00,  3.46it/s, loss=0.382]\n"
     ]
    },
    {
     "name": "stdout",
     "output_type": "stream",
     "text": [
      "Epoch 68/99\n",
      "----------\n",
      "Train Loss: 0.1514, Val Loss: 0.3681\n",
      "\n"
     ]
    },
    {
     "name": "stderr",
     "output_type": "stream",
     "text": [
      "100%|██████████████████████████████████████████████████████████████████████| 12/12 [00:08<00:00,  1.38it/s, loss=0.149]\n",
      "100%|████████████████████████████████████████████████████████████████████████| 4/4 [00:01<00:00,  3.52it/s, loss=0.387]\n"
     ]
    },
    {
     "name": "stdout",
     "output_type": "stream",
     "text": [
      "Epoch 69/99\n",
      "----------\n",
      "Train Loss: 0.1447, Val Loss: 0.3739\n",
      "\n"
     ]
    },
    {
     "name": "stderr",
     "output_type": "stream",
     "text": [
      "100%|██████████████████████████████████████████████████████████████████████| 12/12 [00:08<00:00,  1.37it/s, loss=0.132]\n",
      "100%|█████████████████████████████████████████████████████████████████████████| 4/4 [00:01<00:00,  3.55it/s, loss=0.41]\n"
     ]
    },
    {
     "name": "stdout",
     "output_type": "stream",
     "text": [
      "Epoch 70/99\n",
      "----------\n",
      "Train Loss: 0.1391, Val Loss: 0.3720\n",
      "\n"
     ]
    },
    {
     "name": "stderr",
     "output_type": "stream",
     "text": [
      "100%|██████████████████████████████████████████████████████████████████████| 12/12 [00:08<00:00,  1.37it/s, loss=0.155]\n",
      "100%|████████████████████████████████████████████████████████████████████████| 4/4 [00:01<00:00,  3.47it/s, loss=0.369]\n"
     ]
    },
    {
     "name": "stdout",
     "output_type": "stream",
     "text": [
      "Epoch 71/99\n",
      "----------\n",
      "Train Loss: 0.1394, Val Loss: 0.3838\n",
      "\n"
     ]
    },
    {
     "name": "stderr",
     "output_type": "stream",
     "text": [
      "100%|██████████████████████████████████████████████████████████████████████| 12/12 [00:08<00:00,  1.38it/s, loss=0.153]\n",
      "100%|████████████████████████████████████████████████████████████████████████| 4/4 [00:01<00:00,  3.49it/s, loss=0.516]\n"
     ]
    },
    {
     "name": "stdout",
     "output_type": "stream",
     "text": [
      "Epoch 72/99\n",
      "----------\n",
      "Train Loss: 0.1368, Val Loss: 0.4468\n",
      "\n"
     ]
    },
    {
     "name": "stderr",
     "output_type": "stream",
     "text": [
      "100%|███████████████████████████████████████████████████████████████████████| 12/12 [00:08<00:00,  1.38it/s, loss=0.13]\n",
      "100%|████████████████████████████████████████████████████████████████████████| 4/4 [00:01<00:00,  3.48it/s, loss=0.345]\n"
     ]
    },
    {
     "name": "stdout",
     "output_type": "stream",
     "text": [
      "Epoch 73/99\n",
      "----------\n",
      "Train Loss: 0.1324, Val Loss: 0.3594\n",
      "\n"
     ]
    },
    {
     "name": "stderr",
     "output_type": "stream",
     "text": [
      "100%|██████████████████████████████████████████████████████████████████████| 12/12 [00:08<00:00,  1.38it/s, loss=0.127]\n",
      "100%|████████████████████████████████████████████████████████████████████████| 4/4 [00:01<00:00,  3.52it/s, loss=0.421]\n"
     ]
    },
    {
     "name": "stdout",
     "output_type": "stream",
     "text": [
      "Epoch 74/99\n",
      "----------\n",
      "Train Loss: 0.1305, Val Loss: 0.4073\n",
      "\n"
     ]
    },
    {
     "name": "stderr",
     "output_type": "stream",
     "text": [
      "100%|██████████████████████████████████████████████████████████████████████| 12/12 [00:08<00:00,  1.38it/s, loss=0.138]\n",
      "100%|████████████████████████████████████████████████████████████████████████| 4/4 [00:01<00:00,  3.48it/s, loss=0.404]\n"
     ]
    },
    {
     "name": "stdout",
     "output_type": "stream",
     "text": [
      "Epoch 75/99\n",
      "----------\n",
      "Train Loss: 0.1288, Val Loss: 0.3985\n",
      "\n"
     ]
    },
    {
     "name": "stderr",
     "output_type": "stream",
     "text": [
      "100%|██████████████████████████████████████████████████████████████████████| 12/12 [00:08<00:00,  1.37it/s, loss=0.143]\n",
      "100%|████████████████████████████████████████████████████████████████████████| 4/4 [00:01<00:00,  3.45it/s, loss=0.423]\n"
     ]
    },
    {
     "name": "stdout",
     "output_type": "stream",
     "text": [
      "Epoch 76/99\n",
      "----------\n",
      "Train Loss: 0.1293, Val Loss: 0.3851\n",
      "\n"
     ]
    },
    {
     "name": "stderr",
     "output_type": "stream",
     "text": [
      "100%|██████████████████████████████████████████████████████████████████████| 12/12 [00:08<00:00,  1.38it/s, loss=0.122]\n",
      "100%|████████████████████████████████████████████████████████████████████████| 4/4 [00:01<00:00,  3.52it/s, loss=0.498]\n"
     ]
    },
    {
     "name": "stdout",
     "output_type": "stream",
     "text": [
      "Epoch 77/99\n",
      "----------\n",
      "Train Loss: 0.1286, Val Loss: 0.4216\n",
      "\n"
     ]
    },
    {
     "name": "stderr",
     "output_type": "stream",
     "text": [
      "100%|██████████████████████████████████████████████████████████████████████| 12/12 [00:08<00:00,  1.38it/s, loss=0.107]\n",
      "100%|████████████████████████████████████████████████████████████████████████| 4/4 [00:01<00:00,  3.56it/s, loss=0.418]\n"
     ]
    },
    {
     "name": "stdout",
     "output_type": "stream",
     "text": [
      "Epoch 78/99\n",
      "----------\n",
      "Train Loss: 0.1285, Val Loss: 0.3720\n",
      "\n"
     ]
    },
    {
     "name": "stderr",
     "output_type": "stream",
     "text": [
      "100%|██████████████████████████████████████████████████████████████████████| 12/12 [00:08<00:00,  1.39it/s, loss=0.138]\n",
      "100%|████████████████████████████████████████████████████████████████████████| 4/4 [00:01<00:00,  3.55it/s, loss=0.357]\n"
     ]
    },
    {
     "name": "stdout",
     "output_type": "stream",
     "text": [
      "Epoch 79/99\n",
      "----------\n",
      "Train Loss: 0.1273, Val Loss: 0.3662\n",
      "\n"
     ]
    },
    {
     "name": "stderr",
     "output_type": "stream",
     "text": [
      "100%|██████████████████████████████████████████████████████████████████████| 12/12 [00:08<00:00,  1.39it/s, loss=0.125]\n",
      "100%|████████████████████████████████████████████████████████████████████████| 4/4 [00:01<00:00,  3.47it/s, loss=0.422]\n"
     ]
    },
    {
     "name": "stdout",
     "output_type": "stream",
     "text": [
      "Epoch 80/99\n",
      "----------\n",
      "Train Loss: 0.1240, Val Loss: 0.3817\n",
      "\n"
     ]
    },
    {
     "name": "stderr",
     "output_type": "stream",
     "text": [
      "100%|██████████████████████████████████████████████████████████████████████| 12/12 [00:08<00:00,  1.39it/s, loss=0.124]\n",
      "100%|████████████████████████████████████████████████████████████████████████| 4/4 [00:01<00:00,  3.56it/s, loss=0.346]\n"
     ]
    },
    {
     "name": "stdout",
     "output_type": "stream",
     "text": [
      "Epoch 81/99\n",
      "----------\n",
      "Train Loss: 0.1211, Val Loss: 0.3661\n",
      "\n"
     ]
    },
    {
     "name": "stderr",
     "output_type": "stream",
     "text": [
      "100%|██████████████████████████████████████████████████████████████████████| 12/12 [00:08<00:00,  1.38it/s, loss=0.125]\n",
      "100%|████████████████████████████████████████████████████████████████████████| 4/4 [00:01<00:00,  3.56it/s, loss=0.347]\n"
     ]
    },
    {
     "name": "stdout",
     "output_type": "stream",
     "text": [
      "Epoch 82/99\n",
      "----------\n",
      "Train Loss: 0.1207, Val Loss: 0.3748\n",
      "\n"
     ]
    },
    {
     "name": "stderr",
     "output_type": "stream",
     "text": [
      "100%|██████████████████████████████████████████████████████████████████████| 12/12 [00:08<00:00,  1.39it/s, loss=0.126]\n",
      "100%|████████████████████████████████████████████████████████████████████████| 4/4 [00:01<00:00,  3.54it/s, loss=0.409]\n"
     ]
    },
    {
     "name": "stdout",
     "output_type": "stream",
     "text": [
      "Epoch 83/99\n",
      "----------\n",
      "Train Loss: 0.1189, Val Loss: 0.3873\n",
      "\n"
     ]
    },
    {
     "name": "stderr",
     "output_type": "stream",
     "text": [
      "100%|██████████████████████████████████████████████████████████████████████| 12/12 [00:08<00:00,  1.38it/s, loss=0.114]\n",
      "100%|████████████████████████████████████████████████████████████████████████| 4/4 [00:01<00:00,  3.51it/s, loss=0.377]\n"
     ]
    },
    {
     "name": "stdout",
     "output_type": "stream",
     "text": [
      "Epoch 84/99\n",
      "----------\n",
      "Train Loss: 0.1175, Val Loss: 0.3844\n",
      "\n"
     ]
    },
    {
     "name": "stderr",
     "output_type": "stream",
     "text": [
      "100%|██████████████████████████████████████████████████████████████████████| 12/12 [00:08<00:00,  1.39it/s, loss=0.128]\n",
      "100%|████████████████████████████████████████████████████████████████████████| 4/4 [00:01<00:00,  3.58it/s, loss=0.334]\n"
     ]
    },
    {
     "name": "stdout",
     "output_type": "stream",
     "text": [
      "Epoch 85/99\n",
      "----------\n",
      "Train Loss: 0.1156, Val Loss: 0.3880\n",
      "\n"
     ]
    },
    {
     "name": "stderr",
     "output_type": "stream",
     "text": [
      "100%|██████████████████████████████████████████████████████████████████████| 12/12 [00:08<00:00,  1.37it/s, loss=0.124]\n",
      "100%|████████████████████████████████████████████████████████████████████████| 4/4 [00:01<00:00,  3.32it/s, loss=0.382]\n"
     ]
    },
    {
     "name": "stdout",
     "output_type": "stream",
     "text": [
      "Epoch 86/99\n",
      "----------\n",
      "Train Loss: 0.1180, Val Loss: 0.3991\n",
      "\n"
     ]
    },
    {
     "name": "stderr",
     "output_type": "stream",
     "text": [
      "100%|██████████████████████████████████████████████████████████████████████| 12/12 [00:08<00:00,  1.37it/s, loss=0.113]\n",
      "100%|████████████████████████████████████████████████████████████████████████| 4/4 [00:01<00:00,  3.53it/s, loss=0.445]\n"
     ]
    },
    {
     "name": "stdout",
     "output_type": "stream",
     "text": [
      "Epoch 87/99\n",
      "----------\n",
      "Train Loss: 0.1164, Val Loss: 0.4528\n",
      "\n"
     ]
    },
    {
     "name": "stderr",
     "output_type": "stream",
     "text": [
      "100%|██████████████████████████████████████████████████████████████████████| 12/12 [00:08<00:00,  1.38it/s, loss=0.128]\n",
      "100%|████████████████████████████████████████████████████████████████████████| 4/4 [00:01<00:00,  3.41it/s, loss=0.487]\n"
     ]
    },
    {
     "name": "stdout",
     "output_type": "stream",
     "text": [
      "Epoch 88/99\n",
      "----------\n",
      "Train Loss: 0.1161, Val Loss: 0.4250\n",
      "\n"
     ]
    },
    {
     "name": "stderr",
     "output_type": "stream",
     "text": [
      "100%|██████████████████████████████████████████████████████████████████████| 12/12 [00:08<00:00,  1.37it/s, loss=0.131]\n",
      "100%|████████████████████████████████████████████████████████████████████████| 4/4 [00:01<00:00,  3.57it/s, loss=0.375]\n"
     ]
    },
    {
     "name": "stdout",
     "output_type": "stream",
     "text": [
      "Epoch 89/99\n",
      "----------\n",
      "Train Loss: 0.1188, Val Loss: 0.3865\n",
      "\n"
     ]
    },
    {
     "name": "stderr",
     "output_type": "stream",
     "text": [
      "100%|██████████████████████████████████████████████████████████████████████| 12/12 [00:08<00:00,  1.39it/s, loss=0.107]\n",
      "100%|████████████████████████████████████████████████████████████████████████| 4/4 [00:01<00:00,  3.50it/s, loss=0.434]\n"
     ]
    },
    {
     "name": "stdout",
     "output_type": "stream",
     "text": [
      "Epoch 90/99\n",
      "----------\n",
      "Train Loss: 0.1149, Val Loss: 0.4189\n",
      "\n"
     ]
    },
    {
     "name": "stderr",
     "output_type": "stream",
     "text": [
      "100%|████████████████████████████████████████████████████████████████████████| 12/12 [00:08<00:00,  1.38it/s, loss=0.1]\n",
      "100%|████████████████████████████████████████████████████████████████████████| 4/4 [00:01<00:00,  3.31it/s, loss=0.406]\n"
     ]
    },
    {
     "name": "stdout",
     "output_type": "stream",
     "text": [
      "Epoch 91/99\n",
      "----------\n",
      "Train Loss: 0.1120, Val Loss: 0.3848\n",
      "\n"
     ]
    },
    {
     "name": "stderr",
     "output_type": "stream",
     "text": [
      "100%|██████████████████████████████████████████████████████████████████████| 12/12 [00:08<00:00,  1.37it/s, loss=0.105]\n",
      "100%|████████████████████████████████████████████████████████████████████████| 4/4 [00:01<00:00,  3.54it/s, loss=0.424]\n"
     ]
    },
    {
     "name": "stdout",
     "output_type": "stream",
     "text": [
      "Epoch 92/99\n",
      "----------\n",
      "Train Loss: 0.1096, Val Loss: 0.4003\n",
      "\n"
     ]
    },
    {
     "name": "stderr",
     "output_type": "stream",
     "text": [
      "100%|██████████████████████████████████████████████████████████████████████| 12/12 [00:08<00:00,  1.38it/s, loss=0.104]\n",
      "100%|█████████████████████████████████████████████████████████████████████████| 4/4 [00:01<00:00,  3.43it/s, loss=0.41]\n"
     ]
    },
    {
     "name": "stdout",
     "output_type": "stream",
     "text": [
      "Epoch 93/99\n",
      "----------\n",
      "Train Loss: 0.1068, Val Loss: 0.4172\n",
      "\n"
     ]
    },
    {
     "name": "stderr",
     "output_type": "stream",
     "text": [
      "100%|██████████████████████████████████████████████████████████████████████| 12/12 [00:08<00:00,  1.37it/s, loss=0.108]\n",
      "100%|████████████████████████████████████████████████████████████████████████| 4/4 [00:01<00:00,  3.51it/s, loss=0.431]\n"
     ]
    },
    {
     "name": "stdout",
     "output_type": "stream",
     "text": [
      "Epoch 94/99\n",
      "----------\n",
      "Train Loss: 0.1047, Val Loss: 0.4396\n",
      "\n"
     ]
    },
    {
     "name": "stderr",
     "output_type": "stream",
     "text": [
      "100%|██████████████████████████████████████████████████████████████████████| 12/12 [00:08<00:00,  1.38it/s, loss=0.117]\n",
      "100%|████████████████████████████████████████████████████████████████████████| 4/4 [00:01<00:00,  3.52it/s, loss=0.362]\n"
     ]
    },
    {
     "name": "stdout",
     "output_type": "stream",
     "text": [
      "Epoch 95/99\n",
      "----------\n",
      "Train Loss: 0.1044, Val Loss: 0.4314\n",
      "\n"
     ]
    },
    {
     "name": "stderr",
     "output_type": "stream",
     "text": [
      "100%|██████████████████████████████████████████████████████████████████████| 12/12 [00:08<00:00,  1.38it/s, loss=0.099]\n",
      "100%|████████████████████████████████████████████████████████████████████████| 4/4 [00:01<00:00,  3.47it/s, loss=0.331]\n"
     ]
    },
    {
     "name": "stdout",
     "output_type": "stream",
     "text": [
      "Epoch 96/99\n",
      "----------\n",
      "Train Loss: 0.1043, Val Loss: 0.3742\n",
      "\n"
     ]
    },
    {
     "name": "stderr",
     "output_type": "stream",
     "text": [
      "100%|██████████████████████████████████████████████████████████████████████| 12/12 [00:08<00:00,  1.38it/s, loss=0.107]\n",
      "100%|████████████████████████████████████████████████████████████████████████| 4/4 [00:01<00:00,  3.50it/s, loss=0.445]\n"
     ]
    },
    {
     "name": "stdout",
     "output_type": "stream",
     "text": [
      "Epoch 97/99\n",
      "----------\n",
      "Train Loss: 0.1006, Val Loss: 0.4146\n",
      "\n"
     ]
    },
    {
     "name": "stderr",
     "output_type": "stream",
     "text": [
      "100%|██████████████████████████████████████████████████████████████████████| 12/12 [00:08<00:00,  1.37it/s, loss=0.104]\n",
      "100%|████████████████████████████████████████████████████████████████████████| 4/4 [00:01<00:00,  3.55it/s, loss=0.446]\n"
     ]
    },
    {
     "name": "stdout",
     "output_type": "stream",
     "text": [
      "Epoch 98/99\n",
      "----------\n",
      "Train Loss: 0.0979, Val Loss: 0.4017\n",
      "\n"
     ]
    },
    {
     "name": "stderr",
     "output_type": "stream",
     "text": [
      "100%|█████████████████████████████████████████████████████████████████████| 12/12 [00:08<00:00,  1.38it/s, loss=0.0806]\n",
      "100%|████████████████████████████████████████████████████████████████████████| 4/4 [00:01<00:00,  3.42it/s, loss=0.362]"
     ]
    },
    {
     "name": "stdout",
     "output_type": "stream",
     "text": [
      "Epoch 99/99\n",
      "----------\n",
      "Train Loss: 0.0966, Val Loss: 0.3999\n",
      "\n",
      "Training complete in 16m 32s\n",
      "Best test (smallest validation lost): 0.323392\n",
      "CUDA GPU: NVIDIA GeForce RTX 4060 Laptop GPU\n",
      "Architecture: FCN8s CrossEntropyLoss\n"
     ]
    },
    {
     "name": "stderr",
     "output_type": "stream",
     "text": [
      "\n"
     ]
    }
   ],
   "source": [
    "model, logs = train(train_dataloader, val_dataloader, model, loss_fn, optim, 100, log_freq=1, save_best_model=True, \n",
    "              best_model_name='best_model_cross.pth', last_model_name='last_model_cross.pth', save_path=MODEL_PATH)\n",
    "print(f\"CUDA GPU: {torch.cuda.get_device_name(0)}\")\n",
    "print(f\"Architecture: FCN8s CrossEntropyLoss\")"
   ]
  },
  {
   "cell_type": "code",
   "execution_count": 16,
   "id": "45276a11-d993-463d-a298-68232a639b6b",
   "metadata": {},
   "outputs": [],
   "source": [
    "logs_df = pd.DataFrame(logs)\n",
    "logs_df.to_csv(os.path.join(METRIC_PATH, 'train_fcn8s_cross.csv'), index=False)"
   ]
  },
  {
   "cell_type": "code",
   "execution_count": 17,
   "id": "a6ecf1bb-7022-473e-a112-6882174b9ffa",
   "metadata": {},
   "outputs": [
    {
     "name": "stdout",
     "output_type": "stream",
     "text": [
      "12\n"
     ]
    }
   ],
   "source": [
    "import torch.nn as nn\n",
    "\n",
    "model = FCN8s(in_channels=3, out_channels=len(labels_df))\n",
    "model.cuda()\n",
    "loss_fn = DiceCrossEntropyLoss()\n",
    "optim = torch.optim.Adam(model.parameters(), lr = 1e-3)\n",
    "print(model.out_channels)"
   ]
  },
  {
   "cell_type": "code",
   "execution_count": 18,
   "id": "fee67fe1-7425-4270-9e7b-e0da1549f68e",
   "metadata": {},
   "outputs": [
    {
     "name": "stderr",
     "output_type": "stream",
     "text": [
      "100%|██████████████████████████████████████████████████████████████████████| 12/12 [00:09<00:00,  1.31it/s, loss=0.915]\n",
      "100%|█████████████████████████████████████████████████████████████████████████| 4/4 [00:01<00:00,  3.42it/s, loss=4.55]\n"
     ]
    },
    {
     "name": "stdout",
     "output_type": "stream",
     "text": [
      "Epoch 0/99\n",
      "----------\n",
      "Train Loss: 1.1933, Val Loss: 4.5443\n",
      "✅ Best model saved! (Val Loss: 4.544333100318909)\n",
      "\n"
     ]
    },
    {
     "name": "stderr",
     "output_type": "stream",
     "text": [
      "100%|██████████████████████████████████████████████████████████████████████| 12/12 [00:08<00:00,  1.34it/s, loss=0.814]\n",
      "100%|█████████████████████████████████████████████████████████████████████████| 4/4 [00:01<00:00,  3.33it/s, loss=2.42]\n"
     ]
    },
    {
     "name": "stdout",
     "output_type": "stream",
     "text": [
      "Epoch 1/99\n",
      "----------\n",
      "Train Loss: 0.8515, Val Loss: 2.4569\n",
      "✅ Best model saved! (Val Loss: 2.456887185573578)\n",
      "\n"
     ]
    },
    {
     "name": "stderr",
     "output_type": "stream",
     "text": [
      "100%|███████████████████████████████████████████████████████████████████████| 12/12 [00:08<00:00,  1.34it/s, loss=0.69]\n",
      "100%|████████████████████████████████████████████████████████████████████████| 4/4 [00:01<00:00,  3.30it/s, loss=0.881]\n"
     ]
    },
    {
     "name": "stdout",
     "output_type": "stream",
     "text": [
      "Epoch 2/99\n",
      "----------\n",
      "Train Loss: 0.7480, Val Loss: 0.8806\n",
      "✅ Best model saved! (Val Loss: 0.8806241601705551)\n",
      "\n"
     ]
    },
    {
     "name": "stderr",
     "output_type": "stream",
     "text": [
      "100%|███████████████████████████████████████████████████████████████████████| 12/12 [00:08<00:00,  1.34it/s, loss=0.65]\n",
      "100%|████████████████████████████████████████████████████████████████████████| 4/4 [00:01<00:00,  3.37it/s, loss=0.672]\n"
     ]
    },
    {
     "name": "stdout",
     "output_type": "stream",
     "text": [
      "Epoch 3/99\n",
      "----------\n",
      "Train Loss: 0.6983, Val Loss: 0.6834\n",
      "✅ Best model saved! (Val Loss: 0.6833993047475815)\n",
      "\n"
     ]
    },
    {
     "name": "stderr",
     "output_type": "stream",
     "text": [
      "100%|██████████████████████████████████████████████████████████████████████| 12/12 [00:08<00:00,  1.34it/s, loss=0.654]\n",
      "100%|██████████████████████████████████████████████████████████████████████████| 4/4 [00:01<00:00,  3.30it/s, loss=0.6]\n"
     ]
    },
    {
     "name": "stdout",
     "output_type": "stream",
     "text": [
      "Epoch 4/99\n",
      "----------\n",
      "Train Loss: 0.6447, Val Loss: 0.6476\n",
      "✅ Best model saved! (Val Loss: 0.6476352661848068)\n",
      "\n"
     ]
    },
    {
     "name": "stderr",
     "output_type": "stream",
     "text": [
      "100%|██████████████████████████████████████████████████████████████████████| 12/12 [00:09<00:00,  1.33it/s, loss=0.652]\n",
      "100%|████████████████████████████████████████████████████████████████████████| 4/4 [00:01<00:00,  3.33it/s, loss=0.612]\n"
     ]
    },
    {
     "name": "stdout",
     "output_type": "stream",
     "text": [
      "Epoch 5/99\n",
      "----------\n",
      "Train Loss: 0.6274, Val Loss: 0.6183\n",
      "✅ Best model saved! (Val Loss: 0.6182768493890762)\n",
      "\n"
     ]
    },
    {
     "name": "stderr",
     "output_type": "stream",
     "text": [
      "100%|██████████████████████████████████████████████████████████████████████| 12/12 [00:08<00:00,  1.34it/s, loss=0.576]\n",
      "100%|█████████████████████████████████████████████████████████████████████████| 4/4 [00:01<00:00,  3.32it/s, loss=0.62]\n"
     ]
    },
    {
     "name": "stdout",
     "output_type": "stream",
     "text": [
      "Epoch 6/99\n",
      "----------\n",
      "Train Loss: 0.6049, Val Loss: 0.5991\n",
      "✅ Best model saved! (Val Loss: 0.5991480350494385)\n",
      "\n"
     ]
    },
    {
     "name": "stderr",
     "output_type": "stream",
     "text": [
      "100%|██████████████████████████████████████████████████████████████████████| 12/12 [00:08<00:00,  1.34it/s, loss=0.604]\n",
      "100%|████████████████████████████████████████████████████████████████████████| 4/4 [00:01<00:00,  3.42it/s, loss=0.558]\n"
     ]
    },
    {
     "name": "stdout",
     "output_type": "stream",
     "text": [
      "Epoch 7/99\n",
      "----------\n",
      "Train Loss: 0.5911, Val Loss: 0.5678\n",
      "✅ Best model saved! (Val Loss: 0.5678315162658691)\n",
      "\n"
     ]
    },
    {
     "name": "stderr",
     "output_type": "stream",
     "text": [
      "100%|██████████████████████████████████████████████████████████████████████| 12/12 [00:08<00:00,  1.34it/s, loss=0.536]\n",
      "100%|████████████████████████████████████████████████████████████████████████| 4/4 [00:01<00:00,  3.42it/s, loss=0.595]\n"
     ]
    },
    {
     "name": "stdout",
     "output_type": "stream",
     "text": [
      "Epoch 8/99\n",
      "----------\n",
      "Train Loss: 0.5778, Val Loss: 0.5865\n",
      "\n"
     ]
    },
    {
     "name": "stderr",
     "output_type": "stream",
     "text": [
      "100%|██████████████████████████████████████████████████████████████████████| 12/12 [00:08<00:00,  1.34it/s, loss=0.541]\n",
      "100%|████████████████████████████████████████████████████████████████████████| 4/4 [00:01<00:00,  3.28it/s, loss=0.614]\n"
     ]
    },
    {
     "name": "stdout",
     "output_type": "stream",
     "text": [
      "Epoch 9/99\n",
      "----------\n",
      "Train Loss: 0.5583, Val Loss: 0.6057\n",
      "\n"
     ]
    },
    {
     "name": "stderr",
     "output_type": "stream",
     "text": [
      "100%|███████████████████████████████████████████████████████████████████████| 12/12 [00:08<00:00,  1.35it/s, loss=0.53]\n",
      "100%|████████████████████████████████████████████████████████████████████████| 4/4 [00:01<00:00,  3.44it/s, loss=0.604]\n"
     ]
    },
    {
     "name": "stdout",
     "output_type": "stream",
     "text": [
      "Epoch 10/99\n",
      "----------\n",
      "Train Loss: 0.5603, Val Loss: 0.6047\n",
      "\n"
     ]
    },
    {
     "name": "stderr",
     "output_type": "stream",
     "text": [
      "100%|██████████████████████████████████████████████████████████████████████| 12/12 [00:08<00:00,  1.34it/s, loss=0.576]\n",
      "100%|██████████████████████████████████████████████████████████████████████████| 4/4 [00:01<00:00,  3.35it/s, loss=0.5]\n"
     ]
    },
    {
     "name": "stdout",
     "output_type": "stream",
     "text": [
      "Epoch 11/99\n",
      "----------\n",
      "Train Loss: 0.5409, Val Loss: 0.4984\n",
      "✅ Best model saved! (Val Loss: 0.4984428882598877)\n",
      "\n"
     ]
    },
    {
     "name": "stderr",
     "output_type": "stream",
     "text": [
      "100%|██████████████████████████████████████████████████████████████████████| 12/12 [00:08<00:00,  1.34it/s, loss=0.532]\n",
      "100%|████████████████████████████████████████████████████████████████████████| 4/4 [00:01<00:00,  3.33it/s, loss=0.585]\n"
     ]
    },
    {
     "name": "stdout",
     "output_type": "stream",
     "text": [
      "Epoch 12/99\n",
      "----------\n",
      "Train Loss: 0.5323, Val Loss: 0.5755\n",
      "\n"
     ]
    },
    {
     "name": "stderr",
     "output_type": "stream",
     "text": [
      "100%|██████████████████████████████████████████████████████████████████████| 12/12 [00:08<00:00,  1.34it/s, loss=0.628]\n",
      "100%|████████████████████████████████████████████████████████████████████████| 4/4 [00:01<00:00,  3.43it/s, loss=0.525]\n"
     ]
    },
    {
     "name": "stdout",
     "output_type": "stream",
     "text": [
      "Epoch 13/99\n",
      "----------\n",
      "Train Loss: 0.5361, Val Loss: 0.5292\n",
      "\n"
     ]
    },
    {
     "name": "stderr",
     "output_type": "stream",
     "text": [
      "100%|██████████████████████████████████████████████████████████████████████| 12/12 [00:08<00:00,  1.34it/s, loss=0.529]\n",
      "100%|████████████████████████████████████████████████████████████████████████| 4/4 [00:01<00:00,  3.46it/s, loss=0.534]\n"
     ]
    },
    {
     "name": "stdout",
     "output_type": "stream",
     "text": [
      "Epoch 14/99\n",
      "----------\n",
      "Train Loss: 0.5210, Val Loss: 0.5497\n",
      "\n"
     ]
    },
    {
     "name": "stderr",
     "output_type": "stream",
     "text": [
      "100%|██████████████████████████████████████████████████████████████████████| 12/12 [00:08<00:00,  1.35it/s, loss=0.468]\n",
      "100%|████████████████████████████████████████████████████████████████████████| 4/4 [00:01<00:00,  3.41it/s, loss=0.448]\n"
     ]
    },
    {
     "name": "stdout",
     "output_type": "stream",
     "text": [
      "Epoch 15/99\n",
      "----------\n",
      "Train Loss: 0.4999, Val Loss: 0.4527\n",
      "✅ Best model saved! (Val Loss: 0.4527231603860855)\n",
      "\n"
     ]
    },
    {
     "name": "stderr",
     "output_type": "stream",
     "text": [
      "100%|██████████████████████████████████████████████████████████████████████| 12/12 [00:08<00:00,  1.34it/s, loss=0.501]\n",
      "100%|████████████████████████████████████████████████████████████████████████| 4/4 [00:01<00:00,  3.34it/s, loss=0.459]\n"
     ]
    },
    {
     "name": "stdout",
     "output_type": "stream",
     "text": [
      "Epoch 16/99\n",
      "----------\n",
      "Train Loss: 0.4851, Val Loss: 0.4721\n",
      "\n"
     ]
    },
    {
     "name": "stderr",
     "output_type": "stream",
     "text": [
      "100%|██████████████████████████████████████████████████████████████████████| 12/12 [00:08<00:00,  1.34it/s, loss=0.496]\n",
      "100%|████████████████████████████████████████████████████████████████████████| 4/4 [00:01<00:00,  3.29it/s, loss=0.593]\n"
     ]
    },
    {
     "name": "stdout",
     "output_type": "stream",
     "text": [
      "Epoch 17/99\n",
      "----------\n",
      "Train Loss: 0.4836, Val Loss: 0.5621\n",
      "\n"
     ]
    },
    {
     "name": "stderr",
     "output_type": "stream",
     "text": [
      "100%|███████████████████████████████████████████████████████████████████████| 12/12 [00:08<00:00,  1.34it/s, loss=0.53]\n",
      "100%|████████████████████████████████████████████████████████████████████████| 4/4 [00:01<00:00,  3.40it/s, loss=0.567]\n"
     ]
    },
    {
     "name": "stdout",
     "output_type": "stream",
     "text": [
      "Epoch 18/99\n",
      "----------\n",
      "Train Loss: 0.4884, Val Loss: 0.5916\n",
      "\n"
     ]
    },
    {
     "name": "stderr",
     "output_type": "stream",
     "text": [
      "100%|██████████████████████████████████████████████████████████████████████| 12/12 [00:09<00:00,  1.33it/s, loss=0.466]\n",
      "100%|█████████████████████████████████████████████████████████████████████████| 4/4 [00:01<00:00,  3.19it/s, loss=0.45]\n"
     ]
    },
    {
     "name": "stdout",
     "output_type": "stream",
     "text": [
      "Epoch 19/99\n",
      "----------\n",
      "Train Loss: 0.4956, Val Loss: 0.4645\n",
      "\n"
     ]
    },
    {
     "name": "stderr",
     "output_type": "stream",
     "text": [
      "100%|██████████████████████████████████████████████████████████████████████| 12/12 [00:08<00:00,  1.33it/s, loss=0.484]\n",
      "100%|████████████████████████████████████████████████████████████████████████| 4/4 [00:01<00:00,  3.39it/s, loss=0.483]\n"
     ]
    },
    {
     "name": "stdout",
     "output_type": "stream",
     "text": [
      "Epoch 20/99\n",
      "----------\n",
      "Train Loss: 0.4747, Val Loss: 0.4630\n",
      "\n"
     ]
    },
    {
     "name": "stderr",
     "output_type": "stream",
     "text": [
      "100%|██████████████████████████████████████████████████████████████████████| 12/12 [00:08<00:00,  1.34it/s, loss=0.427]\n",
      "100%|████████████████████████████████████████████████████████████████████████| 4/4 [00:01<00:00,  3.33it/s, loss=0.408]\n"
     ]
    },
    {
     "name": "stdout",
     "output_type": "stream",
     "text": [
      "Epoch 21/99\n",
      "----------\n",
      "Train Loss: 0.4567, Val Loss: 0.4076\n",
      "✅ Best model saved! (Val Loss: 0.40763839334249496)\n",
      "\n"
     ]
    },
    {
     "name": "stderr",
     "output_type": "stream",
     "text": [
      "100%|██████████████████████████████████████████████████████████████████████| 12/12 [00:08<00:00,  1.34it/s, loss=0.448]\n",
      "100%|████████████████████████████████████████████████████████████████████████| 4/4 [00:01<00:00,  3.35it/s, loss=0.474]\n"
     ]
    },
    {
     "name": "stdout",
     "output_type": "stream",
     "text": [
      "Epoch 22/99\n",
      "----------\n",
      "Train Loss: 0.4396, Val Loss: 0.4780\n",
      "\n"
     ]
    },
    {
     "name": "stderr",
     "output_type": "stream",
     "text": [
      "100%|██████████████████████████████████████████████████████████████████████| 12/12 [00:09<00:00,  1.31it/s, loss=0.442]\n",
      "100%|████████████████████████████████████████████████████████████████████████| 4/4 [00:01<00:00,  3.39it/s, loss=0.452]\n"
     ]
    },
    {
     "name": "stdout",
     "output_type": "stream",
     "text": [
      "Epoch 23/99\n",
      "----------\n",
      "Train Loss: 0.4450, Val Loss: 0.4459\n",
      "\n"
     ]
    },
    {
     "name": "stderr",
     "output_type": "stream",
     "text": [
      "100%|██████████████████████████████████████████████████████████████████████| 12/12 [00:08<00:00,  1.34it/s, loss=0.395]\n",
      "100%|████████████████████████████████████████████████████████████████████████| 4/4 [00:01<00:00,  3.39it/s, loss=0.406]\n"
     ]
    },
    {
     "name": "stdout",
     "output_type": "stream",
     "text": [
      "Epoch 24/99\n",
      "----------\n",
      "Train Loss: 0.4300, Val Loss: 0.4117\n",
      "\n"
     ]
    },
    {
     "name": "stderr",
     "output_type": "stream",
     "text": [
      "100%|██████████████████████████████████████████████████████████████████████| 12/12 [00:09<00:00,  1.33it/s, loss=0.406]\n",
      "100%|████████████████████████████████████████████████████████████████████████| 4/4 [00:01<00:00,  3.40it/s, loss=0.386]\n"
     ]
    },
    {
     "name": "stdout",
     "output_type": "stream",
     "text": [
      "Epoch 25/99\n",
      "----------\n",
      "Train Loss: 0.4170, Val Loss: 0.3938\n",
      "✅ Best model saved! (Val Loss: 0.39377782493829727)\n",
      "\n"
     ]
    },
    {
     "name": "stderr",
     "output_type": "stream",
     "text": [
      "100%|██████████████████████████████████████████████████████████████████████| 12/12 [00:08<00:00,  1.33it/s, loss=0.437]\n",
      "100%|█████████████████████████████████████████████████████████████████████████| 4/4 [00:01<00:00,  3.41it/s, loss=0.43]\n"
     ]
    },
    {
     "name": "stdout",
     "output_type": "stream",
     "text": [
      "Epoch 26/99\n",
      "----------\n",
      "Train Loss: 0.4120, Val Loss: 0.4388\n",
      "\n"
     ]
    },
    {
     "name": "stderr",
     "output_type": "stream",
     "text": [
      "100%|██████████████████████████████████████████████████████████████████████| 12/12 [00:09<00:00,  1.33it/s, loss=0.419]\n",
      "100%|████████████████████████████████████████████████████████████████████████| 4/4 [00:01<00:00,  3.34it/s, loss=0.378]\n"
     ]
    },
    {
     "name": "stdout",
     "output_type": "stream",
     "text": [
      "Epoch 27/99\n",
      "----------\n",
      "Train Loss: 0.4040, Val Loss: 0.3854\n",
      "✅ Best model saved! (Val Loss: 0.385383740067482)\n",
      "\n"
     ]
    },
    {
     "name": "stderr",
     "output_type": "stream",
     "text": [
      "100%|██████████████████████████████████████████████████████████████████████| 12/12 [00:08<00:00,  1.33it/s, loss=0.373]\n",
      "100%|████████████████████████████████████████████████████████████████████████| 4/4 [00:01<00:00,  3.32it/s, loss=0.379]\n"
     ]
    },
    {
     "name": "stdout",
     "output_type": "stream",
     "text": [
      "Epoch 28/99\n",
      "----------\n",
      "Train Loss: 0.3884, Val Loss: 0.4247\n",
      "\n"
     ]
    },
    {
     "name": "stderr",
     "output_type": "stream",
     "text": [
      "100%|██████████████████████████████████████████████████████████████████████| 12/12 [00:08<00:00,  1.33it/s, loss=0.405]\n",
      "100%|█████████████████████████████████████████████████████████████████████████| 4/4 [00:01<00:00,  3.29it/s, loss=0.51]\n"
     ]
    },
    {
     "name": "stdout",
     "output_type": "stream",
     "text": [
      "Epoch 29/99\n",
      "----------\n",
      "Train Loss: 0.3865, Val Loss: 0.4634\n",
      "\n"
     ]
    },
    {
     "name": "stderr",
     "output_type": "stream",
     "text": [
      "100%|██████████████████████████████████████████████████████████████████████| 12/12 [00:09<00:00,  1.32it/s, loss=0.408]\n",
      "100%|████████████████████████████████████████████████████████████████████████| 4/4 [00:01<00:00,  3.35it/s, loss=0.516]\n"
     ]
    },
    {
     "name": "stdout",
     "output_type": "stream",
     "text": [
      "Epoch 30/99\n",
      "----------\n",
      "Train Loss: 0.3962, Val Loss: 0.5017\n",
      "\n"
     ]
    },
    {
     "name": "stderr",
     "output_type": "stream",
     "text": [
      "100%|██████████████████████████████████████████████████████████████████████| 12/12 [00:09<00:00,  1.33it/s, loss=0.382]\n",
      "100%|████████████████████████████████████████████████████████████████████████| 4/4 [00:01<00:00,  3.41it/s, loss=0.432]\n"
     ]
    },
    {
     "name": "stdout",
     "output_type": "stream",
     "text": [
      "Epoch 31/99\n",
      "----------\n",
      "Train Loss: 0.3975, Val Loss: 0.4508\n",
      "\n"
     ]
    },
    {
     "name": "stderr",
     "output_type": "stream",
     "text": [
      "100%|██████████████████████████████████████████████████████████████████████| 12/12 [00:08<00:00,  1.34it/s, loss=0.389]\n",
      "100%|████████████████████████████████████████████████████████████████████████| 4/4 [00:01<00:00,  3.42it/s, loss=0.411]\n"
     ]
    },
    {
     "name": "stdout",
     "output_type": "stream",
     "text": [
      "Epoch 32/99\n",
      "----------\n",
      "Train Loss: 0.3842, Val Loss: 0.3997\n",
      "\n"
     ]
    },
    {
     "name": "stderr",
     "output_type": "stream",
     "text": [
      "100%|██████████████████████████████████████████████████████████████████████| 12/12 [00:08<00:00,  1.34it/s, loss=0.373]\n",
      "100%|████████████████████████████████████████████████████████████████████████| 4/4 [00:01<00:00,  3.38it/s, loss=0.428]\n"
     ]
    },
    {
     "name": "stdout",
     "output_type": "stream",
     "text": [
      "Epoch 33/99\n",
      "----------\n",
      "Train Loss: 0.3793, Val Loss: 0.4055\n",
      "\n"
     ]
    },
    {
     "name": "stderr",
     "output_type": "stream",
     "text": [
      "100%|██████████████████████████████████████████████████████████████████████| 12/12 [00:08<00:00,  1.33it/s, loss=0.342]\n",
      "100%|████████████████████████████████████████████████████████████████████████| 4/4 [00:01<00:00,  3.38it/s, loss=0.371]\n"
     ]
    },
    {
     "name": "stdout",
     "output_type": "stream",
     "text": [
      "Epoch 34/99\n",
      "----------\n",
      "Train Loss: 0.3596, Val Loss: 0.3743\n",
      "✅ Best model saved! (Val Loss: 0.3743489310145378)\n",
      "\n"
     ]
    },
    {
     "name": "stderr",
     "output_type": "stream",
     "text": [
      "100%|██████████████████████████████████████████████████████████████████████| 12/12 [00:08<00:00,  1.34it/s, loss=0.356]\n",
      "100%|████████████████████████████████████████████████████████████████████████| 4/4 [00:01<00:00,  3.01it/s, loss=0.373]\n"
     ]
    },
    {
     "name": "stdout",
     "output_type": "stream",
     "text": [
      "Epoch 35/99\n",
      "----------\n",
      "Train Loss: 0.3499, Val Loss: 0.3888\n",
      "\n"
     ]
    },
    {
     "name": "stderr",
     "output_type": "stream",
     "text": [
      "100%|██████████████████████████████████████████████████████████████████████| 12/12 [00:09<00:00,  1.31it/s, loss=0.361]\n",
      "100%|█████████████████████████████████████████████████████████████████████████| 4/4 [00:01<00:00,  3.40it/s, loss=0.39]\n"
     ]
    },
    {
     "name": "stdout",
     "output_type": "stream",
     "text": [
      "Epoch 36/99\n",
      "----------\n",
      "Train Loss: 0.3426, Val Loss: 0.3807\n",
      "\n"
     ]
    },
    {
     "name": "stderr",
     "output_type": "stream",
     "text": [
      "100%|██████████████████████████████████████████████████████████████████████| 12/12 [00:08<00:00,  1.34it/s, loss=0.335]\n",
      "100%|████████████████████████████████████████████████████████████████████████| 4/4 [00:01<00:00,  3.37it/s, loss=0.355]\n"
     ]
    },
    {
     "name": "stdout",
     "output_type": "stream",
     "text": [
      "Epoch 37/99\n",
      "----------\n",
      "Train Loss: 0.3399, Val Loss: 0.3865\n",
      "\n"
     ]
    },
    {
     "name": "stderr",
     "output_type": "stream",
     "text": [
      "100%|██████████████████████████████████████████████████████████████████████| 12/12 [00:09<00:00,  1.33it/s, loss=0.324]\n",
      "100%|████████████████████████████████████████████████████████████████████████| 4/4 [00:01<00:00,  3.37it/s, loss=0.425]\n"
     ]
    },
    {
     "name": "stdout",
     "output_type": "stream",
     "text": [
      "Epoch 38/99\n",
      "----------\n",
      "Train Loss: 0.3361, Val Loss: 0.3956\n",
      "\n"
     ]
    },
    {
     "name": "stderr",
     "output_type": "stream",
     "text": [
      "100%|██████████████████████████████████████████████████████████████████████| 12/12 [00:08<00:00,  1.34it/s, loss=0.309]\n",
      "100%|████████████████████████████████████████████████████████████████████████| 4/4 [00:01<00:00,  3.44it/s, loss=0.331]\n"
     ]
    },
    {
     "name": "stdout",
     "output_type": "stream",
     "text": [
      "Epoch 39/99\n",
      "----------\n",
      "Train Loss: 0.3264, Val Loss: 0.3569\n",
      "✅ Best model saved! (Val Loss: 0.35685332864522934)\n",
      "\n"
     ]
    },
    {
     "name": "stderr",
     "output_type": "stream",
     "text": [
      "100%|██████████████████████████████████████████████████████████████████████| 12/12 [00:08<00:00,  1.35it/s, loss=0.297]\n",
      "100%|████████████████████████████████████████████████████████████████████████| 4/4 [00:01<00:00,  3.43it/s, loss=0.409]\n"
     ]
    },
    {
     "name": "stdout",
     "output_type": "stream",
     "text": [
      "Epoch 40/99\n",
      "----------\n",
      "Train Loss: 0.3133, Val Loss: 0.3947\n",
      "\n"
     ]
    },
    {
     "name": "stderr",
     "output_type": "stream",
     "text": [
      "100%|██████████████████████████████████████████████████████████████████████| 12/12 [00:08<00:00,  1.35it/s, loss=0.313]\n",
      "100%|████████████████████████████████████████████████████████████████████████| 4/4 [00:01<00:00,  3.46it/s, loss=0.391]\n"
     ]
    },
    {
     "name": "stdout",
     "output_type": "stream",
     "text": [
      "Epoch 41/99\n",
      "----------\n",
      "Train Loss: 0.3129, Val Loss: 0.3737\n",
      "\n"
     ]
    },
    {
     "name": "stderr",
     "output_type": "stream",
     "text": [
      "100%|██████████████████████████████████████████████████████████████████████| 12/12 [00:08<00:00,  1.35it/s, loss=0.311]\n",
      "100%|████████████████████████████████████████████████████████████████████████| 4/4 [00:01<00:00,  3.47it/s, loss=0.393]\n"
     ]
    },
    {
     "name": "stdout",
     "output_type": "stream",
     "text": [
      "Epoch 42/99\n",
      "----------\n",
      "Train Loss: 0.3064, Val Loss: 0.4005\n",
      "\n"
     ]
    },
    {
     "name": "stderr",
     "output_type": "stream",
     "text": [
      "100%|██████████████████████████████████████████████████████████████████████| 12/12 [00:08<00:00,  1.35it/s, loss=0.287]\n",
      "100%|████████████████████████████████████████████████████████████████████████| 4/4 [00:01<00:00,  3.39it/s, loss=0.365]\n"
     ]
    },
    {
     "name": "stdout",
     "output_type": "stream",
     "text": [
      "Epoch 43/99\n",
      "----------\n",
      "Train Loss: 0.3022, Val Loss: 0.3736\n",
      "\n"
     ]
    },
    {
     "name": "stderr",
     "output_type": "stream",
     "text": [
      "100%|████████████████████████████████████████████████████████████████████████| 12/12 [00:08<00:00,  1.36it/s, loss=0.3]\n",
      "100%|██████████████████████████████████████████████████████████████████████████| 4/4 [00:01<00:00,  3.51it/s, loss=0.4]\n"
     ]
    },
    {
     "name": "stdout",
     "output_type": "stream",
     "text": [
      "Epoch 44/99\n",
      "----------\n",
      "Train Loss: 0.2987, Val Loss: 0.3960\n",
      "\n"
     ]
    },
    {
     "name": "stderr",
     "output_type": "stream",
     "text": [
      "100%|██████████████████████████████████████████████████████████████████████| 12/12 [00:08<00:00,  1.34it/s, loss=0.298]\n",
      "100%|████████████████████████████████████████████████████████████████████████| 4/4 [00:01<00:00,  3.45it/s, loss=0.388]\n"
     ]
    },
    {
     "name": "stdout",
     "output_type": "stream",
     "text": [
      "Epoch 45/99\n",
      "----------\n",
      "Train Loss: 0.2959, Val Loss: 0.3928\n",
      "\n"
     ]
    },
    {
     "name": "stderr",
     "output_type": "stream",
     "text": [
      "100%|██████████████████████████████████████████████████████████████████████| 12/12 [00:08<00:00,  1.34it/s, loss=0.289]\n",
      "100%|████████████████████████████████████████████████████████████████████████| 4/4 [00:01<00:00,  3.45it/s, loss=0.401]\n"
     ]
    },
    {
     "name": "stdout",
     "output_type": "stream",
     "text": [
      "Epoch 46/99\n",
      "----------\n",
      "Train Loss: 0.2921, Val Loss: 0.3872\n",
      "\n"
     ]
    },
    {
     "name": "stderr",
     "output_type": "stream",
     "text": [
      "100%|██████████████████████████████████████████████████████████████████████| 12/12 [00:08<00:00,  1.35it/s, loss=0.275]\n",
      "100%|████████████████████████████████████████████████████████████████████████| 4/4 [00:01<00:00,  3.48it/s, loss=0.383]\n"
     ]
    },
    {
     "name": "stdout",
     "output_type": "stream",
     "text": [
      "Epoch 47/99\n",
      "----------\n",
      "Train Loss: 0.2840, Val Loss: 0.3795\n",
      "\n"
     ]
    },
    {
     "name": "stderr",
     "output_type": "stream",
     "text": [
      "100%|██████████████████████████████████████████████████████████████████████| 12/12 [00:08<00:00,  1.35it/s, loss=0.292]\n",
      "100%|████████████████████████████████████████████████████████████████████████| 4/4 [00:01<00:00,  3.42it/s, loss=0.373]\n"
     ]
    },
    {
     "name": "stdout",
     "output_type": "stream",
     "text": [
      "Epoch 48/99\n",
      "----------\n",
      "Train Loss: 0.2786, Val Loss: 0.3824\n",
      "\n"
     ]
    },
    {
     "name": "stderr",
     "output_type": "stream",
     "text": [
      "100%|██████████████████████████████████████████████████████████████████████| 12/12 [00:08<00:00,  1.34it/s, loss=0.267]\n",
      "100%|████████████████████████████████████████████████████████████████████████| 4/4 [00:01<00:00,  3.36it/s, loss=0.448]\n"
     ]
    },
    {
     "name": "stdout",
     "output_type": "stream",
     "text": [
      "Epoch 49/99\n",
      "----------\n",
      "Train Loss: 0.2716, Val Loss: 0.4131\n",
      "\n"
     ]
    },
    {
     "name": "stderr",
     "output_type": "stream",
     "text": [
      "100%|██████████████████████████████████████████████████████████████████████| 12/12 [00:08<00:00,  1.35it/s, loss=0.266]\n",
      "100%|████████████████████████████████████████████████████████████████████████| 4/4 [00:01<00:00,  3.52it/s, loss=0.364]\n"
     ]
    },
    {
     "name": "stdout",
     "output_type": "stream",
     "text": [
      "Epoch 50/99\n",
      "----------\n",
      "Train Loss: 0.2698, Val Loss: 0.3759\n",
      "\n"
     ]
    },
    {
     "name": "stderr",
     "output_type": "stream",
     "text": [
      "100%|██████████████████████████████████████████████████████████████████████| 12/12 [00:08<00:00,  1.36it/s, loss=0.279]\n",
      "100%|████████████████████████████████████████████████████████████████████████| 4/4 [00:01<00:00,  3.42it/s, loss=0.431]\n"
     ]
    },
    {
     "name": "stdout",
     "output_type": "stream",
     "text": [
      "Epoch 51/99\n",
      "----------\n",
      "Train Loss: 0.2702, Val Loss: 0.4172\n",
      "\n"
     ]
    },
    {
     "name": "stderr",
     "output_type": "stream",
     "text": [
      "100%|███████████████████████████████████████████████████████████████████████| 12/12 [00:08<00:00,  1.36it/s, loss=0.27]\n",
      "100%|████████████████████████████████████████████████████████████████████████| 4/4 [00:01<00:00,  3.47it/s, loss=0.368]\n"
     ]
    },
    {
     "name": "stdout",
     "output_type": "stream",
     "text": [
      "Epoch 52/99\n",
      "----------\n",
      "Train Loss: 0.2679, Val Loss: 0.3727\n",
      "\n"
     ]
    },
    {
     "name": "stderr",
     "output_type": "stream",
     "text": [
      "100%|██████████████████████████████████████████████████████████████████████| 12/12 [00:08<00:00,  1.35it/s, loss=0.269]\n",
      "100%|████████████████████████████████████████████████████████████████████████| 4/4 [00:01<00:00,  3.46it/s, loss=0.368]\n"
     ]
    },
    {
     "name": "stdout",
     "output_type": "stream",
     "text": [
      "Epoch 53/99\n",
      "----------\n",
      "Train Loss: 0.2628, Val Loss: 0.3937\n",
      "\n"
     ]
    },
    {
     "name": "stderr",
     "output_type": "stream",
     "text": [
      "100%|███████████████████████████████████████████████████████████████████████| 12/12 [00:08<00:00,  1.36it/s, loss=0.27]\n",
      "100%|████████████████████████████████████████████████████████████████████████| 4/4 [00:01<00:00,  3.51it/s, loss=0.434]\n"
     ]
    },
    {
     "name": "stdout",
     "output_type": "stream",
     "text": [
      "Epoch 54/99\n",
      "----------\n",
      "Train Loss: 0.2625, Val Loss: 0.4183\n",
      "\n"
     ]
    },
    {
     "name": "stderr",
     "output_type": "stream",
     "text": [
      "100%|██████████████████████████████████████████████████████████████████████| 12/12 [00:08<00:00,  1.36it/s, loss=0.231]\n",
      "100%|█████████████████████████████████████████████████████████████████████████| 4/4 [00:01<00:00,  3.45it/s, loss=0.36]\n"
     ]
    },
    {
     "name": "stdout",
     "output_type": "stream",
     "text": [
      "Epoch 55/99\n",
      "----------\n",
      "Train Loss: 0.2542, Val Loss: 0.3963\n",
      "\n"
     ]
    },
    {
     "name": "stderr",
     "output_type": "stream",
     "text": [
      "100%|██████████████████████████████████████████████████████████████████████| 12/12 [00:08<00:00,  1.35it/s, loss=0.252]\n",
      "100%|████████████████████████████████████████████████████████████████████████| 4/4 [00:01<00:00,  3.37it/s, loss=0.381]\n"
     ]
    },
    {
     "name": "stdout",
     "output_type": "stream",
     "text": [
      "Epoch 56/99\n",
      "----------\n",
      "Train Loss: 0.2483, Val Loss: 0.3775\n",
      "\n"
     ]
    },
    {
     "name": "stderr",
     "output_type": "stream",
     "text": [
      "100%|██████████████████████████████████████████████████████████████████████| 12/12 [00:08<00:00,  1.36it/s, loss=0.247]\n",
      "100%|████████████████████████████████████████████████████████████████████████| 4/4 [00:01<00:00,  3.49it/s, loss=0.432]\n"
     ]
    },
    {
     "name": "stdout",
     "output_type": "stream",
     "text": [
      "Epoch 57/99\n",
      "----------\n",
      "Train Loss: 0.2486, Val Loss: 0.4302\n",
      "\n"
     ]
    },
    {
     "name": "stderr",
     "output_type": "stream",
     "text": [
      "100%|██████████████████████████████████████████████████████████████████████| 12/12 [00:08<00:00,  1.35it/s, loss=0.226]\n",
      "100%|████████████████████████████████████████████████████████████████████████| 4/4 [00:01<00:00,  3.44it/s, loss=0.358]\n"
     ]
    },
    {
     "name": "stdout",
     "output_type": "stream",
     "text": [
      "Epoch 58/99\n",
      "----------\n",
      "Train Loss: 0.2435, Val Loss: 0.3906\n",
      "\n"
     ]
    },
    {
     "name": "stderr",
     "output_type": "stream",
     "text": [
      "100%|███████████████████████████████████████████████████████████████████████| 12/12 [00:08<00:00,  1.35it/s, loss=0.23]\n",
      "100%|█████████████████████████████████████████████████████████████████████████| 4/4 [00:01<00:00,  3.51it/s, loss=0.44]\n"
     ]
    },
    {
     "name": "stdout",
     "output_type": "stream",
     "text": [
      "Epoch 59/99\n",
      "----------\n",
      "Train Loss: 0.2352, Val Loss: 0.4054\n",
      "\n"
     ]
    },
    {
     "name": "stderr",
     "output_type": "stream",
     "text": [
      "100%|██████████████████████████████████████████████████████████████████████| 12/12 [00:08<00:00,  1.35it/s, loss=0.253]\n",
      "100%|████████████████████████████████████████████████████████████████████████| 4/4 [00:01<00:00,  3.44it/s, loss=0.405]\n"
     ]
    },
    {
     "name": "stdout",
     "output_type": "stream",
     "text": [
      "Epoch 60/99\n",
      "----------\n",
      "Train Loss: 0.2320, Val Loss: 0.3954\n",
      "\n"
     ]
    },
    {
     "name": "stderr",
     "output_type": "stream",
     "text": [
      "100%|██████████████████████████████████████████████████████████████████████| 12/12 [00:08<00:00,  1.36it/s, loss=0.232]\n",
      "100%|████████████████████████████████████████████████████████████████████████| 4/4 [00:01<00:00,  3.38it/s, loss=0.364]\n"
     ]
    },
    {
     "name": "stdout",
     "output_type": "stream",
     "text": [
      "Epoch 61/99\n",
      "----------\n",
      "Train Loss: 0.2305, Val Loss: 0.3943\n",
      "\n"
     ]
    },
    {
     "name": "stderr",
     "output_type": "stream",
     "text": [
      "100%|██████████████████████████████████████████████████████████████████████| 12/12 [00:08<00:00,  1.35it/s, loss=0.227]\n",
      "100%|████████████████████████████████████████████████████████████████████████| 4/4 [00:01<00:00,  3.42it/s, loss=0.471]\n"
     ]
    },
    {
     "name": "stdout",
     "output_type": "stream",
     "text": [
      "Epoch 62/99\n",
      "----------\n",
      "Train Loss: 0.2301, Val Loss: 0.4268\n",
      "\n"
     ]
    },
    {
     "name": "stderr",
     "output_type": "stream",
     "text": [
      "100%|██████████████████████████████████████████████████████████████████████| 12/12 [00:08<00:00,  1.34it/s, loss=0.218]\n",
      "100%|████████████████████████████████████████████████████████████████████████| 4/4 [00:01<00:00,  3.46it/s, loss=0.406]\n"
     ]
    },
    {
     "name": "stdout",
     "output_type": "stream",
     "text": [
      "Epoch 63/99\n",
      "----------\n",
      "Train Loss: 0.2263, Val Loss: 0.4042\n",
      "\n"
     ]
    },
    {
     "name": "stderr",
     "output_type": "stream",
     "text": [
      "100%|██████████████████████████████████████████████████████████████████████| 12/12 [00:08<00:00,  1.36it/s, loss=0.227]\n",
      "100%|████████████████████████████████████████████████████████████████████████| 4/4 [00:01<00:00,  3.48it/s, loss=0.448]\n"
     ]
    },
    {
     "name": "stdout",
     "output_type": "stream",
     "text": [
      "Epoch 64/99\n",
      "----------\n",
      "Train Loss: 0.2217, Val Loss: 0.4169\n",
      "\n"
     ]
    },
    {
     "name": "stderr",
     "output_type": "stream",
     "text": [
      "100%|██████████████████████████████████████████████████████████████████████| 12/12 [00:08<00:00,  1.36it/s, loss=0.231]\n",
      "100%|████████████████████████████████████████████████████████████████████████| 4/4 [00:01<00:00,  3.47it/s, loss=0.378]\n"
     ]
    },
    {
     "name": "stdout",
     "output_type": "stream",
     "text": [
      "Epoch 65/99\n",
      "----------\n",
      "Train Loss: 0.2182, Val Loss: 0.3983\n",
      "\n"
     ]
    },
    {
     "name": "stderr",
     "output_type": "stream",
     "text": [
      "100%|██████████████████████████████████████████████████████████████████████| 12/12 [00:08<00:00,  1.35it/s, loss=0.233]\n",
      "100%|█████████████████████████████████████████████████████████████████████████| 4/4 [00:01<00:00,  3.33it/s, loss=0.46]\n"
     ]
    },
    {
     "name": "stdout",
     "output_type": "stream",
     "text": [
      "Epoch 66/99\n",
      "----------\n",
      "Train Loss: 0.2186, Val Loss: 0.4372\n",
      "\n"
     ]
    },
    {
     "name": "stderr",
     "output_type": "stream",
     "text": [
      "100%|███████████████████████████████████████████████████████████████████████| 12/12 [00:08<00:00,  1.34it/s, loss=0.21]\n",
      "100%|████████████████████████████████████████████████████████████████████████| 4/4 [00:01<00:00,  3.50it/s, loss=0.389]\n"
     ]
    },
    {
     "name": "stdout",
     "output_type": "stream",
     "text": [
      "Epoch 67/99\n",
      "----------\n",
      "Train Loss: 0.2145, Val Loss: 0.3901\n",
      "\n"
     ]
    },
    {
     "name": "stderr",
     "output_type": "stream",
     "text": [
      "100%|██████████████████████████████████████████████████████████████████████| 12/12 [00:08<00:00,  1.36it/s, loss=0.217]\n",
      "100%|████████████████████████████████████████████████████████████████████████| 4/4 [00:01<00:00,  3.43it/s, loss=0.419]\n"
     ]
    },
    {
     "name": "stdout",
     "output_type": "stream",
     "text": [
      "Epoch 68/99\n",
      "----------\n",
      "Train Loss: 0.2145, Val Loss: 0.4138\n",
      "\n"
     ]
    },
    {
     "name": "stderr",
     "output_type": "stream",
     "text": [
      "100%|██████████████████████████████████████████████████████████████████████| 12/12 [00:09<00:00,  1.33it/s, loss=0.223]\n",
      "100%|████████████████████████████████████████████████████████████████████████| 4/4 [00:01<00:00,  3.35it/s, loss=0.373]\n"
     ]
    },
    {
     "name": "stdout",
     "output_type": "stream",
     "text": [
      "Epoch 69/99\n",
      "----------\n",
      "Train Loss: 0.2094, Val Loss: 0.3999\n",
      "\n"
     ]
    },
    {
     "name": "stderr",
     "output_type": "stream",
     "text": [
      "100%|████████████████████████████████████████████████████████████████████████| 12/12 [00:08<00:00,  1.35it/s, loss=0.2]\n",
      "100%|████████████████████████████████████████████████████████████████████████| 4/4 [00:01<00:00,  3.37it/s, loss=0.374]\n"
     ]
    },
    {
     "name": "stdout",
     "output_type": "stream",
     "text": [
      "Epoch 70/99\n",
      "----------\n",
      "Train Loss: 0.2052, Val Loss: 0.3818\n",
      "\n"
     ]
    },
    {
     "name": "stderr",
     "output_type": "stream",
     "text": [
      "100%|██████████████████████████████████████████████████████████████████████| 12/12 [00:08<00:00,  1.35it/s, loss=0.199]\n",
      "100%|████████████████████████████████████████████████████████████████████████| 4/4 [00:01<00:00,  3.36it/s, loss=0.402]\n"
     ]
    },
    {
     "name": "stdout",
     "output_type": "stream",
     "text": [
      "Epoch 71/99\n",
      "----------\n",
      "Train Loss: 0.2024, Val Loss: 0.4088\n",
      "\n"
     ]
    },
    {
     "name": "stderr",
     "output_type": "stream",
     "text": [
      "100%|██████████████████████████████████████████████████████████████████████| 12/12 [00:08<00:00,  1.36it/s, loss=0.209]\n",
      "100%|█████████████████████████████████████████████████████████████████████████| 4/4 [00:01<00:00,  3.42it/s, loss=0.43]\n"
     ]
    },
    {
     "name": "stdout",
     "output_type": "stream",
     "text": [
      "Epoch 72/99\n",
      "----------\n",
      "Train Loss: 0.2016, Val Loss: 0.4065\n",
      "\n"
     ]
    },
    {
     "name": "stderr",
     "output_type": "stream",
     "text": [
      "100%|██████████████████████████████████████████████████████████████████████| 12/12 [00:08<00:00,  1.35it/s, loss=0.209]\n",
      "100%|████████████████████████████████████████████████████████████████████████| 4/4 [00:01<00:00,  3.51it/s, loss=0.539]\n"
     ]
    },
    {
     "name": "stdout",
     "output_type": "stream",
     "text": [
      "Epoch 73/99\n",
      "----------\n",
      "Train Loss: 0.2013, Val Loss: 0.4936\n",
      "\n"
     ]
    },
    {
     "name": "stderr",
     "output_type": "stream",
     "text": [
      "100%|██████████████████████████████████████████████████████████████████████| 12/12 [00:08<00:00,  1.35it/s, loss=0.218]\n",
      "100%|████████████████████████████████████████████████████████████████████████| 4/4 [00:01<00:00,  3.38it/s, loss=0.386]\n"
     ]
    },
    {
     "name": "stdout",
     "output_type": "stream",
     "text": [
      "Epoch 74/99\n",
      "----------\n",
      "Train Loss: 0.2014, Val Loss: 0.3991\n",
      "\n"
     ]
    },
    {
     "name": "stderr",
     "output_type": "stream",
     "text": [
      "100%|██████████████████████████████████████████████████████████████████████| 12/12 [00:08<00:00,  1.36it/s, loss=0.183]\n",
      "100%|████████████████████████████████████████████████████████████████████████| 4/4 [00:01<00:00,  3.51it/s, loss=0.416]\n"
     ]
    },
    {
     "name": "stdout",
     "output_type": "stream",
     "text": [
      "Epoch 75/99\n",
      "----------\n",
      "Train Loss: 0.2017, Val Loss: 0.4337\n",
      "\n"
     ]
    },
    {
     "name": "stderr",
     "output_type": "stream",
     "text": [
      "100%|██████████████████████████████████████████████████████████████████████| 12/12 [00:08<00:00,  1.36it/s, loss=0.199]\n",
      "100%|█████████████████████████████████████████████████████████████████████████| 4/4 [00:01<00:00,  3.52it/s, loss=0.39]\n"
     ]
    },
    {
     "name": "stdout",
     "output_type": "stream",
     "text": [
      "Epoch 76/99\n",
      "----------\n",
      "Train Loss: 0.1984, Val Loss: 0.4139\n",
      "\n"
     ]
    },
    {
     "name": "stderr",
     "output_type": "stream",
     "text": [
      "100%|██████████████████████████████████████████████████████████████████████| 12/12 [00:08<00:00,  1.36it/s, loss=0.229]\n",
      "100%|████████████████████████████████████████████████████████████████████████| 4/4 [00:01<00:00,  3.41it/s, loss=0.406]\n"
     ]
    },
    {
     "name": "stdout",
     "output_type": "stream",
     "text": [
      "Epoch 77/99\n",
      "----------\n",
      "Train Loss: 0.2071, Val Loss: 0.3975\n",
      "\n"
     ]
    },
    {
     "name": "stderr",
     "output_type": "stream",
     "text": [
      "100%|██████████████████████████████████████████████████████████████████████| 12/12 [00:08<00:00,  1.36it/s, loss=0.215]\n",
      "100%|█████████████████████████████████████████████████████████████████████████| 4/4 [00:01<00:00,  3.36it/s, loss=0.39]\n"
     ]
    },
    {
     "name": "stdout",
     "output_type": "stream",
     "text": [
      "Epoch 78/99\n",
      "----------\n",
      "Train Loss: 0.1996, Val Loss: 0.4048\n",
      "\n"
     ]
    },
    {
     "name": "stderr",
     "output_type": "stream",
     "text": [
      "100%|██████████████████████████████████████████████████████████████████████| 12/12 [00:08<00:00,  1.35it/s, loss=0.179]\n",
      "100%|████████████████████████████████████████████████████████████████████████| 4/4 [00:01<00:00,  3.49it/s, loss=0.458]\n"
     ]
    },
    {
     "name": "stdout",
     "output_type": "stream",
     "text": [
      "Epoch 79/99\n",
      "----------\n",
      "Train Loss: 0.1907, Val Loss: 0.4226\n",
      "\n"
     ]
    },
    {
     "name": "stderr",
     "output_type": "stream",
     "text": [
      "100%|██████████████████████████████████████████████████████████████████████| 12/12 [00:08<00:00,  1.35it/s, loss=0.199]\n",
      "100%|████████████████████████████████████████████████████████████████████████| 4/4 [00:01<00:00,  3.42it/s, loss=0.468]\n"
     ]
    },
    {
     "name": "stdout",
     "output_type": "stream",
     "text": [
      "Epoch 80/99\n",
      "----------\n",
      "Train Loss: 0.1882, Val Loss: 0.4544\n",
      "\n"
     ]
    },
    {
     "name": "stderr",
     "output_type": "stream",
     "text": [
      "100%|██████████████████████████████████████████████████████████████████████| 12/12 [00:08<00:00,  1.34it/s, loss=0.179]\n",
      "100%|████████████████████████████████████████████████████████████████████████| 4/4 [00:01<00:00,  3.42it/s, loss=0.426]\n"
     ]
    },
    {
     "name": "stdout",
     "output_type": "stream",
     "text": [
      "Epoch 81/99\n",
      "----------\n",
      "Train Loss: 0.1861, Val Loss: 0.4239\n",
      "\n"
     ]
    },
    {
     "name": "stderr",
     "output_type": "stream",
     "text": [
      "100%|██████████████████████████████████████████████████████████████████████| 12/12 [00:08<00:00,  1.35it/s, loss=0.189]\n",
      "100%|████████████████████████████████████████████████████████████████████████| 4/4 [00:01<00:00,  3.49it/s, loss=0.404]\n"
     ]
    },
    {
     "name": "stdout",
     "output_type": "stream",
     "text": [
      "Epoch 82/99\n",
      "----------\n",
      "Train Loss: 0.1826, Val Loss: 0.4318\n",
      "\n"
     ]
    },
    {
     "name": "stderr",
     "output_type": "stream",
     "text": [
      "100%|██████████████████████████████████████████████████████████████████████| 12/12 [00:08<00:00,  1.35it/s, loss=0.176]\n",
      "100%|████████████████████████████████████████████████████████████████████████| 4/4 [00:01<00:00,  3.41it/s, loss=0.409]\n"
     ]
    },
    {
     "name": "stdout",
     "output_type": "stream",
     "text": [
      "Epoch 83/99\n",
      "----------\n",
      "Train Loss: 0.1884, Val Loss: 0.4052\n",
      "\n"
     ]
    },
    {
     "name": "stderr",
     "output_type": "stream",
     "text": [
      "100%|███████████████████████████████████████████████████████████████████████| 12/12 [00:08<00:00,  1.36it/s, loss=0.17]\n",
      "100%|████████████████████████████████████████████████████████████████████████| 4/4 [00:01<00:00,  3.45it/s, loss=0.381]\n"
     ]
    },
    {
     "name": "stdout",
     "output_type": "stream",
     "text": [
      "Epoch 84/99\n",
      "----------\n",
      "Train Loss: 0.1822, Val Loss: 0.3939\n",
      "\n"
     ]
    },
    {
     "name": "stderr",
     "output_type": "stream",
     "text": [
      "100%|██████████████████████████████████████████████████████████████████████| 12/12 [00:08<00:00,  1.36it/s, loss=0.167]\n",
      "100%|████████████████████████████████████████████████████████████████████████| 4/4 [00:01<00:00,  3.49it/s, loss=0.425]\n"
     ]
    },
    {
     "name": "stdout",
     "output_type": "stream",
     "text": [
      "Epoch 85/99\n",
      "----------\n",
      "Train Loss: 0.1775, Val Loss: 0.4301\n",
      "\n"
     ]
    },
    {
     "name": "stderr",
     "output_type": "stream",
     "text": [
      "100%|███████████████████████████████████████████████████████████████████████| 12/12 [00:08<00:00,  1.35it/s, loss=0.16]\n",
      "100%|████████████████████████████████████████████████████████████████████████| 4/4 [00:01<00:00,  3.39it/s, loss=0.403]\n"
     ]
    },
    {
     "name": "stdout",
     "output_type": "stream",
     "text": [
      "Epoch 86/99\n",
      "----------\n",
      "Train Loss: 0.1743, Val Loss: 0.4197\n",
      "\n"
     ]
    },
    {
     "name": "stderr",
     "output_type": "stream",
     "text": [
      "100%|██████████████████████████████████████████████████████████████████████| 12/12 [00:08<00:00,  1.35it/s, loss=0.175]\n",
      "100%|████████████████████████████████████████████████████████████████████████| 4/4 [00:01<00:00,  3.40it/s, loss=0.493]\n"
     ]
    },
    {
     "name": "stdout",
     "output_type": "stream",
     "text": [
      "Epoch 87/99\n",
      "----------\n",
      "Train Loss: 0.1731, Val Loss: 0.4306\n",
      "\n"
     ]
    },
    {
     "name": "stderr",
     "output_type": "stream",
     "text": [
      "100%|██████████████████████████████████████████████████████████████████████| 12/12 [00:08<00:00,  1.34it/s, loss=0.169]\n",
      "100%|████████████████████████████████████████████████████████████████████████| 4/4 [00:01<00:00,  3.43it/s, loss=0.471]\n"
     ]
    },
    {
     "name": "stdout",
     "output_type": "stream",
     "text": [
      "Epoch 88/99\n",
      "----------\n",
      "Train Loss: 0.1710, Val Loss: 0.4385\n",
      "\n"
     ]
    },
    {
     "name": "stderr",
     "output_type": "stream",
     "text": [
      "100%|██████████████████████████████████████████████████████████████████████| 12/12 [00:08<00:00,  1.34it/s, loss=0.175]\n",
      "100%|████████████████████████████████████████████████████████████████████████| 4/4 [00:01<00:00,  3.36it/s, loss=0.406]\n"
     ]
    },
    {
     "name": "stdout",
     "output_type": "stream",
     "text": [
      "Epoch 89/99\n",
      "----------\n",
      "Train Loss: 0.1688, Val Loss: 0.4422\n",
      "\n"
     ]
    },
    {
     "name": "stderr",
     "output_type": "stream",
     "text": [
      "100%|██████████████████████████████████████████████████████████████████████| 12/12 [00:08<00:00,  1.36it/s, loss=0.193]\n",
      "100%|████████████████████████████████████████████████████████████████████████| 4/4 [00:01<00:00,  3.50it/s, loss=0.458]\n"
     ]
    },
    {
     "name": "stdout",
     "output_type": "stream",
     "text": [
      "Epoch 90/99\n",
      "----------\n",
      "Train Loss: 0.1714, Val Loss: 0.4565\n",
      "\n"
     ]
    },
    {
     "name": "stderr",
     "output_type": "stream",
     "text": [
      "100%|██████████████████████████████████████████████████████████████████████| 12/12 [00:08<00:00,  1.35it/s, loss=0.156]\n",
      "100%|████████████████████████████████████████████████████████████████████████| 4/4 [00:01<00:00,  3.47it/s, loss=0.478]\n"
     ]
    },
    {
     "name": "stdout",
     "output_type": "stream",
     "text": [
      "Epoch 91/99\n",
      "----------\n",
      "Train Loss: 0.1696, Val Loss: 0.4502\n",
      "\n"
     ]
    },
    {
     "name": "stderr",
     "output_type": "stream",
     "text": [
      "100%|██████████████████████████████████████████████████████████████████████| 12/12 [00:08<00:00,  1.36it/s, loss=0.182]\n",
      "100%|████████████████████████████████████████████████████████████████████████| 4/4 [00:01<00:00,  3.38it/s, loss=0.383]\n"
     ]
    },
    {
     "name": "stdout",
     "output_type": "stream",
     "text": [
      "Epoch 92/99\n",
      "----------\n",
      "Train Loss: 0.1745, Val Loss: 0.4202\n",
      "\n"
     ]
    },
    {
     "name": "stderr",
     "output_type": "stream",
     "text": [
      "100%|██████████████████████████████████████████████████████████████████████| 12/12 [00:08<00:00,  1.35it/s, loss=0.178]\n",
      "100%|████████████████████████████████████████████████████████████████████████| 4/4 [00:01<00:00,  3.48it/s, loss=0.388]\n"
     ]
    },
    {
     "name": "stdout",
     "output_type": "stream",
     "text": [
      "Epoch 93/99\n",
      "----------\n",
      "Train Loss: 0.1720, Val Loss: 0.4373\n",
      "\n"
     ]
    },
    {
     "name": "stderr",
     "output_type": "stream",
     "text": [
      "100%|██████████████████████████████████████████████████████████████████████| 12/12 [00:08<00:00,  1.36it/s, loss=0.176]\n",
      "100%|████████████████████████████████████████████████████████████████████████| 4/4 [00:01<00:00,  3.36it/s, loss=0.443]\n"
     ]
    },
    {
     "name": "stdout",
     "output_type": "stream",
     "text": [
      "Epoch 94/99\n",
      "----------\n",
      "Train Loss: 0.1661, Val Loss: 0.4473\n",
      "\n"
     ]
    },
    {
     "name": "stderr",
     "output_type": "stream",
     "text": [
      "100%|███████████████████████████████████████████████████████████████████████| 12/12 [00:08<00:00,  1.36it/s, loss=0.16]\n",
      "100%|████████████████████████████████████████████████████████████████████████| 4/4 [00:01<00:00,  3.45it/s, loss=0.427]\n"
     ]
    },
    {
     "name": "stdout",
     "output_type": "stream",
     "text": [
      "Epoch 95/99\n",
      "----------\n",
      "Train Loss: 0.1640, Val Loss: 0.4352\n",
      "\n"
     ]
    },
    {
     "name": "stderr",
     "output_type": "stream",
     "text": [
      "100%|███████████████████████████████████████████████████████████████████████| 12/12 [00:08<00:00,  1.36it/s, loss=0.16]\n",
      "100%|████████████████████████████████████████████████████████████████████████| 4/4 [00:01<00:00,  3.39it/s, loss=0.418]\n"
     ]
    },
    {
     "name": "stdout",
     "output_type": "stream",
     "text": [
      "Epoch 96/99\n",
      "----------\n",
      "Train Loss: 0.1613, Val Loss: 0.4449\n",
      "\n"
     ]
    },
    {
     "name": "stderr",
     "output_type": "stream",
     "text": [
      "100%|██████████████████████████████████████████████████████████████████████| 12/12 [00:08<00:00,  1.35it/s, loss=0.145]\n",
      "100%|█████████████████████████████████████████████████████████████████████████| 4/4 [00:01<00:00,  3.45it/s, loss=0.43]\n"
     ]
    },
    {
     "name": "stdout",
     "output_type": "stream",
     "text": [
      "Epoch 97/99\n",
      "----------\n",
      "Train Loss: 0.1580, Val Loss: 0.4318\n",
      "\n"
     ]
    },
    {
     "name": "stderr",
     "output_type": "stream",
     "text": [
      "100%|██████████████████████████████████████████████████████████████████████| 12/12 [00:08<00:00,  1.36it/s, loss=0.152]\n",
      "100%|████████████████████████████████████████████████████████████████████████| 4/4 [00:01<00:00,  3.44it/s, loss=0.431]\n"
     ]
    },
    {
     "name": "stdout",
     "output_type": "stream",
     "text": [
      "Epoch 98/99\n",
      "----------\n",
      "Train Loss: 0.1566, Val Loss: 0.4233\n",
      "\n"
     ]
    },
    {
     "name": "stderr",
     "output_type": "stream",
     "text": [
      "100%|██████████████████████████████████████████████████████████████████████| 12/12 [00:08<00:00,  1.36it/s, loss=0.161]\n",
      "100%|████████████████████████████████████████████████████████████████████████| 4/4 [00:01<00:00,  3.48it/s, loss=0.476]"
     ]
    },
    {
     "name": "stdout",
     "output_type": "stream",
     "text": [
      "Epoch 99/99\n",
      "----------\n",
      "Train Loss: 0.1562, Val Loss: 0.4393\n",
      "\n",
      "Training complete in 16m 53s\n",
      "Best test (smallest validation lost): 0.356853\n",
      "CUDA GPU: NVIDIA GeForce RTX 4060 Laptop GPU\n",
      "Architecture: FCN8s DiceLoss+CrossEntropyLoss\n"
     ]
    },
    {
     "name": "stderr",
     "output_type": "stream",
     "text": [
      "\n"
     ]
    }
   ],
   "source": [
    "model, logs = train(train_dataloader, val_dataloader, model, loss_fn, optim, 100, log_freq=1, save_best_model=True, \n",
    "              best_model_name='best_model_combined.pth', last_model_name='last_model_combined.pth', save_path=MODEL_PATH)\n",
    "print(f\"CUDA GPU: {torch.cuda.get_device_name(0)}\")\n",
    "print(f\"Architecture: FCN8s DiceLoss+CrossEntropyLoss\")"
   ]
  },
  {
   "cell_type": "code",
   "execution_count": 19,
   "id": "e347ea46-071b-411b-b7e1-6fb39c16d639",
   "metadata": {},
   "outputs": [],
   "source": [
    "logs_df = pd.DataFrame(logs)\n",
    "logs_df.to_csv(os.path.join(METRIC_PATH, 'train_fcn8s_combined.csv'), index=False)"
   ]
  },
  {
   "cell_type": "code",
   "execution_count": null,
   "id": "ea3e6c9e-32a3-4e07-8b02-9bbb6dc60378",
   "metadata": {},
   "outputs": [],
   "source": []
  }
 ],
 "metadata": {
  "kernelspec": {
   "display_name": "Python 3 (ipykernel)",
   "language": "python",
   "name": "python3"
  },
  "language_info": {
   "codemirror_mode": {
    "name": "ipython",
    "version": 3
   },
   "file_extension": ".py",
   "mimetype": "text/x-python",
   "name": "python",
   "nbconvert_exporter": "python",
   "pygments_lexer": "ipython3",
   "version": "3.11.11"
  }
 },
 "nbformat": 4,
 "nbformat_minor": 5
}
