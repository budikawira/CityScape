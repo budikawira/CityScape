{
 "cells": [
  {
   "cell_type": "markdown",
   "metadata": {
    "id": "dVxGqaMqppnt"
   },
   "source": [
    "## Import parameters and libraries"
   ]
  },
  {
   "cell_type": "code",
   "execution_count": 1,
   "metadata": {},
   "outputs": [],
   "source": [
    "import torch\n",
    "import torch.nn as nn\n",
    "import numpy as np\n",
    "import albumentations as A\n",
    "from albumentations.pytorch import ToTensorV2\n",
    "import os\n",
    "import matplotlib.pyplot as plt\n",
    "import numpy as np\n",
    "import pandas as pd"
   ]
  },
  {
   "cell_type": "code",
   "execution_count": 2,
   "metadata": {
    "colab": {
     "base_uri": "https://localhost:8080/"
    },
    "id": "xvM8hwMIproK",
    "outputId": "756308a8-203b-40e7-a2a9-b4815d8e4ce0"
   },
   "outputs": [],
   "source": [
    "# from google.colab import drive\n",
    "\n",
    "# drive.mount(\"/content/drive\")\n",
    "\n",
    "# TRAIN_IMG_PATH = \"/content/drive/MyDrive/AI/Cityscape/images_prepped_train-20230811T065243Z-001/images_prepped_train\"\n",
    "# TRAIN_MASK_PATH = \"/content/drive/MyDrive/AI/Cityscape/annotations_prepped_train-20230811T065240Z-001/annotations_prepped_train\"\n",
    "# VAL_IMG_PATH = \"/content/drive/MyDrive/AI/Cityscape/images_prepped_test-20230811T065241Z-001\"\n",
    "# VAL_MASK_PATH = \"/content/drive/MyDrive/AI/Cityscape/annotations_prepped_test-20230811T065240Z-001\"\n",
    "\n",
    "# EDA_DS_PATH = \"/content/drive/MyDrive/AI/Advance CV - Project 3/Dataset\"\n",
    "# EDA_TRAIN_LABELS = os.path.join(EDA_DS_PATH, \"train_labels.csv\")\n",
    "# EDA_TRAIN_FILES = os.path.join(EDA_DS_PATH, \"train_files.csv\")\n",
    "# EDA_VAL_FILES = os.path.join(EDA_DS_PATH, \"val_files.csv\")\n",
    "\n",
    "# MODEL_PATH = \"/content/drive/MyDrive/AI/Advance CV - Project 3/models/FCN8s\""
   ]
  },
  {
   "cell_type": "code",
   "execution_count": 3,
   "metadata": {
    "id": "8cNmPnRXqFT_"
   },
   "outputs": [],
   "source": [
    "TRAIN_IMG_PATH = \"./dataset/bootcamp/train/images\"\n",
    "TRAIN_MASK_PATH = \"./dataset/bootcamp/train/annotations\"\n",
    "VAL_IMG_PATH = \"./dataset/bootcamp/test/images\"\n",
    "VAL_MASK_PATH = \"./dataset/bootcamp/test/annotations\"\n",
    "\n",
    "EDA_DS_PATH = \"./dataset/bootcamp/train\"\n",
    "EDA_TRAIN_LABELS = os.path.join(EDA_DS_PATH, \"train_labels.csv\")\n",
    "EDA_TRAIN_FILES = os.path.join(EDA_DS_PATH, \"train_files.csv\")\n",
    "EDA_VAL_FILES = os.path.join(EDA_DS_PATH, \"val_files.csv\")\n",
    "\n",
    "MODEL_PATH = \"./models/UNet\"\n",
    "METRIC_PATH = \"./metrics\"\n",
    "\n",
    "os.makedirs(MODEL_PATH, exist_ok=True)  # Ensure directory exist"
   ]
  },
  {
   "cell_type": "code",
   "execution_count": 4,
   "metadata": {},
   "outputs": [],
   "source": [
    "files_df = pd.read_csv(EDA_TRAIN_FILES)\n",
    "labels_df = pd.read_csv(EDA_TRAIN_LABELS)\n",
    "val_files_df = pd.read_csv(EDA_VAL_FILES)"
   ]
  },
  {
   "cell_type": "code",
   "execution_count": 5,
   "metadata": {},
   "outputs": [
    {
     "name": "stdout",
     "output_type": "stream",
     "text": [
      "            filename\n",
      "0  0001TP_006690.png\n",
      "1  0001TP_006720.png\n",
      "2  0001TP_006750.png\n",
      "3  0001TP_006780.png\n",
      "4  0001TP_006810.png\n",
      "\n",
      "   class     label\n",
      "0      0       sky\n",
      "1      1  building\n",
      "2      2      pole\n",
      "3      3      road\n",
      "4      4  sidewalk\n",
      "\n",
      "['0001TP_006690.png' '0001TP_006720.png' '0001TP_006750.png'\n",
      " '0001TP_006780.png' '0001TP_006810.png']\n",
      "\n",
      "['0016E5_07959.png' '0016E5_07961.png' '0016E5_07963.png'\n",
      " '0016E5_07965.png' '0016E5_07967.png']\n"
     ]
    }
   ],
   "source": [
    "print(files_df.head())\n",
    "print()\n",
    "print(labels_df.head())\n",
    "print()\n",
    "train_files = files_df['filename'].to_numpy()\n",
    "print(train_files[:5])\n",
    "print()\n",
    "val_files = val_files_df['filename'].to_numpy()\n",
    "print(val_files[:5])"
   ]
  },
  {
   "cell_type": "markdown",
   "metadata": {
    "id": "mxtL9QB1qfyF"
   },
   "source": [
    "## Datasets Loader"
   ]
  },
  {
   "cell_type": "code",
   "execution_count": 6,
   "metadata": {},
   "outputs": [],
   "source": [
    "# refer to dataset.py\n",
    "from dataset import CityScapes"
   ]
  },
  {
   "cell_type": "code",
   "execution_count": 7,
   "metadata": {},
   "outputs": [
    {
     "name": "stdout",
     "output_type": "stream",
     "text": [
      "tensor([[[-1.8439, -1.9124, -1.8782,  ..., -1.8268, -1.8610, -1.8268],\n",
      "         [-1.8782, -1.8782, -1.8953,  ..., -1.8268, -1.8610, -1.8268],\n",
      "         [-1.8953, -1.8610, -1.8610,  ..., -1.9124, -1.8782, -1.8439],\n",
      "         ...,\n",
      "         [-1.8610, -1.8610, -1.8439,  ..., -1.7240, -1.6727, -1.6727],\n",
      "         [-1.8439, -1.8439, -1.8439,  ..., -1.6898, -1.6213, -1.7240],\n",
      "         [-1.8439, -1.8610, -1.8439,  ..., -1.7240, -1.7240, -1.7412]],\n",
      "\n",
      "        [[-1.7556, -1.8256, -1.7906,  ..., -1.6681, -1.7031, -1.7206],\n",
      "         [-1.7906, -1.7906, -1.8081,  ..., -1.6681, -1.7031, -1.7206],\n",
      "         [-1.8081, -1.7731, -1.7731,  ..., -1.7556, -1.7206, -1.7381],\n",
      "         ...,\n",
      "         [-1.7556, -1.7556, -1.7381,  ..., -1.4580, -1.4055, -1.3880],\n",
      "         [-1.7381, -1.7381, -1.7381,  ..., -1.4580, -1.3704, -1.4405],\n",
      "         [-1.7556, -1.7556, -1.7381,  ..., -1.4580, -1.4405, -1.4580]],\n",
      "\n",
      "        [[-1.5256, -1.5953, -1.5604,  ..., -1.4210, -1.4559, -1.4384],\n",
      "         [-1.5604, -1.5604, -1.5779,  ..., -1.4210, -1.4559, -1.4559],\n",
      "         [-1.5779, -1.5430, -1.5430,  ..., -1.5081, -1.4733, -1.4733],\n",
      "         ...,\n",
      "         [-1.4907, -1.4907, -1.4733,  ..., -1.1247, -1.0724, -1.1421],\n",
      "         [-1.4733, -1.4733, -1.4733,  ..., -1.1421, -1.0898, -1.1421],\n",
      "         [-1.4733, -1.4907, -1.4733,  ..., -1.1421, -1.1421, -1.1421]]])\n",
      "\n",
      "tensor([[ 1,  1,  1,  ...,  1,  1,  1],\n",
      "        [ 1,  1,  1,  ...,  1,  1,  1],\n",
      "        [ 1,  1,  1,  ...,  1,  1,  1],\n",
      "        ...,\n",
      "        [ 4,  4,  4,  ..., 11, 11, 11],\n",
      "        [ 4,  4,  4,  ..., 11, 11, 11],\n",
      "        [ 4,  4,  4,  ..., 11, 11, 11]], dtype=torch.uint8)\n",
      "\n",
      "torch.Size([3, 256, 256])\n",
      "\n",
      "torch.Size([256, 256])\n"
     ]
    }
   ],
   "source": [
    "train_datasets = CityScapes(TRAIN_IMG_PATH, TRAIN_MASK_PATH, train_files)\n",
    "image, mask = train_datasets.__getitem__(0)\n",
    "print(image)\n",
    "print()\n",
    "print(mask)\n",
    "print()\n",
    "print(image.shape)\n",
    "print()\n",
    "print(mask.shape)\n",
    "\n",
    "val_datasets = CityScapes(VAL_IMG_PATH, VAL_MASK_PATH, val_files)"
   ]
  },
  {
   "cell_type": "code",
   "execution_count": 8,
   "metadata": {},
   "outputs": [],
   "source": [
    "from torch.utils.data import DataLoader\n",
    "\n",
    "train_dataloader = DataLoader(train_datasets, batch_size=32, shuffle=True, num_workers=0)\n",
    "val_dataloader = DataLoader(val_datasets, batch_size=32, shuffle=True, num_workers=0)"
   ]
  },
  {
   "cell_type": "markdown",
   "metadata": {
    "id": "rQhZ2-u3q1-p"
   },
   "source": [
    "## Model Architecture"
   ]
  },
  {
   "cell_type": "code",
   "execution_count": 9,
   "metadata": {
    "id": "-2xJJ2qpq58l"
   },
   "outputs": [],
   "source": [
    "from architecture import UNET"
   ]
  },
  {
   "cell_type": "markdown",
   "metadata": {
    "id": "YUYBnO-iq0SW"
   },
   "source": [
    "## Engine function"
   ]
  },
  {
   "cell_type": "markdown",
   "metadata": {
    "id": "iFRJ2NbgsoLl"
   },
   "source": [
    "- Dice coefficient metrics"
   ]
  },
  {
   "cell_type": "code",
   "execution_count": 10,
   "metadata": {
    "id": "n5zHKY1UsnuK"
   },
   "outputs": [
    {
     "name": "stderr",
     "output_type": "stream",
     "text": [
      "Z:\\BEKA\\2025\\AI\\Bootcamp\\Source\\Advanced CV\\Project 3\\engine.py:138: FutureWarning: `torch.cuda.amp.GradScaler(args...)` is deprecated. Please use `torch.amp.GradScaler('cuda', args...)` instead.\n",
      "  def train_engine(dataloader, model, loss_fn, optim, scaler=torch.cuda.amp.GradScaler()):\n"
     ]
    }
   ],
   "source": [
    "from engine import DiceLoss\n",
    "from engine import DiceCrossEntropyLoss\n",
    "from engine import train"
   ]
  },
  {
   "cell_type": "markdown",
   "metadata": {
    "id": "Troo9nfjssci"
   },
   "source": [
    "## Training UNET with DiceLoss"
   ]
  },
  {
   "cell_type": "code",
   "execution_count": 11,
   "metadata": {},
   "outputs": [
    {
     "name": "stdout",
     "output_type": "stream",
     "text": [
      "12\n"
     ]
    }
   ],
   "source": [
    "model = UNET(in_channels=3, out_channels=len(labels_df))\n",
    "model.cuda()\n",
    "loss_fn = DiceLoss()\n",
    "optim = torch.optim.Adam(model.parameters(), lr = 1e-3)\n",
    "print(model.out_channels)"
   ]
  },
  {
   "cell_type": "code",
   "execution_count": 12,
   "metadata": {},
   "outputs": [
    {
     "name": "stderr",
     "output_type": "stream",
     "text": [
      "100%|██████████████████████████████████████████████████████████████████████| 12/12 [02:10<00:00, 10.89s/it, loss=0.868]\n",
      "Z:\\BEKA\\2025\\AI\\Bootcamp\\Source\\Advanced CV\\Project 3\\engine.py:184: FutureWarning: `torch.cuda.amp.autocast(args...)` is deprecated. Please use `torch.amp.autocast('cuda', args...)` instead.\n",
      "  with torch.cuda.amp.autocast():\n",
      "100%|█████████████████████████████████████████████████████████████████████████| 4/4 [00:09<00:00,  2.27s/it, loss=0.93]\n"
     ]
    },
    {
     "name": "stdout",
     "output_type": "stream",
     "text": [
      "Epoch 0/99\n",
      "----------\n",
      "Train Loss: 0.8928, Val Loss: 0.9306\n",
      "✅ Best model saved! (Val Loss: 0.9305686801671982)\n",
      "\n"
     ]
    },
    {
     "name": "stderr",
     "output_type": "stream",
     "text": [
      "100%|███████████████████████████████████████████████████████████████████████| 12/12 [02:12<00:00, 11.08s/it, loss=0.83]\n",
      "100%|████████████████████████████████████████████████████████████████████████| 4/4 [00:09<00:00,  2.42s/it, loss=0.844]\n"
     ]
    },
    {
     "name": "stdout",
     "output_type": "stream",
     "text": [
      "Epoch 1/99\n",
      "----------\n",
      "Train Loss: 0.8496, Val Loss: 0.8440\n",
      "✅ Best model saved! (Val Loss: 0.8440087586641312)\n",
      "\n"
     ]
    },
    {
     "name": "stderr",
     "output_type": "stream",
     "text": [
      "100%|██████████████████████████████████████████████████████████████████████| 12/12 [02:20<00:00, 11.74s/it, loss=0.816]\n",
      "100%|█████████████████████████████████████████████████████████████████████████| 4/4 [00:08<00:00,  2.16s/it, loss=0.82]\n"
     ]
    },
    {
     "name": "stdout",
     "output_type": "stream",
     "text": [
      "Epoch 2/99\n",
      "----------\n",
      "Train Loss: 0.8215, Val Loss: 0.8207\n",
      "✅ Best model saved! (Val Loss: 0.8207244575023651)\n",
      "\n"
     ]
    },
    {
     "name": "stderr",
     "output_type": "stream",
     "text": [
      "100%|██████████████████████████████████████████████████████████████████████| 12/12 [02:17<00:00, 11.42s/it, loss=0.787]\n",
      "100%|████████████████████████████████████████████████████████████████████████| 4/4 [00:11<00:00,  2.88s/it, loss=0.789]\n"
     ]
    },
    {
     "name": "stdout",
     "output_type": "stream",
     "text": [
      "Epoch 3/99\n",
      "----------\n",
      "Train Loss: 0.7948, Val Loss: 0.7917\n",
      "✅ Best model saved! (Val Loss: 0.7916975617408752)\n",
      "\n"
     ]
    },
    {
     "name": "stderr",
     "output_type": "stream",
     "text": [
      "100%|██████████████████████████████████████████████████████████████████████| 12/12 [02:15<00:00, 11.26s/it, loss=0.736]\n",
      "100%|████████████████████████████████████████████████████████████████████████| 4/4 [00:09<00:00,  2.31s/it, loss=0.786]\n"
     ]
    },
    {
     "name": "stdout",
     "output_type": "stream",
     "text": [
      "Epoch 4/99\n",
      "----------\n",
      "Train Loss: 0.7645, Val Loss: 0.7863\n",
      "✅ Best model saved! (Val Loss: 0.786259338259697)\n",
      "\n"
     ]
    },
    {
     "name": "stderr",
     "output_type": "stream",
     "text": [
      "100%|██████████████████████████████████████████████████████████████████████| 12/12 [02:33<00:00, 12.81s/it, loss=0.703]\n",
      "100%|████████████████████████████████████████████████████████████████████████| 4/4 [00:10<00:00,  2.65s/it, loss=0.774]\n"
     ]
    },
    {
     "name": "stdout",
     "output_type": "stream",
     "text": [
      "Epoch 5/99\n",
      "----------\n",
      "Train Loss: 0.7107, Val Loss: 0.7732\n",
      "✅ Best model saved! (Val Loss: 0.7732097804546356)\n",
      "\n"
     ]
    },
    {
     "name": "stderr",
     "output_type": "stream",
     "text": [
      "100%|██████████████████████████████████████████████████████████████████████| 12/12 [02:30<00:00, 12.57s/it, loss=0.731]\n",
      "100%|████████████████████████████████████████████████████████████████████████| 4/4 [00:08<00:00,  2.23s/it, loss=0.768]\n"
     ]
    },
    {
     "name": "stdout",
     "output_type": "stream",
     "text": [
      "Epoch 6/99\n",
      "----------\n",
      "Train Loss: 0.6916, Val Loss: 0.7711\n",
      "✅ Best model saved! (Val Loss: 0.7711005359888077)\n",
      "\n"
     ]
    },
    {
     "name": "stderr",
     "output_type": "stream",
     "text": [
      "100%|███████████████████████████████████████████████████████████████████████| 12/12 [02:19<00:00, 11.60s/it, loss=0.65]\n",
      "100%|████████████████████████████████████████████████████████████████████████| 4/4 [00:09<00:00,  2.49s/it, loss=0.742]\n"
     ]
    },
    {
     "name": "stdout",
     "output_type": "stream",
     "text": [
      "Epoch 7/99\n",
      "----------\n",
      "Train Loss: 0.6808, Val Loss: 0.7486\n",
      "✅ Best model saved! (Val Loss: 0.7486030161380768)\n",
      "\n"
     ]
    },
    {
     "name": "stderr",
     "output_type": "stream",
     "text": [
      "100%|██████████████████████████████████████████████████████████████████████| 12/12 [02:19<00:00, 11.60s/it, loss=0.641]\n",
      "100%|████████████████████████████████████████████████████████████████████████| 4/4 [00:09<00:00,  2.46s/it, loss=0.752]\n"
     ]
    },
    {
     "name": "stdout",
     "output_type": "stream",
     "text": [
      "Epoch 8/99\n",
      "----------\n",
      "Train Loss: 0.6734, Val Loss: 0.7504\n",
      "\n"
     ]
    },
    {
     "name": "stderr",
     "output_type": "stream",
     "text": [
      "100%|██████████████████████████████████████████████████████████████████████| 12/12 [02:16<00:00, 11.34s/it, loss=0.656]\n",
      "100%|█████████████████████████████████████████████████████████████████████████| 4/4 [00:07<00:00,  1.90s/it, loss=0.76]\n"
     ]
    },
    {
     "name": "stdout",
     "output_type": "stream",
     "text": [
      "Epoch 9/99\n",
      "----------\n",
      "Train Loss: 0.6702, Val Loss: 0.7564\n",
      "\n"
     ]
    },
    {
     "name": "stderr",
     "output_type": "stream",
     "text": [
      "100%|██████████████████████████████████████████████████████████████████████| 12/12 [02:16<00:00, 11.40s/it, loss=0.654]\n",
      "100%|████████████████████████████████████████████████████████████████████████| 4/4 [00:09<00:00,  2.31s/it, loss=0.744]\n"
     ]
    },
    {
     "name": "stdout",
     "output_type": "stream",
     "text": [
      "Epoch 10/99\n",
      "----------\n",
      "Train Loss: 0.6705, Val Loss: 0.7462\n",
      "✅ Best model saved! (Val Loss: 0.7461669594049454)\n",
      "\n"
     ]
    },
    {
     "name": "stderr",
     "output_type": "stream",
     "text": [
      "100%|██████████████████████████████████████████████████████████████████████| 12/12 [02:16<00:00, 11.36s/it, loss=0.677]\n",
      "100%|████████████████████████████████████████████████████████████████████████| 4/4 [00:09<00:00,  2.25s/it, loss=0.737]\n"
     ]
    },
    {
     "name": "stdout",
     "output_type": "stream",
     "text": [
      "Epoch 11/99\n",
      "----------\n",
      "Train Loss: 0.6655, Val Loss: 0.7394\n",
      "✅ Best model saved! (Val Loss: 0.7394054383039474)\n",
      "\n"
     ]
    },
    {
     "name": "stderr",
     "output_type": "stream",
     "text": [
      "100%|██████████████████████████████████████████████████████████████████████| 12/12 [02:11<00:00, 10.95s/it, loss=0.668]\n",
      "100%|████████████████████████████████████████████████████████████████████████| 4/4 [00:08<00:00,  2.04s/it, loss=0.764]\n"
     ]
    },
    {
     "name": "stdout",
     "output_type": "stream",
     "text": [
      "Epoch 12/99\n",
      "----------\n",
      "Train Loss: 0.6630, Val Loss: 0.7632\n",
      "\n"
     ]
    },
    {
     "name": "stderr",
     "output_type": "stream",
     "text": [
      "100%|██████████████████████████████████████████████████████████████████████| 12/12 [02:12<00:00, 11.02s/it, loss=0.671]\n",
      "100%|████████████████████████████████████████████████████████████████████████| 4/4 [00:08<00:00,  2.21s/it, loss=0.782]\n"
     ]
    },
    {
     "name": "stdout",
     "output_type": "stream",
     "text": [
      "Epoch 13/99\n",
      "----------\n",
      "Train Loss: 0.6623, Val Loss: 0.7862\n",
      "\n"
     ]
    },
    {
     "name": "stderr",
     "output_type": "stream",
     "text": [
      "100%|██████████████████████████████████████████████████████████████████████| 12/12 [02:14<00:00, 11.24s/it, loss=0.644]\n",
      "100%|████████████████████████████████████████████████████████████████████████| 4/4 [00:09<00:00,  2.40s/it, loss=0.759]\n"
     ]
    },
    {
     "name": "stdout",
     "output_type": "stream",
     "text": [
      "Epoch 14/99\n",
      "----------\n",
      "Train Loss: 0.6600, Val Loss: 0.7534\n",
      "\n"
     ]
    },
    {
     "name": "stderr",
     "output_type": "stream",
     "text": [
      "100%|██████████████████████████████████████████████████████████████████████| 12/12 [02:13<00:00, 11.10s/it, loss=0.648]\n",
      "100%|████████████████████████████████████████████████████████████████████████| 4/4 [00:09<00:00,  2.44s/it, loss=0.737]\n"
     ]
    },
    {
     "name": "stdout",
     "output_type": "stream",
     "text": [
      "Epoch 15/99\n",
      "----------\n",
      "Train Loss: 0.6557, Val Loss: 0.7399\n",
      "\n"
     ]
    },
    {
     "name": "stderr",
     "output_type": "stream",
     "text": [
      "100%|██████████████████████████████████████████████████████████████████████| 12/12 [02:18<00:00, 11.50s/it, loss=0.681]\n",
      "100%|████████████████████████████████████████████████████████████████████████| 4/4 [00:09<00:00,  2.26s/it, loss=0.749]\n"
     ]
    },
    {
     "name": "stdout",
     "output_type": "stream",
     "text": [
      "Epoch 16/99\n",
      "----------\n",
      "Train Loss: 0.6564, Val Loss: 0.7523\n",
      "\n"
     ]
    },
    {
     "name": "stderr",
     "output_type": "stream",
     "text": [
      "100%|██████████████████████████████████████████████████████████████████████| 12/12 [02:25<00:00, 12.15s/it, loss=0.633]\n",
      "100%|████████████████████████████████████████████████████████████████████████| 4/4 [00:09<00:00,  2.48s/it, loss=0.734]\n"
     ]
    },
    {
     "name": "stdout",
     "output_type": "stream",
     "text": [
      "Epoch 17/99\n",
      "----------\n",
      "Train Loss: 0.6487, Val Loss: 0.7374\n",
      "✅ Best model saved! (Val Loss: 0.737358495593071)\n",
      "\n"
     ]
    },
    {
     "name": "stderr",
     "output_type": "stream",
     "text": [
      "100%|███████████████████████████████████████████████████████████████████████| 12/12 [02:24<00:00, 12.06s/it, loss=0.66]\n",
      "100%|████████████████████████████████████████████████████████████████████████| 4/4 [00:09<00:00,  2.37s/it, loss=0.749]\n"
     ]
    },
    {
     "name": "stdout",
     "output_type": "stream",
     "text": [
      "Epoch 18/99\n",
      "----------\n",
      "Train Loss: 0.6496, Val Loss: 0.7450\n",
      "\n"
     ]
    },
    {
     "name": "stderr",
     "output_type": "stream",
     "text": [
      "100%|██████████████████████████████████████████████████████████████████████| 12/12 [02:16<00:00, 11.41s/it, loss=0.632]\n",
      "100%|████████████████████████████████████████████████████████████████████████| 4/4 [00:08<00:00,  2.01s/it, loss=0.743]\n"
     ]
    },
    {
     "name": "stdout",
     "output_type": "stream",
     "text": [
      "Epoch 19/99\n",
      "----------\n",
      "Train Loss: 0.6534, Val Loss: 0.7478\n",
      "\n"
     ]
    },
    {
     "name": "stderr",
     "output_type": "stream",
     "text": [
      "100%|██████████████████████████████████████████████████████████████████████| 12/12 [02:18<00:00, 11.54s/it, loss=0.634]\n",
      "100%|████████████████████████████████████████████████████████████████████████| 4/4 [00:09<00:00,  2.44s/it, loss=0.723]\n"
     ]
    },
    {
     "name": "stdout",
     "output_type": "stream",
     "text": [
      "Epoch 20/99\n",
      "----------\n",
      "Train Loss: 0.6460, Val Loss: 0.7293\n",
      "✅ Best model saved! (Val Loss: 0.729325920343399)\n",
      "\n"
     ]
    },
    {
     "name": "stderr",
     "output_type": "stream",
     "text": [
      "100%|██████████████████████████████████████████████████████████████████████| 12/12 [02:20<00:00, 11.73s/it, loss=0.611]\n",
      "100%|████████████████████████████████████████████████████████████████████████| 4/4 [00:08<00:00,  2.22s/it, loss=0.721]\n"
     ]
    },
    {
     "name": "stdout",
     "output_type": "stream",
     "text": [
      "Epoch 21/99\n",
      "----------\n",
      "Train Loss: 0.6358, Val Loss: 0.7275\n",
      "✅ Best model saved! (Val Loss: 0.72745680809021)\n",
      "\n"
     ]
    },
    {
     "name": "stderr",
     "output_type": "stream",
     "text": [
      "100%|██████████████████████████████████████████████████████████████████████| 12/12 [02:20<00:00, 11.72s/it, loss=0.648]\n",
      "100%|████████████████████████████████████████████████████████████████████████| 4/4 [00:10<00:00,  2.66s/it, loss=0.711]\n"
     ]
    },
    {
     "name": "stdout",
     "output_type": "stream",
     "text": [
      "Epoch 22/99\n",
      "----------\n",
      "Train Loss: 0.6331, Val Loss: 0.7175\n",
      "✅ Best model saved! (Val Loss: 0.7175360172986984)\n",
      "\n"
     ]
    },
    {
     "name": "stderr",
     "output_type": "stream",
     "text": [
      "100%|██████████████████████████████████████████████████████████████████████| 12/12 [02:27<00:00, 12.31s/it, loss=0.657]\n",
      "100%|█████████████████████████████████████████████████████████████████████████| 4/4 [00:08<00:00,  2.01s/it, loss=0.77]\n"
     ]
    },
    {
     "name": "stdout",
     "output_type": "stream",
     "text": [
      "Epoch 23/99\n",
      "----------\n",
      "Train Loss: 0.6416, Val Loss: 0.7655\n",
      "\n"
     ]
    },
    {
     "name": "stderr",
     "output_type": "stream",
     "text": [
      "100%|██████████████████████████████████████████████████████████████████████| 12/12 [02:27<00:00, 12.29s/it, loss=0.657]\n",
      "100%|████████████████████████████████████████████████████████████████████████| 4/4 [00:12<00:00,  3.02s/it, loss=0.752]\n"
     ]
    },
    {
     "name": "stdout",
     "output_type": "stream",
     "text": [
      "Epoch 24/99\n",
      "----------\n",
      "Train Loss: 0.6488, Val Loss: 0.7527\n",
      "\n"
     ]
    },
    {
     "name": "stderr",
     "output_type": "stream",
     "text": [
      "100%|██████████████████████████████████████████████████████████████████████| 12/12 [02:28<00:00, 12.41s/it, loss=0.653]\n",
      "100%|████████████████████████████████████████████████████████████████████████| 4/4 [00:08<00:00,  2.22s/it, loss=0.731]\n"
     ]
    },
    {
     "name": "stdout",
     "output_type": "stream",
     "text": [
      "Epoch 25/99\n",
      "----------\n",
      "Train Loss: 0.6445, Val Loss: 0.7360\n",
      "\n"
     ]
    },
    {
     "name": "stderr",
     "output_type": "stream",
     "text": [
      "100%|██████████████████████████████████████████████████████████████████████| 12/12 [02:27<00:00, 12.31s/it, loss=0.651]\n",
      "100%|████████████████████████████████████████████████████████████████████████| 4/4 [00:09<00:00,  2.30s/it, loss=0.758]\n"
     ]
    },
    {
     "name": "stdout",
     "output_type": "stream",
     "text": [
      "Epoch 26/99\n",
      "----------\n",
      "Train Loss: 0.6360, Val Loss: 0.7563\n",
      "\n"
     ]
    },
    {
     "name": "stderr",
     "output_type": "stream",
     "text": [
      "100%|██████████████████████████████████████████████████████████████████████| 12/12 [02:20<00:00, 11.68s/it, loss=0.635]\n",
      "100%|████████████████████████████████████████████████████████████████████████| 4/4 [00:10<00:00,  2.54s/it, loss=0.739]\n"
     ]
    },
    {
     "name": "stdout",
     "output_type": "stream",
     "text": [
      "Epoch 27/99\n",
      "----------\n",
      "Train Loss: 0.6382, Val Loss: 0.7338\n",
      "\n"
     ]
    },
    {
     "name": "stderr",
     "output_type": "stream",
     "text": [
      "100%|███████████████████████████████████████████████████████████████████████| 12/12 [02:29<00:00, 12.46s/it, loss=0.62]\n",
      "100%|████████████████████████████████████████████████████████████████████████| 4/4 [00:09<00:00,  2.50s/it, loss=0.728]\n"
     ]
    },
    {
     "name": "stdout",
     "output_type": "stream",
     "text": [
      "Epoch 28/99\n",
      "----------\n",
      "Train Loss: 0.6332, Val Loss: 0.7265\n",
      "\n"
     ]
    },
    {
     "name": "stderr",
     "output_type": "stream",
     "text": [
      "100%|██████████████████████████████████████████████████████████████████████| 12/12 [02:27<00:00, 12.25s/it, loss=0.646]\n",
      "100%|████████████████████████████████████████████████████████████████████████| 4/4 [00:08<00:00,  2.11s/it, loss=0.713]\n"
     ]
    },
    {
     "name": "stdout",
     "output_type": "stream",
     "text": [
      "Epoch 29/99\n",
      "----------\n",
      "Train Loss: 0.6319, Val Loss: 0.7187\n",
      "\n"
     ]
    },
    {
     "name": "stderr",
     "output_type": "stream",
     "text": [
      "100%|██████████████████████████████████████████████████████████████████████| 12/12 [02:21<00:00, 11.75s/it, loss=0.619]\n",
      "100%|████████████████████████████████████████████████████████████████████████| 4/4 [00:09<00:00,  2.45s/it, loss=0.724]\n"
     ]
    },
    {
     "name": "stdout",
     "output_type": "stream",
     "text": [
      "Epoch 30/99\n",
      "----------\n",
      "Train Loss: 0.6267, Val Loss: 0.7293\n",
      "\n"
     ]
    },
    {
     "name": "stderr",
     "output_type": "stream",
     "text": [
      "100%|██████████████████████████████████████████████████████████████████████| 12/12 [02:18<00:00, 11.54s/it, loss=0.596]\n",
      "100%|████████████████████████████████████████████████████████████████████████| 4/4 [00:08<00:00,  2.15s/it, loss=0.731]\n"
     ]
    },
    {
     "name": "stdout",
     "output_type": "stream",
     "text": [
      "Epoch 31/99\n",
      "----------\n",
      "Train Loss: 0.6285, Val Loss: 0.7301\n",
      "\n"
     ]
    },
    {
     "name": "stderr",
     "output_type": "stream",
     "text": [
      "100%|███████████████████████████████████████████████████████████████████████| 12/12 [02:26<00:00, 12.22s/it, loss=0.61]\n",
      "100%|████████████████████████████████████████████████████████████████████████| 4/4 [00:10<00:00,  2.60s/it, loss=0.747]\n"
     ]
    },
    {
     "name": "stdout",
     "output_type": "stream",
     "text": [
      "Epoch 32/99\n",
      "----------\n",
      "Train Loss: 0.6266, Val Loss: 0.7376\n",
      "\n"
     ]
    },
    {
     "name": "stderr",
     "output_type": "stream",
     "text": [
      "100%|██████████████████████████████████████████████████████████████████████| 12/12 [02:23<00:00, 11.97s/it, loss=0.596]\n",
      "100%|████████████████████████████████████████████████████████████████████████| 4/4 [00:08<00:00,  2.10s/it, loss=0.728]\n"
     ]
    },
    {
     "name": "stdout",
     "output_type": "stream",
     "text": [
      "Epoch 33/99\n",
      "----------\n",
      "Train Loss: 0.6233, Val Loss: 0.7218\n",
      "\n"
     ]
    },
    {
     "name": "stderr",
     "output_type": "stream",
     "text": [
      "100%|██████████████████████████████████████████████████████████████████████| 12/12 [02:29<00:00, 12.42s/it, loss=0.625]\n",
      "100%|████████████████████████████████████████████████████████████████████████| 4/4 [00:09<00:00,  2.41s/it, loss=0.713]\n"
     ]
    },
    {
     "name": "stdout",
     "output_type": "stream",
     "text": [
      "Epoch 34/99\n",
      "----------\n",
      "Train Loss: 0.6196, Val Loss: 0.7159\n",
      "✅ Best model saved! (Val Loss: 0.7158619910478592)\n",
      "\n"
     ]
    },
    {
     "name": "stderr",
     "output_type": "stream",
     "text": [
      "100%|██████████████████████████████████████████████████████████████████████| 12/12 [02:29<00:00, 12.45s/it, loss=0.638]\n",
      "100%|█████████████████████████████████████████████████████████████████████████| 4/4 [00:11<00:00,  2.92s/it, loss=0.72]\n"
     ]
    },
    {
     "name": "stdout",
     "output_type": "stream",
     "text": [
      "Epoch 35/99\n",
      "----------\n",
      "Train Loss: 0.6181, Val Loss: 0.7137\n",
      "✅ Best model saved! (Val Loss: 0.7137182950973511)\n",
      "\n"
     ]
    },
    {
     "name": "stderr",
     "output_type": "stream",
     "text": [
      "100%|███████████████████████████████████████████████████████████████████████| 12/12 [02:24<00:00, 12.01s/it, loss=0.64]\n",
      "100%|████████████████████████████████████████████████████████████████████████| 4/4 [00:11<00:00,  2.86s/it, loss=0.719]\n"
     ]
    },
    {
     "name": "stdout",
     "output_type": "stream",
     "text": [
      "Epoch 36/99\n",
      "----------\n",
      "Train Loss: 0.6150, Val Loss: 0.7150\n",
      "\n"
     ]
    },
    {
     "name": "stderr",
     "output_type": "stream",
     "text": [
      "100%|██████████████████████████████████████████████████████████████████████| 12/12 [02:41<00:00, 13.42s/it, loss=0.625]\n",
      "100%|████████████████████████████████████████████████████████████████████████| 4/4 [00:09<00:00,  2.41s/it, loss=0.716]\n"
     ]
    },
    {
     "name": "stdout",
     "output_type": "stream",
     "text": [
      "Epoch 37/99\n",
      "----------\n",
      "Train Loss: 0.6141, Val Loss: 0.7168\n",
      "\n"
     ]
    },
    {
     "name": "stderr",
     "output_type": "stream",
     "text": [
      "100%|██████████████████████████████████████████████████████████████████████| 12/12 [02:23<00:00, 11.95s/it, loss=0.596]\n",
      "100%|████████████████████████████████████████████████████████████████████████| 4/4 [00:09<00:00,  2.27s/it, loss=0.719]\n"
     ]
    },
    {
     "name": "stdout",
     "output_type": "stream",
     "text": [
      "Epoch 38/99\n",
      "----------\n",
      "Train Loss: 0.6120, Val Loss: 0.7225\n",
      "\n"
     ]
    },
    {
     "name": "stderr",
     "output_type": "stream",
     "text": [
      "100%|██████████████████████████████████████████████████████████████████████| 12/12 [02:26<00:00, 12.21s/it, loss=0.604]\n",
      "100%|████████████████████████████████████████████████████████████████████████| 4/4 [00:08<00:00,  2.05s/it, loss=0.714]\n"
     ]
    },
    {
     "name": "stdout",
     "output_type": "stream",
     "text": [
      "Epoch 39/99\n",
      "----------\n",
      "Train Loss: 0.6137, Val Loss: 0.7166\n",
      "\n"
     ]
    },
    {
     "name": "stderr",
     "output_type": "stream",
     "text": [
      "100%|██████████████████████████████████████████████████████████████████████| 12/12 [02:21<00:00, 11.80s/it, loss=0.624]\n",
      "100%|████████████████████████████████████████████████████████████████████████| 4/4 [00:10<00:00,  2.65s/it, loss=0.712]\n"
     ]
    },
    {
     "name": "stdout",
     "output_type": "stream",
     "text": [
      "Epoch 40/99\n",
      "----------\n",
      "Train Loss: 0.6136, Val Loss: 0.7146\n",
      "\n"
     ]
    },
    {
     "name": "stderr",
     "output_type": "stream",
     "text": [
      "100%|██████████████████████████████████████████████████████████████████████| 12/12 [02:23<00:00, 11.93s/it, loss=0.617]\n",
      "100%|████████████████████████████████████████████████████████████████████████| 4/4 [00:09<00:00,  2.44s/it, loss=0.716]\n"
     ]
    },
    {
     "name": "stdout",
     "output_type": "stream",
     "text": [
      "Epoch 41/99\n",
      "----------\n",
      "Train Loss: 0.6106, Val Loss: 0.7138\n",
      "\n"
     ]
    },
    {
     "name": "stderr",
     "output_type": "stream",
     "text": [
      "100%|██████████████████████████████████████████████████████████████████████| 12/12 [02:26<00:00, 12.22s/it, loss=0.627]\n",
      "100%|████████████████████████████████████████████████████████████████████████| 4/4 [00:08<00:00,  2.23s/it, loss=0.712]\n"
     ]
    },
    {
     "name": "stdout",
     "output_type": "stream",
     "text": [
      "Epoch 42/99\n",
      "----------\n",
      "Train Loss: 0.6088, Val Loss: 0.7094\n",
      "✅ Best model saved! (Val Loss: 0.7093995809555054)\n",
      "\n"
     ]
    },
    {
     "name": "stderr",
     "output_type": "stream",
     "text": [
      "100%|██████████████████████████████████████████████████████████████████████| 12/12 [02:26<00:00, 12.23s/it, loss=0.625]\n",
      "100%|████████████████████████████████████████████████████████████████████████| 4/4 [00:09<00:00,  2.33s/it, loss=0.833]\n"
     ]
    },
    {
     "name": "stdout",
     "output_type": "stream",
     "text": [
      "Epoch 43/99\n",
      "----------\n",
      "Train Loss: 0.6158, Val Loss: 0.8357\n",
      "\n"
     ]
    },
    {
     "name": "stderr",
     "output_type": "stream",
     "text": [
      "100%|██████████████████████████████████████████████████████████████████████| 12/12 [02:18<00:00, 11.54s/it, loss=0.643]\n",
      "100%|████████████████████████████████████████████████████████████████████████| 4/4 [00:07<00:00,  1.95s/it, loss=0.814]\n"
     ]
    },
    {
     "name": "stdout",
     "output_type": "stream",
     "text": [
      "Epoch 44/99\n",
      "----------\n",
      "Train Loss: 0.6382, Val Loss: 0.8113\n",
      "\n"
     ]
    },
    {
     "name": "stderr",
     "output_type": "stream",
     "text": [
      "100%|██████████████████████████████████████████████████████████████████████| 12/12 [02:25<00:00, 12.14s/it, loss=0.648]\n",
      "100%|████████████████████████████████████████████████████████████████████████| 4/4 [00:11<00:00,  2.79s/it, loss=0.739]\n"
     ]
    },
    {
     "name": "stdout",
     "output_type": "stream",
     "text": [
      "Epoch 45/99\n",
      "----------\n",
      "Train Loss: 0.6278, Val Loss: 0.7400\n",
      "\n"
     ]
    },
    {
     "name": "stderr",
     "output_type": "stream",
     "text": [
      "100%|██████████████████████████████████████████████████████████████████████| 12/12 [02:33<00:00, 12.77s/it, loss=0.609]\n",
      "100%|████████████████████████████████████████████████████████████████████████| 4/4 [00:11<00:00,  2.95s/it, loss=0.719]\n"
     ]
    },
    {
     "name": "stdout",
     "output_type": "stream",
     "text": [
      "Epoch 46/99\n",
      "----------\n",
      "Train Loss: 0.6142, Val Loss: 0.7174\n",
      "\n"
     ]
    },
    {
     "name": "stderr",
     "output_type": "stream",
     "text": [
      "100%|██████████████████████████████████████████████████████████████████████| 12/12 [02:29<00:00, 12.43s/it, loss=0.618]\n",
      "100%|████████████████████████████████████████████████████████████████████████| 4/4 [00:08<00:00,  2.10s/it, loss=0.722]\n"
     ]
    },
    {
     "name": "stdout",
     "output_type": "stream",
     "text": [
      "Epoch 47/99\n",
      "----------\n",
      "Train Loss: 0.6101, Val Loss: 0.7212\n",
      "\n"
     ]
    },
    {
     "name": "stderr",
     "output_type": "stream",
     "text": [
      "100%|██████████████████████████████████████████████████████████████████████| 12/12 [02:31<00:00, 12.60s/it, loss=0.611]\n",
      "100%|████████████████████████████████████████████████████████████████████████| 4/4 [00:11<00:00,  2.88s/it, loss=0.714]\n"
     ]
    },
    {
     "name": "stdout",
     "output_type": "stream",
     "text": [
      "Epoch 48/99\n",
      "----------\n",
      "Train Loss: 0.6175, Val Loss: 0.7212\n",
      "\n"
     ]
    },
    {
     "name": "stderr",
     "output_type": "stream",
     "text": [
      "100%|██████████████████████████████████████████████████████████████████████| 12/12 [02:28<00:00, 12.37s/it, loss=0.595]\n",
      "100%|████████████████████████████████████████████████████████████████████████| 4/4 [00:09<00:00,  2.33s/it, loss=0.724]\n"
     ]
    },
    {
     "name": "stdout",
     "output_type": "stream",
     "text": [
      "Epoch 49/99\n",
      "----------\n",
      "Train Loss: 0.6119, Val Loss: 0.7204\n",
      "\n"
     ]
    },
    {
     "name": "stderr",
     "output_type": "stream",
     "text": [
      "100%|██████████████████████████████████████████████████████████████████████| 12/12 [02:30<00:00, 12.57s/it, loss=0.621]\n",
      "100%|████████████████████████████████████████████████████████████████████████| 4/4 [00:09<00:00,  2.32s/it, loss=0.725]\n"
     ]
    },
    {
     "name": "stdout",
     "output_type": "stream",
     "text": [
      "Epoch 50/99\n",
      "----------\n",
      "Train Loss: 0.6054, Val Loss: 0.7236\n",
      "\n"
     ]
    },
    {
     "name": "stderr",
     "output_type": "stream",
     "text": [
      "100%|███████████████████████████████████████████████████████████████████████| 12/12 [02:29<00:00, 12.42s/it, loss=0.57]\n",
      "100%|████████████████████████████████████████████████████████████████████████| 4/4 [00:11<00:00,  2.76s/it, loss=0.702]\n"
     ]
    },
    {
     "name": "stdout",
     "output_type": "stream",
     "text": [
      "Epoch 51/99\n",
      "----------\n",
      "Train Loss: 0.5991, Val Loss: 0.7066\n",
      "✅ Best model saved! (Val Loss: 0.7066415846347809)\n",
      "\n"
     ]
    },
    {
     "name": "stderr",
     "output_type": "stream",
     "text": [
      "100%|████████████████████████████████████████████████████████████████████████| 12/12 [02:27<00:00, 12.31s/it, loss=0.6]\n",
      "100%|████████████████████████████████████████████████████████████████████████| 4/4 [00:09<00:00,  2.42s/it, loss=0.713]\n"
     ]
    },
    {
     "name": "stdout",
     "output_type": "stream",
     "text": [
      "Epoch 52/99\n",
      "----------\n",
      "Train Loss: 0.6002, Val Loss: 0.7142\n",
      "\n"
     ]
    },
    {
     "name": "stderr",
     "output_type": "stream",
     "text": [
      "100%|██████████████████████████████████████████████████████████████████████| 12/12 [02:11<00:00, 10.95s/it, loss=0.596]\n",
      "100%|████████████████████████████████████████████████████████████████████████| 4/4 [00:08<00:00,  2.05s/it, loss=0.716]\n"
     ]
    },
    {
     "name": "stdout",
     "output_type": "stream",
     "text": [
      "Epoch 53/99\n",
      "----------\n",
      "Train Loss: 0.5998, Val Loss: 0.7121\n",
      "\n"
     ]
    },
    {
     "name": "stderr",
     "output_type": "stream",
     "text": [
      "100%|██████████████████████████████████████████████████████████████████████| 12/12 [02:13<00:00, 11.13s/it, loss=0.641]\n",
      "100%|████████████████████████████████████████████████████████████████████████| 4/4 [00:09<00:00,  2.31s/it, loss=0.713]\n"
     ]
    },
    {
     "name": "stdout",
     "output_type": "stream",
     "text": [
      "Epoch 54/99\n",
      "----------\n",
      "Train Loss: 0.6006, Val Loss: 0.7140\n",
      "\n"
     ]
    },
    {
     "name": "stderr",
     "output_type": "stream",
     "text": [
      "100%|██████████████████████████████████████████████████████████████████████| 12/12 [02:15<00:00, 11.32s/it, loss=0.574]\n",
      "100%|████████████████████████████████████████████████████████████████████████| 4/4 [00:07<00:00,  1.97s/it, loss=0.718]\n"
     ]
    },
    {
     "name": "stdout",
     "output_type": "stream",
     "text": [
      "Epoch 55/99\n",
      "----------\n",
      "Train Loss: 0.5930, Val Loss: 0.7170\n",
      "\n"
     ]
    },
    {
     "name": "stderr",
     "output_type": "stream",
     "text": [
      "100%|███████████████████████████████████████████████████████████████████████| 12/12 [02:13<00:00, 11.09s/it, loss=0.58]\n",
      "100%|████████████████████████████████████████████████████████████████████████| 4/4 [00:08<00:00,  2.08s/it, loss=0.721]\n"
     ]
    },
    {
     "name": "stdout",
     "output_type": "stream",
     "text": [
      "Epoch 56/99\n",
      "----------\n",
      "Train Loss: 0.5931, Val Loss: 0.7195\n",
      "\n"
     ]
    },
    {
     "name": "stderr",
     "output_type": "stream",
     "text": [
      "100%|██████████████████████████████████████████████████████████████████████| 12/12 [02:19<00:00, 11.58s/it, loss=0.604]\n",
      "100%|████████████████████████████████████████████████████████████████████████| 4/4 [00:09<00:00,  2.36s/it, loss=0.701]\n"
     ]
    },
    {
     "name": "stdout",
     "output_type": "stream",
     "text": [
      "Epoch 57/99\n",
      "----------\n",
      "Train Loss: 0.5899, Val Loss: 0.7093\n",
      "\n"
     ]
    },
    {
     "name": "stderr",
     "output_type": "stream",
     "text": [
      "100%|██████████████████████████████████████████████████████████████████████| 12/12 [02:15<00:00, 11.25s/it, loss=0.607]\n",
      "100%|████████████████████████████████████████████████████████████████████████| 4/4 [00:09<00:00,  2.45s/it, loss=0.721]\n"
     ]
    },
    {
     "name": "stdout",
     "output_type": "stream",
     "text": [
      "Epoch 58/99\n",
      "----------\n",
      "Train Loss: 0.5895, Val Loss: 0.7123\n",
      "\n"
     ]
    },
    {
     "name": "stderr",
     "output_type": "stream",
     "text": [
      "100%|██████████████████████████████████████████████████████████████████████| 12/12 [02:15<00:00, 11.31s/it, loss=0.592]\n",
      "100%|████████████████████████████████████████████████████████████████████████| 4/4 [00:11<00:00,  2.86s/it, loss=0.707]\n"
     ]
    },
    {
     "name": "stdout",
     "output_type": "stream",
     "text": [
      "Epoch 59/99\n",
      "----------\n",
      "Train Loss: 0.5883, Val Loss: 0.7094\n",
      "\n"
     ]
    },
    {
     "name": "stderr",
     "output_type": "stream",
     "text": [
      "100%|██████████████████████████████████████████████████████████████████████| 12/12 [02:08<00:00, 10.69s/it, loss=0.574]\n",
      "100%|████████████████████████████████████████████████████████████████████████| 4/4 [00:07<00:00,  1.83s/it, loss=0.716]\n"
     ]
    },
    {
     "name": "stdout",
     "output_type": "stream",
     "text": [
      "Epoch 60/99\n",
      "----------\n",
      "Train Loss: 0.5858, Val Loss: 0.7180\n",
      "\n"
     ]
    },
    {
     "name": "stderr",
     "output_type": "stream",
     "text": [
      "100%|██████████████████████████████████████████████████████████████████████| 12/12 [02:15<00:00, 11.28s/it, loss=0.603]\n",
      "100%|████████████████████████████████████████████████████████████████████████| 4/4 [00:09<00:00,  2.47s/it, loss=0.753]\n"
     ]
    },
    {
     "name": "stdout",
     "output_type": "stream",
     "text": [
      "Epoch 61/99\n",
      "----------\n",
      "Train Loss: 0.6011, Val Loss: 0.7586\n",
      "\n"
     ]
    },
    {
     "name": "stderr",
     "output_type": "stream",
     "text": [
      "100%|██████████████████████████████████████████████████████████████████████| 12/12 [02:08<00:00, 10.74s/it, loss=0.592]\n",
      "100%|████████████████████████████████████████████████████████████████████████| 4/4 [00:07<00:00,  1.93s/it, loss=0.705]\n"
     ]
    },
    {
     "name": "stdout",
     "output_type": "stream",
     "text": [
      "Epoch 62/99\n",
      "----------\n",
      "Train Loss: 0.6010, Val Loss: 0.7070\n",
      "\n"
     ]
    },
    {
     "name": "stderr",
     "output_type": "stream",
     "text": [
      "100%|██████████████████████████████████████████████████████████████████████| 12/12 [02:12<00:00, 11.04s/it, loss=0.618]\n",
      "100%|████████████████████████████████████████████████████████████████████████| 4/4 [00:09<00:00,  2.25s/it, loss=0.729]\n"
     ]
    },
    {
     "name": "stdout",
     "output_type": "stream",
     "text": [
      "Epoch 63/99\n",
      "----------\n",
      "Train Loss: 0.5975, Val Loss: 0.7191\n",
      "\n"
     ]
    },
    {
     "name": "stderr",
     "output_type": "stream",
     "text": [
      "100%|██████████████████████████████████████████████████████████████████████| 12/12 [02:19<00:00, 11.60s/it, loss=0.625]\n",
      "100%|████████████████████████████████████████████████████████████████████████| 4/4 [00:11<00:00,  2.95s/it, loss=0.718]\n"
     ]
    },
    {
     "name": "stdout",
     "output_type": "stream",
     "text": [
      "Epoch 64/99\n",
      "----------\n",
      "Train Loss: 0.5933, Val Loss: 0.7125\n",
      "\n"
     ]
    },
    {
     "name": "stderr",
     "output_type": "stream",
     "text": [
      "100%|██████████████████████████████████████████████████████████████████████| 12/12 [02:29<00:00, 12.45s/it, loss=0.617]\n",
      "100%|████████████████████████████████████████████████████████████████████████| 4/4 [00:09<00:00,  2.46s/it, loss=0.713]\n"
     ]
    },
    {
     "name": "stdout",
     "output_type": "stream",
     "text": [
      "Epoch 65/99\n",
      "----------\n",
      "Train Loss: 0.5913, Val Loss: 0.7132\n",
      "\n"
     ]
    },
    {
     "name": "stderr",
     "output_type": "stream",
     "text": [
      "100%|██████████████████████████████████████████████████████████████████████| 12/12 [02:22<00:00, 11.91s/it, loss=0.621]\n",
      "100%|████████████████████████████████████████████████████████████████████████| 4/4 [00:06<00:00,  1.74s/it, loss=0.717]\n"
     ]
    },
    {
     "name": "stdout",
     "output_type": "stream",
     "text": [
      "Epoch 66/99\n",
      "----------\n",
      "Train Loss: 0.5962, Val Loss: 0.7262\n",
      "\n"
     ]
    },
    {
     "name": "stderr",
     "output_type": "stream",
     "text": [
      "100%|██████████████████████████████████████████████████████████████████████| 12/12 [02:14<00:00, 11.21s/it, loss=0.592]\n",
      "100%|█████████████████████████████████████████████████████████████████████████| 4/4 [00:10<00:00,  2.60s/it, loss=0.72]\n"
     ]
    },
    {
     "name": "stdout",
     "output_type": "stream",
     "text": [
      "Epoch 67/99\n",
      "----------\n",
      "Train Loss: 0.5923, Val Loss: 0.7191\n",
      "\n"
     ]
    },
    {
     "name": "stderr",
     "output_type": "stream",
     "text": [
      "100%|██████████████████████████████████████████████████████████████████████| 12/12 [02:15<00:00, 11.33s/it, loss=0.587]\n",
      "100%|█████████████████████████████████████████████████████████████████████████| 4/4 [00:10<00:00,  2.73s/it, loss=0.72]\n"
     ]
    },
    {
     "name": "stdout",
     "output_type": "stream",
     "text": [
      "Epoch 68/99\n",
      "----------\n",
      "Train Loss: 0.5893, Val Loss: 0.7177\n",
      "\n"
     ]
    },
    {
     "name": "stderr",
     "output_type": "stream",
     "text": [
      "100%|██████████████████████████████████████████████████████████████████████| 12/12 [02:17<00:00, 11.48s/it, loss=0.609]\n",
      "100%|████████████████████████████████████████████████████████████████████████| 4/4 [00:07<00:00,  1.94s/it, loss=0.726]\n"
     ]
    },
    {
     "name": "stdout",
     "output_type": "stream",
     "text": [
      "Epoch 69/99\n",
      "----------\n",
      "Train Loss: 0.5875, Val Loss: 0.7201\n",
      "\n"
     ]
    },
    {
     "name": "stderr",
     "output_type": "stream",
     "text": [
      "100%|██████████████████████████████████████████████████████████████████████| 12/12 [02:25<00:00, 12.12s/it, loss=0.569]\n",
      "100%|████████████████████████████████████████████████████████████████████████| 4/4 [00:08<00:00,  2.02s/it, loss=0.738]\n"
     ]
    },
    {
     "name": "stdout",
     "output_type": "stream",
     "text": [
      "Epoch 70/99\n",
      "----------\n",
      "Train Loss: 0.5826, Val Loss: 0.7258\n",
      "\n"
     ]
    },
    {
     "name": "stderr",
     "output_type": "stream",
     "text": [
      "100%|██████████████████████████████████████████████████████████████████████| 12/12 [02:19<00:00, 11.66s/it, loss=0.572]\n",
      "100%|████████████████████████████████████████████████████████████████████████| 4/4 [00:10<00:00,  2.56s/it, loss=0.725]\n"
     ]
    },
    {
     "name": "stdout",
     "output_type": "stream",
     "text": [
      "Epoch 71/99\n",
      "----------\n",
      "Train Loss: 0.5832, Val Loss: 0.7169\n",
      "\n"
     ]
    },
    {
     "name": "stderr",
     "output_type": "stream",
     "text": [
      "100%|███████████████████████████████████████████████████████████████████████| 12/12 [02:21<00:00, 11.76s/it, loss=0.59]\n",
      "100%|█████████████████████████████████████████████████████████████████████████| 4/4 [00:08<00:00,  2.10s/it, loss=0.74]\n"
     ]
    },
    {
     "name": "stdout",
     "output_type": "stream",
     "text": [
      "Epoch 72/99\n",
      "----------\n",
      "Train Loss: 0.5823, Val Loss: 0.7408\n",
      "\n"
     ]
    },
    {
     "name": "stderr",
     "output_type": "stream",
     "text": [
      "100%|██████████████████████████████████████████████████████████████████████| 12/12 [02:15<00:00, 11.26s/it, loss=0.595]\n",
      "100%|████████████████████████████████████████████████████████████████████████| 4/4 [00:09<00:00,  2.41s/it, loss=0.716]\n"
     ]
    },
    {
     "name": "stdout",
     "output_type": "stream",
     "text": [
      "Epoch 73/99\n",
      "----------\n",
      "Train Loss: 0.5853, Val Loss: 0.7093\n",
      "\n"
     ]
    },
    {
     "name": "stderr",
     "output_type": "stream",
     "text": [
      "100%|██████████████████████████████████████████████████████████████████████| 12/12 [02:21<00:00, 11.79s/it, loss=0.577]\n",
      "100%|████████████████████████████████████████████████████████████████████████| 4/4 [00:07<00:00,  1.84s/it, loss=0.722]\n"
     ]
    },
    {
     "name": "stdout",
     "output_type": "stream",
     "text": [
      "Epoch 74/99\n",
      "----------\n",
      "Train Loss: 0.5835, Val Loss: 0.7234\n",
      "\n"
     ]
    },
    {
     "name": "stderr",
     "output_type": "stream",
     "text": [
      "100%|██████████████████████████████████████████████████████████████████████| 12/12 [02:11<00:00, 10.92s/it, loss=0.547]\n",
      "100%|████████████████████████████████████████████████████████████████████████| 4/4 [00:11<00:00,  2.85s/it, loss=0.716]\n"
     ]
    },
    {
     "name": "stdout",
     "output_type": "stream",
     "text": [
      "Epoch 75/99\n",
      "----------\n",
      "Train Loss: 0.5824, Val Loss: 0.7218\n",
      "\n"
     ]
    },
    {
     "name": "stderr",
     "output_type": "stream",
     "text": [
      "100%|██████████████████████████████████████████████████████████████████████| 12/12 [02:18<00:00, 11.54s/it, loss=0.603]\n",
      "100%|████████████████████████████████████████████████████████████████████████| 4/4 [00:09<00:00,  2.45s/it, loss=0.734]\n"
     ]
    },
    {
     "name": "stdout",
     "output_type": "stream",
     "text": [
      "Epoch 76/99\n",
      "----------\n",
      "Train Loss: 0.5948, Val Loss: 0.7365\n",
      "\n"
     ]
    },
    {
     "name": "stderr",
     "output_type": "stream",
     "text": [
      "100%|██████████████████████████████████████████████████████████████████████| 12/12 [02:19<00:00, 11.66s/it, loss=0.617]\n",
      "100%|████████████████████████████████████████████████████████████████████████| 4/4 [00:10<00:00,  2.65s/it, loss=0.717]\n"
     ]
    },
    {
     "name": "stdout",
     "output_type": "stream",
     "text": [
      "Epoch 77/99\n",
      "----------\n",
      "Train Loss: 0.5947, Val Loss: 0.7248\n",
      "\n"
     ]
    },
    {
     "name": "stderr",
     "output_type": "stream",
     "text": [
      "100%|██████████████████████████████████████████████████████████████████████| 12/12 [02:29<00:00, 12.43s/it, loss=0.573]\n",
      "100%|████████████████████████████████████████████████████████████████████████| 4/4 [00:07<00:00,  1.79s/it, loss=0.713]\n"
     ]
    },
    {
     "name": "stdout",
     "output_type": "stream",
     "text": [
      "Epoch 78/99\n",
      "----------\n",
      "Train Loss: 0.5862, Val Loss: 0.7075\n",
      "\n"
     ]
    },
    {
     "name": "stderr",
     "output_type": "stream",
     "text": [
      "100%|██████████████████████████████████████████████████████████████████████| 12/12 [02:16<00:00, 11.39s/it, loss=0.576]\n",
      "100%|████████████████████████████████████████████████████████████████████████| 4/4 [00:10<00:00,  2.59s/it, loss=0.704]\n"
     ]
    },
    {
     "name": "stdout",
     "output_type": "stream",
     "text": [
      "Epoch 79/99\n",
      "----------\n",
      "Train Loss: 0.5812, Val Loss: 0.7118\n",
      "\n"
     ]
    },
    {
     "name": "stderr",
     "output_type": "stream",
     "text": [
      "100%|████████████████████████████████████████████████████████████████████████| 12/12 [02:10<00:00, 10.86s/it, loss=0.6]\n",
      "100%|████████████████████████████████████████████████████████████████████████| 4/4 [00:09<00:00,  2.35s/it, loss=0.711]\n"
     ]
    },
    {
     "name": "stdout",
     "output_type": "stream",
     "text": [
      "Epoch 80/99\n",
      "----------\n",
      "Train Loss: 0.5825, Val Loss: 0.7110\n",
      "\n"
     ]
    },
    {
     "name": "stderr",
     "output_type": "stream",
     "text": [
      "100%|██████████████████████████████████████████████████████████████████████| 12/12 [02:21<00:00, 11.82s/it, loss=0.596]\n",
      "100%|████████████████████████████████████████████████████████████████████████| 4/4 [00:09<00:00,  2.40s/it, loss=0.722]\n"
     ]
    },
    {
     "name": "stdout",
     "output_type": "stream",
     "text": [
      "Epoch 81/99\n",
      "----------\n",
      "Train Loss: 0.5795, Val Loss: 0.7205\n",
      "\n"
     ]
    },
    {
     "name": "stderr",
     "output_type": "stream",
     "text": [
      "100%|██████████████████████████████████████████████████████████████████████| 12/12 [02:15<00:00, 11.31s/it, loss=0.601]\n",
      "100%|█████████████████████████████████████████████████████████████████████████| 4/4 [00:08<00:00,  2.18s/it, loss=0.71]\n"
     ]
    },
    {
     "name": "stdout",
     "output_type": "stream",
     "text": [
      "Epoch 82/99\n",
      "----------\n",
      "Train Loss: 0.5773, Val Loss: 0.7130\n",
      "\n"
     ]
    },
    {
     "name": "stderr",
     "output_type": "stream",
     "text": [
      "100%|██████████████████████████████████████████████████████████████████████| 12/12 [02:09<00:00, 10.83s/it, loss=0.587]\n",
      "100%|████████████████████████████████████████████████████████████████████████| 4/4 [00:09<00:00,  2.42s/it, loss=0.709]\n"
     ]
    },
    {
     "name": "stdout",
     "output_type": "stream",
     "text": [
      "Epoch 83/99\n",
      "----------\n",
      "Train Loss: 0.5742, Val Loss: 0.7126\n",
      "\n"
     ]
    },
    {
     "name": "stderr",
     "output_type": "stream",
     "text": [
      "100%|██████████████████████████████████████████████████████████████████████| 12/12 [02:10<00:00, 10.88s/it, loss=0.567]\n",
      "100%|████████████████████████████████████████████████████████████████████████| 4/4 [00:09<00:00,  2.41s/it, loss=0.716]\n"
     ]
    },
    {
     "name": "stdout",
     "output_type": "stream",
     "text": [
      "Epoch 84/99\n",
      "----------\n",
      "Train Loss: 0.5715, Val Loss: 0.7133\n",
      "\n"
     ]
    },
    {
     "name": "stderr",
     "output_type": "stream",
     "text": [
      "100%|██████████████████████████████████████████████████████████████████████| 12/12 [02:11<00:00, 10.94s/it, loss=0.567]\n",
      "100%|████████████████████████████████████████████████████████████████████████| 4/4 [00:08<00:00,  2.13s/it, loss=0.711]\n"
     ]
    },
    {
     "name": "stdout",
     "output_type": "stream",
     "text": [
      "Epoch 85/99\n",
      "----------\n",
      "Train Loss: 0.5699, Val Loss: 0.7139\n",
      "\n"
     ]
    },
    {
     "name": "stderr",
     "output_type": "stream",
     "text": [
      "100%|██████████████████████████████████████████████████████████████████████| 12/12 [02:17<00:00, 11.47s/it, loss=0.584]\n",
      "100%|████████████████████████████████████████████████████████████████████████| 4/4 [00:09<00:00,  2.30s/it, loss=0.711]\n"
     ]
    },
    {
     "name": "stdout",
     "output_type": "stream",
     "text": [
      "Epoch 86/99\n",
      "----------\n",
      "Train Loss: 0.5690, Val Loss: 0.7087\n",
      "\n"
     ]
    },
    {
     "name": "stderr",
     "output_type": "stream",
     "text": [
      "100%|██████████████████████████████████████████████████████████████████████| 12/12 [02:24<00:00, 12.01s/it, loss=0.597]\n",
      "100%|████████████████████████████████████████████████████████████████████████| 4/4 [00:08<00:00,  2.21s/it, loss=0.722]\n"
     ]
    },
    {
     "name": "stdout",
     "output_type": "stream",
     "text": [
      "Epoch 87/99\n",
      "----------\n",
      "Train Loss: 0.5675, Val Loss: 0.7110\n",
      "\n"
     ]
    },
    {
     "name": "stderr",
     "output_type": "stream",
     "text": [
      "100%|██████████████████████████████████████████████████████████████████████| 12/12 [02:26<00:00, 12.21s/it, loss=0.579]\n",
      "100%|████████████████████████████████████████████████████████████████████████| 4/4 [00:08<00:00,  2.25s/it, loss=0.757]\n"
     ]
    },
    {
     "name": "stdout",
     "output_type": "stream",
     "text": [
      "Epoch 88/99\n",
      "----------\n",
      "Train Loss: 0.5716, Val Loss: 0.7565\n",
      "\n"
     ]
    },
    {
     "name": "stderr",
     "output_type": "stream",
     "text": [
      "100%|██████████████████████████████████████████████████████████████████████| 12/12 [02:16<00:00, 11.38s/it, loss=0.581]\n",
      "100%|████████████████████████████████████████████████████████████████████████| 4/4 [00:09<00:00,  2.48s/it, loss=0.722]\n"
     ]
    },
    {
     "name": "stdout",
     "output_type": "stream",
     "text": [
      "Epoch 89/99\n",
      "----------\n",
      "Train Loss: 0.5802, Val Loss: 0.7108\n",
      "\n"
     ]
    },
    {
     "name": "stderr",
     "output_type": "stream",
     "text": [
      "100%|███████████████████████████████████████████████████████████████████████| 12/12 [02:16<00:00, 11.38s/it, loss=0.61]\n",
      "100%|█████████████████████████████████████████████████████████████████████████| 4/4 [00:10<00:00,  2.62s/it, loss=0.71]\n"
     ]
    },
    {
     "name": "stdout",
     "output_type": "stream",
     "text": [
      "Epoch 90/99\n",
      "----------\n",
      "Train Loss: 0.5763, Val Loss: 0.7130\n",
      "\n"
     ]
    },
    {
     "name": "stderr",
     "output_type": "stream",
     "text": [
      "100%|██████████████████████████████████████████████████████████████████████| 12/12 [02:17<00:00, 11.50s/it, loss=0.604]\n",
      "100%|████████████████████████████████████████████████████████████████████████| 4/4 [00:07<00:00,  1.84s/it, loss=0.723]\n"
     ]
    },
    {
     "name": "stdout",
     "output_type": "stream",
     "text": [
      "Epoch 91/99\n",
      "----------\n",
      "Train Loss: 0.5796, Val Loss: 0.7233\n",
      "\n"
     ]
    },
    {
     "name": "stderr",
     "output_type": "stream",
     "text": [
      "100%|██████████████████████████████████████████████████████████████████████| 12/12 [02:11<00:00, 10.95s/it, loss=0.618]\n",
      "100%|████████████████████████████████████████████████████████████████████████| 4/4 [00:09<00:00,  2.43s/it, loss=0.702]\n"
     ]
    },
    {
     "name": "stdout",
     "output_type": "stream",
     "text": [
      "Epoch 92/99\n",
      "----------\n",
      "Train Loss: 0.5758, Val Loss: 0.7094\n",
      "\n"
     ]
    },
    {
     "name": "stderr",
     "output_type": "stream",
     "text": [
      "100%|██████████████████████████████████████████████████████████████████████| 12/12 [02:20<00:00, 11.70s/it, loss=0.569]\n",
      "100%|████████████████████████████████████████████████████████████████████████| 4/4 [00:11<00:00,  2.84s/it, loss=0.713]\n"
     ]
    },
    {
     "name": "stdout",
     "output_type": "stream",
     "text": [
      "Epoch 93/99\n",
      "----------\n",
      "Train Loss: 0.5714, Val Loss: 0.7131\n",
      "\n"
     ]
    },
    {
     "name": "stderr",
     "output_type": "stream",
     "text": [
      "100%|██████████████████████████████████████████████████████████████████████| 12/12 [02:12<00:00, 11.07s/it, loss=0.567]\n",
      "100%|████████████████████████████████████████████████████████████████████████| 4/4 [00:10<00:00,  2.53s/it, loss=0.701]\n"
     ]
    },
    {
     "name": "stdout",
     "output_type": "stream",
     "text": [
      "Epoch 94/99\n",
      "----------\n",
      "Train Loss: 0.5684, Val Loss: 0.7027\n",
      "✅ Best model saved! (Val Loss: 0.7026853114366531)\n",
      "\n"
     ]
    },
    {
     "name": "stderr",
     "output_type": "stream",
     "text": [
      "100%|██████████████████████████████████████████████████████████████████████| 12/12 [02:22<00:00, 11.87s/it, loss=0.572]\n",
      "100%|████████████████████████████████████████████████████████████████████████| 4/4 [00:10<00:00,  2.59s/it, loss=0.708]\n"
     ]
    },
    {
     "name": "stdout",
     "output_type": "stream",
     "text": [
      "Epoch 95/99\n",
      "----------\n",
      "Train Loss: 0.5667, Val Loss: 0.7121\n",
      "\n"
     ]
    },
    {
     "name": "stderr",
     "output_type": "stream",
     "text": [
      "100%|██████████████████████████████████████████████████████████████████████| 12/12 [02:17<00:00, 11.43s/it, loss=0.578]\n",
      "100%|████████████████████████████████████████████████████████████████████████| 4/4 [00:09<00:00,  2.38s/it, loss=0.703]\n"
     ]
    },
    {
     "name": "stdout",
     "output_type": "stream",
     "text": [
      "Epoch 96/99\n",
      "----------\n",
      "Train Loss: 0.5658, Val Loss: 0.7063\n",
      "\n"
     ]
    },
    {
     "name": "stderr",
     "output_type": "stream",
     "text": [
      "100%|██████████████████████████████████████████████████████████████████████| 12/12 [02:19<00:00, 11.62s/it, loss=0.528]\n",
      "100%|████████████████████████████████████████████████████████████████████████| 4/4 [00:10<00:00,  2.52s/it, loss=0.708]\n"
     ]
    },
    {
     "name": "stdout",
     "output_type": "stream",
     "text": [
      "Epoch 97/99\n",
      "----------\n",
      "Train Loss: 0.5638, Val Loss: 0.7066\n",
      "\n"
     ]
    },
    {
     "name": "stderr",
     "output_type": "stream",
     "text": [
      "100%|██████████████████████████████████████████████████████████████████████| 12/12 [02:15<00:00, 11.32s/it, loss=0.562]\n",
      "100%|████████████████████████████████████████████████████████████████████████| 4/4 [00:08<00:00,  2.22s/it, loss=0.713]\n"
     ]
    },
    {
     "name": "stdout",
     "output_type": "stream",
     "text": [
      "Epoch 98/99\n",
      "----------\n",
      "Train Loss: 0.5632, Val Loss: 0.7126\n",
      "\n"
     ]
    },
    {
     "name": "stderr",
     "output_type": "stream",
     "text": [
      "100%|██████████████████████████████████████████████████████████████████████| 12/12 [02:13<00:00, 11.13s/it, loss=0.576]\n",
      "100%|████████████████████████████████████████████████████████████████████████| 4/4 [00:08<00:00,  2.00s/it, loss=0.718]"
     ]
    },
    {
     "name": "stdout",
     "output_type": "stream",
     "text": [
      "Epoch 99/99\n",
      "----------\n",
      "Train Loss: 0.5624, Val Loss: 0.7120\n",
      "\n",
      "Training complete in 249m 41s\n",
      "Best test (smallest validation lost): 0.702685\n",
      "CUDA GPU: NVIDIA GeForce RTX 4060 Laptop GPU\n",
      "Architecture: UNET DiceLoss\n"
     ]
    },
    {
     "name": "stderr",
     "output_type": "stream",
     "text": [
      "\n"
     ]
    }
   ],
   "source": [
    "model, logs = train(train_dataloader, val_dataloader, model, loss_fn, optim, 100, log_freq=1, save_best_model=True, \n",
    "              best_model_name='best_model_dice.pth', last_model_name='last_model_dice.pth', save_path=MODEL_PATH)\n",
    "print(f\"CUDA GPU: {torch.cuda.get_device_name(0)}\")\n",
    "print(f\"Architecture: UNET DiceLoss\")"
   ]
  },
  {
   "cell_type": "code",
   "execution_count": 13,
   "metadata": {},
   "outputs": [],
   "source": [
    "logs_df = pd.DataFrame(logs)\n",
    "logs_df.to_csv(os.path.join(METRIC_PATH, 'train_unet_dice.csv'), index=False)"
   ]
  },
  {
   "cell_type": "markdown",
   "metadata": {},
   "source": [
    "## Training UNET with CrossEntropyLoss"
   ]
  },
  {
   "cell_type": "code",
   "execution_count": 14,
   "metadata": {},
   "outputs": [
    {
     "name": "stdout",
     "output_type": "stream",
     "text": [
      "12\n"
     ]
    }
   ],
   "source": [
    "model = UNET(in_channels=3, out_channels=len(labels_df))\n",
    "model.cuda()\n",
    "loss_fn = nn.CrossEntropyLoss()\n",
    "optim = torch.optim.Adam(model.parameters(), lr = 1e-3)\n",
    "print(model.out_channels)"
   ]
  },
  {
   "cell_type": "code",
   "execution_count": null,
   "metadata": {},
   "outputs": [
    {
     "name": "stderr",
     "output_type": "stream",
     "text": [
      "100%|███████████████████████████████████████████████████████████████████████| 12/12 [01:56<00:00,  9.74s/it, loss=1.36]\n",
      "100%|█████████████████████████████████████████████████████████████████████████| 4/4 [00:09<00:00,  2.29s/it, loss=1.99]\n"
     ]
    },
    {
     "name": "stdout",
     "output_type": "stream",
     "text": [
      "Epoch 0/99\n",
      "----------\n",
      "Train Loss: 1.6746, Val Loss: 2.0034\n",
      "✅ Best model saved! (Val Loss: 2.003401517868042)\n",
      "\n"
     ]
    },
    {
     "name": "stderr",
     "output_type": "stream",
     "text": [
      "100%|███████████████████████████████████████████████████████████████████████| 12/12 [02:06<00:00, 10.54s/it, loss=1.14]\n",
      "100%|█████████████████████████████████████████████████████████████████████████| 4/4 [00:09<00:00,  2.35s/it, loss=3.06]\n"
     ]
    },
    {
     "name": "stdout",
     "output_type": "stream",
     "text": [
      "Epoch 1/99\n",
      "----------\n",
      "Train Loss: 1.1927, Val Loss: 3.0781\n",
      "\n"
     ]
    },
    {
     "name": "stderr",
     "output_type": "stream",
     "text": [
      "100%|██████████████████████████████████████████████████████████████████████| 12/12 [02:06<00:00, 10.58s/it, loss=0.939]\n",
      "100%|█████████████████████████████████████████████████████████████████████████| 4/4 [00:09<00:00,  2.30s/it, loss=1.36]\n"
     ]
    },
    {
     "name": "stdout",
     "output_type": "stream",
     "text": [
      "Epoch 2/99\n",
      "----------\n",
      "Train Loss: 0.9952, Val Loss: 1.4026\n",
      "✅ Best model saved! (Val Loss: 1.402602195739746)\n",
      "\n"
     ]
    },
    {
     "name": "stderr",
     "output_type": "stream",
     "text": [
      "100%|██████████████████████████████████████████████████████████████████████| 12/12 [02:05<00:00, 10.43s/it, loss=0.749]\n",
      "100%|█████████████████████████████████████████████████████████████████████████| 4/4 [00:09<00:00,  2.42s/it, loss=1.02]\n"
     ]
    },
    {
     "name": "stdout",
     "output_type": "stream",
     "text": [
      "Epoch 3/99\n",
      "----------\n",
      "Train Loss: 0.8557, Val Loss: 1.0359\n",
      "✅ Best model saved! (Val Loss: 1.0358702540397644)\n",
      "\n"
     ]
    },
    {
     "name": "stderr",
     "output_type": "stream",
     "text": [
      "100%|██████████████████████████████████████████████████████████████████████| 12/12 [02:02<00:00, 10.23s/it, loss=0.711]\n",
      "100%|█████████████████████████████████████████████████████████████████████████| 4/4 [00:07<00:00,  1.79s/it, loss=1.03]\n"
     ]
    },
    {
     "name": "stdout",
     "output_type": "stream",
     "text": [
      "Epoch 4/99\n",
      "----------\n",
      "Train Loss: 0.7647, Val Loss: 1.0542\n",
      "\n"
     ]
    },
    {
     "name": "stderr",
     "output_type": "stream",
     "text": [
      "100%|██████████████████████████████████████████████████████████████████████| 12/12 [02:15<00:00, 11.28s/it, loss=0.865]\n",
      "100%|████████████████████████████████████████████████████████████████████████| 4/4 [00:10<00:00,  2.54s/it, loss=0.749]\n"
     ]
    },
    {
     "name": "stdout",
     "output_type": "stream",
     "text": [
      "Epoch 5/99\n",
      "----------\n",
      "Train Loss: 0.7461, Val Loss: 0.7555\n",
      "✅ Best model saved! (Val Loss: 0.7554737776517868)\n",
      "\n"
     ]
    },
    {
     "name": "stderr",
     "output_type": "stream",
     "text": [
      "100%|██████████████████████████████████████████████████████████████████████| 12/12 [02:04<00:00, 10.37s/it, loss=0.693]\n",
      "100%|█████████████████████████████████████████████████████████████████████████| 4/4 [00:08<00:00,  2.24s/it, loss=0.79]\n"
     ]
    },
    {
     "name": "stdout",
     "output_type": "stream",
     "text": [
      "Epoch 6/99\n",
      "----------\n",
      "Train Loss: 0.6945, Val Loss: 0.7999\n",
      "\n"
     ]
    },
    {
     "name": "stderr",
     "output_type": "stream",
     "text": [
      "100%|███████████████████████████████████████████████████████████████████████| 12/12 [02:04<00:00, 10.39s/it, loss=0.67]\n",
      "100%|████████████████████████████████████████████████████████████████████████| 4/4 [00:08<00:00,  2.09s/it, loss=0.601]\n"
     ]
    },
    {
     "name": "stdout",
     "output_type": "stream",
     "text": [
      "Epoch 7/99\n",
      "----------\n",
      "Train Loss: 0.6235, Val Loss: 0.6586\n",
      "✅ Best model saved! (Val Loss: 0.6586156487464905)\n",
      "\n"
     ]
    },
    {
     "name": "stderr",
     "output_type": "stream",
     "text": [
      "100%|██████████████████████████████████████████████████████████████████████| 12/12 [02:09<00:00, 10.83s/it, loss=0.603]\n",
      "100%|████████████████████████████████████████████████████████████████████████| 4/4 [00:08<00:00,  2.02s/it, loss=0.831]\n"
     ]
    },
    {
     "name": "stdout",
     "output_type": "stream",
     "text": [
      "Epoch 8/99\n",
      "----------\n",
      "Train Loss: 0.5989, Val Loss: 0.8481\n",
      "\n"
     ]
    },
    {
     "name": "stderr",
     "output_type": "stream",
     "text": [
      "100%|██████████████████████████████████████████████████████████████████████| 12/12 [02:01<00:00, 10.15s/it, loss=0.622]\n",
      "100%|████████████████████████████████████████████████████████████████████████| 4/4 [00:08<00:00,  2.05s/it, loss=0.543]\n"
     ]
    },
    {
     "name": "stdout",
     "output_type": "stream",
     "text": [
      "Epoch 9/99\n",
      "----------\n",
      "Train Loss: 0.5945, Val Loss: 0.5878\n",
      "✅ Best model saved! (Val Loss: 0.5878277719020844)\n",
      "\n"
     ]
    },
    {
     "name": "stderr",
     "output_type": "stream",
     "text": [
      "100%|██████████████████████████████████████████████████████████████████████| 12/12 [02:06<00:00, 10.51s/it, loss=0.462]\n",
      "100%|████████████████████████████████████████████████████████████████████████| 4/4 [00:09<00:00,  2.47s/it, loss=0.569]\n"
     ]
    },
    {
     "name": "stdout",
     "output_type": "stream",
     "text": [
      "Epoch 10/99\n",
      "----------\n",
      "Train Loss: 0.5535, Val Loss: 0.5870\n",
      "✅ Best model saved! (Val Loss: 0.5870204567909241)\n",
      "\n"
     ]
    },
    {
     "name": "stderr",
     "output_type": "stream",
     "text": [
      "100%|██████████████████████████████████████████████████████████████████████| 12/12 [02:10<00:00, 10.87s/it, loss=0.474]\n",
      "100%|████████████████████████████████████████████████████████████████████████| 4/4 [00:09<00:00,  2.48s/it, loss=0.527]\n"
     ]
    },
    {
     "name": "stdout",
     "output_type": "stream",
     "text": [
      "Epoch 11/99\n",
      "----------\n",
      "Train Loss: 0.5266, Val Loss: 0.5427\n",
      "✅ Best model saved! (Val Loss: 0.5426793098449707)\n",
      "\n"
     ]
    },
    {
     "name": "stderr",
     "output_type": "stream",
     "text": [
      "100%|██████████████████████████████████████████████████████████████████████| 12/12 [02:05<00:00, 10.49s/it, loss=0.564]\n",
      "100%|████████████████████████████████████████████████████████████████████████| 4/4 [00:07<00:00,  1.82s/it, loss=0.704]\n"
     ]
    },
    {
     "name": "stdout",
     "output_type": "stream",
     "text": [
      "Epoch 12/99\n",
      "----------\n",
      "Train Loss: 0.5210, Val Loss: 0.7097\n",
      "\n"
     ]
    },
    {
     "name": "stderr",
     "output_type": "stream",
     "text": [
      "100%|██████████████████████████████████████████████████████████████████████| 12/12 [02:16<00:00, 11.34s/it, loss=0.626]\n",
      "100%|████████████████████████████████████████████████████████████████████████| 4/4 [00:10<00:00,  2.60s/it, loss=0.659]\n"
     ]
    },
    {
     "name": "stdout",
     "output_type": "stream",
     "text": [
      "Epoch 13/99\n",
      "----------\n",
      "Train Loss: 0.5324, Val Loss: 0.6518\n",
      "\n"
     ]
    },
    {
     "name": "stderr",
     "output_type": "stream",
     "text": [
      "100%|██████████████████████████████████████████████████████████████████████| 12/12 [02:06<00:00, 10.57s/it, loss=0.476]\n",
      "100%|████████████████████████████████████████████████████████████████████████| 4/4 [00:09<00:00,  2.32s/it, loss=0.617]\n"
     ]
    },
    {
     "name": "stdout",
     "output_type": "stream",
     "text": [
      "Epoch 14/99\n",
      "----------\n",
      "Train Loss: 0.4957, Val Loss: 0.6042\n",
      "\n"
     ]
    },
    {
     "name": "stderr",
     "output_type": "stream",
     "text": [
      "100%|██████████████████████████████████████████████████████████████████████| 12/12 [02:08<00:00, 10.70s/it, loss=0.494]\n",
      "100%|████████████████████████████████████████████████████████████████████████| 4/4 [00:08<00:00,  2.09s/it, loss=0.777]\n"
     ]
    },
    {
     "name": "stdout",
     "output_type": "stream",
     "text": [
      "Epoch 15/99\n",
      "----------\n",
      "Train Loss: 0.4814, Val Loss: 0.7791\n",
      "\n"
     ]
    },
    {
     "name": "stderr",
     "output_type": "stream",
     "text": [
      "100%|██████████████████████████████████████████████████████████████████████| 12/12 [02:08<00:00, 10.67s/it, loss=0.532]\n",
      "100%|████████████████████████████████████████████████████████████████████████| 4/4 [00:08<00:00,  2.02s/it, loss=0.669]\n"
     ]
    },
    {
     "name": "stdout",
     "output_type": "stream",
     "text": [
      "Epoch 16/99\n",
      "----------\n",
      "Train Loss: 0.4670, Val Loss: 0.6370\n",
      "\n"
     ]
    },
    {
     "name": "stderr",
     "output_type": "stream",
     "text": [
      "100%|██████████████████████████████████████████████████████████████████████| 12/12 [01:55<00:00,  9.64s/it, loss=0.543]\n",
      "100%|████████████████████████████████████████████████████████████████████████| 4/4 [00:07<00:00,  2.00s/it, loss=0.539]\n"
     ]
    },
    {
     "name": "stdout",
     "output_type": "stream",
     "text": [
      "Epoch 17/99\n",
      "----------\n",
      "Train Loss: 0.4561, Val Loss: 0.5203\n",
      "✅ Best model saved! (Val Loss: 0.5203419923782349)\n",
      "\n"
     ]
    },
    {
     "name": "stderr",
     "output_type": "stream",
     "text": [
      "100%|██████████████████████████████████████████████████████████████████████| 12/12 [01:52<00:00,  9.40s/it, loss=0.441]\n",
      "100%|████████████████████████████████████████████████████████████████████████| 4/4 [00:09<00:00,  2.30s/it, loss=0.518]\n"
     ]
    },
    {
     "name": "stdout",
     "output_type": "stream",
     "text": [
      "Epoch 18/99\n",
      "----------\n",
      "Train Loss: 0.4519, Val Loss: 0.4818\n",
      "✅ Best model saved! (Val Loss: 0.48176271468400955)\n",
      "\n"
     ]
    },
    {
     "name": "stderr",
     "output_type": "stream",
     "text": [
      "100%|██████████████████████████████████████████████████████████████████████| 12/12 [02:09<00:00, 10.76s/it, loss=0.418]\n",
      "100%|████████████████████████████████████████████████████████████████████████| 4/4 [00:09<00:00,  2.42s/it, loss=0.552]\n"
     ]
    },
    {
     "name": "stdout",
     "output_type": "stream",
     "text": [
      "Epoch 19/99\n",
      "----------\n",
      "Train Loss: 0.4356, Val Loss: 0.5464\n",
      "\n"
     ]
    },
    {
     "name": "stderr",
     "output_type": "stream",
     "text": [
      "100%|██████████████████████████████████████████████████████████████████████| 12/12 [02:05<00:00, 10.48s/it, loss=0.383]\n",
      "100%|████████████████████████████████████████████████████████████████████████| 4/4 [00:07<00:00,  1.85s/it, loss=0.505]\n"
     ]
    },
    {
     "name": "stdout",
     "output_type": "stream",
     "text": [
      "Epoch 20/99\n",
      "----------\n",
      "Train Loss: 0.4169, Val Loss: 0.5209\n",
      "\n"
     ]
    },
    {
     "name": "stderr",
     "output_type": "stream",
     "text": [
      "100%|██████████████████████████████████████████████████████████████████████| 12/12 [02:15<00:00, 11.26s/it, loss=0.458]\n",
      "100%|████████████████████████████████████████████████████████████████████████| 4/4 [00:10<00:00,  2.62s/it, loss=0.452]\n"
     ]
    },
    {
     "name": "stdout",
     "output_type": "stream",
     "text": [
      "Epoch 21/99\n",
      "----------\n",
      "Train Loss: 0.4120, Val Loss: 0.4500\n",
      "✅ Best model saved! (Val Loss: 0.4499775096774101)\n",
      "\n"
     ]
    },
    {
     "name": "stderr",
     "output_type": "stream",
     "text": [
      "100%|██████████████████████████████████████████████████████████████████████| 12/12 [02:05<00:00, 10.43s/it, loss=0.403]\n",
      "100%|████████████████████████████████████████████████████████████████████████| 4/4 [00:09<00:00,  2.30s/it, loss=0.455]\n"
     ]
    },
    {
     "name": "stdout",
     "output_type": "stream",
     "text": [
      "Epoch 22/99\n",
      "----------\n",
      "Train Loss: 0.3961, Val Loss: 0.4331\n",
      "✅ Best model saved! (Val Loss: 0.43310102820396423)\n",
      "\n"
     ]
    },
    {
     "name": "stderr",
     "output_type": "stream",
     "text": [
      "100%|██████████████████████████████████████████████████████████████████████| 12/12 [02:18<00:00, 11.55s/it, loss=0.356]\n",
      "100%|████████████████████████████████████████████████████████████████████████| 4/4 [00:10<00:00,  2.54s/it, loss=0.564]\n"
     ]
    },
    {
     "name": "stdout",
     "output_type": "stream",
     "text": [
      "Epoch 23/99\n",
      "----------\n",
      "Train Loss: 0.3782, Val Loss: 0.5541\n",
      "\n"
     ]
    },
    {
     "name": "stderr",
     "output_type": "stream",
     "text": [
      "100%|██████████████████████████████████████████████████████████████████████| 12/12 [02:20<00:00, 11.71s/it, loss=0.374]\n",
      "100%|████████████████████████████████████████████████████████████████████████| 4/4 [00:08<00:00,  2.21s/it, loss=0.604]\n"
     ]
    },
    {
     "name": "stdout",
     "output_type": "stream",
     "text": [
      "Epoch 24/99\n",
      "----------\n",
      "Train Loss: 0.3926, Val Loss: 0.6291\n",
      "\n"
     ]
    },
    {
     "name": "stderr",
     "output_type": "stream",
     "text": [
      "100%|███████████████████████████████████████████████████████████████████████| 12/12 [02:01<00:00, 10.09s/it, loss=0.36]\n",
      "100%|████████████████████████████████████████████████████████████████████████| 4/4 [00:08<00:00,  2.08s/it, loss=0.451]\n"
     ]
    },
    {
     "name": "stdout",
     "output_type": "stream",
     "text": [
      "Epoch 25/99\n",
      "----------\n",
      "Train Loss: 0.3692, Val Loss: 0.4335\n",
      "\n"
     ]
    },
    {
     "name": "stderr",
     "output_type": "stream",
     "text": [
      "100%|██████████████████████████████████████████████████████████████████████| 12/12 [02:00<00:00, 10.07s/it, loss=0.346]\n",
      "100%|████████████████████████████████████████████████████████████████████████| 4/4 [00:09<00:00,  2.31s/it, loss=0.397]\n"
     ]
    },
    {
     "name": "stdout",
     "output_type": "stream",
     "text": [
      "Epoch 26/99\n",
      "----------\n",
      "Train Loss: 0.3560, Val Loss: 0.3959\n",
      "✅ Best model saved! (Val Loss: 0.3959450498223305)\n",
      "\n"
     ]
    },
    {
     "name": "stderr",
     "output_type": "stream",
     "text": [
      "100%|██████████████████████████████████████████████████████████████████████| 12/12 [02:14<00:00, 11.21s/it, loss=0.376]\n",
      "100%|████████████████████████████████████████████████████████████████████████| 4/4 [00:10<00:00,  2.60s/it, loss=0.362]\n"
     ]
    },
    {
     "name": "stdout",
     "output_type": "stream",
     "text": [
      "Epoch 27/99\n",
      "----------\n",
      "Train Loss: 0.3557, Val Loss: 0.3860\n",
      "✅ Best model saved! (Val Loss: 0.3859817385673523)\n",
      "\n"
     ]
    },
    {
     "name": "stderr",
     "output_type": "stream",
     "text": [
      "100%|██████████████████████████████████████████████████████████████████████| 12/12 [02:11<00:00, 10.98s/it, loss=0.342]\n",
      "100%|████████████████████████████████████████████████████████████████████████| 4/4 [00:07<00:00,  1.94s/it, loss=0.553]\n"
     ]
    },
    {
     "name": "stdout",
     "output_type": "stream",
     "text": [
      "Epoch 28/99\n",
      "----------\n",
      "Train Loss: 0.3531, Val Loss: 0.5133\n",
      "\n"
     ]
    },
    {
     "name": "stderr",
     "output_type": "stream",
     "text": [
      "100%|██████████████████████████████████████████████████████████████████████| 12/12 [02:22<00:00, 11.84s/it, loss=0.366]\n",
      "100%|████████████████████████████████████████████████████████████████████████| 4/4 [00:10<00:00,  2.60s/it, loss=0.381]\n"
     ]
    },
    {
     "name": "stdout",
     "output_type": "stream",
     "text": [
      "Epoch 29/99\n",
      "----------\n",
      "Train Loss: 0.3571, Val Loss: 0.3768\n",
      "✅ Best model saved! (Val Loss: 0.3768382743000984)\n",
      "\n"
     ]
    },
    {
     "name": "stderr",
     "output_type": "stream",
     "text": [
      "100%|██████████████████████████████████████████████████████████████████████| 12/12 [02:15<00:00, 11.26s/it, loss=0.361]\n",
      "100%|██████████████████████████████████████████████████████████████████████████| 4/4 [00:09<00:00,  2.43s/it, loss=0.4]\n"
     ]
    },
    {
     "name": "stdout",
     "output_type": "stream",
     "text": [
      "Epoch 30/99\n",
      "----------\n",
      "Train Loss: 0.3389, Val Loss: 0.4582\n",
      "\n"
     ]
    },
    {
     "name": "stderr",
     "output_type": "stream",
     "text": [
      "100%|██████████████████████████████████████████████████████████████████████| 12/12 [02:08<00:00, 10.74s/it, loss=0.275]\n",
      "100%|████████████████████████████████████████████████████████████████████████| 4/4 [00:09<00:00,  2.34s/it, loss=0.386]\n"
     ]
    },
    {
     "name": "stdout",
     "output_type": "stream",
     "text": [
      "Epoch 31/99\n",
      "----------\n",
      "Train Loss: 0.3327, Val Loss: 0.3898\n",
      "\n"
     ]
    },
    {
     "name": "stderr",
     "output_type": "stream",
     "text": [
      "100%|██████████████████████████████████████████████████████████████████████| 12/12 [02:12<00:00, 11.04s/it, loss=0.275]\n",
      "100%|████████████████████████████████████████████████████████████████████████| 4/4 [00:08<00:00,  2.13s/it, loss=0.352]\n"
     ]
    },
    {
     "name": "stdout",
     "output_type": "stream",
     "text": [
      "Epoch 32/99\n",
      "----------\n",
      "Train Loss: 0.3180, Val Loss: 0.3848\n",
      "\n"
     ]
    },
    {
     "name": "stderr",
     "output_type": "stream",
     "text": [
      "100%|██████████████████████████████████████████████████████████████████████| 12/12 [01:58<00:00,  9.90s/it, loss=0.365]\n",
      "100%|████████████████████████████████████████████████████████████████████████| 4/4 [00:08<00:00,  2.14s/it, loss=0.464]\n"
     ]
    },
    {
     "name": "stdout",
     "output_type": "stream",
     "text": [
      "Epoch 33/99\n",
      "----------\n",
      "Train Loss: 0.3215, Val Loss: 0.4680\n",
      "\n"
     ]
    },
    {
     "name": "stderr",
     "output_type": "stream",
     "text": [
      "100%|██████████████████████████████████████████████████████████████████████| 12/12 [01:56<00:00,  9.70s/it, loss=0.324]\n",
      "100%|████████████████████████████████████████████████████████████████████████| 4/4 [00:08<00:00,  2.16s/it, loss=0.455]\n"
     ]
    },
    {
     "name": "stdout",
     "output_type": "stream",
     "text": [
      "Epoch 34/99\n",
      "----------\n",
      "Train Loss: 0.3274, Val Loss: 0.4792\n",
      "\n"
     ]
    },
    {
     "name": "stderr",
     "output_type": "stream",
     "text": [
      "100%|███████████████████████████████████████████████████████████████████████| 12/12 [02:07<00:00, 10.59s/it, loss=0.33]\n",
      "100%|████████████████████████████████████████████████████████████████████████| 4/4 [00:09<00:00,  2.42s/it, loss=0.485]\n"
     ]
    },
    {
     "name": "stdout",
     "output_type": "stream",
     "text": [
      "Epoch 35/99\n",
      "----------\n",
      "Train Loss: 0.3322, Val Loss: 0.4811\n",
      "\n"
     ]
    },
    {
     "name": "stderr",
     "output_type": "stream",
     "text": [
      "100%|██████████████████████████████████████████████████████████████████████| 12/12 [02:05<00:00, 10.49s/it, loss=0.312]\n",
      "100%|████████████████████████████████████████████████████████████████████████| 4/4 [00:07<00:00,  1.85s/it, loss=0.427]\n"
     ]
    },
    {
     "name": "stdout",
     "output_type": "stream",
     "text": [
      "Epoch 36/99\n",
      "----------\n",
      "Train Loss: 0.3229, Val Loss: 0.4158\n",
      "\n"
     ]
    },
    {
     "name": "stderr",
     "output_type": "stream",
     "text": [
      "100%|██████████████████████████████████████████████████████████████████████| 12/12 [02:18<00:00, 11.57s/it, loss=0.346]\n",
      "100%|████████████████████████████████████████████████████████████████████████| 4/4 [00:10<00:00,  2.55s/it, loss=0.323]\n"
     ]
    },
    {
     "name": "stdout",
     "output_type": "stream",
     "text": [
      "Epoch 37/99\n",
      "----------\n",
      "Train Loss: 0.3258, Val Loss: 0.3533\n",
      "✅ Best model saved! (Val Loss: 0.35329577326774597)\n",
      "\n"
     ]
    },
    {
     "name": "stderr",
     "output_type": "stream",
     "text": [
      "100%|██████████████████████████████████████████████████████████████████████| 12/12 [02:05<00:00, 10.44s/it, loss=0.262]\n",
      "100%|████████████████████████████████████████████████████████████████████████| 4/4 [00:08<00:00,  2.16s/it, loss=0.435]\n"
     ]
    },
    {
     "name": "stdout",
     "output_type": "stream",
     "text": [
      "Epoch 38/99\n",
      "----------\n",
      "Train Loss: 0.3237, Val Loss: 0.4262\n",
      "\n"
     ]
    },
    {
     "name": "stderr",
     "output_type": "stream",
     "text": [
      "100%|██████████████████████████████████████████████████████████████████████| 12/12 [02:05<00:00, 10.47s/it, loss=0.329]\n",
      "100%|████████████████████████████████████████████████████████████████████████| 4/4 [00:08<00:00,  2.24s/it, loss=0.357]\n"
     ]
    },
    {
     "name": "stdout",
     "output_type": "stream",
     "text": [
      "Epoch 39/99\n",
      "----------\n",
      "Train Loss: 0.3132, Val Loss: 0.3656\n",
      "\n"
     ]
    },
    {
     "name": "stderr",
     "output_type": "stream",
     "text": [
      "100%|██████████████████████████████████████████████████████████████████████| 12/12 [02:13<00:00, 11.12s/it, loss=0.332]\n",
      "100%|████████████████████████████████████████████████████████████████████████| 4/4 [00:08<00:00,  2.03s/it, loss=0.371]\n"
     ]
    },
    {
     "name": "stdout",
     "output_type": "stream",
     "text": [
      "Epoch 40/99\n",
      "----------\n",
      "Train Loss: 0.2942, Val Loss: 0.3775\n",
      "\n"
     ]
    },
    {
     "name": "stderr",
     "output_type": "stream",
     "text": [
      "100%|██████████████████████████████████████████████████████████████████████| 12/12 [01:53<00:00,  9.46s/it, loss=0.277]\n",
      "100%|████████████████████████████████████████████████████████████████████████| 4/4 [00:07<00:00,  1.99s/it, loss=0.423]\n"
     ]
    },
    {
     "name": "stdout",
     "output_type": "stream",
     "text": [
      "Epoch 41/99\n",
      "----------\n",
      "Train Loss: 0.2839, Val Loss: 0.4063\n",
      "\n"
     ]
    },
    {
     "name": "stderr",
     "output_type": "stream",
     "text": [
      "100%|██████████████████████████████████████████████████████████████████████| 12/12 [01:51<00:00,  9.31s/it, loss=0.279]\n",
      "100%|████████████████████████████████████████████████████████████████████████| 4/4 [00:08<00:00,  2.02s/it, loss=0.337]\n"
     ]
    },
    {
     "name": "stdout",
     "output_type": "stream",
     "text": [
      "Epoch 42/99\n",
      "----------\n",
      "Train Loss: 0.2752, Val Loss: 0.3615\n",
      "\n"
     ]
    },
    {
     "name": "stderr",
     "output_type": "stream",
     "text": [
      "100%|██████████████████████████████████████████████████████████████████████| 12/12 [02:03<00:00, 10.29s/it, loss=0.293]\n",
      "100%|████████████████████████████████████████████████████████████████████████| 4/4 [00:09<00:00,  2.34s/it, loss=0.291]\n"
     ]
    },
    {
     "name": "stdout",
     "output_type": "stream",
     "text": [
      "Epoch 43/99\n",
      "----------\n",
      "Train Loss: 0.2676, Val Loss: 0.3145\n",
      "✅ Best model saved! (Val Loss: 0.3144753575325012)\n",
      "\n"
     ]
    },
    {
     "name": "stderr",
     "output_type": "stream",
     "text": [
      "100%|██████████████████████████████████████████████████████████████████████| 12/12 [02:02<00:00, 10.18s/it, loss=0.234]\n",
      "100%|████████████████████████████████████████████████████████████████████████| 4/4 [00:06<00:00,  1.75s/it, loss=0.426]\n"
     ]
    },
    {
     "name": "stdout",
     "output_type": "stream",
     "text": [
      "Epoch 44/99\n",
      "----------\n",
      "Train Loss: 0.2603, Val Loss: 0.3582\n",
      "\n"
     ]
    },
    {
     "name": "stderr",
     "output_type": "stream",
     "text": [
      "100%|██████████████████████████████████████████████████████████████████████| 12/12 [02:13<00:00, 11.09s/it, loss=0.242]\n",
      "100%|████████████████████████████████████████████████████████████████████████| 4/4 [00:10<00:00,  2.50s/it, loss=0.356]\n"
     ]
    },
    {
     "name": "stdout",
     "output_type": "stream",
     "text": [
      "Epoch 45/99\n",
      "----------\n",
      "Train Loss: 0.2525, Val Loss: 0.3313\n",
      "\n"
     ]
    },
    {
     "name": "stderr",
     "output_type": "stream",
     "text": [
      "100%|██████████████████████████████████████████████████████████████████████| 12/12 [02:07<00:00, 10.60s/it, loss=0.253]\n",
      "100%|████████████████████████████████████████████████████████████████████████| 4/4 [00:09<00:00,  2.27s/it, loss=0.336]\n"
     ]
    },
    {
     "name": "stdout",
     "output_type": "stream",
     "text": [
      "Epoch 46/99\n",
      "----------\n",
      "Train Loss: 0.2491, Val Loss: 0.3495\n",
      "\n"
     ]
    },
    {
     "name": "stderr",
     "output_type": "stream",
     "text": [
      "100%|██████████████████████████████████████████████████████████████████████| 12/12 [02:07<00:00, 10.60s/it, loss=0.258]\n",
      "100%|████████████████████████████████████████████████████████████████████████| 4/4 [00:08<00:00,  2.10s/it, loss=0.325]\n"
     ]
    },
    {
     "name": "stdout",
     "output_type": "stream",
     "text": [
      "Epoch 47/99\n",
      "----------\n",
      "Train Loss: 0.2493, Val Loss: 0.3326\n",
      "\n"
     ]
    },
    {
     "name": "stderr",
     "output_type": "stream",
     "text": [
      "100%|██████████████████████████████████████████████████████████████████████| 12/12 [02:09<00:00, 10.77s/it, loss=0.212]\n",
      "100%|████████████████████████████████████████████████████████████████████████| 4/4 [00:08<00:00,  2.04s/it, loss=0.309]\n"
     ]
    },
    {
     "name": "stdout",
     "output_type": "stream",
     "text": [
      "Epoch 48/99\n",
      "----------\n",
      "Train Loss: 0.2383, Val Loss: 0.3180\n",
      "\n"
     ]
    },
    {
     "name": "stderr",
     "output_type": "stream",
     "text": [
      "100%|██████████████████████████████████████████████████████████████████████| 12/12 [01:58<00:00,  9.85s/it, loss=0.226]\n",
      "100%|████████████████████████████████████████████████████████████████████████| 4/4 [00:08<00:00,  2.12s/it, loss=0.323]\n"
     ]
    },
    {
     "name": "stdout",
     "output_type": "stream",
     "text": [
      "Epoch 49/99\n",
      "----------\n",
      "Train Loss: 0.2386, Val Loss: 0.3289\n",
      "\n"
     ]
    },
    {
     "name": "stderr",
     "output_type": "stream",
     "text": [
      "100%|██████████████████████████████████████████████████████████████████████| 12/12 [01:58<00:00,  9.90s/it, loss=0.231]\n",
      "100%|████████████████████████████████████████████████████████████████████████| 4/4 [00:08<00:00,  2.11s/it, loss=0.283]\n"
     ]
    },
    {
     "name": "stdout",
     "output_type": "stream",
     "text": [
      "Epoch 50/99\n",
      "----------\n",
      "Train Loss: 0.2379, Val Loss: 0.3435\n",
      "\n"
     ]
    },
    {
     "name": "stderr",
     "output_type": "stream",
     "text": [
      "100%|██████████████████████████████████████████████████████████████████████| 12/12 [02:09<00:00, 10.81s/it, loss=0.224]\n",
      "100%|█████████████████████████████████████████████████████████████████████████| 4/4 [00:09<00:00,  2.44s/it, loss=0.44]\n"
     ]
    },
    {
     "name": "stdout",
     "output_type": "stream",
     "text": [
      "Epoch 51/99\n",
      "----------\n",
      "Train Loss: 0.2322, Val Loss: 0.4072\n",
      "\n"
     ]
    },
    {
     "name": "stderr",
     "output_type": "stream",
     "text": [
      "100%|██████████████████████████████████████████████████████████████████████| 12/12 [02:06<00:00, 10.58s/it, loss=0.246]\n",
      "100%|████████████████████████████████████████████████████████████████████████| 4/4 [00:07<00:00,  1.84s/it, loss=0.322]\n"
     ]
    },
    {
     "name": "stdout",
     "output_type": "stream",
     "text": [
      "Epoch 52/99\n",
      "----------\n",
      "Train Loss: 0.2356, Val Loss: 0.3752\n",
      "\n"
     ]
    },
    {
     "name": "stderr",
     "output_type": "stream",
     "text": [
      "100%|██████████████████████████████████████████████████████████████████████| 12/12 [02:18<00:00, 11.57s/it, loss=0.234]\n",
      "100%|████████████████████████████████████████████████████████████████████████| 4/4 [00:10<00:00,  2.74s/it, loss=0.357]\n"
     ]
    },
    {
     "name": "stdout",
     "output_type": "stream",
     "text": [
      "Epoch 53/99\n",
      "----------\n",
      "Train Loss: 0.2311, Val Loss: 0.3491\n",
      "\n"
     ]
    },
    {
     "name": "stderr",
     "output_type": "stream",
     "text": [
      "100%|██████████████████████████████████████████████████████████████████████| 12/12 [02:20<00:00, 11.71s/it, loss=0.289]\n",
      "100%|████████████████████████████████████████████████████████████████████████| 4/4 [00:10<00:00,  2.60s/it, loss=0.395]\n"
     ]
    },
    {
     "name": "stdout",
     "output_type": "stream",
     "text": [
      "Epoch 54/99\n",
      "----------\n",
      "Train Loss: 0.2344, Val Loss: 0.3861\n",
      "\n"
     ]
    },
    {
     "name": "stderr",
     "output_type": "stream",
     "text": [
      "100%|██████████████████████████████████████████████████████████████████████| 12/12 [02:18<00:00, 11.57s/it, loss=0.265]\n",
      "100%|████████████████████████████████████████████████████████████████████████| 4/4 [00:09<00:00,  2.35s/it, loss=0.333]\n"
     ]
    },
    {
     "name": "stdout",
     "output_type": "stream",
     "text": [
      "Epoch 55/99\n",
      "----------\n",
      "Train Loss: 0.2402, Val Loss: 0.3665\n",
      "\n"
     ]
    },
    {
     "name": "stderr",
     "output_type": "stream",
     "text": [
      "100%|███████████████████████████████████████████████████████████████████| 12/12 [1:15:53<00:00, 379.42s/it, loss=0.234]\n",
      "100%|████████████████████████████████████████████████████████████████████████| 4/4 [00:02<00:00,  1.52it/s, loss=0.271]\n"
     ]
    },
    {
     "name": "stdout",
     "output_type": "stream",
     "text": [
      "Epoch 56/99\n",
      "----------\n",
      "Train Loss: 0.2432, Val Loss: 0.3333\n",
      "\n"
     ]
    },
    {
     "name": "stderr",
     "output_type": "stream",
     "text": [
      "100%|██████████████████████████████████████████████████████████████████████| 12/12 [00:55<00:00,  4.61s/it, loss=0.193]\n",
      "100%|████████████████████████████████████████████████████████████████████████| 4/4 [00:02<00:00,  1.39it/s, loss=0.373]\n"
     ]
    },
    {
     "name": "stdout",
     "output_type": "stream",
     "text": [
      "Epoch 57/99\n",
      "----------\n",
      "Train Loss: 0.2309, Val Loss: 0.3630\n",
      "\n"
     ]
    },
    {
     "name": "stderr",
     "output_type": "stream",
     "text": [
      "100%|██████████████████████████████████████████████████████████████████████| 12/12 [00:53<00:00,  4.47s/it, loss=0.241]\n",
      "100%|████████████████████████████████████████████████████████████████████████| 4/4 [00:02<00:00,  1.46it/s, loss=0.402]\n"
     ]
    },
    {
     "name": "stdout",
     "output_type": "stream",
     "text": [
      "Epoch 58/99\n",
      "----------\n",
      "Train Loss: 0.2282, Val Loss: 0.4093\n",
      "\n"
     ]
    },
    {
     "name": "stderr",
     "output_type": "stream",
     "text": [
      "100%|██████████████████████████████████████████████████████████████████████| 12/12 [00:53<00:00,  4.43s/it, loss=0.222]\n",
      "100%|████████████████████████████████████████████████████████████████████████| 4/4 [00:02<00:00,  1.60it/s, loss=0.302]\n"
     ]
    },
    {
     "name": "stdout",
     "output_type": "stream",
     "text": [
      "Epoch 59/99\n",
      "----------\n",
      "Train Loss: 0.2192, Val Loss: 0.3175\n",
      "\n"
     ]
    },
    {
     "name": "stderr",
     "output_type": "stream",
     "text": [
      "100%|██████████████████████████████████████████████████████████████████████| 12/12 [00:51<00:00,  4.29s/it, loss=0.229]\n",
      "100%|████████████████████████████████████████████████████████████████████████| 4/4 [00:02<00:00,  1.59it/s, loss=0.422]\n"
     ]
    },
    {
     "name": "stdout",
     "output_type": "stream",
     "text": [
      "Epoch 60/99\n",
      "----------\n",
      "Train Loss: 0.2130, Val Loss: 0.3577\n",
      "\n"
     ]
    },
    {
     "name": "stderr",
     "output_type": "stream",
     "text": [
      "100%|████████████████████████████████████████████████████████████████████████| 12/12 [00:50<00:00,  4.22s/it, loss=0.2]\n",
      "100%|████████████████████████████████████████████████████████████████████████| 4/4 [00:02<00:00,  1.62it/s, loss=0.379]\n"
     ]
    },
    {
     "name": "stdout",
     "output_type": "stream",
     "text": [
      "Epoch 61/99\n",
      "----------\n",
      "Train Loss: 0.2008, Val Loss: 0.3419\n",
      "\n"
     ]
    },
    {
     "name": "stderr",
     "output_type": "stream",
     "text": [
      "100%|██████████████████████████████████████████████████████████████████████| 12/12 [00:50<00:00,  4.21s/it, loss=0.211]\n",
      "100%|████████████████████████████████████████████████████████████████████████| 4/4 [00:02<00:00,  1.68it/s, loss=0.407]\n"
     ]
    },
    {
     "name": "stdout",
     "output_type": "stream",
     "text": [
      "Epoch 62/99\n",
      "----------\n",
      "Train Loss: 0.2027, Val Loss: 0.3558\n",
      "\n"
     ]
    },
    {
     "name": "stderr",
     "output_type": "stream",
     "text": [
      "100%|██████████████████████████████████████████████████████████████████████| 12/12 [00:51<00:00,  4.30s/it, loss=0.195]\n",
      "100%|████████████████████████████████████████████████████████████████████████| 4/4 [00:02<00:00,  1.67it/s, loss=0.278]\n"
     ]
    },
    {
     "name": "stdout",
     "output_type": "stream",
     "text": [
      "Epoch 63/99\n",
      "----------\n",
      "Train Loss: 0.2004, Val Loss: 0.2988\n",
      "✅ Best model saved! (Val Loss: 0.29884172976017)\n",
      "\n"
     ]
    },
    {
     "name": "stderr",
     "output_type": "stream",
     "text": [
      "100%|██████████████████████████████████████████████████████████████████████| 12/12 [00:50<00:00,  4.20s/it, loss=0.219]\n",
      "100%|████████████████████████████████████████████████████████████████████████| 4/4 [00:02<00:00,  1.67it/s, loss=0.296]\n"
     ]
    },
    {
     "name": "stdout",
     "output_type": "stream",
     "text": [
      "Epoch 64/99\n",
      "----------\n",
      "Train Loss: 0.1936, Val Loss: 0.3278\n",
      "\n"
     ]
    },
    {
     "name": "stderr",
     "output_type": "stream",
     "text": [
      "100%|██████████████████████████████████████████████████████████████████████| 12/12 [00:51<00:00,  4.30s/it, loss=0.184]\n",
      "100%|████████████████████████████████████████████████████████████████████████| 4/4 [00:02<00:00,  1.67it/s, loss=0.328]\n"
     ]
    },
    {
     "name": "stdout",
     "output_type": "stream",
     "text": [
      "Epoch 65/99\n",
      "----------\n",
      "Train Loss: 0.1922, Val Loss: 0.3183\n",
      "\n"
     ]
    },
    {
     "name": "stderr",
     "output_type": "stream",
     "text": [
      "100%|██████████████████████████████████████████████████████████████████████| 12/12 [00:49<00:00,  4.14s/it, loss=0.186]\n",
      "100%|████████████████████████████████████████████████████████████████████████| 4/4 [00:02<00:00,  1.67it/s, loss=0.359]\n"
     ]
    },
    {
     "name": "stdout",
     "output_type": "stream",
     "text": [
      "Epoch 66/99\n",
      "----------\n",
      "Train Loss: 0.1950, Val Loss: 0.3168\n",
      "\n"
     ]
    },
    {
     "name": "stderr",
     "output_type": "stream",
     "text": [
      "100%|██████████████████████████████████████████████████████████████████████| 12/12 [00:49<00:00,  4.16s/it, loss=0.198]\n",
      "100%|████████████████████████████████████████████████████████████████████████| 4/4 [00:02<00:00,  1.66it/s, loss=0.322]\n"
     ]
    },
    {
     "name": "stdout",
     "output_type": "stream",
     "text": [
      "Epoch 67/99\n",
      "----------\n",
      "Train Loss: 0.1944, Val Loss: 0.3217\n",
      "\n"
     ]
    },
    {
     "name": "stderr",
     "output_type": "stream",
     "text": [
      "100%|██████████████████████████████████████████████████████████████████████| 12/12 [00:50<00:00,  4.22s/it, loss=0.227]\n",
      "100%|████████████████████████████████████████████████████████████████████████| 4/4 [00:02<00:00,  1.65it/s, loss=0.292]\n"
     ]
    },
    {
     "name": "stdout",
     "output_type": "stream",
     "text": [
      "Epoch 68/99\n",
      "----------\n",
      "Train Loss: 0.1913, Val Loss: 0.3204\n",
      "\n"
     ]
    },
    {
     "name": "stderr",
     "output_type": "stream",
     "text": [
      "100%|██████████████████████████████████████████████████████████████████████| 12/12 [00:50<00:00,  4.21s/it, loss=0.172]\n",
      "100%|████████████████████████████████████████████████████████████████████████| 4/4 [00:02<00:00,  1.66it/s, loss=0.314]\n"
     ]
    },
    {
     "name": "stdout",
     "output_type": "stream",
     "text": [
      "Epoch 69/99\n",
      "----------\n",
      "Train Loss: 0.1837, Val Loss: 0.2986\n",
      "✅ Best model saved! (Val Loss: 0.29856202751398087)\n",
      "\n"
     ]
    },
    {
     "name": "stderr",
     "output_type": "stream",
     "text": [
      "100%|██████████████████████████████████████████████████████████████████████| 12/12 [00:50<00:00,  4.25s/it, loss=0.187]\n",
      "100%|████████████████████████████████████████████████████████████████████████| 4/4 [00:02<00:00,  1.65it/s, loss=0.305]\n"
     ]
    },
    {
     "name": "stdout",
     "output_type": "stream",
     "text": [
      "Epoch 70/99\n",
      "----------\n",
      "Train Loss: 0.1774, Val Loss: 0.3049\n",
      "\n"
     ]
    },
    {
     "name": "stderr",
     "output_type": "stream",
     "text": [
      "100%|██████████████████████████████████████████████████████████████████████| 12/12 [00:51<00:00,  4.32s/it, loss=0.176]\n",
      "100%|████████████████████████████████████████████████████████████████████████| 4/4 [00:02<00:00,  1.66it/s, loss=0.361]\n"
     ]
    },
    {
     "name": "stdout",
     "output_type": "stream",
     "text": [
      "Epoch 71/99\n",
      "----------\n",
      "Train Loss: 0.1745, Val Loss: 0.3361\n",
      "\n"
     ]
    },
    {
     "name": "stderr",
     "output_type": "stream",
     "text": [
      "100%|██████████████████████████████████████████████████████████████████████| 12/12 [00:50<00:00,  4.24s/it, loss=0.184]\n",
      "100%|██████████████████████████████████████████████████████████████████████████| 4/4 [00:02<00:00,  1.66it/s, loss=0.3]\n"
     ]
    },
    {
     "name": "stdout",
     "output_type": "stream",
     "text": [
      "Epoch 72/99\n",
      "----------\n",
      "Train Loss: 0.1839, Val Loss: 0.3089\n",
      "\n"
     ]
    },
    {
     "name": "stderr",
     "output_type": "stream",
     "text": [
      "100%|██████████████████████████████████████████████████████████████████████| 12/12 [00:52<00:00,  4.34s/it, loss=0.183]\n",
      "100%|████████████████████████████████████████████████████████████████████████| 4/4 [00:02<00:00,  1.66it/s, loss=0.357]\n"
     ]
    },
    {
     "name": "stdout",
     "output_type": "stream",
     "text": [
      "Epoch 73/99\n",
      "----------\n",
      "Train Loss: 0.1899, Val Loss: 0.3245\n",
      "\n"
     ]
    },
    {
     "name": "stderr",
     "output_type": "stream",
     "text": [
      "100%|██████████████████████████████████████████████████████████████████████| 12/12 [00:49<00:00,  4.16s/it, loss=0.186]\n",
      "100%|████████████████████████████████████████████████████████████████████████| 4/4 [00:02<00:00,  1.66it/s, loss=0.321]\n"
     ]
    },
    {
     "name": "stdout",
     "output_type": "stream",
     "text": [
      "Epoch 74/99\n",
      "----------\n",
      "Train Loss: 0.1878, Val Loss: 0.3405\n",
      "\n"
     ]
    },
    {
     "name": "stderr",
     "output_type": "stream",
     "text": [
      "100%|██████████████████████████████████████████████████████████████████████| 12/12 [00:49<00:00,  4.17s/it, loss=0.206]\n",
      "100%|████████████████████████████████████████████████████████████████████████| 4/4 [00:02<00:00,  1.66it/s, loss=0.308]\n"
     ]
    },
    {
     "name": "stdout",
     "output_type": "stream",
     "text": [
      "Epoch 75/99\n",
      "----------\n",
      "Train Loss: 0.1844, Val Loss: 0.3187\n",
      "\n"
     ]
    },
    {
     "name": "stderr",
     "output_type": "stream",
     "text": [
      "100%|██████████████████████████████████████████████████████████████████████| 12/12 [00:50<00:00,  4.23s/it, loss=0.194]\n",
      "100%|████████████████████████████████████████████████████████████████████████| 4/4 [00:02<00:00,  1.67it/s, loss=0.324]\n"
     ]
    },
    {
     "name": "stdout",
     "output_type": "stream",
     "text": [
      "Epoch 76/99\n",
      "----------\n",
      "Train Loss: 0.1807, Val Loss: 0.3464\n",
      "\n"
     ]
    },
    {
     "name": "stderr",
     "output_type": "stream",
     "text": [
      "100%|███████████████████████████████████████████████████████████████████████| 12/12 [00:50<00:00,  4.22s/it, loss=0.18]\n",
      "100%|█████████████████████████████████████████████████████████████████████████| 4/4 [00:02<00:00,  1.66it/s, loss=0.26]\n"
     ]
    },
    {
     "name": "stdout",
     "output_type": "stream",
     "text": [
      "Epoch 77/99\n",
      "----------\n",
      "Train Loss: 0.1748, Val Loss: 0.2797\n",
      "✅ Best model saved! (Val Loss: 0.27968280017375946)\n",
      "\n"
     ]
    },
    {
     "name": "stderr",
     "output_type": "stream",
     "text": [
      "100%|██████████████████████████████████████████████████████████████████████| 12/12 [00:51<00:00,  4.26s/it, loss=0.181]\n",
      "100%|████████████████████████████████████████████████████████████████████████| 4/4 [00:02<00:00,  1.64it/s, loss=0.306]\n"
     ]
    },
    {
     "name": "stdout",
     "output_type": "stream",
     "text": [
      "Epoch 78/99\n",
      "----------\n",
      "Train Loss: 0.1702, Val Loss: 0.3040\n",
      "\n"
     ]
    },
    {
     "name": "stderr",
     "output_type": "stream",
     "text": [
      "100%|██████████████████████████████████████████████████████████████████████| 12/12 [00:52<00:00,  4.34s/it, loss=0.161]\n",
      "100%|█████████████████████████████████████████████████████████████████████████| 4/4 [00:02<00:00,  1.59it/s, loss=0.32]\n"
     ]
    },
    {
     "name": "stdout",
     "output_type": "stream",
     "text": [
      "Epoch 79/99\n",
      "----------\n",
      "Train Loss: 0.1655, Val Loss: 0.3080\n",
      "\n"
     ]
    },
    {
     "name": "stderr",
     "output_type": "stream",
     "text": [
      "100%|██████████████████████████████████████████████████████████████████████| 12/12 [00:52<00:00,  4.39s/it, loss=0.158]\n",
      "100%|████████████████████████████████████████████████████████████████████████| 4/4 [00:02<00:00,  1.49it/s, loss=0.278]\n"
     ]
    },
    {
     "name": "stdout",
     "output_type": "stream",
     "text": [
      "Epoch 80/99\n",
      "----------\n",
      "Train Loss: 0.1662, Val Loss: 0.3265\n",
      "\n"
     ]
    },
    {
     "name": "stderr",
     "output_type": "stream",
     "text": [
      "100%|██████████████████████████████████████████████████████████████████████| 12/12 [00:55<00:00,  4.62s/it, loss=0.178]\n",
      "100%|████████████████████████████████████████████████████████████████████████| 4/4 [00:03<00:00,  1.30it/s, loss=0.315]\n"
     ]
    },
    {
     "name": "stdout",
     "output_type": "stream",
     "text": [
      "Epoch 81/99\n",
      "----------\n",
      "Train Loss: 0.1607, Val Loss: 0.3237\n",
      "\n"
     ]
    },
    {
     "name": "stderr",
     "output_type": "stream",
     "text": [
      "100%|██████████████████████████████████████████████████████████████████████| 12/12 [00:54<00:00,  4.54s/it, loss=0.174]\n",
      "100%|████████████████████████████████████████████████████████████████████████| 4/4 [00:02<00:00,  1.42it/s, loss=0.389]\n"
     ]
    },
    {
     "name": "stdout",
     "output_type": "stream",
     "text": [
      "Epoch 82/99\n",
      "----------\n",
      "Train Loss: 0.1555, Val Loss: 0.3307\n",
      "\n"
     ]
    },
    {
     "name": "stderr",
     "output_type": "stream",
     "text": [
      "100%|███████████████████████████████████████████████████████████████████████| 12/12 [00:53<00:00,  4.42s/it, loss=0.14]\n",
      "100%|████████████████████████████████████████████████████████████████████████| 4/4 [00:02<00:00,  1.57it/s, loss=0.277]\n"
     ]
    },
    {
     "name": "stdout",
     "output_type": "stream",
     "text": [
      "Epoch 83/99\n",
      "----------\n",
      "Train Loss: 0.1541, Val Loss: 0.3040\n",
      "\n"
     ]
    },
    {
     "name": "stderr",
     "output_type": "stream",
     "text": [
      "100%|██████████████████████████████████████████████████████████████████████| 12/12 [00:51<00:00,  4.33s/it, loss=0.153]\n",
      "100%|████████████████████████████████████████████████████████████████████████| 4/4 [00:02<00:00,  1.63it/s, loss=0.321]\n"
     ]
    },
    {
     "name": "stdout",
     "output_type": "stream",
     "text": [
      "Epoch 84/99\n",
      "----------\n",
      "Train Loss: 0.1514, Val Loss: 0.3393\n",
      "\n"
     ]
    },
    {
     "name": "stderr",
     "output_type": "stream",
     "text": [
      "100%|██████████████████████████████████████████████████████████████████████| 12/12 [00:53<00:00,  4.44s/it, loss=0.169]\n",
      "100%|████████████████████████████████████████████████████████████████████████| 4/4 [00:02<00:00,  1.54it/s, loss=0.321]\n"
     ]
    },
    {
     "name": "stdout",
     "output_type": "stream",
     "text": [
      "Epoch 85/99\n",
      "----------\n",
      "Train Loss: 0.1540, Val Loss: 0.3323\n",
      "\n"
     ]
    },
    {
     "name": "stderr",
     "output_type": "stream",
     "text": [
      "100%|██████████████████████████████████████████████████████████████████████| 12/12 [00:54<00:00,  4.56s/it, loss=0.139]\n",
      "100%|████████████████████████████████████████████████████████████████████████| 4/4 [00:02<00:00,  1.54it/s, loss=0.315]\n"
     ]
    },
    {
     "name": "stdout",
     "output_type": "stream",
     "text": [
      "Epoch 86/99\n",
      "----------\n",
      "Train Loss: 0.1507, Val Loss: 0.3112\n",
      "\n"
     ]
    },
    {
     "name": "stderr",
     "output_type": "stream",
     "text": [
      "100%|██████████████████████████████████████████████████████████████████████| 12/12 [00:53<00:00,  4.45s/it, loss=0.159]\n",
      "100%|█████████████████████████████████████████████████████████████████████████| 4/4 [00:02<00:00,  1.64it/s, loss=0.38]\n"
     ]
    },
    {
     "name": "stdout",
     "output_type": "stream",
     "text": [
      "Epoch 87/99\n",
      "----------\n",
      "Train Loss: 0.1468, Val Loss: 0.3382\n",
      "\n"
     ]
    },
    {
     "name": "stderr",
     "output_type": "stream",
     "text": [
      "100%|██████████████████████████████████████████████████████████████████████| 12/12 [00:52<00:00,  4.37s/it, loss=0.151]\n",
      "100%|████████████████████████████████████████████████████████████████████████| 4/4 [00:02<00:00,  1.58it/s, loss=0.315]\n"
     ]
    },
    {
     "name": "stdout",
     "output_type": "stream",
     "text": [
      "Epoch 88/99\n",
      "----------\n",
      "Train Loss: 0.1434, Val Loss: 0.3211\n",
      "\n"
     ]
    },
    {
     "name": "stderr",
     "output_type": "stream",
     "text": [
      "100%|██████████████████████████████████████████████████████████████████████| 12/12 [00:54<00:00,  4.55s/it, loss=0.149]\n",
      "100%|████████████████████████████████████████████████████████████████████████| 4/4 [00:02<00:00,  1.51it/s, loss=0.304]\n"
     ]
    },
    {
     "name": "stdout",
     "output_type": "stream",
     "text": [
      "Epoch 89/99\n",
      "----------\n",
      "Train Loss: 0.1447, Val Loss: 0.3299\n",
      "\n"
     ]
    },
    {
     "name": "stderr",
     "output_type": "stream",
     "text": [
      "100%|███████████████████████████████████████████████████████████████████████| 12/12 [00:53<00:00,  4.45s/it, loss=0.17]\n",
      "100%|████████████████████████████████████████████████████████████████████████| 4/4 [00:02<00:00,  1.66it/s, loss=0.398]\n"
     ]
    },
    {
     "name": "stdout",
     "output_type": "stream",
     "text": [
      "Epoch 90/99\n",
      "----------\n",
      "Train Loss: 0.1411, Val Loss: 0.3450\n",
      "\n"
     ]
    },
    {
     "name": "stderr",
     "output_type": "stream",
     "text": [
      "100%|██████████████████████████████████████████████████████████████████████| 12/12 [00:51<00:00,  4.29s/it, loss=0.149]\n",
      "100%|████████████████████████████████████████████████████████████████████████| 4/4 [00:02<00:00,  1.67it/s, loss=0.327]\n"
     ]
    },
    {
     "name": "stdout",
     "output_type": "stream",
     "text": [
      "Epoch 91/99\n",
      "----------\n",
      "Train Loss: 0.1376, Val Loss: 0.3227\n",
      "\n"
     ]
    },
    {
     "name": "stderr",
     "output_type": "stream",
     "text": [
      "100%|██████████████████████████████████████████████████████████████████████| 12/12 [00:51<00:00,  4.25s/it, loss=0.151]\n",
      "100%|████████████████████████████████████████████████████████████████████████| 4/4 [00:02<00:00,  1.64it/s, loss=0.345]\n"
     ]
    },
    {
     "name": "stdout",
     "output_type": "stream",
     "text": [
      "Epoch 92/99\n",
      "----------\n",
      "Train Loss: 0.1435, Val Loss: 0.3348\n",
      "\n"
     ]
    },
    {
     "name": "stderr",
     "output_type": "stream",
     "text": [
      "100%|██████████████████████████████████████████████████████████████████████| 12/12 [00:50<00:00,  4.22s/it, loss=0.155]\n",
      "100%|████████████████████████████████████████████████████████████████████████| 4/4 [00:02<00:00,  1.62it/s, loss=0.284]\n"
     ]
    },
    {
     "name": "stdout",
     "output_type": "stream",
     "text": [
      "Epoch 93/99\n",
      "----------\n",
      "Train Loss: 0.1488, Val Loss: 0.2853\n",
      "\n"
     ]
    },
    {
     "name": "stderr",
     "output_type": "stream",
     "text": [
      "100%|██████████████████████████████████████████████████████████████████████| 12/12 [00:51<00:00,  4.31s/it, loss=0.143]\n",
      "100%|████████████████████████████████████████████████████████████████████████| 4/4 [00:02<00:00,  1.51it/s, loss=0.275]\n"
     ]
    },
    {
     "name": "stdout",
     "output_type": "stream",
     "text": [
      "Epoch 94/99\n",
      "----------\n",
      "Train Loss: 0.1447, Val Loss: 0.2928\n",
      "\n"
     ]
    },
    {
     "name": "stderr",
     "output_type": "stream",
     "text": [
      "100%|██████████████████████████████████████████████████████████████████████| 12/12 [00:55<00:00,  4.62s/it, loss=0.124]\n",
      "100%|████████████████████████████████████████████████████████████████████████| 4/4 [00:02<00:00,  1.55it/s, loss=0.292]\n"
     ]
    },
    {
     "name": "stdout",
     "output_type": "stream",
     "text": [
      "Epoch 95/99\n",
      "----------\n",
      "Train Loss: 0.1367, Val Loss: 0.3367\n",
      "\n"
     ]
    },
    {
     "name": "stderr",
     "output_type": "stream",
     "text": [
      "100%|██████████████████████████████████████████████████████████████████████| 12/12 [00:55<00:00,  4.61s/it, loss=0.149]\n",
      "100%|████████████████████████████████████████████████████████████████████████| 4/4 [00:02<00:00,  1.52it/s, loss=0.313]\n"
     ]
    },
    {
     "name": "stdout",
     "output_type": "stream",
     "text": [
      "Epoch 96/99\n",
      "----------\n",
      "Train Loss: 0.1328, Val Loss: 0.3128\n",
      "\n"
     ]
    },
    {
     "name": "stderr",
     "output_type": "stream",
     "text": [
      "100%|██████████████████████████████████████████████████████████████████████| 12/12 [00:55<00:00,  4.59s/it, loss=0.127]\n",
      "100%|████████████████████████████████████████████████████████████████████████| 4/4 [00:02<00:00,  1.61it/s, loss=0.382]\n"
     ]
    },
    {
     "name": "stdout",
     "output_type": "stream",
     "text": [
      "Epoch 97/99\n",
      "----------\n",
      "Train Loss: 0.1316, Val Loss: 0.3450\n",
      "\n"
     ]
    },
    {
     "name": "stderr",
     "output_type": "stream",
     "text": [
      " 25%|█████████████████▊                                                     | 3/12 [00:13<00:40,  4.47s/it, loss=0.124]"
     ]
    }
   ],
   "source": [
    "model, logs = train(train_dataloader, val_dataloader, model, loss_fn, optim, 100, log_freq=1, save_best_model=True, \n",
    "              best_model_name='best_model_cross.pth', last_model_name='last_model_cross.pth', save_path=MODEL_PATH)\n",
    "print(f\"CUDA GPU: {torch.cuda.get_device_name(0)}\")\n",
    "print(f\"Architecture: UNET CrossEntropyLoss\")"
   ]
  },
  {
   "cell_type": "code",
   "execution_count": null,
   "metadata": {},
   "outputs": [],
   "source": [
    "logs_df = pd.DataFrame(logs)\n",
    "logs_df.to_csv(os.path.join(METRIC_PATH, 'train_unet_cross.csv'), index=False)"
   ]
  },
  {
   "cell_type": "markdown",
   "metadata": {},
   "source": [
    "## Training UNET with DiceLoss + CrossEntropyLoss"
   ]
  },
  {
   "cell_type": "code",
   "execution_count": null,
   "metadata": {},
   "outputs": [],
   "source": [
    "\n",
    "model = UNET(in_channels=3, out_channels=len(labels_df))\n",
    "model.cuda()\n",
    "loss_fn = DiceCrossEntropyLoss()\n",
    "optim = torch.optim.Adam(model.parameters(), lr = 1e-3)\n",
    "print(model.out_channels)"
   ]
  },
  {
   "cell_type": "code",
   "execution_count": null,
   "metadata": {},
   "outputs": [],
   "source": [
    "model, logs = train(train_dataloader, val_dataloader, model, loss_fn, optim, 100, log_freq=1, save_best_model=True, \n",
    "              best_model_name='best_model_combined.pth', last_model_name='last_model_combined.pth', save_path=MODEL_PATH)\n",
    "print(f\"CUDA GPU: {torch.cuda.get_device_name(0)}\")\n",
    "print(f\"Architecture: UNET DiceLoss+CrossEntropyLoss\")"
   ]
  },
  {
   "cell_type": "code",
   "execution_count": null,
   "metadata": {},
   "outputs": [],
   "source": [
    "logs_df = pd.DataFrame(logs)\n",
    "logs_df.to_csv(os.path.join(METRIC_PATH, 'train_unet_combined.csv'), index=False)"
   ]
  },
  {
   "cell_type": "code",
   "execution_count": null,
   "metadata": {},
   "outputs": [],
   "source": []
  }
 ],
 "metadata": {
  "accelerator": "GPU",
  "colab": {
   "gpuType": "T4",
   "provenance": []
  },
  "kernelspec": {
   "display_name": "Python 3 (ipykernel)",
   "language": "python",
   "name": "python3"
  },
  "language_info": {
   "codemirror_mode": {
    "name": "ipython",
    "version": 3
   },
   "file_extension": ".py",
   "mimetype": "text/x-python",
   "name": "python",
   "nbconvert_exporter": "python",
   "pygments_lexer": "ipython3",
   "version": "3.11.11"
  }
 },
 "nbformat": 4,
 "nbformat_minor": 4
}
