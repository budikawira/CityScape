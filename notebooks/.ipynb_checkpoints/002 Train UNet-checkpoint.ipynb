{
 "cells": [
  {
   "cell_type": "markdown",
   "metadata": {
    "id": "dVxGqaMqppnt"
   },
   "source": [
    "## Prepare datasets"
   ]
  },
  {
   "cell_type": "code",
   "execution_count": 1,
   "metadata": {
    "colab": {
     "base_uri": "https://localhost:8080/"
    },
    "id": "xvM8hwMIproK",
    "outputId": "756308a8-203b-40e7-a2a9-b4815d8e4ce0"
   },
   "outputs": [],
   "source": [
    "# from google.colab import drive\n",
    "\n",
    "# drive.mount(\"/content/drive\")"
   ]
  },
  {
   "cell_type": "code",
   "execution_count": 2,
   "metadata": {},
   "outputs": [],
   "source": [
    "import os\n",
    "import numpy as np\n",
    "import pandas as pd"
   ]
  },
  {
   "cell_type": "code",
   "execution_count": 3,
   "metadata": {
    "id": "8cNmPnRXqFT_"
   },
   "outputs": [],
   "source": [
    "TRAIN_IMG_PATH = \"../dataset/bootcamp/train/images\"\n",
    "TRAIN_MASK_PATH = \"../dataset/bootcamp/train/annotations\"\n",
    "TEST_IMG_PATH = \"../dataset/bootcamp/test/images\"\n",
    "TEST_MASK_PATH = \"../dataset/bootcamp/test/annotations\"\n",
    "\n",
    "EDA_TRAIN_PATH = \"../dataset/bootcamp/train\"\n",
    "EDA_TRAIN_LABELS = os.path.join(EDA_TRAIN_PATH, \"train_labels.csv\")\n",
    "EDA_TRAIN_FILES = os.path.join(EDA_TRAIN_PATH, \"train_files.csv\")\n",
    "\n",
    "MODEL_PATH = \"../models/UNet\"\n",
    "\n",
    "os.makedirs(MODEL_PATH, exist_ok=True)  # Ensure directory exist"
   ]
  },
  {
   "cell_type": "code",
   "execution_count": 4,
   "metadata": {},
   "outputs": [],
   "source": [
    "files_df = pd.read_csv(EDA_TRAIN_FILES)\n",
    "labels_df = pd.read_csv(EDA_TRAIN_LABELS)"
   ]
  },
  {
   "cell_type": "code",
   "execution_count": 5,
   "metadata": {},
   "outputs": [
    {
     "name": "stdout",
     "output_type": "stream",
     "text": [
      "            filename\n",
      "0  0001TP_006690.png\n",
      "1  0001TP_006720.png\n",
      "2  0001TP_006750.png\n",
      "3  0001TP_006780.png\n",
      "4  0001TP_006810.png\n",
      "\n",
      "   class     label\n",
      "0      0       sky\n",
      "1      1  building\n",
      "2      2      pole\n",
      "3      3      road\n",
      "4      4  sidewalk\n",
      "\n",
      "['0001TP_006690.png' '0001TP_006720.png' '0001TP_006750.png'\n",
      " '0001TP_006780.png' '0001TP_006810.png']\n"
     ]
    }
   ],
   "source": [
    "print(files_df.head())\n",
    "print()\n",
    "print(labels_df.head())\n",
    "print()\n",
    "train_files = files_df['filename'].to_numpy()\n",
    "print(train_files[:5])\n"
   ]
  },
  {
   "cell_type": "markdown",
   "metadata": {
    "id": "cfwctuSTpnIy"
   },
   "source": [
    "## Import some Library"
   ]
  },
  {
   "cell_type": "code",
   "execution_count": 6,
   "metadata": {
    "id": "4Rwt1IEZokg6"
   },
   "outputs": [],
   "source": [
    "import torch\n",
    "import torch.nn as nn\n",
    "import numpy as np\n",
    "import albumentations as A\n",
    "from albumentations.pytorch import ToTensorV2\n",
    "import os\n",
    "import matplotlib.pyplot as plt"
   ]
  },
  {
   "cell_type": "markdown",
   "metadata": {
    "id": "mxtL9QB1qfyF"
   },
   "source": [
    "## Datasets Loader"
   ]
  },
  {
   "cell_type": "code",
   "execution_count": 7,
   "metadata": {},
   "outputs": [],
   "source": [
    "# refer to dataset.py\n",
    "from dataset import CityScapes"
   ]
  },
  {
   "cell_type": "code",
   "execution_count": 8,
   "metadata": {},
   "outputs": [
    {
     "name": "stdout",
     "output_type": "stream",
     "text": [
      "tensor([[[-1.8439, -1.9124, -1.8782,  ..., -1.8268, -1.8610, -1.8268],\n",
      "         [-1.8782, -1.8782, -1.8953,  ..., -1.8268, -1.8610, -1.8268],\n",
      "         [-1.8953, -1.8610, -1.8610,  ..., -1.9124, -1.8782, -1.8439],\n",
      "         ...,\n",
      "         [-1.8610, -1.8610, -1.8439,  ..., -1.7240, -1.6727, -1.6727],\n",
      "         [-1.8439, -1.8439, -1.8439,  ..., -1.6898, -1.6213, -1.7240],\n",
      "         [-1.8439, -1.8610, -1.8439,  ..., -1.7240, -1.7240, -1.7412]],\n",
      "\n",
      "        [[-1.7556, -1.8256, -1.7906,  ..., -1.6681, -1.7031, -1.7206],\n",
      "         [-1.7906, -1.7906, -1.8081,  ..., -1.6681, -1.7031, -1.7206],\n",
      "         [-1.8081, -1.7731, -1.7731,  ..., -1.7556, -1.7206, -1.7381],\n",
      "         ...,\n",
      "         [-1.7556, -1.7556, -1.7381,  ..., -1.4580, -1.4055, -1.3880],\n",
      "         [-1.7381, -1.7381, -1.7381,  ..., -1.4580, -1.3704, -1.4405],\n",
      "         [-1.7556, -1.7556, -1.7381,  ..., -1.4580, -1.4405, -1.4580]],\n",
      "\n",
      "        [[-1.5256, -1.5953, -1.5604,  ..., -1.4210, -1.4559, -1.4384],\n",
      "         [-1.5604, -1.5604, -1.5779,  ..., -1.4210, -1.4559, -1.4559],\n",
      "         [-1.5779, -1.5430, -1.5430,  ..., -1.5081, -1.4733, -1.4733],\n",
      "         ...,\n",
      "         [-1.4907, -1.4907, -1.4733,  ..., -1.1247, -1.0724, -1.1421],\n",
      "         [-1.4733, -1.4733, -1.4733,  ..., -1.1421, -1.0898, -1.1421],\n",
      "         [-1.4733, -1.4907, -1.4733,  ..., -1.1421, -1.1421, -1.1421]]])\n",
      "\n",
      "tensor([[ 1,  1,  1,  ...,  1,  1,  1],\n",
      "        [ 1,  1,  1,  ...,  1,  1,  1],\n",
      "        [ 1,  1,  1,  ...,  1,  1,  1],\n",
      "        ...,\n",
      "        [ 4,  4,  4,  ..., 11, 11, 11],\n",
      "        [ 4,  4,  4,  ..., 11, 11, 11],\n",
      "        [ 4,  4,  4,  ..., 11, 11, 11]], dtype=torch.uint8)\n",
      "\n",
      "torch.Size([3, 256, 256])\n",
      "\n",
      "torch.Size([256, 256])\n"
     ]
    }
   ],
   "source": [
    "train_datasets = CityScapes(TRAIN_IMG_PATH, TRAIN_MASK_PATH, train_files)\n",
    "image, mask = train_datasets.__getitem__(0)\n",
    "print(image)\n",
    "print()\n",
    "print(mask)\n",
    "print()\n",
    "print(image.shape)\n",
    "print()\n",
    "print(mask.shape)\n",
    "\n",
    "val_datasets = CityScapes(VAL_IMG_PATH, VAL_MASK_PATH, train_files)"
   ]
  },
  {
   "cell_type": "code",
   "execution_count": 9,
   "metadata": {},
   "outputs": [],
   "source": [
    "from torch.utils.data import DataLoader\n",
    "\n",
    "train_dataloader = DataLoader(train_datasets, batch_size=32, shuffle=True, num_workers=0)\n",
    "val_dataloader = DataLoader(val_datasets, batch_size=32, shuffle=True, num_workers=0)"
   ]
  },
  {
   "cell_type": "markdown",
   "metadata": {
    "id": "rQhZ2-u3q1-p"
   },
   "source": [
    "## Model Architecture"
   ]
  },
  {
   "cell_type": "markdown",
   "metadata": {
    "id": "uBovn13orATR"
   },
   "source": [
    "- DoubleConv"
   ]
  },
  {
   "cell_type": "markdown",
   "metadata": {
    "id": "m8UbChejq4KB"
   },
   "source": [
    "- Unet"
   ]
  },
  {
   "cell_type": "code",
   "execution_count": 10,
   "metadata": {
    "id": "-2xJJ2qpq58l"
   },
   "outputs": [],
   "source": [
    "from architecture import UNET"
   ]
  },
  {
   "cell_type": "markdown",
   "metadata": {
    "id": "YUYBnO-iq0SW"
   },
   "source": [
    "## Engine function"
   ]
  },
  {
   "cell_type": "markdown",
   "metadata": {
    "id": "iFRJ2NbgsoLl"
   },
   "source": [
    "- Dice coefficient metrics"
   ]
  },
  {
   "cell_type": "code",
   "execution_count": 11,
   "metadata": {
    "id": "n5zHKY1UsnuK"
   },
   "outputs": [
    {
     "name": "stderr",
     "output_type": "stream",
     "text": [
      "Z:\\BEKA\\2025\\AI\\Bootcamp\\Source\\Advanced CV\\Project 3\\notebooks\\engine.py:108: FutureWarning: `torch.cuda.amp.GradScaler(args...)` is deprecated. Please use `torch.amp.GradScaler('cuda', args...)` instead.\n",
      "  def train_engine(dataloader, model, loss_fn, optim, scaler=torch.cuda.amp.GradScaler()):\n"
     ]
    }
   ],
   "source": [
    "from engine import DiceLoss"
   ]
  },
  {
   "cell_type": "markdown",
   "metadata": {
    "id": "Troo9nfjssci"
   },
   "source": [
    "- training phase"
   ]
  },
  {
   "cell_type": "code",
   "execution_count": 12,
   "metadata": {
    "id": "Z_oZFYpBqxTA"
   },
   "outputs": [],
   "source": [
    "from engine import train"
   ]
  },
  {
   "cell_type": "code",
   "execution_count": 13,
   "metadata": {},
   "outputs": [
    {
     "name": "stdout",
     "output_type": "stream",
     "text": [
      "12\n"
     ]
    }
   ],
   "source": [
    "import torch.nn as nn\n",
    "\n",
    "model = UNET(in_channels=3, out_channels=len(labels_df))\n",
    "model.cuda()\n",
    "# loss_fn = nn.CrossEntropyLoss()\n",
    "loss_fn = DiceLoss()\n",
    "optim = torch.optim.Adam(model.parameters(), lr = 1e-3)\n",
    "print(model.out_channels)"
   ]
  },
  {
   "cell_type": "code",
   "execution_count": 14,
   "metadata": {},
   "outputs": [
    {
     "name": "stderr",
     "output_type": "stream",
     "text": [
      "100%|███████████████████████████████████████████████████████████████████████| 12/12 [00:23<00:00,  1.94s/it, loss=0.88]\n",
      "Z:\\BEKA\\2025\\AI\\Bootcamp\\Source\\Advanced CV\\Project 3\\notebooks\\engine.py:154: FutureWarning: `torch.cuda.amp.autocast(args...)` is deprecated. Please use `torch.amp.autocast('cuda', args...)` instead.\n",
      "  with torch.cuda.amp.autocast():\n",
      "100%|██████████████████████████████████████████████████████████████████████| 12/12 [00:07<00:00,  1.62it/s, loss=0.916]\n"
     ]
    },
    {
     "name": "stdout",
     "output_type": "stream",
     "text": [
      "Epoch 0/99\n",
      "----------\n",
      "Train Loss: 0.8965, Val Loss: 0.9185\n",
      "✅ Best model saved! (Val Loss: 0.9185341993967692)\n",
      "\n"
     ]
    },
    {
     "name": "stderr",
     "output_type": "stream",
     "text": [
      "100%|██████████████████████████████████████████████████████████████████████| 12/12 [00:22<00:00,  1.89s/it, loss=0.836]\n",
      "100%|██████████████████████████████████████████████████████████████████████| 12/12 [00:07<00:00,  1.62it/s, loss=0.867]\n"
     ]
    },
    {
     "name": "stdout",
     "output_type": "stream",
     "text": [
      "Epoch 1/99\n",
      "----------\n",
      "Train Loss: 0.8524, Val Loss: 0.8691\n",
      "✅ Best model saved! (Val Loss: 0.8690955340862274)\n",
      "\n"
     ]
    },
    {
     "name": "stderr",
     "output_type": "stream",
     "text": [
      "100%|██████████████████████████████████████████████████████████████████████| 12/12 [00:22<00:00,  1.89s/it, loss=0.811]\n",
      "100%|██████████████████████████████████████████████████████████████████████| 12/12 [00:07<00:00,  1.62it/s, loss=0.828]\n"
     ]
    },
    {
     "name": "stdout",
     "output_type": "stream",
     "text": [
      "Epoch 2/99\n",
      "----------\n",
      "Train Loss: 0.8238, Val Loss: 0.8298\n",
      "✅ Best model saved! (Val Loss: 0.8298454334338506)\n",
      "\n"
     ]
    },
    {
     "name": "stderr",
     "output_type": "stream",
     "text": [
      "100%|██████████████████████████████████████████████████████████████████████| 12/12 [00:22<00:00,  1.89s/it, loss=0.798]\n",
      "100%|██████████████████████████████████████████████████████████████████████| 12/12 [00:07<00:00,  1.61it/s, loss=0.809]\n"
     ]
    },
    {
     "name": "stdout",
     "output_type": "stream",
     "text": [
      "Epoch 3/99\n",
      "----------\n",
      "Train Loss: 0.8034, Val Loss: 0.8144\n",
      "✅ Best model saved! (Val Loss: 0.8143634299437205)\n",
      "\n"
     ]
    },
    {
     "name": "stderr",
     "output_type": "stream",
     "text": [
      "100%|██████████████████████████████████████████████████████████████████████| 12/12 [00:22<00:00,  1.90s/it, loss=0.744]\n",
      "100%|██████████████████████████████████████████████████████████████████████| 12/12 [00:07<00:00,  1.63it/s, loss=0.791]\n"
     ]
    },
    {
     "name": "stdout",
     "output_type": "stream",
     "text": [
      "Epoch 4/99\n",
      "----------\n",
      "Train Loss: 0.7713, Val Loss: 0.7951\n",
      "✅ Best model saved! (Val Loss: 0.7951398144165674)\n",
      "\n"
     ]
    },
    {
     "name": "stderr",
     "output_type": "stream",
     "text": [
      "100%|██████████████████████████████████████████████████████████████████████| 12/12 [00:22<00:00,  1.89s/it, loss=0.692]\n",
      "100%|██████████████████████████████████████████████████████████████████████| 12/12 [00:07<00:00,  1.61it/s, loss=0.742]\n"
     ]
    },
    {
     "name": "stdout",
     "output_type": "stream",
     "text": [
      "Epoch 5/99\n",
      "----------\n",
      "Train Loss: 0.7268, Val Loss: 0.7305\n",
      "✅ Best model saved! (Val Loss: 0.7305252850055695)\n",
      "\n"
     ]
    },
    {
     "name": "stderr",
     "output_type": "stream",
     "text": [
      "100%|██████████████████████████████████████████████████████████████████████| 12/12 [00:22<00:00,  1.89s/it, loss=0.702]\n",
      "100%|██████████████████████████████████████████████████████████████████████| 12/12 [00:07<00:00,  1.60it/s, loss=0.713]\n"
     ]
    },
    {
     "name": "stdout",
     "output_type": "stream",
     "text": [
      "Epoch 6/99\n",
      "----------\n",
      "Train Loss: 0.6940, Val Loss: 0.6942\n",
      "✅ Best model saved! (Val Loss: 0.6941930055618286)\n",
      "\n"
     ]
    },
    {
     "name": "stderr",
     "output_type": "stream",
     "text": [
      "100%|██████████████████████████████████████████████████████████████████████| 12/12 [00:22<00:00,  1.90s/it, loss=0.686]\n",
      "100%|████████████████████████████████████████████████████████████████████████| 12/12 [00:07<00:00,  1.60it/s, loss=0.7]\n"
     ]
    },
    {
     "name": "stdout",
     "output_type": "stream",
     "text": [
      "Epoch 7/99\n",
      "----------\n",
      "Train Loss: 0.6786, Val Loss: 0.6889\n",
      "✅ Best model saved! (Val Loss: 0.6888638436794281)\n",
      "\n"
     ]
    },
    {
     "name": "stderr",
     "output_type": "stream",
     "text": [
      "100%|██████████████████████████████████████████████████████████████████████| 12/12 [00:22<00:00,  1.90s/it, loss=0.676]\n",
      "100%|██████████████████████████████████████████████████████████████████████| 12/12 [00:07<00:00,  1.60it/s, loss=0.669]\n"
     ]
    },
    {
     "name": "stdout",
     "output_type": "stream",
     "text": [
      "Epoch 8/99\n",
      "----------\n",
      "Train Loss: 0.6733, Val Loss: 0.6861\n",
      "✅ Best model saved! (Val Loss: 0.686053862174352)\n",
      "\n"
     ]
    },
    {
     "name": "stderr",
     "output_type": "stream",
     "text": [
      "100%|██████████████████████████████████████████████████████████████████████| 12/12 [00:22<00:00,  1.90s/it, loss=0.665]\n",
      "100%|████████████████████████████████████████████████████████████████████████| 12/12 [00:07<00:00,  1.63it/s, loss=0.7]\n"
     ]
    },
    {
     "name": "stdout",
     "output_type": "stream",
     "text": [
      "Epoch 9/99\n",
      "----------\n",
      "Train Loss: 0.6681, Val Loss: 0.6847\n",
      "✅ Best model saved! (Val Loss: 0.6846840530633926)\n",
      "\n"
     ]
    },
    {
     "name": "stderr",
     "output_type": "stream",
     "text": [
      "100%|███████████████████████████████████████████████████████████████████████| 12/12 [00:22<00:00,  1.90s/it, loss=0.69]\n",
      "100%|███████████████████████████████████████████████████████████████████████| 12/12 [00:07<00:00,  1.61it/s, loss=0.67]\n"
     ]
    },
    {
     "name": "stdout",
     "output_type": "stream",
     "text": [
      "Epoch 10/99\n",
      "----------\n",
      "Train Loss: 0.6627, Val Loss: 0.6850\n",
      "\n"
     ]
    },
    {
     "name": "stderr",
     "output_type": "stream",
     "text": [
      "100%|██████████████████████████████████████████████████████████████████████| 12/12 [00:22<00:00,  1.89s/it, loss=0.658]\n",
      "100%|██████████████████████████████████████████████████████████████████████| 12/12 [00:07<00:00,  1.59it/s, loss=0.674]\n"
     ]
    },
    {
     "name": "stdout",
     "output_type": "stream",
     "text": [
      "Epoch 11/99\n",
      "----------\n",
      "Train Loss: 0.6623, Val Loss: 0.6695\n",
      "✅ Best model saved! (Val Loss: 0.6694972217082977)\n",
      "\n"
     ]
    },
    {
     "name": "stderr",
     "output_type": "stream",
     "text": [
      "100%|██████████████████████████████████████████████████████████████████████| 12/12 [00:22<00:00,  1.91s/it, loss=0.673]\n",
      "100%|██████████████████████████████████████████████████████████████████████| 12/12 [00:07<00:00,  1.56it/s, loss=0.685]\n"
     ]
    },
    {
     "name": "stdout",
     "output_type": "stream",
     "text": [
      "Epoch 12/99\n",
      "----------\n",
      "Train Loss: 0.6558, Val Loss: 0.6843\n",
      "\n"
     ]
    },
    {
     "name": "stderr",
     "output_type": "stream",
     "text": [
      "100%|██████████████████████████████████████████████████████████████████████| 12/12 [00:23<00:00,  1.92s/it, loss=0.665]\n",
      "100%|██████████████████████████████████████████████████████████████████████| 12/12 [00:07<00:00,  1.56it/s, loss=0.674]\n"
     ]
    },
    {
     "name": "stdout",
     "output_type": "stream",
     "text": [
      "Epoch 13/99\n",
      "----------\n",
      "Train Loss: 0.6556, Val Loss: 0.6680\n",
      "✅ Best model saved! (Val Loss: 0.6679822504520416)\n",
      "\n"
     ]
    },
    {
     "name": "stderr",
     "output_type": "stream",
     "text": [
      "100%|██████████████████████████████████████████████████████████████████████| 12/12 [00:22<00:00,  1.89s/it, loss=0.647]\n",
      "100%|██████████████████████████████████████████████████████████████████████| 12/12 [00:07<00:00,  1.57it/s, loss=0.668]\n"
     ]
    },
    {
     "name": "stdout",
     "output_type": "stream",
     "text": [
      "Epoch 14/99\n",
      "----------\n",
      "Train Loss: 0.6514, Val Loss: 0.6700\n",
      "\n"
     ]
    },
    {
     "name": "stderr",
     "output_type": "stream",
     "text": [
      "100%|███████████████████████████████████████████████████████████████████████| 12/12 [00:22<00:00,  1.90s/it, loss=0.66]\n",
      "100%|██████████████████████████████████████████████████████████████████████| 12/12 [00:07<00:00,  1.57it/s, loss=0.637]\n"
     ]
    },
    {
     "name": "stdout",
     "output_type": "stream",
     "text": [
      "Epoch 15/99\n",
      "----------\n",
      "Train Loss: 0.6503, Val Loss: 0.6537\n",
      "✅ Best model saved! (Val Loss: 0.6536755263805389)\n",
      "\n"
     ]
    },
    {
     "name": "stderr",
     "output_type": "stream",
     "text": [
      "100%|██████████████████████████████████████████████████████████████████████| 12/12 [00:22<00:00,  1.90s/it, loss=0.636]\n",
      "100%|██████████████████████████████████████████████████████████████████████| 12/12 [00:07<00:00,  1.60it/s, loss=0.684]\n"
     ]
    },
    {
     "name": "stdout",
     "output_type": "stream",
     "text": [
      "Epoch 16/99\n",
      "----------\n",
      "Train Loss: 0.6438, Val Loss: 0.6513\n",
      "✅ Best model saved! (Val Loss: 0.651317298412323)\n",
      "\n"
     ]
    },
    {
     "name": "stderr",
     "output_type": "stream",
     "text": [
      "100%|██████████████████████████████████████████████████████████████████████| 12/12 [00:22<00:00,  1.90s/it, loss=0.671]\n",
      "100%|██████████████████████████████████████████████████████████████████████| 12/12 [00:07<00:00,  1.59it/s, loss=0.577]\n"
     ]
    },
    {
     "name": "stdout",
     "output_type": "stream",
     "text": [
      "Epoch 17/99\n",
      "----------\n",
      "Train Loss: 0.6413, Val Loss: 0.6418\n",
      "✅ Best model saved! (Val Loss: 0.6418294409910837)\n",
      "\n"
     ]
    },
    {
     "name": "stderr",
     "output_type": "stream",
     "text": [
      "100%|██████████████████████████████████████████████████████████████████████| 12/12 [00:22<00:00,  1.91s/it, loss=0.666]\n",
      "100%|██████████████████████████████████████████████████████████████████████| 12/12 [00:07<00:00,  1.62it/s, loss=0.641]\n"
     ]
    },
    {
     "name": "stdout",
     "output_type": "stream",
     "text": [
      "Epoch 18/99\n",
      "----------\n",
      "Train Loss: 0.6413, Val Loss: 0.6453\n",
      "\n"
     ]
    },
    {
     "name": "stderr",
     "output_type": "stream",
     "text": [
      "100%|██████████████████████████████████████████████████████████████████████| 12/12 [00:23<00:00,  1.92s/it, loss=0.629]\n",
      "100%|███████████████████████████████████████████████████████████████████████| 12/12 [00:07<00:00,  1.60it/s, loss=0.65]\n"
     ]
    },
    {
     "name": "stdout",
     "output_type": "stream",
     "text": [
      "Epoch 19/99\n",
      "----------\n",
      "Train Loss: 0.6366, Val Loss: 0.6563\n",
      "\n"
     ]
    },
    {
     "name": "stderr",
     "output_type": "stream",
     "text": [
      "100%|██████████████████████████████████████████████████████████████████████| 12/12 [00:22<00:00,  1.91s/it, loss=0.637]\n",
      "100%|██████████████████████████████████████████████████████████████████████| 12/12 [00:07<00:00,  1.60it/s, loss=0.676]\n"
     ]
    },
    {
     "name": "stdout",
     "output_type": "stream",
     "text": [
      "Epoch 20/99\n",
      "----------\n",
      "Train Loss: 0.6445, Val Loss: 0.6729\n",
      "\n"
     ]
    },
    {
     "name": "stderr",
     "output_type": "stream",
     "text": [
      "100%|██████████████████████████████████████████████████████████████████████| 12/12 [00:22<00:00,  1.90s/it, loss=0.657]\n",
      "100%|██████████████████████████████████████████████████████████████████████| 12/12 [00:07<00:00,  1.62it/s, loss=0.633]\n"
     ]
    },
    {
     "name": "stdout",
     "output_type": "stream",
     "text": [
      "Epoch 21/99\n",
      "----------\n",
      "Train Loss: 0.6463, Val Loss: 0.6523\n",
      "\n"
     ]
    },
    {
     "name": "stderr",
     "output_type": "stream",
     "text": [
      "100%|██████████████████████████████████████████████████████████████████████| 12/12 [00:22<00:00,  1.90s/it, loss=0.643]\n",
      "100%|██████████████████████████████████████████████████████████████████████| 12/12 [00:07<00:00,  1.57it/s, loss=0.616]\n"
     ]
    },
    {
     "name": "stdout",
     "output_type": "stream",
     "text": [
      "Epoch 22/99\n",
      "----------\n",
      "Train Loss: 0.6427, Val Loss: 0.6415\n",
      "✅ Best model saved! (Val Loss: 0.6415473967790604)\n",
      "\n"
     ]
    },
    {
     "name": "stderr",
     "output_type": "stream",
     "text": [
      "100%|██████████████████████████████████████████████████████████████████████| 12/12 [00:22<00:00,  1.89s/it, loss=0.624]\n",
      "100%|██████████████████████████████████████████████████████████████████████| 12/12 [00:07<00:00,  1.59it/s, loss=0.649]\n"
     ]
    },
    {
     "name": "stdout",
     "output_type": "stream",
     "text": [
      "Epoch 23/99\n",
      "----------\n",
      "Train Loss: 0.6347, Val Loss: 0.6428\n",
      "\n"
     ]
    },
    {
     "name": "stderr",
     "output_type": "stream",
     "text": [
      "100%|███████████████████████████████████████████████████████████████████████| 12/12 [00:22<00:00,  1.90s/it, loss=0.62]\n",
      "100%|██████████████████████████████████████████████████████████████████████| 12/12 [00:07<00:00,  1.58it/s, loss=0.657]\n"
     ]
    },
    {
     "name": "stdout",
     "output_type": "stream",
     "text": [
      "Epoch 24/99\n",
      "----------\n",
      "Train Loss: 0.6285, Val Loss: 0.6562\n",
      "\n"
     ]
    },
    {
     "name": "stderr",
     "output_type": "stream",
     "text": [
      "100%|██████████████████████████████████████████████████████████████████████| 12/12 [00:22<00:00,  1.90s/it, loss=0.626]\n",
      "100%|██████████████████████████████████████████████████████████████████████| 12/12 [00:07<00:00,  1.56it/s, loss=0.633]\n"
     ]
    },
    {
     "name": "stdout",
     "output_type": "stream",
     "text": [
      "Epoch 25/99\n",
      "----------\n",
      "Train Loss: 0.6256, Val Loss: 0.6407\n",
      "✅ Best model saved! (Val Loss: 0.6406832883755366)\n",
      "\n"
     ]
    },
    {
     "name": "stderr",
     "output_type": "stream",
     "text": [
      "100%|██████████████████████████████████████████████████████████████████████| 12/12 [00:22<00:00,  1.90s/it, loss=0.647]\n",
      "100%|██████████████████████████████████████████████████████████████████████| 12/12 [00:07<00:00,  1.61it/s, loss=0.605]\n"
     ]
    },
    {
     "name": "stdout",
     "output_type": "stream",
     "text": [
      "Epoch 26/99\n",
      "----------\n",
      "Train Loss: 0.6296, Val Loss: 0.6339\n",
      "✅ Best model saved! (Val Loss: 0.6339374681313833)\n",
      "\n"
     ]
    },
    {
     "name": "stderr",
     "output_type": "stream",
     "text": [
      "100%|██████████████████████████████████████████████████████████████████████| 12/12 [00:22<00:00,  1.90s/it, loss=0.663]\n",
      "100%|██████████████████████████████████████████████████████████████████████| 12/12 [00:07<00:00,  1.56it/s, loss=0.639]\n"
     ]
    },
    {
     "name": "stdout",
     "output_type": "stream",
     "text": [
      "Epoch 27/99\n",
      "----------\n",
      "Train Loss: 0.6272, Val Loss: 0.6461\n",
      "\n"
     ]
    },
    {
     "name": "stderr",
     "output_type": "stream",
     "text": [
      "100%|██████████████████████████████████████████████████████████████████████| 12/12 [00:23<00:00,  1.94s/it, loss=0.613]\n",
      "100%|██████████████████████████████████████████████████████████████████████| 12/12 [00:07<00:00,  1.58it/s, loss=0.683]\n"
     ]
    },
    {
     "name": "stdout",
     "output_type": "stream",
     "text": [
      "Epoch 28/99\n",
      "----------\n",
      "Train Loss: 0.6235, Val Loss: 0.6651\n",
      "\n"
     ]
    },
    {
     "name": "stderr",
     "output_type": "stream",
     "text": [
      "100%|██████████████████████████████████████████████████████████████████████| 12/12 [00:23<00:00,  1.93s/it, loss=0.663]\n",
      "100%|██████████████████████████████████████████████████████████████████████| 12/12 [00:07<00:00,  1.63it/s, loss=0.627]\n"
     ]
    },
    {
     "name": "stdout",
     "output_type": "stream",
     "text": [
      "Epoch 29/99\n",
      "----------\n",
      "Train Loss: 0.6288, Val Loss: 0.6278\n",
      "✅ Best model saved! (Val Loss: 0.6277795284986496)\n",
      "\n"
     ]
    },
    {
     "name": "stderr",
     "output_type": "stream",
     "text": [
      "100%|██████████████████████████████████████████████████████████████████████| 12/12 [00:22<00:00,  1.90s/it, loss=0.643]\n",
      "100%|██████████████████████████████████████████████████████████████████████| 12/12 [00:07<00:00,  1.57it/s, loss=0.614]\n"
     ]
    },
    {
     "name": "stdout",
     "output_type": "stream",
     "text": [
      "Epoch 30/99\n",
      "----------\n",
      "Train Loss: 0.6256, Val Loss: 0.6316\n",
      "\n"
     ]
    },
    {
     "name": "stderr",
     "output_type": "stream",
     "text": [
      "100%|██████████████████████████████████████████████████████████████████████| 12/12 [00:22<00:00,  1.91s/it, loss=0.666]\n",
      "100%|██████████████████████████████████████████████████████████████████████| 12/12 [00:07<00:00,  1.61it/s, loss=0.606]\n"
     ]
    },
    {
     "name": "stdout",
     "output_type": "stream",
     "text": [
      "Epoch 31/99\n",
      "----------\n",
      "Train Loss: 0.6278, Val Loss: 0.6348\n",
      "\n"
     ]
    },
    {
     "name": "stderr",
     "output_type": "stream",
     "text": [
      "100%|███████████████████████████████████████████████████████████████████████| 12/12 [00:22<00:00,  1.90s/it, loss=0.63]\n",
      "100%|███████████████████████████████████████████████████████████████████████| 12/12 [00:07<00:00,  1.62it/s, loss=0.64]\n"
     ]
    },
    {
     "name": "stdout",
     "output_type": "stream",
     "text": [
      "Epoch 32/99\n",
      "----------\n",
      "Train Loss: 0.6250, Val Loss: 0.6450\n",
      "\n"
     ]
    },
    {
     "name": "stderr",
     "output_type": "stream",
     "text": [
      "100%|██████████████████████████████████████████████████████████████████████| 12/12 [00:22<00:00,  1.90s/it, loss=0.633]\n",
      "100%|███████████████████████████████████████████████████████████████████████| 12/12 [00:07<00:00,  1.62it/s, loss=0.58]\n"
     ]
    },
    {
     "name": "stdout",
     "output_type": "stream",
     "text": [
      "Epoch 33/99\n",
      "----------\n",
      "Train Loss: 0.6245, Val Loss: 0.6296\n",
      "\n"
     ]
    },
    {
     "name": "stderr",
     "output_type": "stream",
     "text": [
      "100%|██████████████████████████████████████████████████████████████████████| 12/12 [00:22<00:00,  1.89s/it, loss=0.624]\n",
      "100%|██████████████████████████████████████████████████████████████████████| 12/12 [00:07<00:00,  1.61it/s, loss=0.613]\n"
     ]
    },
    {
     "name": "stdout",
     "output_type": "stream",
     "text": [
      "Epoch 34/99\n",
      "----------\n",
      "Train Loss: 0.6184, Val Loss: 0.6187\n",
      "✅ Best model saved! (Val Loss: 0.6186513404051462)\n",
      "\n"
     ]
    },
    {
     "name": "stderr",
     "output_type": "stream",
     "text": [
      "100%|██████████████████████████████████████████████████████████████████████| 12/12 [00:22<00:00,  1.89s/it, loss=0.605]\n",
      "100%|██████████████████████████████████████████████████████████████████████| 12/12 [00:07<00:00,  1.63it/s, loss=0.636]\n"
     ]
    },
    {
     "name": "stdout",
     "output_type": "stream",
     "text": [
      "Epoch 35/99\n",
      "----------\n",
      "Train Loss: 0.6143, Val Loss: 0.6529\n",
      "\n"
     ]
    },
    {
     "name": "stderr",
     "output_type": "stream",
     "text": [
      "100%|██████████████████████████████████████████████████████████████████████| 12/12 [00:22<00:00,  1.91s/it, loss=0.624]\n",
      "100%|██████████████████████████████████████████████████████████████████████| 12/12 [00:07<00:00,  1.55it/s, loss=0.617]\n"
     ]
    },
    {
     "name": "stdout",
     "output_type": "stream",
     "text": [
      "Epoch 36/99\n",
      "----------\n",
      "Train Loss: 0.6156, Val Loss: 0.6267\n",
      "\n"
     ]
    },
    {
     "name": "stderr",
     "output_type": "stream",
     "text": [
      "100%|██████████████████████████████████████████████████████████████████████| 12/12 [00:22<00:00,  1.91s/it, loss=0.622]\n",
      "100%|██████████████████████████████████████████████████████████████████████| 12/12 [00:07<00:00,  1.60it/s, loss=0.634]\n"
     ]
    },
    {
     "name": "stdout",
     "output_type": "stream",
     "text": [
      "Epoch 37/99\n",
      "----------\n",
      "Train Loss: 0.6134, Val Loss: 0.6229\n",
      "\n"
     ]
    },
    {
     "name": "stderr",
     "output_type": "stream",
     "text": [
      "100%|██████████████████████████████████████████████████████████████████████| 12/12 [00:23<00:00,  1.92s/it, loss=0.627]\n",
      "100%|██████████████████████████████████████████████████████████████████████| 12/12 [00:07<00:00,  1.60it/s, loss=0.642]\n"
     ]
    },
    {
     "name": "stdout",
     "output_type": "stream",
     "text": [
      "Epoch 38/99\n",
      "----------\n",
      "Train Loss: 0.6115, Val Loss: 0.6226\n",
      "\n"
     ]
    },
    {
     "name": "stderr",
     "output_type": "stream",
     "text": [
      "100%|██████████████████████████████████████████████████████████████████████| 12/12 [00:22<00:00,  1.90s/it, loss=0.583]\n",
      "100%|██████████████████████████████████████████████████████████████████████| 12/12 [00:07<00:00,  1.58it/s, loss=0.587]\n"
     ]
    },
    {
     "name": "stdout",
     "output_type": "stream",
     "text": [
      "Epoch 39/99\n",
      "----------\n",
      "Train Loss: 0.6046, Val Loss: 0.6150\n",
      "✅ Best model saved! (Val Loss: 0.6150069286425909)\n",
      "\n"
     ]
    },
    {
     "name": "stderr",
     "output_type": "stream",
     "text": [
      "100%|███████████████████████████████████████████████████████████████████████| 12/12 [00:22<00:00,  1.89s/it, loss=0.61]\n",
      "100%|██████████████████████████████████████████████████████████████████████| 12/12 [00:07<00:00,  1.60it/s, loss=0.616]\n"
     ]
    },
    {
     "name": "stdout",
     "output_type": "stream",
     "text": [
      "Epoch 40/99\n",
      "----------\n",
      "Train Loss: 0.6052, Val Loss: 0.6256\n",
      "\n"
     ]
    },
    {
     "name": "stderr",
     "output_type": "stream",
     "text": [
      "100%|██████████████████████████████████████████████████████████████████████| 12/12 [00:22<00:00,  1.89s/it, loss=0.605]\n",
      "100%|██████████████████████████████████████████████████████████████████████| 12/12 [00:07<00:00,  1.60it/s, loss=0.618]\n"
     ]
    },
    {
     "name": "stdout",
     "output_type": "stream",
     "text": [
      "Epoch 41/99\n",
      "----------\n",
      "Train Loss: 0.6052, Val Loss: 0.6068\n",
      "✅ Best model saved! (Val Loss: 0.6068492780129114)\n",
      "\n"
     ]
    },
    {
     "name": "stderr",
     "output_type": "stream",
     "text": [
      "100%|██████████████████████████████████████████████████████████████████████| 12/12 [00:22<00:00,  1.91s/it, loss=0.602]\n",
      "100%|██████████████████████████████████████████████████████████████████████| 12/12 [00:07<00:00,  1.59it/s, loss=0.605]\n"
     ]
    },
    {
     "name": "stdout",
     "output_type": "stream",
     "text": [
      "Epoch 42/99\n",
      "----------\n",
      "Train Loss: 0.6060, Val Loss: 0.6198\n",
      "\n"
     ]
    },
    {
     "name": "stderr",
     "output_type": "stream",
     "text": [
      "100%|██████████████████████████████████████████████████████████████████████| 12/12 [00:22<00:00,  1.91s/it, loss=0.623]\n",
      "100%|██████████████████████████████████████████████████████████████████████| 12/12 [00:07<00:00,  1.60it/s, loss=0.624]\n"
     ]
    },
    {
     "name": "stdout",
     "output_type": "stream",
     "text": [
      "Epoch 43/99\n",
      "----------\n",
      "Train Loss: 0.6097, Val Loss: 0.6122\n",
      "\n"
     ]
    },
    {
     "name": "stderr",
     "output_type": "stream",
     "text": [
      "100%|██████████████████████████████████████████████████████████████████████| 12/12 [00:22<00:00,  1.91s/it, loss=0.621]\n",
      "100%|███████████████████████████████████████████████████████████████████████| 12/12 [00:07<00:00,  1.63it/s, loss=0.64]\n"
     ]
    },
    {
     "name": "stdout",
     "output_type": "stream",
     "text": [
      "Epoch 44/99\n",
      "----------\n",
      "Train Loss: 0.6110, Val Loss: 0.6182\n",
      "\n"
     ]
    },
    {
     "name": "stderr",
     "output_type": "stream",
     "text": [
      "100%|██████████████████████████████████████████████████████████████████████| 12/12 [00:23<00:00,  1.92s/it, loss=0.598]\n",
      "100%|██████████████████████████████████████████████████████████████████████| 12/12 [00:07<00:00,  1.57it/s, loss=0.583]\n"
     ]
    },
    {
     "name": "stdout",
     "output_type": "stream",
     "text": [
      "Epoch 45/99\n",
      "----------\n",
      "Train Loss: 0.6050, Val Loss: 0.6177\n",
      "\n"
     ]
    },
    {
     "name": "stderr",
     "output_type": "stream",
     "text": [
      "100%|██████████████████████████████████████████████████████████████████████| 12/12 [00:22<00:00,  1.91s/it, loss=0.615]\n",
      "100%|██████████████████████████████████████████████████████████████████████| 12/12 [00:07<00:00,  1.60it/s, loss=0.655]\n"
     ]
    },
    {
     "name": "stdout",
     "output_type": "stream",
     "text": [
      "Epoch 46/99\n",
      "----------\n",
      "Train Loss: 0.6097, Val Loss: 0.6673\n",
      "\n"
     ]
    },
    {
     "name": "stderr",
     "output_type": "stream",
     "text": [
      "100%|██████████████████████████████████████████████████████████████████████| 12/12 [00:22<00:00,  1.89s/it, loss=0.647]\n",
      "100%|██████████████████████████████████████████████████████████████████████| 12/12 [00:07<00:00,  1.58it/s, loss=0.694]\n"
     ]
    },
    {
     "name": "stdout",
     "output_type": "stream",
     "text": [
      "Epoch 47/99\n",
      "----------\n",
      "Train Loss: 0.6251, Val Loss: 0.6487\n",
      "\n"
     ]
    },
    {
     "name": "stderr",
     "output_type": "stream",
     "text": [
      "100%|██████████████████████████████████████████████████████████████████████| 12/12 [00:22<00:00,  1.90s/it, loss=0.636]\n",
      "100%|██████████████████████████████████████████████████████████████████████| 12/12 [00:07<00:00,  1.61it/s, loss=0.666]\n"
     ]
    },
    {
     "name": "stdout",
     "output_type": "stream",
     "text": [
      "Epoch 48/99\n",
      "----------\n",
      "Train Loss: 0.6160, Val Loss: 0.6465\n",
      "\n"
     ]
    },
    {
     "name": "stderr",
     "output_type": "stream",
     "text": [
      "100%|██████████████████████████████████████████████████████████████████████| 12/12 [00:22<00:00,  1.90s/it, loss=0.606]\n",
      "100%|██████████████████████████████████████████████████████████████████████| 12/12 [00:07<00:00,  1.60it/s, loss=0.599]\n"
     ]
    },
    {
     "name": "stdout",
     "output_type": "stream",
     "text": [
      "Epoch 49/99\n",
      "----------\n",
      "Train Loss: 0.6114, Val Loss: 0.6179\n",
      "\n"
     ]
    },
    {
     "name": "stderr",
     "output_type": "stream",
     "text": [
      "100%|██████████████████████████████████████████████████████████████████████| 12/12 [00:22<00:00,  1.91s/it, loss=0.619]\n",
      "100%|██████████████████████████████████████████████████████████████████████| 12/12 [00:07<00:00,  1.61it/s, loss=0.579]\n"
     ]
    },
    {
     "name": "stdout",
     "output_type": "stream",
     "text": [
      "Epoch 50/99\n",
      "----------\n",
      "Train Loss: 0.6071, Val Loss: 0.6074\n",
      "\n"
     ]
    },
    {
     "name": "stderr",
     "output_type": "stream",
     "text": [
      "100%|██████████████████████████████████████████████████████████████████████| 12/12 [00:22<00:00,  1.91s/it, loss=0.619]\n",
      "100%|██████████████████████████████████████████████████████████████████████| 12/12 [00:07<00:00,  1.60it/s, loss=0.621]\n"
     ]
    },
    {
     "name": "stdout",
     "output_type": "stream",
     "text": [
      "Epoch 51/99\n",
      "----------\n",
      "Train Loss: 0.6036, Val Loss: 0.6119\n",
      "\n"
     ]
    },
    {
     "name": "stderr",
     "output_type": "stream",
     "text": [
      "100%|██████████████████████████████████████████████████████████████████████| 12/12 [00:22<00:00,  1.89s/it, loss=0.621]\n",
      "100%|██████████████████████████████████████████████████████████████████████| 12/12 [00:07<00:00,  1.60it/s, loss=0.651]\n"
     ]
    },
    {
     "name": "stdout",
     "output_type": "stream",
     "text": [
      "Epoch 52/99\n",
      "----------\n",
      "Train Loss: 0.6141, Val Loss: 0.6493\n",
      "\n"
     ]
    },
    {
     "name": "stderr",
     "output_type": "stream",
     "text": [
      "100%|██████████████████████████████████████████████████████████████████████| 12/12 [00:22<00:00,  1.90s/it, loss=0.604]\n",
      "100%|██████████████████████████████████████████████████████████████████████| 12/12 [00:07<00:00,  1.61it/s, loss=0.644]\n"
     ]
    },
    {
     "name": "stdout",
     "output_type": "stream",
     "text": [
      "Epoch 53/99\n",
      "----------\n",
      "Train Loss: 0.6118, Val Loss: 0.6138\n",
      "\n"
     ]
    },
    {
     "name": "stderr",
     "output_type": "stream",
     "text": [
      "100%|██████████████████████████████████████████████████████████████████████| 12/12 [00:22<00:00,  1.89s/it, loss=0.625]\n",
      "100%|██████████████████████████████████████████████████████████████████████| 12/12 [00:07<00:00,  1.61it/s, loss=0.636]\n"
     ]
    },
    {
     "name": "stdout",
     "output_type": "stream",
     "text": [
      "Epoch 54/99\n",
      "----------\n",
      "Train Loss: 0.6137, Val Loss: 0.6259\n",
      "\n"
     ]
    },
    {
     "name": "stderr",
     "output_type": "stream",
     "text": [
      "100%|██████████████████████████████████████████████████████████████████████| 12/12 [00:22<00:00,  1.90s/it, loss=0.635]\n",
      "100%|██████████████████████████████████████████████████████████████████████| 12/12 [00:07<00:00,  1.59it/s, loss=0.583]\n"
     ]
    },
    {
     "name": "stdout",
     "output_type": "stream",
     "text": [
      "Epoch 55/99\n",
      "----------\n",
      "Train Loss: 0.6070, Val Loss: 0.6117\n",
      "\n"
     ]
    },
    {
     "name": "stderr",
     "output_type": "stream",
     "text": [
      "100%|██████████████████████████████████████████████████████████████████████| 12/12 [00:23<00:00,  1.93s/it, loss=0.583]\n",
      "100%|██████████████████████████████████████████████████████████████████████| 12/12 [00:07<00:00,  1.56it/s, loss=0.612]\n"
     ]
    },
    {
     "name": "stdout",
     "output_type": "stream",
     "text": [
      "Epoch 56/99\n",
      "----------\n",
      "Train Loss: 0.5968, Val Loss: 0.5992\n",
      "✅ Best model saved! (Val Loss: 0.5992473463217417)\n",
      "\n"
     ]
    },
    {
     "name": "stderr",
     "output_type": "stream",
     "text": [
      "100%|██████████████████████████████████████████████████████████████████████| 12/12 [00:22<00:00,  1.91s/it, loss=0.596]\n",
      "100%|██████████████████████████████████████████████████████████████████████| 12/12 [00:07<00:00,  1.58it/s, loss=0.558]\n"
     ]
    },
    {
     "name": "stdout",
     "output_type": "stream",
     "text": [
      "Epoch 57/99\n",
      "----------\n",
      "Train Loss: 0.5916, Val Loss: 0.5970\n",
      "✅ Best model saved! (Val Loss: 0.596953734755516)\n",
      "\n"
     ]
    },
    {
     "name": "stderr",
     "output_type": "stream",
     "text": [
      "100%|██████████████████████████████████████████████████████████████████████| 12/12 [00:22<00:00,  1.92s/it, loss=0.614]\n",
      "100%|██████████████████████████████████████████████████████████████████████| 12/12 [00:07<00:00,  1.59it/s, loss=0.607]\n"
     ]
    },
    {
     "name": "stdout",
     "output_type": "stream",
     "text": [
      "Epoch 58/99\n",
      "----------\n",
      "Train Loss: 0.5905, Val Loss: 0.5915\n",
      "✅ Best model saved! (Val Loss: 0.5914983550707499)\n",
      "\n"
     ]
    },
    {
     "name": "stderr",
     "output_type": "stream",
     "text": [
      "100%|██████████████████████████████████████████████████████████████████████| 12/12 [00:23<00:00,  1.92s/it, loss=0.598]\n",
      "100%|██████████████████████████████████████████████████████████████████████| 12/12 [00:07<00:00,  1.61it/s, loss=0.605]\n"
     ]
    },
    {
     "name": "stdout",
     "output_type": "stream",
     "text": [
      "Epoch 59/99\n",
      "----------\n",
      "Train Loss: 0.5877, Val Loss: 0.5877\n",
      "✅ Best model saved! (Val Loss: 0.587710956732432)\n",
      "\n"
     ]
    },
    {
     "name": "stderr",
     "output_type": "stream",
     "text": [
      "100%|██████████████████████████████████████████████████████████████████████| 12/12 [00:22<00:00,  1.90s/it, loss=0.553]\n",
      "100%|██████████████████████████████████████████████████████████████████████| 12/12 [00:07<00:00,  1.60it/s, loss=0.582]\n"
     ]
    },
    {
     "name": "stdout",
     "output_type": "stream",
     "text": [
      "Epoch 60/99\n",
      "----------\n",
      "Train Loss: 0.5828, Val Loss: 0.6048\n",
      "\n"
     ]
    },
    {
     "name": "stderr",
     "output_type": "stream",
     "text": [
      "100%|██████████████████████████████████████████████████████████████████████| 12/12 [00:22<00:00,  1.89s/it, loss=0.596]\n",
      "100%|██████████████████████████████████████████████████████████████████████| 12/12 [00:07<00:00,  1.61it/s, loss=0.572]\n"
     ]
    },
    {
     "name": "stdout",
     "output_type": "stream",
     "text": [
      "Epoch 61/99\n",
      "----------\n",
      "Train Loss: 0.5831, Val Loss: 0.5810\n",
      "✅ Best model saved! (Val Loss: 0.5809690107901891)\n",
      "\n"
     ]
    },
    {
     "name": "stderr",
     "output_type": "stream",
     "text": [
      "100%|██████████████████████████████████████████████████████████████████████| 12/12 [00:22<00:00,  1.89s/it, loss=0.603]\n",
      "100%|██████████████████████████████████████████████████████████████████████| 12/12 [00:07<00:00,  1.61it/s, loss=0.578]\n"
     ]
    },
    {
     "name": "stdout",
     "output_type": "stream",
     "text": [
      "Epoch 62/99\n",
      "----------\n",
      "Train Loss: 0.5818, Val Loss: 0.5829\n",
      "\n"
     ]
    },
    {
     "name": "stderr",
     "output_type": "stream",
     "text": [
      "100%|██████████████████████████████████████████████████████████████████████| 12/12 [00:22<00:00,  1.89s/it, loss=0.619]\n",
      "100%|██████████████████████████████████████████████████████████████████████| 12/12 [00:07<00:00,  1.60it/s, loss=0.617]\n"
     ]
    },
    {
     "name": "stdout",
     "output_type": "stream",
     "text": [
      "Epoch 63/99\n",
      "----------\n",
      "Train Loss: 0.5800, Val Loss: 0.5959\n",
      "\n"
     ]
    },
    {
     "name": "stderr",
     "output_type": "stream",
     "text": [
      "100%|██████████████████████████████████████████████████████████████████████| 12/12 [00:22<00:00,  1.89s/it, loss=0.574]\n",
      "100%|██████████████████████████████████████████████████████████████████████| 12/12 [00:07<00:00,  1.59it/s, loss=0.597]\n"
     ]
    },
    {
     "name": "stdout",
     "output_type": "stream",
     "text": [
      "Epoch 64/99\n",
      "----------\n",
      "Train Loss: 0.5844, Val Loss: 0.5970\n",
      "\n"
     ]
    },
    {
     "name": "stderr",
     "output_type": "stream",
     "text": [
      "100%|██████████████████████████████████████████████████████████████████████| 12/12 [00:23<00:00,  1.92s/it, loss=0.558]\n",
      "100%|██████████████████████████████████████████████████████████████████████| 12/12 [00:07<00:00,  1.62it/s, loss=0.623]\n"
     ]
    },
    {
     "name": "stdout",
     "output_type": "stream",
     "text": [
      "Epoch 65/99\n",
      "----------\n",
      "Train Loss: 0.5829, Val Loss: 0.5899\n",
      "\n"
     ]
    },
    {
     "name": "stderr",
     "output_type": "stream",
     "text": [
      "100%|██████████████████████████████████████████████████████████████████████| 12/12 [00:22<00:00,  1.89s/it, loss=0.594]\n",
      "100%|██████████████████████████████████████████████████████████████████████| 12/12 [00:07<00:00,  1.59it/s, loss=0.599]\n"
     ]
    },
    {
     "name": "stdout",
     "output_type": "stream",
     "text": [
      "Epoch 66/99\n",
      "----------\n",
      "Train Loss: 0.5839, Val Loss: 0.5848\n",
      "\n"
     ]
    },
    {
     "name": "stderr",
     "output_type": "stream",
     "text": [
      "100%|██████████████████████████████████████████████████████████████████████| 12/12 [00:22<00:00,  1.89s/it, loss=0.566]\n",
      "100%|██████████████████████████████████████████████████████████████████████| 12/12 [00:07<00:00,  1.59it/s, loss=0.606]\n"
     ]
    },
    {
     "name": "stdout",
     "output_type": "stream",
     "text": [
      "Epoch 67/99\n",
      "----------\n",
      "Train Loss: 0.5771, Val Loss: 0.5786\n",
      "✅ Best model saved! (Val Loss: 0.5786078025897344)\n",
      "\n"
     ]
    },
    {
     "name": "stderr",
     "output_type": "stream",
     "text": [
      "100%|██████████████████████████████████████████████████████████████████████| 12/12 [00:22<00:00,  1.90s/it, loss=0.618]\n",
      "100%|███████████████████████████████████████████████████████████████████████| 12/12 [00:07<00:00,  1.60it/s, loss=0.53]\n"
     ]
    },
    {
     "name": "stdout",
     "output_type": "stream",
     "text": [
      "Epoch 68/99\n",
      "----------\n",
      "Train Loss: 0.5766, Val Loss: 0.5746\n",
      "✅ Best model saved! (Val Loss: 0.5746192286411921)\n",
      "\n"
     ]
    },
    {
     "name": "stderr",
     "output_type": "stream",
     "text": [
      "100%|██████████████████████████████████████████████████████████████████████| 12/12 [00:22<00:00,  1.90s/it, loss=0.577]\n",
      "100%|██████████████████████████████████████████████████████████████████████| 12/12 [00:07<00:00,  1.60it/s, loss=0.582]\n"
     ]
    },
    {
     "name": "stdout",
     "output_type": "stream",
     "text": [
      "Epoch 69/99\n",
      "----------\n",
      "Train Loss: 0.5744, Val Loss: 0.5820\n",
      "\n"
     ]
    },
    {
     "name": "stderr",
     "output_type": "stream",
     "text": [
      "100%|██████████████████████████████████████████████████████████████████████| 12/12 [00:22<00:00,  1.89s/it, loss=0.581]\n",
      "100%|██████████████████████████████████████████████████████████████████████| 12/12 [00:07<00:00,  1.61it/s, loss=0.556]\n"
     ]
    },
    {
     "name": "stdout",
     "output_type": "stream",
     "text": [
      "Epoch 70/99\n",
      "----------\n",
      "Train Loss: 0.5745, Val Loss: 0.5767\n",
      "\n"
     ]
    },
    {
     "name": "stderr",
     "output_type": "stream",
     "text": [
      "100%|██████████████████████████████████████████████████████████████████████| 12/12 [00:22<00:00,  1.89s/it, loss=0.589]\n",
      "100%|██████████████████████████████████████████████████████████████████████| 12/12 [00:07<00:00,  1.62it/s, loss=0.581]\n"
     ]
    },
    {
     "name": "stdout",
     "output_type": "stream",
     "text": [
      "Epoch 71/99\n",
      "----------\n",
      "Train Loss: 0.5751, Val Loss: 0.5777\n",
      "\n"
     ]
    },
    {
     "name": "stderr",
     "output_type": "stream",
     "text": [
      "100%|██████████████████████████████████████████████████████████████████████| 12/12 [00:22<00:00,  1.90s/it, loss=0.566]\n",
      "100%|██████████████████████████████████████████████████████████████████████| 12/12 [00:07<00:00,  1.63it/s, loss=0.589]\n"
     ]
    },
    {
     "name": "stdout",
     "output_type": "stream",
     "text": [
      "Epoch 72/99\n",
      "----------\n",
      "Train Loss: 0.5734, Val Loss: 0.5752\n",
      "\n"
     ]
    },
    {
     "name": "stderr",
     "output_type": "stream",
     "text": [
      "100%|██████████████████████████████████████████████████████████████████████| 12/12 [00:22<00:00,  1.89s/it, loss=0.595]\n",
      "100%|██████████████████████████████████████████████████████████████████████| 12/12 [00:07<00:00,  1.60it/s, loss=0.521]\n"
     ]
    },
    {
     "name": "stdout",
     "output_type": "stream",
     "text": [
      "Epoch 73/99\n",
      "----------\n",
      "Train Loss: 0.5718, Val Loss: 0.5701\n",
      "✅ Best model saved! (Val Loss: 0.5701099435488383)\n",
      "\n"
     ]
    },
    {
     "name": "stderr",
     "output_type": "stream",
     "text": [
      "100%|██████████████████████████████████████████████████████████████████████| 12/12 [00:22<00:00,  1.90s/it, loss=0.582]\n",
      "100%|██████████████████████████████████████████████████████████████████████| 12/12 [00:07<00:00,  1.62it/s, loss=0.624]\n"
     ]
    },
    {
     "name": "stdout",
     "output_type": "stream",
     "text": [
      "Epoch 74/99\n",
      "----------\n",
      "Train Loss: 0.5720, Val Loss: 0.5824\n",
      "\n"
     ]
    },
    {
     "name": "stderr",
     "output_type": "stream",
     "text": [
      "100%|██████████████████████████████████████████████████████████████████████| 12/12 [00:22<00:00,  1.90s/it, loss=0.613]\n",
      "100%|██████████████████████████████████████████████████████████████████████| 12/12 [00:07<00:00,  1.60it/s, loss=0.597]\n"
     ]
    },
    {
     "name": "stdout",
     "output_type": "stream",
     "text": [
      "Epoch 75/99\n",
      "----------\n",
      "Train Loss: 0.5870, Val Loss: 0.6209\n",
      "\n"
     ]
    },
    {
     "name": "stderr",
     "output_type": "stream",
     "text": [
      "100%|██████████████████████████████████████████████████████████████████████| 12/12 [00:22<00:00,  1.89s/it, loss=0.607]\n",
      "100%|██████████████████████████████████████████████████████████████████████| 12/12 [00:07<00:00,  1.63it/s, loss=0.577]\n"
     ]
    },
    {
     "name": "stdout",
     "output_type": "stream",
     "text": [
      "Epoch 76/99\n",
      "----------\n",
      "Train Loss: 0.5910, Val Loss: 0.5886\n",
      "\n"
     ]
    },
    {
     "name": "stderr",
     "output_type": "stream",
     "text": [
      "100%|██████████████████████████████████████████████████████████████████████| 12/12 [00:22<00:00,  1.89s/it, loss=0.586]\n",
      "100%|██████████████████████████████████████████████████████████████████████| 12/12 [00:07<00:00,  1.64it/s, loss=0.571]\n"
     ]
    },
    {
     "name": "stdout",
     "output_type": "stream",
     "text": [
      "Epoch 77/99\n",
      "----------\n",
      "Train Loss: 0.5877, Val Loss: 0.5989\n",
      "\n"
     ]
    },
    {
     "name": "stderr",
     "output_type": "stream",
     "text": [
      "100%|██████████████████████████████████████████████████████████████████████| 12/12 [00:22<00:00,  1.89s/it, loss=0.572]\n",
      "100%|██████████████████████████████████████████████████████████████████████| 12/12 [00:07<00:00,  1.63it/s, loss=0.581]\n"
     ]
    },
    {
     "name": "stdout",
     "output_type": "stream",
     "text": [
      "Epoch 78/99\n",
      "----------\n",
      "Train Loss: 0.5820, Val Loss: 0.5879\n",
      "\n"
     ]
    },
    {
     "name": "stderr",
     "output_type": "stream",
     "text": [
      "100%|██████████████████████████████████████████████████████████████████████| 12/12 [00:22<00:00,  1.90s/it, loss=0.592]\n",
      "100%|██████████████████████████████████████████████████████████████████████| 12/12 [00:07<00:00,  1.63it/s, loss=0.592]\n"
     ]
    },
    {
     "name": "stdout",
     "output_type": "stream",
     "text": [
      "Epoch 79/99\n",
      "----------\n",
      "Train Loss: 0.5800, Val Loss: 0.5822\n",
      "\n"
     ]
    },
    {
     "name": "stderr",
     "output_type": "stream",
     "text": [
      "100%|██████████████████████████████████████████████████████████████████████| 12/12 [00:22<00:00,  1.89s/it, loss=0.583]\n",
      "100%|██████████████████████████████████████████████████████████████████████| 12/12 [00:07<00:00,  1.63it/s, loss=0.593]\n"
     ]
    },
    {
     "name": "stdout",
     "output_type": "stream",
     "text": [
      "Epoch 80/99\n",
      "----------\n",
      "Train Loss: 0.5739, Val Loss: 0.5731\n",
      "\n"
     ]
    },
    {
     "name": "stderr",
     "output_type": "stream",
     "text": [
      "100%|██████████████████████████████████████████████████████████████████████| 12/12 [00:22<00:00,  1.90s/it, loss=0.549]\n",
      "100%|██████████████████████████████████████████████████████████████████████| 12/12 [00:07<00:00,  1.61it/s, loss=0.567]\n"
     ]
    },
    {
     "name": "stdout",
     "output_type": "stream",
     "text": [
      "Epoch 81/99\n",
      "----------\n",
      "Train Loss: 0.5672, Val Loss: 0.5700\n",
      "✅ Best model saved! (Val Loss: 0.5699730316797892)\n",
      "\n"
     ]
    },
    {
     "name": "stderr",
     "output_type": "stream",
     "text": [
      "100%|███████████████████████████████████████████████████████████████████████| 12/12 [00:22<00:00,  1.90s/it, loss=0.56]\n",
      "100%|██████████████████████████████████████████████████████████████████████| 12/12 [00:07<00:00,  1.61it/s, loss=0.607]\n"
     ]
    },
    {
     "name": "stdout",
     "output_type": "stream",
     "text": [
      "Epoch 82/99\n",
      "----------\n",
      "Train Loss: 0.5686, Val Loss: 0.5800\n",
      "\n"
     ]
    },
    {
     "name": "stderr",
     "output_type": "stream",
     "text": [
      "100%|██████████████████████████████████████████████████████████████████████| 12/12 [00:22<00:00,  1.90s/it, loss=0.611]\n",
      "100%|██████████████████████████████████████████████████████████████████████| 12/12 [00:07<00:00,  1.59it/s, loss=0.595]\n"
     ]
    },
    {
     "name": "stdout",
     "output_type": "stream",
     "text": [
      "Epoch 83/99\n",
      "----------\n",
      "Train Loss: 0.5704, Val Loss: 0.5699\n",
      "✅ Best model saved! (Val Loss: 0.5698677152395248)\n",
      "\n"
     ]
    },
    {
     "name": "stderr",
     "output_type": "stream",
     "text": [
      "100%|██████████████████████████████████████████████████████████████████████| 12/12 [00:22<00:00,  1.90s/it, loss=0.603]\n",
      "100%|██████████████████████████████████████████████████████████████████████| 12/12 [00:07<00:00,  1.61it/s, loss=0.548]\n"
     ]
    },
    {
     "name": "stdout",
     "output_type": "stream",
     "text": [
      "Epoch 84/99\n",
      "----------\n",
      "Train Loss: 0.5673, Val Loss: 0.5794\n",
      "\n"
     ]
    },
    {
     "name": "stderr",
     "output_type": "stream",
     "text": [
      "100%|██████████████████████████████████████████████████████████████████████| 12/12 [00:22<00:00,  1.89s/it, loss=0.572]\n",
      "100%|██████████████████████████████████████████████████████████████████████| 12/12 [00:07<00:00,  1.62it/s, loss=0.592]\n"
     ]
    },
    {
     "name": "stdout",
     "output_type": "stream",
     "text": [
      "Epoch 85/99\n",
      "----------\n",
      "Train Loss: 0.5729, Val Loss: 0.5720\n",
      "\n"
     ]
    },
    {
     "name": "stderr",
     "output_type": "stream",
     "text": [
      "100%|██████████████████████████████████████████████████████████████████████| 12/12 [00:22<00:00,  1.92s/it, loss=0.598]\n",
      "100%|██████████████████████████████████████████████████████████████████████| 12/12 [00:07<00:00,  1.56it/s, loss=0.569]\n"
     ]
    },
    {
     "name": "stdout",
     "output_type": "stream",
     "text": [
      "Epoch 86/99\n",
      "----------\n",
      "Train Loss: 0.5690, Val Loss: 0.5684\n",
      "✅ Best model saved! (Val Loss: 0.5684084246555964)\n",
      "\n"
     ]
    },
    {
     "name": "stderr",
     "output_type": "stream",
     "text": [
      "100%|███████████████████████████████████████████████████████████████████████| 12/12 [00:22<00:00,  1.91s/it, loss=0.56]\n",
      "100%|██████████████████████████████████████████████████████████████████████| 12/12 [00:07<00:00,  1.63it/s, loss=0.554]\n"
     ]
    },
    {
     "name": "stdout",
     "output_type": "stream",
     "text": [
      "Epoch 87/99\n",
      "----------\n",
      "Train Loss: 0.5663, Val Loss: 0.5653\n",
      "✅ Best model saved! (Val Loss: 0.5653474281231562)\n",
      "\n"
     ]
    },
    {
     "name": "stderr",
     "output_type": "stream",
     "text": [
      "100%|██████████████████████████████████████████████████████████████████████| 12/12 [00:22<00:00,  1.88s/it, loss=0.558]\n",
      "100%|██████████████████████████████████████████████████████████████████████| 12/12 [00:07<00:00,  1.63it/s, loss=0.604]\n"
     ]
    },
    {
     "name": "stdout",
     "output_type": "stream",
     "text": [
      "Epoch 88/99\n",
      "----------\n",
      "Train Loss: 0.5673, Val Loss: 0.5714\n",
      "\n"
     ]
    },
    {
     "name": "stderr",
     "output_type": "stream",
     "text": [
      "100%|████████████████████████████████████████████████████████████████████████| 12/12 [00:22<00:00,  1.88s/it, loss=0.6]\n",
      "100%|██████████████████████████████████████████████████████████████████████| 12/12 [00:07<00:00,  1.62it/s, loss=0.579]\n"
     ]
    },
    {
     "name": "stdout",
     "output_type": "stream",
     "text": [
      "Epoch 89/99\n",
      "----------\n",
      "Train Loss: 0.5664, Val Loss: 0.5750\n",
      "\n"
     ]
    },
    {
     "name": "stderr",
     "output_type": "stream",
     "text": [
      "100%|██████████████████████████████████████████████████████████████████████| 12/12 [00:22<00:00,  1.90s/it, loss=0.571]\n",
      "100%|██████████████████████████████████████████████████████████████████████| 12/12 [00:07<00:00,  1.63it/s, loss=0.531]\n"
     ]
    },
    {
     "name": "stdout",
     "output_type": "stream",
     "text": [
      "Epoch 90/99\n",
      "----------\n",
      "Train Loss: 0.5689, Val Loss: 0.5685\n",
      "\n"
     ]
    },
    {
     "name": "stderr",
     "output_type": "stream",
     "text": [
      "100%|██████████████████████████████████████████████████████████████████████| 12/12 [00:22<00:00,  1.89s/it, loss=0.553]\n",
      "100%|██████████████████████████████████████████████████████████████████████| 12/12 [00:07<00:00,  1.63it/s, loss=0.594]\n"
     ]
    },
    {
     "name": "stdout",
     "output_type": "stream",
     "text": [
      "Epoch 91/99\n",
      "----------\n",
      "Train Loss: 0.5655, Val Loss: 0.5718\n",
      "\n"
     ]
    },
    {
     "name": "stderr",
     "output_type": "stream",
     "text": [
      "100%|██████████████████████████████████████████████████████████████████████| 12/12 [00:22<00:00,  1.89s/it, loss=0.538]\n",
      "100%|██████████████████████████████████████████████████████████████████████| 12/12 [00:07<00:00,  1.62it/s, loss=0.557]\n"
     ]
    },
    {
     "name": "stdout",
     "output_type": "stream",
     "text": [
      "Epoch 92/99\n",
      "----------\n",
      "Train Loss: 0.5605, Val Loss: 0.5651\n",
      "✅ Best model saved! (Val Loss: 0.5651328961054484)\n",
      "\n"
     ]
    },
    {
     "name": "stderr",
     "output_type": "stream",
     "text": [
      "100%|██████████████████████████████████████████████████████████████████████| 12/12 [00:22<00:00,  1.89s/it, loss=0.582]\n",
      "100%|██████████████████████████████████████████████████████████████████████| 12/12 [00:07<00:00,  1.58it/s, loss=0.552]\n"
     ]
    },
    {
     "name": "stdout",
     "output_type": "stream",
     "text": [
      "Epoch 93/99\n",
      "----------\n",
      "Train Loss: 0.5616, Val Loss: 0.5681\n",
      "\n"
     ]
    },
    {
     "name": "stderr",
     "output_type": "stream",
     "text": [
      "100%|██████████████████████████████████████████████████████████████████████| 12/12 [00:22<00:00,  1.90s/it, loss=0.543]\n",
      "100%|██████████████████████████████████████████████████████████████████████| 12/12 [00:07<00:00,  1.58it/s, loss=0.555]\n"
     ]
    },
    {
     "name": "stdout",
     "output_type": "stream",
     "text": [
      "Epoch 94/99\n",
      "----------\n",
      "Train Loss: 0.5592, Val Loss: 0.5613\n",
      "✅ Best model saved! (Val Loss: 0.5612525741259257)\n",
      "\n"
     ]
    },
    {
     "name": "stderr",
     "output_type": "stream",
     "text": [
      "100%|██████████████████████████████████████████████████████████████████████| 12/12 [00:22<00:00,  1.91s/it, loss=0.551]\n",
      "100%|██████████████████████████████████████████████████████████████████████| 12/12 [00:07<00:00,  1.60it/s, loss=0.534]\n"
     ]
    },
    {
     "name": "stdout",
     "output_type": "stream",
     "text": [
      "Epoch 95/99\n",
      "----------\n",
      "Train Loss: 0.5562, Val Loss: 0.5639\n",
      "\n"
     ]
    },
    {
     "name": "stderr",
     "output_type": "stream",
     "text": [
      "100%|██████████████████████████████████████████████████████████████████████| 12/12 [00:23<00:00,  1.93s/it, loss=0.558]\n",
      "100%|██████████████████████████████████████████████████████████████████████| 12/12 [00:07<00:00,  1.56it/s, loss=0.571]\n"
     ]
    },
    {
     "name": "stdout",
     "output_type": "stream",
     "text": [
      "Epoch 96/99\n",
      "----------\n",
      "Train Loss: 0.5557, Val Loss: 0.5560\n",
      "✅ Best model saved! (Val Loss: 0.5560477574666342)\n",
      "\n"
     ]
    },
    {
     "name": "stderr",
     "output_type": "stream",
     "text": [
      "100%|██████████████████████████████████████████████████████████████████████| 12/12 [00:22<00:00,  1.90s/it, loss=0.577]\n",
      "100%|██████████████████████████████████████████████████████████████████████| 12/12 [00:07<00:00,  1.58it/s, loss=0.533]\n"
     ]
    },
    {
     "name": "stdout",
     "output_type": "stream",
     "text": [
      "Epoch 97/99\n",
      "----------\n",
      "Train Loss: 0.5554, Val Loss: 0.5576\n",
      "\n"
     ]
    },
    {
     "name": "stderr",
     "output_type": "stream",
     "text": [
      "100%|██████████████████████████████████████████████████████████████████████| 12/12 [00:22<00:00,  1.90s/it, loss=0.559]\n",
      "100%|██████████████████████████████████████████████████████████████████████| 12/12 [00:07<00:00,  1.57it/s, loss=0.583]\n"
     ]
    },
    {
     "name": "stdout",
     "output_type": "stream",
     "text": [
      "Epoch 98/99\n",
      "----------\n",
      "Train Loss: 0.5538, Val Loss: 0.5533\n",
      "✅ Best model saved! (Val Loss: 0.5532919516166052)\n",
      "\n"
     ]
    },
    {
     "name": "stderr",
     "output_type": "stream",
     "text": [
      "100%|██████████████████████████████████████████████████████████████████████| 12/12 [00:22<00:00,  1.91s/it, loss=0.567]\n",
      "100%|██████████████████████████████████████████████████████████████████████| 12/12 [00:07<00:00,  1.56it/s, loss=0.566]\n"
     ]
    },
    {
     "name": "stdout",
     "output_type": "stream",
     "text": [
      "Epoch 99/99\n",
      "----------\n",
      "Train Loss: 0.5530, Val Loss: 0.5559\n",
      "\n"
     ]
    },
    {
     "ename": "TypeError",
     "evalue": "cannot unpack non-iterable UNET object",
     "output_type": "error",
     "traceback": [
      "\u001b[31m---------------------------------------------------------------------------\u001b[39m",
      "\u001b[31mTypeError\u001b[39m                                 Traceback (most recent call last)",
      "\u001b[36mCell\u001b[39m\u001b[36m \u001b[39m\u001b[32mIn[14]\u001b[39m\u001b[32m, line 1\u001b[39m\n\u001b[32m----> \u001b[39m\u001b[32m1\u001b[39m model, logs = train(train_dataloader, val_dataloader, model, loss_fn, optim, \u001b[32m100\u001b[39m, log_freq=\u001b[32m1\u001b[39m, save_best_model=\u001b[38;5;28;01mTrue\u001b[39;00m, \n\u001b[32m      2\u001b[39m               best_model_name=\u001b[33m'\u001b[39m\u001b[33mbest_model_dice.pth\u001b[39m\u001b[33m'\u001b[39m, last_model_name=\u001b[33m'\u001b[39m\u001b[33mlast_model_dice\u001b[39m\u001b[33m'\u001b[39m, save_path=MODEL_PATH)\n\u001b[32m      3\u001b[39m logs_df = pd.DataFrame(history)\n\u001b[32m      4\u001b[39m logs_df.to_csv(os.path.join(MODEL_PATH, \u001b[33m'\u001b[39m\u001b[33mlogs_dice.csv\u001b[39m\u001b[33m'\u001b[39m), index=\u001b[38;5;28;01mFalse\u001b[39;00m)\n",
      "\u001b[31mTypeError\u001b[39m: cannot unpack non-iterable UNET object"
     ]
    }
   ],
   "source": [
    "model, logs = train(train_dataloader, val_dataloader, model, loss_fn, optim, 100, log_freq=1, save_best_model=True, \n",
    "              best_model_name='best_model_dice.pth', last_model_name='last_model_dice', save_path=MODEL_PATH)\n",
    "logs_df = pd.DataFrame(history)\n",
    "logs_df.to_csv(os.path.join(MODEL_PATH, 'logs_dice.csv'), index=False)"
   ]
  },
  {
   "cell_type": "code",
   "execution_count": null,
   "metadata": {},
   "outputs": [],
   "source": [
    "def inference(batch_tensor, model, device='cuda'):\n",
    "    \"\"\"Proper batch inference function that handles all cases\"\"\"\n",
    "    with torch.no_grad():\n",
    "        # Ensure correct input dimensions\n",
    "        if batch_tensor.dim() == 3:  # Single image (C,H,W)\n",
    "            batch_tensor = batch_tensor.unsqueeze(0)  # Add batch dim\n",
    "        elif batch_tensor.dim() != 4:  # Not standard 4D input\n",
    "            raise ValueError(f\"Expected 3D or 4D input, got {batch_tensor.dim()}D\")\n",
    "            \n",
    "        batch_tensor = batch_tensor.to(device)\n",
    "        logits = model(batch_tensor)\n",
    "        probs = torch.softmax(logits, dim=1)\n",
    "        preds = torch.argmax(probs, dim=1)\n",
    "    return logits, probs, preds\n",
    "    \n",
    "def unnormalize(tensor, mean, std):\n",
    "    for t, m, s in zip(tensor, mean, std):\n",
    "        t.mul_(s).add_(m)\n",
    "    return tensor\n",
    "\n",
    "def visualize_results(images, preds, masks, n_classes):\n",
    "    \"\"\"Visualize batch results\"\"\"\n",
    "    mean = [0.485, 0.456, 0.406]\n",
    "    std  = [0.229, 0.224, 0.225]\n",
    "    fig, axs = plt.subplots(3, 4, figsize=(20, 15))\n",
    "    for i in range(4):  # Show first 4 samples\n",
    "        # print(f\"{i}: Min: {images[i].min()}, Max: {images[i].max()}\")\n",
    "        \n",
    "        img = unnormalize(images[i].clone(), mean, std)\n",
    "        # Input image\n",
    "        axs[0,i].imshow(img.permute(1,2,0).cpu().numpy())\n",
    "        axs[0,i].set_title(f\"Input {i}\")\n",
    "        axs[0,i].axis('off')\n",
    "        \n",
    "        # Prediction\n",
    "        axs[1,i].imshow(preds[i].cpu().numpy(), \n",
    "                       cmap='jet', vmin=0, vmax=n_classes-1)\n",
    "        axs[1,i].set_title(f\"Pred {i}\")\n",
    "        axs[1,i].axis('off')\n",
    "        \n",
    "        # Ground Truth\n",
    "        axs[2,i].imshow(masks[i].cpu().numpy(), \n",
    "                       cmap='jet', vmin=0, vmax=n_classes-1)\n",
    "        axs[2,i].set_title(f\"GT {i}\")\n",
    "        axs[2,i].axis('off')\n",
    "    plt.tight_layout()\n",
    "    plt.show()\n",
    "\n",
    "# Usage with DataLoader\n",
    "model.eval()\n",
    "with torch.no_grad():\n",
    "    for images, masks in val_dataloader:\n",
    "        # Verify shapes\n",
    "        print(\"Input shape:\", images.shape)  # Should be [B,C,H,W]\n",
    "        print(\"Mask shape:\", masks.shape)   # Should be [B,H,W]\n",
    "        \n",
    "        # Run inference\n",
    "        logits, probs, preds = inference(images, model)\n",
    "        \n",
    "        # Verify output shapes\n",
    "        print(\"Logits shape:\", logits.shape)  # Should be [B,C,H,W]\n",
    "        print(\"Preds shape:\", preds.shape)    # Should be [B,H,W]\n",
    "        \n",
    "        # Visualize\n",
    "        visualize_results(images, preds, masks, model.out_channels)\n",
    "        \n",
    "        break  # Only show first batch"
   ]
  },
  {
   "cell_type": "code",
   "execution_count": null,
   "metadata": {},
   "outputs": [],
   "source": []
  }
 ],
 "metadata": {
  "accelerator": "GPU",
  "colab": {
   "gpuType": "T4",
   "provenance": []
  },
  "kernelspec": {
   "display_name": "Python 3 (ipykernel)",
   "language": "python",
   "name": "python3"
  },
  "language_info": {
   "codemirror_mode": {
    "name": "ipython",
    "version": 3
   },
   "file_extension": ".py",
   "mimetype": "text/x-python",
   "name": "python",
   "nbconvert_exporter": "python",
   "pygments_lexer": "ipython3",
   "version": "3.11.11"
  }
 },
 "nbformat": 4,
 "nbformat_minor": 4
}
