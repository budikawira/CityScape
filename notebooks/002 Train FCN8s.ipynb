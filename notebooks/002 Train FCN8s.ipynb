{
 "cells": [
  {
   "cell_type": "code",
   "execution_count": 1,
   "id": "c325470d-ec78-4e52-b086-0c3d06cf9d44",
   "metadata": {},
   "outputs": [],
   "source": [
    "# from google.colab import drive\n",
    "\n",
    "# drive.mount(\"/content/drive\")"
   ]
  },
  {
   "cell_type": "code",
   "execution_count": 2,
   "id": "f191edd7-77b7-4379-9738-4dc6823a9a90",
   "metadata": {},
   "outputs": [],
   "source": [
    "import os\n",
    "import numpy as np\n",
    "import pandas as pd"
   ]
  },
  {
   "cell_type": "code",
   "execution_count": 3,
   "id": "e50a45e8-fa90-4f62-8183-d6d84578727a",
   "metadata": {},
   "outputs": [],
   "source": [
    "TRAIN_IMG_PATH = \"../dataset/bootcamp/train/images\"\n",
    "TRAIN_MASK_PATH = \"../dataset/bootcamp/train/annotations\"\n",
    "VAL_IMG_PATH = \"../dataset/bootcamp/test/images\"\n",
    "VAL_MASK_PATH = \"../dataset/bootcamp/test/annotations\"\n",
    "\n",
    "EDA_DS_PATH = \"../dataset/bootcamp/train\"\n",
    "EDA_TRAIN_LABELS = os.path.join(EDA_DS_PATH, \"train_labels.csv\")\n",
    "EDA_TRAIN_FILES = os.path.join(EDA_DS_PATH, \"train_files.csv\")\n",
    "EDA_VAL_FILES = os.path.join(EDA_DS_PATH, \"val_files.csv\")\n",
    "\n",
    "MODEL_PATH = \"../models/FCN8s\"\n",
    "\n",
    "os.makedirs(MODEL_PATH, exist_ok=True)  # Ensure directory exist"
   ]
  },
  {
   "cell_type": "code",
   "execution_count": 4,
   "id": "249291b9-7568-4f20-ac1c-608235ffc0f7",
   "metadata": {},
   "outputs": [],
   "source": [
    "files_df = pd.read_csv(EDA_TRAIN_FILES)\n",
    "labels_df = pd.read_csv(EDA_TRAIN_LABELS)\n",
    "val_files_df = pd.read_csv(EDA_VAL_FILES)"
   ]
  },
  {
   "cell_type": "code",
   "execution_count": 5,
   "id": "b15b164c-309e-4f8b-857a-d911e8f70d23",
   "metadata": {},
   "outputs": [
    {
     "name": "stdout",
     "output_type": "stream",
     "text": [
      "            filename\n",
      "0  0001TP_006690.png\n",
      "1  0001TP_006720.png\n",
      "2  0001TP_006750.png\n",
      "3  0001TP_006780.png\n",
      "4  0001TP_006810.png\n",
      "\n",
      "   class     label\n",
      "0      0       sky\n",
      "1      1  building\n",
      "2      2      pole\n",
      "3      3      road\n",
      "4      4  sidewalk\n",
      "\n",
      "['0001TP_006690.png' '0001TP_006720.png' '0001TP_006750.png'\n",
      " '0001TP_006780.png' '0001TP_006810.png']\n",
      "\n",
      "['0016E5_07959.png' '0016E5_07961.png' '0016E5_07963.png'\n",
      " '0016E5_07965.png' '0016E5_07967.png']\n"
     ]
    }
   ],
   "source": [
    "print(files_df.head())\n",
    "print()\n",
    "print(labels_df.head())\n",
    "print()\n",
    "train_files = files_df['filename'].to_numpy()\n",
    "print(train_files[:5])\n",
    "print()\n",
    "val_files = val_files_df['filename'].to_numpy()\n",
    "print(val_files[:5])"
   ]
  },
  {
   "cell_type": "code",
   "execution_count": 6,
   "id": "791697b5-c561-4be5-8403-193faae76ccb",
   "metadata": {},
   "outputs": [],
   "source": [
    "import torch\n",
    "import torch.nn as nn\n",
    "import numpy as np\n",
    "import albumentations as A\n",
    "from albumentations.pytorch import ToTensorV2\n",
    "import os\n",
    "import matplotlib.pyplot as plt"
   ]
  },
  {
   "cell_type": "markdown",
   "id": "1b5d9399-856e-4d52-bd22-bc16e0a7fc31",
   "metadata": {},
   "source": [
    "## Dataset Loader"
   ]
  },
  {
   "cell_type": "code",
   "execution_count": 7,
   "id": "6f8a0fff-04c1-45de-ad46-15405ac1d7ff",
   "metadata": {},
   "outputs": [],
   "source": [
    "# refer to dataset.py\n",
    "from dataset import CityScapes"
   ]
  },
  {
   "cell_type": "code",
   "execution_count": 8,
   "id": "749b5b80-677e-4df2-993b-c0f97f1279cf",
   "metadata": {},
   "outputs": [
    {
     "name": "stdout",
     "output_type": "stream",
     "text": [
      "tensor([[[-1.8439, -1.9124, -1.8782,  ..., -1.8268, -1.8610, -1.8268],\n",
      "         [-1.8782, -1.8782, -1.8953,  ..., -1.8268, -1.8610, -1.8268],\n",
      "         [-1.8953, -1.8610, -1.8610,  ..., -1.9124, -1.8782, -1.8439],\n",
      "         ...,\n",
      "         [-1.8610, -1.8610, -1.8439,  ..., -1.7240, -1.6727, -1.6727],\n",
      "         [-1.8439, -1.8439, -1.8439,  ..., -1.6898, -1.6213, -1.7240],\n",
      "         [-1.8439, -1.8610, -1.8439,  ..., -1.7240, -1.7240, -1.7412]],\n",
      "\n",
      "        [[-1.7556, -1.8256, -1.7906,  ..., -1.6681, -1.7031, -1.7206],\n",
      "         [-1.7906, -1.7906, -1.8081,  ..., -1.6681, -1.7031, -1.7206],\n",
      "         [-1.8081, -1.7731, -1.7731,  ..., -1.7556, -1.7206, -1.7381],\n",
      "         ...,\n",
      "         [-1.7556, -1.7556, -1.7381,  ..., -1.4580, -1.4055, -1.3880],\n",
      "         [-1.7381, -1.7381, -1.7381,  ..., -1.4580, -1.3704, -1.4405],\n",
      "         [-1.7556, -1.7556, -1.7381,  ..., -1.4580, -1.4405, -1.4580]],\n",
      "\n",
      "        [[-1.5256, -1.5953, -1.5604,  ..., -1.4210, -1.4559, -1.4384],\n",
      "         [-1.5604, -1.5604, -1.5779,  ..., -1.4210, -1.4559, -1.4559],\n",
      "         [-1.5779, -1.5430, -1.5430,  ..., -1.5081, -1.4733, -1.4733],\n",
      "         ...,\n",
      "         [-1.4907, -1.4907, -1.4733,  ..., -1.1247, -1.0724, -1.1421],\n",
      "         [-1.4733, -1.4733, -1.4733,  ..., -1.1421, -1.0898, -1.1421],\n",
      "         [-1.4733, -1.4907, -1.4733,  ..., -1.1421, -1.1421, -1.1421]]])\n",
      "\n",
      "tensor([[ 1,  1,  1,  ...,  1,  1,  1],\n",
      "        [ 1,  1,  1,  ...,  1,  1,  1],\n",
      "        [ 1,  1,  1,  ...,  1,  1,  1],\n",
      "        ...,\n",
      "        [ 4,  4,  4,  ..., 11, 11, 11],\n",
      "        [ 4,  4,  4,  ..., 11, 11, 11],\n",
      "        [ 4,  4,  4,  ..., 11, 11, 11]], dtype=torch.uint8)\n",
      "\n",
      "torch.Size([3, 256, 256])\n",
      "\n",
      "torch.Size([256, 256])\n"
     ]
    }
   ],
   "source": [
    "train_datasets = CityScapes(TRAIN_IMG_PATH, TRAIN_MASK_PATH, train_files)\n",
    "image, mask = train_datasets.__getitem__(0)\n",
    "print(image)\n",
    "print()\n",
    "print(mask)\n",
    "print()\n",
    "print(image.shape)\n",
    "print()\n",
    "print(mask.shape)\n",
    "\n",
    "val_datasets = CityScapes(VAL_IMG_PATH, VAL_MASK_PATH, val_files)"
   ]
  },
  {
   "cell_type": "code",
   "execution_count": 9,
   "id": "6ca2b79c-0105-476c-a17d-7a8853e49233",
   "metadata": {},
   "outputs": [],
   "source": [
    "from torch.utils.data import DataLoader\n",
    "\n",
    "train_dataloader = DataLoader(train_datasets, batch_size=32, shuffle=True, num_workers=0)\n",
    "val_dataloader = DataLoader(val_datasets, batch_size=32, shuffle=True, num_workers=0)"
   ]
  },
  {
   "cell_type": "markdown",
   "id": "40e468e0-939f-4de4-870d-08475952464d",
   "metadata": {},
   "source": [
    "## Model Architecture"
   ]
  },
  {
   "cell_type": "code",
   "execution_count": 10,
   "id": "9d20aa0a-bf15-474c-8bb8-548d029116d8",
   "metadata": {},
   "outputs": [],
   "source": [
    "from architecture import DoubleConv\n",
    "import torch.nn as nn\n",
    "\n",
    "class FCN8s(nn.Module):\n",
    "  def __init__(self, in_channels, out_channels, features= [64, 128, 256, 512, 1024]):\n",
    "    super().__init__()\n",
    "    self.layers = nn.ModuleList()\n",
    "    self.pool = nn.MaxPool2d(2, 2)\n",
    "    self.out_channels = out_channels\n",
    "\n",
    "    for feature in features:\n",
    "      self.layers.append(DoubleConv(in_channels, feature))\n",
    "      in_channels = feature\n",
    "\n",
    "    self.ups1 = nn.ConvTranspose2d(features[-1], features[-2], kernel_size=2, stride=2)\n",
    "    self.ups2 = nn.ConvTranspose2d(features[-1], features[-3], kernel_size=2, stride=2)\n",
    "\n",
    "    self.predictions = nn.ConvTranspose2d(features[-2], out_channels, kernel_size=8, stride=8)\n",
    "\n",
    "  def forward(self, x):\n",
    "    skip_connections=[]\n",
    "\n",
    "    for idx,layer in enumerate(self.layers):\n",
    "      x = layer(x)\n",
    "      x = self.pool(x)\n",
    "      if idx in [2,3]:\n",
    "        skip_connections.append(x)\n",
    "\n",
    "\n",
    "    ups1 = self.ups1(x)\n",
    "    concat1 = torch.concat([ups1, skip_connections[-1]], dim=1)\n",
    "\n",
    "    ups2 = self.ups2(concat1)\n",
    "    concat2 = torch.concat([ups2, skip_connections[-2]], dim=1)\n",
    "\n",
    "    return self.predictions(concat2)"
   ]
  },
  {
   "cell_type": "markdown",
   "id": "69139016-43ac-4b2f-8a67-8f6b14de3521",
   "metadata": {},
   "source": [
    "## Engine"
   ]
  },
  {
   "cell_type": "code",
   "execution_count": 11,
   "id": "7ae80138-d237-4d78-88bc-e26d946279a5",
   "metadata": {},
   "outputs": [
    {
     "name": "stderr",
     "output_type": "stream",
     "text": [
      "Z:\\BEKA\\2025\\AI\\Bootcamp\\Source\\Advanced CV\\Project 3\\notebooks\\engine.py:137: FutureWarning: `torch.cuda.amp.GradScaler(args...)` is deprecated. Please use `torch.amp.GradScaler('cuda', args...)` instead.\n",
      "  def train_engine(dataloader, model, loss_fn, optim, scaler=torch.cuda.amp.GradScaler()):\n"
     ]
    }
   ],
   "source": [
    "from engine import DiceLoss\n",
    "from engine import DiceCrossEntropyLoss\n",
    "from engine import train"
   ]
  },
  {
   "cell_type": "code",
   "execution_count": 12,
   "id": "f0a9de4a-f655-4aaf-a12e-483664a6efb0",
   "metadata": {},
   "outputs": [
    {
     "name": "stdout",
     "output_type": "stream",
     "text": [
      "12\n"
     ]
    }
   ],
   "source": [
    "model = FCN8s(in_channels=3, out_channels=len(labels_df))\n",
    "model.cuda()\n",
    "loss_fn = DiceLoss()\n",
    "optim = torch.optim.Adam(model.parameters(), lr = 1e-3)\n",
    "print(model.out_channels)"
   ]
  },
  {
   "cell_type": "code",
   "execution_count": 13,
   "id": "b434200e-a97f-4b8e-8c63-4ceed63e4968",
   "metadata": {},
   "outputs": [
    {
     "name": "stderr",
     "output_type": "stream",
     "text": [
      "100%|██████████████████████████████████████████████████████████████████████| 12/12 [00:12<00:00,  1.02s/it, loss=0.766]\n",
      "Z:\\BEKA\\2025\\AI\\Bootcamp\\Source\\Advanced CV\\Project 3\\notebooks\\engine.py:183: FutureWarning: `torch.cuda.amp.autocast(args...)` is deprecated. Please use `torch.amp.autocast('cuda', args...)` instead.\n",
      "  with torch.cuda.amp.autocast():\n",
      "100%|████████████████████████████████████████████████████████████████████████| 4/4 [00:01<00:00,  3.41it/s, loss=0.929]\n"
     ]
    },
    {
     "name": "stdout",
     "output_type": "stream",
     "text": [
      "Epoch 0/99\n",
      "----------\n",
      "Train Loss: 0.8564, Val Loss: 0.9288\n",
      "✅ Best model saved! (Val Loss: 0.928842693567276)\n",
      "\n"
     ]
    },
    {
     "name": "stderr",
     "output_type": "stream",
     "text": [
      "100%|██████████████████████████████████████████████████████████████████████| 12/12 [00:09<00:00,  1.29it/s, loss=0.733]\n",
      "100%|████████████████████████████████████████████████████████████████████████| 4/4 [00:01<00:00,  3.46it/s, loss=0.883]\n"
     ]
    },
    {
     "name": "stdout",
     "output_type": "stream",
     "text": [
      "Epoch 1/99\n",
      "----------\n",
      "Train Loss: 0.7546, Val Loss: 0.8801\n",
      "✅ Best model saved! (Val Loss: 0.8800560683012009)\n",
      "\n"
     ]
    },
    {
     "name": "stderr",
     "output_type": "stream",
     "text": [
      "100%|██████████████████████████████████████████████████████████████████████| 12/12 [00:09<00:00,  1.30it/s, loss=0.735]\n",
      "100%|██████████████████████████████████████████████████████████████████████████| 4/4 [00:01<00:00,  3.51it/s, loss=0.8]\n"
     ]
    },
    {
     "name": "stdout",
     "output_type": "stream",
     "text": [
      "Epoch 2/99\n",
      "----------\n",
      "Train Loss: 0.7239, Val Loss: 0.8027\n",
      "✅ Best model saved! (Val Loss: 0.8026815950870514)\n",
      "\n"
     ]
    },
    {
     "name": "stderr",
     "output_type": "stream",
     "text": [
      "100%|██████████████████████████████████████████████████████████████████████| 12/12 [00:09<00:00,  1.31it/s, loss=0.715]\n",
      "100%|████████████████████████████████████████████████████████████████████████| 4/4 [00:01<00:00,  3.47it/s, loss=0.804]\n"
     ]
    },
    {
     "name": "stdout",
     "output_type": "stream",
     "text": [
      "Epoch 3/99\n",
      "----------\n",
      "Train Loss: 0.7085, Val Loss: 0.8016\n",
      "✅ Best model saved! (Val Loss: 0.8016121089458466)\n",
      "\n"
     ]
    },
    {
     "name": "stderr",
     "output_type": "stream",
     "text": [
      "100%|██████████████████████████████████████████████████████████████████████| 12/12 [00:09<00:00,  1.31it/s, loss=0.691]\n",
      "100%|████████████████████████████████████████████████████████████████████████| 4/4 [00:01<00:00,  3.37it/s, loss=0.828]\n"
     ]
    },
    {
     "name": "stdout",
     "output_type": "stream",
     "text": [
      "Epoch 4/99\n",
      "----------\n",
      "Train Loss: 0.6982, Val Loss: 0.8267\n",
      "\n"
     ]
    },
    {
     "name": "stderr",
     "output_type": "stream",
     "text": [
      "100%|██████████████████████████████████████████████████████████████████████| 12/12 [00:09<00:00,  1.29it/s, loss=0.694]\n",
      "100%|████████████████████████████████████████████████████████████████████████| 4/4 [00:01<00:00,  3.38it/s, loss=0.765]\n"
     ]
    },
    {
     "name": "stdout",
     "output_type": "stream",
     "text": [
      "Epoch 5/99\n",
      "----------\n",
      "Train Loss: 0.6941, Val Loss: 0.7700\n",
      "✅ Best model saved! (Val Loss: 0.7700497657060623)\n",
      "\n"
     ]
    },
    {
     "name": "stderr",
     "output_type": "stream",
     "text": [
      "100%|██████████████████████████████████████████████████████████████████████| 12/12 [00:09<00:00,  1.29it/s, loss=0.669]\n",
      "100%|████████████████████████████████████████████████████████████████████████| 4/4 [00:01<00:00,  3.44it/s, loss=0.786]\n"
     ]
    },
    {
     "name": "stdout",
     "output_type": "stream",
     "text": [
      "Epoch 6/99\n",
      "----------\n",
      "Train Loss: 0.6890, Val Loss: 0.7894\n",
      "\n"
     ]
    },
    {
     "name": "stderr",
     "output_type": "stream",
     "text": [
      "100%|██████████████████████████████████████████████████████████████████████| 12/12 [00:09<00:00,  1.30it/s, loss=0.641]\n",
      "100%|████████████████████████████████████████████████████████████████████████| 4/4 [00:01<00:00,  3.47it/s, loss=0.769]\n"
     ]
    },
    {
     "name": "stdout",
     "output_type": "stream",
     "text": [
      "Epoch 7/99\n",
      "----------\n",
      "Train Loss: 0.6824, Val Loss: 0.7704\n",
      "\n"
     ]
    },
    {
     "name": "stderr",
     "output_type": "stream",
     "text": [
      "100%|██████████████████████████████████████████████████████████████████████| 12/12 [00:09<00:00,  1.30it/s, loss=0.687]\n",
      "100%|████████████████████████████████████████████████████████████████████████| 4/4 [00:01<00:00,  3.42it/s, loss=0.768]\n"
     ]
    },
    {
     "name": "stdout",
     "output_type": "stream",
     "text": [
      "Epoch 8/99\n",
      "----------\n",
      "Train Loss: 0.6789, Val Loss: 0.7722\n",
      "\n"
     ]
    },
    {
     "name": "stderr",
     "output_type": "stream",
     "text": [
      "100%|██████████████████████████████████████████████████████████████████████| 12/12 [00:09<00:00,  1.29it/s, loss=0.702]\n",
      "100%|████████████████████████████████████████████████████████████████████████| 4/4 [00:01<00:00,  3.32it/s, loss=0.805]\n"
     ]
    },
    {
     "name": "stdout",
     "output_type": "stream",
     "text": [
      "Epoch 9/99\n",
      "----------\n",
      "Train Loss: 0.6790, Val Loss: 0.8063\n",
      "\n"
     ]
    },
    {
     "name": "stderr",
     "output_type": "stream",
     "text": [
      "100%|██████████████████████████████████████████████████████████████████████| 12/12 [00:09<00:00,  1.29it/s, loss=0.676]\n",
      "100%|████████████████████████████████████████████████████████████████████████| 4/4 [00:01<00:00,  3.45it/s, loss=0.794]\n"
     ]
    },
    {
     "name": "stdout",
     "output_type": "stream",
     "text": [
      "Epoch 10/99\n",
      "----------\n",
      "Train Loss: 0.6762, Val Loss: 0.7951\n",
      "\n"
     ]
    },
    {
     "name": "stderr",
     "output_type": "stream",
     "text": [
      "100%|██████████████████████████████████████████████████████████████████████| 12/12 [00:09<00:00,  1.30it/s, loss=0.657]\n",
      "100%|████████████████████████████████████████████████████████████████████████| 4/4 [00:01<00:00,  3.47it/s, loss=0.773]\n"
     ]
    },
    {
     "name": "stdout",
     "output_type": "stream",
     "text": [
      "Epoch 11/99\n",
      "----------\n",
      "Train Loss: 0.6671, Val Loss: 0.7692\n",
      "✅ Best model saved! (Val Loss: 0.7692499458789825)\n",
      "\n"
     ]
    },
    {
     "name": "stderr",
     "output_type": "stream",
     "text": [
      "100%|██████████████████████████████████████████████████████████████████████| 12/12 [00:09<00:00,  1.30it/s, loss=0.654]\n",
      "100%|████████████████████████████████████████████████████████████████████████| 4/4 [00:01<00:00,  3.49it/s, loss=0.773]\n"
     ]
    },
    {
     "name": "stdout",
     "output_type": "stream",
     "text": [
      "Epoch 12/99\n",
      "----------\n",
      "Train Loss: 0.6626, Val Loss: 0.7743\n",
      "\n"
     ]
    },
    {
     "name": "stderr",
     "output_type": "stream",
     "text": [
      "100%|██████████████████████████████████████████████████████████████████████| 12/12 [00:09<00:00,  1.30it/s, loss=0.641]\n",
      "100%|████████████████████████████████████████████████████████████████████████| 4/4 [00:01<00:00,  3.48it/s, loss=0.778]\n"
     ]
    },
    {
     "name": "stdout",
     "output_type": "stream",
     "text": [
      "Epoch 13/99\n",
      "----------\n",
      "Train Loss: 0.6626, Val Loss: 0.7714\n",
      "\n"
     ]
    },
    {
     "name": "stderr",
     "output_type": "stream",
     "text": [
      "100%|██████████████████████████████████████████████████████████████████████| 12/12 [00:09<00:00,  1.30it/s, loss=0.663]\n",
      "100%|█████████████████████████████████████████████████████████████████████████| 4/4 [00:01<00:00,  3.39it/s, loss=0.75]\n"
     ]
    },
    {
     "name": "stdout",
     "output_type": "stream",
     "text": [
      "Epoch 14/99\n",
      "----------\n",
      "Train Loss: 0.6644, Val Loss: 0.7520\n",
      "✅ Best model saved! (Val Loss: 0.7519893199205399)\n",
      "\n"
     ]
    },
    {
     "name": "stderr",
     "output_type": "stream",
     "text": [
      "100%|██████████████████████████████████████████████████████████████████████| 12/12 [00:09<00:00,  1.31it/s, loss=0.659]\n",
      "100%|████████████████████████████████████████████████████████████████████████| 4/4 [00:01<00:00,  3.43it/s, loss=0.742]\n"
     ]
    },
    {
     "name": "stdout",
     "output_type": "stream",
     "text": [
      "Epoch 15/99\n",
      "----------\n",
      "Train Loss: 0.6580, Val Loss: 0.7436\n",
      "✅ Best model saved! (Val Loss: 0.7435904145240784)\n",
      "\n"
     ]
    },
    {
     "name": "stderr",
     "output_type": "stream",
     "text": [
      "100%|██████████████████████████████████████████████████████████████████████| 12/12 [00:09<00:00,  1.31it/s, loss=0.619]\n",
      "100%|████████████████████████████████████████████████████████████████████████| 4/4 [00:01<00:00,  3.51it/s, loss=0.754]\n"
     ]
    },
    {
     "name": "stdout",
     "output_type": "stream",
     "text": [
      "Epoch 16/99\n",
      "----------\n",
      "Train Loss: 0.6492, Val Loss: 0.7540\n",
      "\n"
     ]
    },
    {
     "name": "stderr",
     "output_type": "stream",
     "text": [
      "100%|██████████████████████████████████████████████████████████████████████| 12/12 [00:09<00:00,  1.30it/s, loss=0.678]\n",
      "100%|████████████████████████████████████████████████████████████████████████| 4/4 [00:01<00:00,  3.45it/s, loss=0.788]\n"
     ]
    },
    {
     "name": "stdout",
     "output_type": "stream",
     "text": [
      "Epoch 17/99\n",
      "----------\n",
      "Train Loss: 0.6641, Val Loss: 0.7874\n",
      "\n"
     ]
    },
    {
     "name": "stderr",
     "output_type": "stream",
     "text": [
      "100%|██████████████████████████████████████████████████████████████████████| 12/12 [00:09<00:00,  1.29it/s, loss=0.651]\n",
      "100%|████████████████████████████████████████████████████████████████████████| 4/4 [00:01<00:00,  3.29it/s, loss=0.743]\n"
     ]
    },
    {
     "name": "stdout",
     "output_type": "stream",
     "text": [
      "Epoch 18/99\n",
      "----------\n",
      "Train Loss: 0.6524, Val Loss: 0.7455\n",
      "\n"
     ]
    },
    {
     "name": "stderr",
     "output_type": "stream",
     "text": [
      "100%|██████████████████████████████████████████████████████████████████████| 12/12 [00:09<00:00,  1.29it/s, loss=0.682]\n",
      "100%|████████████████████████████████████████████████████████████████████████| 4/4 [00:01<00:00,  3.47it/s, loss=0.781]\n"
     ]
    },
    {
     "name": "stdout",
     "output_type": "stream",
     "text": [
      "Epoch 19/99\n",
      "----------\n",
      "Train Loss: 0.6496, Val Loss: 0.7756\n",
      "\n"
     ]
    },
    {
     "name": "stderr",
     "output_type": "stream",
     "text": [
      "100%|██████████████████████████████████████████████████████████████████████| 12/12 [00:09<00:00,  1.30it/s, loss=0.655]\n",
      "100%|████████████████████████████████████████████████████████████████████████| 4/4 [00:01<00:00,  3.43it/s, loss=0.744]\n"
     ]
    },
    {
     "name": "stdout",
     "output_type": "stream",
     "text": [
      "Epoch 20/99\n",
      "----------\n",
      "Train Loss: 0.6504, Val Loss: 0.7452\n",
      "\n"
     ]
    },
    {
     "name": "stderr",
     "output_type": "stream",
     "text": [
      "100%|██████████████████████████████████████████████████████████████████████| 12/12 [00:09<00:00,  1.29it/s, loss=0.655]\n",
      "100%|████████████████████████████████████████████████████████████████████████| 4/4 [00:01<00:00,  3.34it/s, loss=0.769]\n"
     ]
    },
    {
     "name": "stdout",
     "output_type": "stream",
     "text": [
      "Epoch 21/99\n",
      "----------\n",
      "Train Loss: 0.6443, Val Loss: 0.7693\n",
      "\n"
     ]
    },
    {
     "name": "stderr",
     "output_type": "stream",
     "text": [
      "100%|██████████████████████████████████████████████████████████████████████| 12/12 [00:09<00:00,  1.28it/s, loss=0.662]\n",
      "100%|█████████████████████████████████████████████████████████████████████████| 4/4 [00:01<00:00,  3.35it/s, loss=0.74]\n"
     ]
    },
    {
     "name": "stdout",
     "output_type": "stream",
     "text": [
      "Epoch 22/99\n",
      "----------\n",
      "Train Loss: 0.6451, Val Loss: 0.7440\n",
      "\n"
     ]
    },
    {
     "name": "stderr",
     "output_type": "stream",
     "text": [
      "100%|██████████████████████████████████████████████████████████████████████| 12/12 [00:09<00:00,  1.29it/s, loss=0.647]\n",
      "100%|█████████████████████████████████████████████████████████████████████████| 4/4 [00:01<00:00,  3.53it/s, loss=0.74]\n"
     ]
    },
    {
     "name": "stdout",
     "output_type": "stream",
     "text": [
      "Epoch 23/99\n",
      "----------\n",
      "Train Loss: 0.6432, Val Loss: 0.7415\n",
      "✅ Best model saved! (Val Loss: 0.7414741367101669)\n",
      "\n"
     ]
    },
    {
     "name": "stderr",
     "output_type": "stream",
     "text": [
      "100%|██████████████████████████████████████████████████████████████████████| 12/12 [00:09<00:00,  1.31it/s, loss=0.638]\n",
      "100%|████████████████████████████████████████████████████████████████████████| 4/4 [00:01<00:00,  3.41it/s, loss=0.743]\n"
     ]
    },
    {
     "name": "stdout",
     "output_type": "stream",
     "text": [
      "Epoch 24/99\n",
      "----------\n",
      "Train Loss: 0.6406, Val Loss: 0.7469\n",
      "\n"
     ]
    },
    {
     "name": "stderr",
     "output_type": "stream",
     "text": [
      "100%|██████████████████████████████████████████████████████████████████████| 12/12 [00:09<00:00,  1.30it/s, loss=0.606]\n",
      "100%|████████████████████████████████████████████████████████████████████████| 4/4 [00:01<00:00,  3.36it/s, loss=0.731]\n"
     ]
    },
    {
     "name": "stdout",
     "output_type": "stream",
     "text": [
      "Epoch 25/99\n",
      "----------\n",
      "Train Loss: 0.6367, Val Loss: 0.7360\n",
      "✅ Best model saved! (Val Loss: 0.7359991818666458)\n",
      "\n"
     ]
    },
    {
     "name": "stderr",
     "output_type": "stream",
     "text": [
      "100%|██████████████████████████████████████████████████████████████████████| 12/12 [00:09<00:00,  1.31it/s, loss=0.636]\n",
      "100%|████████████████████████████████████████████████████████████████████████| 4/4 [00:01<00:00,  3.35it/s, loss=0.743]\n"
     ]
    },
    {
     "name": "stdout",
     "output_type": "stream",
     "text": [
      "Epoch 26/99\n",
      "----------\n",
      "Train Loss: 0.6356, Val Loss: 0.7425\n",
      "\n"
     ]
    },
    {
     "name": "stderr",
     "output_type": "stream",
     "text": [
      "100%|██████████████████████████████████████████████████████████████████████| 12/12 [00:09<00:00,  1.30it/s, loss=0.646]\n",
      "100%|████████████████████████████████████████████████████████████████████████| 4/4 [00:01<00:00,  3.40it/s, loss=0.743]\n"
     ]
    },
    {
     "name": "stdout",
     "output_type": "stream",
     "text": [
      "Epoch 27/99\n",
      "----------\n",
      "Train Loss: 0.6359, Val Loss: 0.7466\n",
      "\n"
     ]
    },
    {
     "name": "stderr",
     "output_type": "stream",
     "text": [
      "100%|██████████████████████████████████████████████████████████████████████| 12/12 [00:09<00:00,  1.31it/s, loss=0.624]\n",
      "100%|████████████████████████████████████████████████████████████████████████| 4/4 [00:01<00:00,  3.50it/s, loss=0.744]\n"
     ]
    },
    {
     "name": "stdout",
     "output_type": "stream",
     "text": [
      "Epoch 28/99\n",
      "----------\n",
      "Train Loss: 0.6320, Val Loss: 0.7433\n",
      "\n"
     ]
    },
    {
     "name": "stderr",
     "output_type": "stream",
     "text": [
      "100%|██████████████████████████████████████████████████████████████████████| 12/12 [00:09<00:00,  1.30it/s, loss=0.604]\n",
      "100%|████████████████████████████████████████████████████████████████████████| 4/4 [00:01<00:00,  3.43it/s, loss=0.755]\n"
     ]
    },
    {
     "name": "stdout",
     "output_type": "stream",
     "text": [
      "Epoch 29/99\n",
      "----------\n",
      "Train Loss: 0.6270, Val Loss: 0.7454\n",
      "\n"
     ]
    },
    {
     "name": "stderr",
     "output_type": "stream",
     "text": [
      "100%|██████████████████████████████████████████████████████████████████████| 12/12 [00:09<00:00,  1.27it/s, loss=0.622]\n",
      "100%|████████████████████████████████████████████████████████████████████████| 4/4 [00:01<00:00,  3.42it/s, loss=0.743]\n"
     ]
    },
    {
     "name": "stdout",
     "output_type": "stream",
     "text": [
      "Epoch 30/99\n",
      "----------\n",
      "Train Loss: 0.6262, Val Loss: 0.7415\n",
      "\n"
     ]
    },
    {
     "name": "stderr",
     "output_type": "stream",
     "text": [
      "100%|██████████████████████████████████████████████████████████████████████| 12/12 [00:09<00:00,  1.30it/s, loss=0.615]\n",
      "100%|████████████████████████████████████████████████████████████████████████| 4/4 [00:01<00:00,  3.46it/s, loss=0.729]\n"
     ]
    },
    {
     "name": "stdout",
     "output_type": "stream",
     "text": [
      "Epoch 31/99\n",
      "----------\n",
      "Train Loss: 0.6214, Val Loss: 0.7341\n",
      "✅ Best model saved! (Val Loss: 0.7341490983963013)\n",
      "\n"
     ]
    },
    {
     "name": "stderr",
     "output_type": "stream",
     "text": [
      "100%|██████████████████████████████████████████████████████████████████████| 12/12 [00:09<00:00,  1.30it/s, loss=0.639]\n",
      "100%|████████████████████████████████████████████████████████████████████████| 4/4 [00:01<00:00,  3.43it/s, loss=0.753]\n"
     ]
    },
    {
     "name": "stdout",
     "output_type": "stream",
     "text": [
      "Epoch 32/99\n",
      "----------\n",
      "Train Loss: 0.6203, Val Loss: 0.7412\n",
      "\n"
     ]
    },
    {
     "name": "stderr",
     "output_type": "stream",
     "text": [
      "100%|██████████████████████████████████████████████████████████████████████| 12/12 [00:09<00:00,  1.30it/s, loss=0.625]\n",
      "100%|████████████████████████████████████████████████████████████████████████| 4/4 [00:01<00:00,  3.34it/s, loss=0.739]\n"
     ]
    },
    {
     "name": "stdout",
     "output_type": "stream",
     "text": [
      "Epoch 33/99\n",
      "----------\n",
      "Train Loss: 0.6178, Val Loss: 0.7354\n",
      "\n"
     ]
    },
    {
     "name": "stderr",
     "output_type": "stream",
     "text": [
      "100%|██████████████████████████████████████████████████████████████████████| 12/12 [00:09<00:00,  1.30it/s, loss=0.602]\n",
      "100%|████████████████████████████████████████████████████████████████████████| 4/4 [00:01<00:00,  3.47it/s, loss=0.737]\n"
     ]
    },
    {
     "name": "stdout",
     "output_type": "stream",
     "text": [
      "Epoch 34/99\n",
      "----------\n",
      "Train Loss: 0.6144, Val Loss: 0.7374\n",
      "\n"
     ]
    },
    {
     "name": "stderr",
     "output_type": "stream",
     "text": [
      "100%|██████████████████████████████████████████████████████████████████████| 12/12 [00:09<00:00,  1.28it/s, loss=0.623]\n",
      "100%|████████████████████████████████████████████████████████████████████████| 4/4 [00:01<00:00,  3.41it/s, loss=0.747]\n"
     ]
    },
    {
     "name": "stdout",
     "output_type": "stream",
     "text": [
      "Epoch 35/99\n",
      "----------\n",
      "Train Loss: 0.6135, Val Loss: 0.7438\n",
      "\n"
     ]
    },
    {
     "name": "stderr",
     "output_type": "stream",
     "text": [
      "100%|███████████████████████████████████████████████████████████████████████| 12/12 [00:09<00:00,  1.30it/s, loss=0.59]\n",
      "100%|████████████████████████████████████████████████████████████████████████| 4/4 [00:01<00:00,  3.42it/s, loss=0.738]\n"
     ]
    },
    {
     "name": "stdout",
     "output_type": "stream",
     "text": [
      "Epoch 36/99\n",
      "----------\n",
      "Train Loss: 0.6090, Val Loss: 0.7349\n",
      "\n"
     ]
    },
    {
     "name": "stderr",
     "output_type": "stream",
     "text": [
      "100%|███████████████████████████████████████████████████████████████████████| 12/12 [00:09<00:00,  1.30it/s, loss=0.57]\n",
      "100%|█████████████████████████████████████████████████████████████████████████| 4/4 [00:01<00:00,  3.40it/s, loss=0.74]\n"
     ]
    },
    {
     "name": "stdout",
     "output_type": "stream",
     "text": [
      "Epoch 37/99\n",
      "----------\n",
      "Train Loss: 0.6087, Val Loss: 0.7378\n",
      "\n"
     ]
    },
    {
     "name": "stderr",
     "output_type": "stream",
     "text": [
      "100%|██████████████████████████████████████████████████████████████████████| 12/12 [00:09<00:00,  1.30it/s, loss=0.645]\n",
      "100%|████████████████████████████████████████████████████████████████████████| 4/4 [00:01<00:00,  3.37it/s, loss=0.743]\n"
     ]
    },
    {
     "name": "stdout",
     "output_type": "stream",
     "text": [
      "Epoch 38/99\n",
      "----------\n",
      "Train Loss: 0.6108, Val Loss: 0.7457\n",
      "\n"
     ]
    },
    {
     "name": "stderr",
     "output_type": "stream",
     "text": [
      "100%|██████████████████████████████████████████████████████████████████████| 12/12 [00:09<00:00,  1.31it/s, loss=0.599]\n",
      "100%|████████████████████████████████████████████████████████████████████████| 4/4 [00:01<00:00,  3.44it/s, loss=0.738]\n"
     ]
    },
    {
     "name": "stdout",
     "output_type": "stream",
     "text": [
      "Epoch 39/99\n",
      "----------\n",
      "Train Loss: 0.6075, Val Loss: 0.7404\n",
      "\n"
     ]
    },
    {
     "name": "stderr",
     "output_type": "stream",
     "text": [
      "100%|██████████████████████████████████████████████████████████████████████| 12/12 [00:09<00:00,  1.30it/s, loss=0.613]\n",
      "100%|████████████████████████████████████████████████████████████████████████| 4/4 [00:01<00:00,  3.46it/s, loss=0.719]\n"
     ]
    },
    {
     "name": "stdout",
     "output_type": "stream",
     "text": [
      "Epoch 40/99\n",
      "----------\n",
      "Train Loss: 0.6059, Val Loss: 0.7283\n",
      "✅ Best model saved! (Val Loss: 0.7282841205596924)\n",
      "\n"
     ]
    },
    {
     "name": "stderr",
     "output_type": "stream",
     "text": [
      "100%|███████████████████████████████████████████████████████████████████████| 12/12 [00:09<00:00,  1.29it/s, loss=0.63]\n",
      "100%|████████████████████████████████████████████████████████████████████████| 4/4 [00:01<00:00,  3.34it/s, loss=0.729]\n"
     ]
    },
    {
     "name": "stdout",
     "output_type": "stream",
     "text": [
      "Epoch 41/99\n",
      "----------\n",
      "Train Loss: 0.6049, Val Loss: 0.7308\n",
      "\n"
     ]
    },
    {
     "name": "stderr",
     "output_type": "stream",
     "text": [
      "100%|██████████████████████████████████████████████████████████████████████| 12/12 [00:09<00:00,  1.31it/s, loss=0.636]\n",
      "100%|████████████████████████████████████████████████████████████████████████| 4/4 [00:01<00:00,  3.45it/s, loss=0.737]\n"
     ]
    },
    {
     "name": "stdout",
     "output_type": "stream",
     "text": [
      "Epoch 42/99\n",
      "----------\n",
      "Train Loss: 0.6053, Val Loss: 0.7385\n",
      "\n"
     ]
    },
    {
     "name": "stderr",
     "output_type": "stream",
     "text": [
      "100%|██████████████████████████████████████████████████████████████████████| 12/12 [00:09<00:00,  1.30it/s, loss=0.574]\n",
      "100%|████████████████████████████████████████████████████████████████████████| 4/4 [00:01<00:00,  3.50it/s, loss=0.738]\n"
     ]
    },
    {
     "name": "stdout",
     "output_type": "stream",
     "text": [
      "Epoch 43/99\n",
      "----------\n",
      "Train Loss: 0.6003, Val Loss: 0.7355\n",
      "\n"
     ]
    },
    {
     "name": "stderr",
     "output_type": "stream",
     "text": [
      "100%|██████████████████████████████████████████████████████████████████████| 12/12 [00:09<00:00,  1.30it/s, loss=0.609]\n",
      "100%|████████████████████████████████████████████████████████████████████████| 4/4 [00:01<00:00,  3.33it/s, loss=0.731]\n"
     ]
    },
    {
     "name": "stdout",
     "output_type": "stream",
     "text": [
      "Epoch 44/99\n",
      "----------\n",
      "Train Loss: 0.5996, Val Loss: 0.7368\n",
      "\n"
     ]
    },
    {
     "name": "stderr",
     "output_type": "stream",
     "text": [
      "100%|██████████████████████████████████████████████████████████████████████| 12/12 [00:09<00:00,  1.30it/s, loss=0.599]\n",
      "100%|████████████████████████████████████████████████████████████████████████| 4/4 [00:01<00:00,  3.34it/s, loss=0.739]\n"
     ]
    },
    {
     "name": "stdout",
     "output_type": "stream",
     "text": [
      "Epoch 45/99\n",
      "----------\n",
      "Train Loss: 0.5980, Val Loss: 0.7340\n",
      "\n"
     ]
    },
    {
     "name": "stderr",
     "output_type": "stream",
     "text": [
      "100%|██████████████████████████████████████████████████████████████████████| 12/12 [00:09<00:00,  1.28it/s, loss=0.628]\n",
      "100%|████████████████████████████████████████████████████████████████████████| 4/4 [00:01<00:00,  3.48it/s, loss=0.741]\n"
     ]
    },
    {
     "name": "stdout",
     "output_type": "stream",
     "text": [
      "Epoch 46/99\n",
      "----------\n",
      "Train Loss: 0.5974, Val Loss: 0.7332\n",
      "\n"
     ]
    },
    {
     "name": "stderr",
     "output_type": "stream",
     "text": [
      "100%|██████████████████████████████████████████████████████████████████████| 12/12 [00:09<00:00,  1.30it/s, loss=0.593]\n",
      "100%|████████████████████████████████████████████████████████████████████████| 4/4 [00:01<00:00,  3.24it/s, loss=0.721]\n"
     ]
    },
    {
     "name": "stdout",
     "output_type": "stream",
     "text": [
      "Epoch 47/99\n",
      "----------\n",
      "Train Loss: 0.5939, Val Loss: 0.7290\n",
      "\n"
     ]
    },
    {
     "name": "stderr",
     "output_type": "stream",
     "text": [
      "100%|██████████████████████████████████████████████████████████████████████| 12/12 [00:09<00:00,  1.31it/s, loss=0.606]\n",
      "100%|█████████████████████████████████████████████████████████████████████████| 4/4 [00:01<00:00,  3.33it/s, loss=0.74]\n"
     ]
    },
    {
     "name": "stdout",
     "output_type": "stream",
     "text": [
      "Epoch 48/99\n",
      "----------\n",
      "Train Loss: 0.5927, Val Loss: 0.7406\n",
      "\n"
     ]
    },
    {
     "name": "stderr",
     "output_type": "stream",
     "text": [
      "100%|██████████████████████████████████████████████████████████████████████| 12/12 [00:09<00:00,  1.30it/s, loss=0.571]\n",
      "100%|█████████████████████████████████████████████████████████████████████████| 4/4 [00:01<00:00,  3.32it/s, loss=0.73]\n"
     ]
    },
    {
     "name": "stdout",
     "output_type": "stream",
     "text": [
      "Epoch 49/99\n",
      "----------\n",
      "Train Loss: 0.5898, Val Loss: 0.7346\n",
      "\n"
     ]
    },
    {
     "name": "stderr",
     "output_type": "stream",
     "text": [
      "100%|██████████████████████████████████████████████████████████████████████| 12/12 [00:09<00:00,  1.28it/s, loss=0.606]\n",
      "100%|████████████████████████████████████████████████████████████████████████| 4/4 [00:01<00:00,  3.41it/s, loss=0.732]\n"
     ]
    },
    {
     "name": "stdout",
     "output_type": "stream",
     "text": [
      "Epoch 50/99\n",
      "----------\n",
      "Train Loss: 0.5906, Val Loss: 0.7326\n",
      "\n"
     ]
    },
    {
     "name": "stderr",
     "output_type": "stream",
     "text": [
      "100%|██████████████████████████████████████████████████████████████████████| 12/12 [00:09<00:00,  1.30it/s, loss=0.577]\n",
      "100%|█████████████████████████████████████████████████████████████████████████| 4/4 [00:01<00:00,  3.32it/s, loss=0.73]\n"
     ]
    },
    {
     "name": "stdout",
     "output_type": "stream",
     "text": [
      "Epoch 51/99\n",
      "----------\n",
      "Train Loss: 0.5879, Val Loss: 0.7311\n",
      "\n"
     ]
    },
    {
     "name": "stderr",
     "output_type": "stream",
     "text": [
      "100%|████████████████████████████████████████████████████████████████████████| 12/12 [00:09<00:00,  1.28it/s, loss=0.6]\n",
      "100%|████████████████████████████████████████████████████████████████████████| 4/4 [00:01<00:00,  3.42it/s, loss=0.737]\n"
     ]
    },
    {
     "name": "stdout",
     "output_type": "stream",
     "text": [
      "Epoch 52/99\n",
      "----------\n",
      "Train Loss: 0.5861, Val Loss: 0.7333\n",
      "\n"
     ]
    },
    {
     "name": "stderr",
     "output_type": "stream",
     "text": [
      "100%|██████████████████████████████████████████████████████████████████████| 12/12 [00:09<00:00,  1.30it/s, loss=0.596]\n",
      "100%|████████████████████████████████████████████████████████████████████████| 4/4 [00:01<00:00,  3.49it/s, loss=0.724]\n"
     ]
    },
    {
     "name": "stdout",
     "output_type": "stream",
     "text": [
      "Epoch 53/99\n",
      "----------\n",
      "Train Loss: 0.5840, Val Loss: 0.7303\n",
      "\n"
     ]
    },
    {
     "name": "stderr",
     "output_type": "stream",
     "text": [
      "100%|███████████████████████████████████████████████████████████████████████| 12/12 [00:09<00:00,  1.30it/s, loss=0.56]\n",
      "100%|████████████████████████████████████████████████████████████████████████| 4/4 [00:01<00:00,  3.39it/s, loss=0.736]\n"
     ]
    },
    {
     "name": "stdout",
     "output_type": "stream",
     "text": [
      "Epoch 54/99\n",
      "----------\n",
      "Train Loss: 0.5818, Val Loss: 0.7374\n",
      "\n"
     ]
    },
    {
     "name": "stderr",
     "output_type": "stream",
     "text": [
      "100%|██████████████████████████████████████████████████████████████████████| 12/12 [00:09<00:00,  1.30it/s, loss=0.593]\n",
      "100%|████████████████████████████████████████████████████████████████████████| 4/4 [00:01<00:00,  3.46it/s, loss=0.742]\n"
     ]
    },
    {
     "name": "stdout",
     "output_type": "stream",
     "text": [
      "Epoch 55/99\n",
      "----------\n",
      "Train Loss: 0.5872, Val Loss: 0.7461\n",
      "\n"
     ]
    },
    {
     "name": "stderr",
     "output_type": "stream",
     "text": [
      "100%|██████████████████████████████████████████████████████████████████████| 12/12 [00:09<00:00,  1.29it/s, loss=0.583]\n",
      "100%|████████████████████████████████████████████████████████████████████████| 4/4 [00:01<00:00,  3.35it/s, loss=0.772]\n"
     ]
    },
    {
     "name": "stdout",
     "output_type": "stream",
     "text": [
      "Epoch 56/99\n",
      "----------\n",
      "Train Loss: 0.5919, Val Loss: 0.7742\n",
      "\n"
     ]
    },
    {
     "name": "stderr",
     "output_type": "stream",
     "text": [
      "100%|██████████████████████████████████████████████████████████████████████| 12/12 [00:09<00:00,  1.28it/s, loss=0.596]\n",
      "100%|████████████████████████████████████████████████████████████████████████| 4/4 [00:01<00:00,  3.32it/s, loss=0.741]\n"
     ]
    },
    {
     "name": "stdout",
     "output_type": "stream",
     "text": [
      "Epoch 57/99\n",
      "----------\n",
      "Train Loss: 0.6126, Val Loss: 0.7491\n",
      "\n"
     ]
    },
    {
     "name": "stderr",
     "output_type": "stream",
     "text": [
      "100%|██████████████████████████████████████████████████████████████████████| 12/12 [00:09<00:00,  1.28it/s, loss=0.641]\n",
      "100%|████████████████████████████████████████████████████████████████████████| 4/4 [00:01<00:00,  3.49it/s, loss=0.751]\n"
     ]
    },
    {
     "name": "stdout",
     "output_type": "stream",
     "text": [
      "Epoch 58/99\n",
      "----------\n",
      "Train Loss: 0.6223, Val Loss: 0.7529\n",
      "\n"
     ]
    },
    {
     "name": "stderr",
     "output_type": "stream",
     "text": [
      "100%|██████████████████████████████████████████████████████████████████████| 12/12 [00:09<00:00,  1.30it/s, loss=0.603]\n",
      "100%|████████████████████████████████████████████████████████████████████████| 4/4 [00:01<00:00,  3.48it/s, loss=0.748]\n"
     ]
    },
    {
     "name": "stdout",
     "output_type": "stream",
     "text": [
      "Epoch 59/99\n",
      "----------\n",
      "Train Loss: 0.6132, Val Loss: 0.7441\n",
      "\n"
     ]
    },
    {
     "name": "stderr",
     "output_type": "stream",
     "text": [
      "100%|██████████████████████████████████████████████████████████████████████| 12/12 [00:09<00:00,  1.30it/s, loss=0.613]\n",
      "100%|████████████████████████████████████████████████████████████████████████| 4/4 [00:01<00:00,  3.38it/s, loss=0.733]\n"
     ]
    },
    {
     "name": "stdout",
     "output_type": "stream",
     "text": [
      "Epoch 60/99\n",
      "----------\n",
      "Train Loss: 0.6032, Val Loss: 0.7352\n",
      "\n"
     ]
    },
    {
     "name": "stderr",
     "output_type": "stream",
     "text": [
      "100%|██████████████████████████████████████████████████████████████████████| 12/12 [00:09<00:00,  1.30it/s, loss=0.593]\n",
      "100%|████████████████████████████████████████████████████████████████████████| 4/4 [00:01<00:00,  3.44it/s, loss=0.738]\n"
     ]
    },
    {
     "name": "stdout",
     "output_type": "stream",
     "text": [
      "Epoch 61/99\n",
      "----------\n",
      "Train Loss: 0.5946, Val Loss: 0.7336\n",
      "\n"
     ]
    },
    {
     "name": "stderr",
     "output_type": "stream",
     "text": [
      "100%|██████████████████████████████████████████████████████████████████████| 12/12 [00:09<00:00,  1.30it/s, loss=0.588]\n",
      "100%|████████████████████████████████████████████████████████████████████████| 4/4 [00:01<00:00,  3.47it/s, loss=0.725]\n"
     ]
    },
    {
     "name": "stdout",
     "output_type": "stream",
     "text": [
      "Epoch 62/99\n",
      "----------\n",
      "Train Loss: 0.5900, Val Loss: 0.7296\n",
      "\n"
     ]
    },
    {
     "name": "stderr",
     "output_type": "stream",
     "text": [
      "100%|██████████████████████████████████████████████████████████████████████| 12/12 [00:09<00:00,  1.30it/s, loss=0.598]\n",
      "100%|████████████████████████████████████████████████████████████████████████| 4/4 [00:01<00:00,  3.39it/s, loss=0.746]\n"
     ]
    },
    {
     "name": "stdout",
     "output_type": "stream",
     "text": [
      "Epoch 63/99\n",
      "----------\n",
      "Train Loss: 0.5889, Val Loss: 0.7418\n",
      "\n"
     ]
    },
    {
     "name": "stderr",
     "output_type": "stream",
     "text": [
      "100%|██████████████████████████████████████████████████████████████████████| 12/12 [00:09<00:00,  1.30it/s, loss=0.605]\n",
      "100%|████████████████████████████████████████████████████████████████████████| 4/4 [00:01<00:00,  3.41it/s, loss=0.731]\n"
     ]
    },
    {
     "name": "stdout",
     "output_type": "stream",
     "text": [
      "Epoch 64/99\n",
      "----------\n",
      "Train Loss: 0.5920, Val Loss: 0.7368\n",
      "\n"
     ]
    },
    {
     "name": "stderr",
     "output_type": "stream",
     "text": [
      "100%|██████████████████████████████████████████████████████████████████████| 12/12 [00:09<00:00,  1.30it/s, loss=0.609]\n",
      "100%|████████████████████████████████████████████████████████████████████████| 4/4 [00:01<00:00,  3.35it/s, loss=0.728]\n"
     ]
    },
    {
     "name": "stdout",
     "output_type": "stream",
     "text": [
      "Epoch 65/99\n",
      "----------\n",
      "Train Loss: 0.5887, Val Loss: 0.7308\n",
      "\n"
     ]
    },
    {
     "name": "stderr",
     "output_type": "stream",
     "text": [
      "100%|██████████████████████████████████████████████████████████████████████| 12/12 [00:09<00:00,  1.28it/s, loss=0.615]\n",
      "100%|█████████████████████████████████████████████████████████████████████████| 4/4 [00:01<00:00,  3.43it/s, loss=0.73]\n"
     ]
    },
    {
     "name": "stdout",
     "output_type": "stream",
     "text": [
      "Epoch 66/99\n",
      "----------\n",
      "Train Loss: 0.5837, Val Loss: 0.7341\n",
      "\n"
     ]
    },
    {
     "name": "stderr",
     "output_type": "stream",
     "text": [
      "100%|██████████████████████████████████████████████████████████████████████| 12/12 [00:09<00:00,  1.30it/s, loss=0.559]\n",
      "100%|████████████████████████████████████████████████████████████████████████| 4/4 [00:01<00:00,  3.34it/s, loss=0.727]\n"
     ]
    },
    {
     "name": "stdout",
     "output_type": "stream",
     "text": [
      "Epoch 67/99\n",
      "----------\n",
      "Train Loss: 0.5782, Val Loss: 0.7299\n",
      "\n"
     ]
    },
    {
     "name": "stderr",
     "output_type": "stream",
     "text": [
      "100%|██████████████████████████████████████████████████████████████████████| 12/12 [00:09<00:00,  1.28it/s, loss=0.556]\n",
      "100%|████████████████████████████████████████████████████████████████████████| 4/4 [00:01<00:00,  3.37it/s, loss=0.731]\n"
     ]
    },
    {
     "name": "stdout",
     "output_type": "stream",
     "text": [
      "Epoch 68/99\n",
      "----------\n",
      "Train Loss: 0.5758, Val Loss: 0.7300\n",
      "\n"
     ]
    },
    {
     "name": "stderr",
     "output_type": "stream",
     "text": [
      "100%|██████████████████████████████████████████████████████████████████████| 12/12 [00:09<00:00,  1.30it/s, loss=0.558]\n",
      "100%|████████████████████████████████████████████████████████████████████████| 4/4 [00:01<00:00,  3.20it/s, loss=0.739]\n"
     ]
    },
    {
     "name": "stdout",
     "output_type": "stream",
     "text": [
      "Epoch 69/99\n",
      "----------\n",
      "Train Loss: 0.5775, Val Loss: 0.7384\n",
      "\n"
     ]
    },
    {
     "name": "stderr",
     "output_type": "stream",
     "text": [
      "100%|██████████████████████████████████████████████████████████████████████| 12/12 [00:09<00:00,  1.29it/s, loss=0.601]\n",
      "100%|████████████████████████████████████████████████████████████████████████| 4/4 [00:01<00:00,  3.40it/s, loss=0.734]\n"
     ]
    },
    {
     "name": "stdout",
     "output_type": "stream",
     "text": [
      "Epoch 70/99\n",
      "----------\n",
      "Train Loss: 0.5773, Val Loss: 0.7314\n",
      "\n"
     ]
    },
    {
     "name": "stderr",
     "output_type": "stream",
     "text": [
      "100%|██████████████████████████████████████████████████████████████████████| 12/12 [00:09<00:00,  1.30it/s, loss=0.556]\n",
      "100%|████████████████████████████████████████████████████████████████████████| 4/4 [00:01<00:00,  3.40it/s, loss=0.735]\n"
     ]
    },
    {
     "name": "stdout",
     "output_type": "stream",
     "text": [
      "Epoch 71/99\n",
      "----------\n",
      "Train Loss: 0.5741, Val Loss: 0.7267\n",
      "✅ Best model saved! (Val Loss: 0.7267137616872787)\n",
      "\n"
     ]
    },
    {
     "name": "stderr",
     "output_type": "stream",
     "text": [
      "100%|██████████████████████████████████████████████████████████████████████| 12/12 [00:09<00:00,  1.30it/s, loss=0.545]\n",
      "100%|████████████████████████████████████████████████████████████████████████| 4/4 [00:01<00:00,  3.43it/s, loss=0.718]\n"
     ]
    },
    {
     "name": "stdout",
     "output_type": "stream",
     "text": [
      "Epoch 72/99\n",
      "----------\n",
      "Train Loss: 0.5705, Val Loss: 0.7229\n",
      "✅ Best model saved! (Val Loss: 0.7228677719831467)\n",
      "\n"
     ]
    },
    {
     "name": "stderr",
     "output_type": "stream",
     "text": [
      "100%|██████████████████████████████████████████████████████████████████████| 12/12 [00:09<00:00,  1.30it/s, loss=0.538]\n",
      "100%|████████████████████████████████████████████████████████████████████████| 4/4 [00:01<00:00,  3.40it/s, loss=0.719]\n"
     ]
    },
    {
     "name": "stdout",
     "output_type": "stream",
     "text": [
      "Epoch 73/99\n",
      "----------\n",
      "Train Loss: 0.5689, Val Loss: 0.7189\n",
      "✅ Best model saved! (Val Loss: 0.7189005017280579)\n",
      "\n"
     ]
    },
    {
     "name": "stderr",
     "output_type": "stream",
     "text": [
      "100%|██████████████████████████████████████████████████████████████████████| 12/12 [00:09<00:00,  1.30it/s, loss=0.601]\n",
      "100%|████████████████████████████████████████████████████████████████████████| 4/4 [00:01<00:00,  3.46it/s, loss=0.715]\n"
     ]
    },
    {
     "name": "stdout",
     "output_type": "stream",
     "text": [
      "Epoch 74/99\n",
      "----------\n",
      "Train Loss: 0.5706, Val Loss: 0.7179\n",
      "✅ Best model saved! (Val Loss: 0.7178843915462494)\n",
      "\n"
     ]
    },
    {
     "name": "stderr",
     "output_type": "stream",
     "text": [
      "100%|██████████████████████████████████████████████████████████████████████| 12/12 [00:09<00:00,  1.30it/s, loss=0.561]\n",
      "100%|████████████████████████████████████████████████████████████████████████| 4/4 [00:01<00:00,  3.24it/s, loss=0.712]\n"
     ]
    },
    {
     "name": "stdout",
     "output_type": "stream",
     "text": [
      "Epoch 75/99\n",
      "----------\n",
      "Train Loss: 0.5667, Val Loss: 0.7168\n",
      "✅ Best model saved! (Val Loss: 0.716796875)\n",
      "\n"
     ]
    },
    {
     "name": "stderr",
     "output_type": "stream",
     "text": [
      "100%|██████████████████████████████████████████████████████████████████████| 12/12 [00:09<00:00,  1.28it/s, loss=0.555]\n",
      "100%|████████████████████████████████████████████████████████████████████████| 4/4 [00:01<00:00,  3.22it/s, loss=0.712]\n"
     ]
    },
    {
     "name": "stdout",
     "output_type": "stream",
     "text": [
      "Epoch 76/99\n",
      "----------\n",
      "Train Loss: 0.5649, Val Loss: 0.7173\n",
      "\n"
     ]
    },
    {
     "name": "stderr",
     "output_type": "stream",
     "text": [
      "100%|██████████████████████████████████████████████████████████████████████| 12/12 [00:09<00:00,  1.31it/s, loss=0.565]\n",
      "100%|████████████████████████████████████████████████████████████████████████| 4/4 [00:01<00:00,  3.42it/s, loss=0.717]\n"
     ]
    },
    {
     "name": "stdout",
     "output_type": "stream",
     "text": [
      "Epoch 77/99\n",
      "----------\n",
      "Train Loss: 0.5617, Val Loss: 0.7167\n",
      "✅ Best model saved! (Val Loss: 0.7166760116815567)\n",
      "\n"
     ]
    },
    {
     "name": "stderr",
     "output_type": "stream",
     "text": [
      "100%|██████████████████████████████████████████████████████████████████████| 12/12 [00:09<00:00,  1.30it/s, loss=0.579]\n",
      "100%|████████████████████████████████████████████████████████████████████████| 4/4 [00:01<00:00,  3.45it/s, loss=0.724]\n"
     ]
    },
    {
     "name": "stdout",
     "output_type": "stream",
     "text": [
      "Epoch 78/99\n",
      "----------\n",
      "Train Loss: 0.5615, Val Loss: 0.7211\n",
      "\n"
     ]
    },
    {
     "name": "stderr",
     "output_type": "stream",
     "text": [
      "100%|██████████████████████████████████████████████████████████████████████| 12/12 [00:09<00:00,  1.30it/s, loss=0.537]\n",
      "100%|████████████████████████████████████████████████████████████████████████| 4/4 [00:01<00:00,  3.48it/s, loss=0.713]\n"
     ]
    },
    {
     "name": "stdout",
     "output_type": "stream",
     "text": [
      "Epoch 79/99\n",
      "----------\n",
      "Train Loss: 0.5590, Val Loss: 0.7133\n",
      "✅ Best model saved! (Val Loss: 0.7133402228355408)\n",
      "\n"
     ]
    },
    {
     "name": "stderr",
     "output_type": "stream",
     "text": [
      "100%|██████████████████████████████████████████████████████████████████████| 12/12 [00:09<00:00,  1.30it/s, loss=0.581]\n",
      "100%|████████████████████████████████████████████████████████████████████████| 4/4 [00:01<00:00,  3.46it/s, loss=0.727]\n"
     ]
    },
    {
     "name": "stdout",
     "output_type": "stream",
     "text": [
      "Epoch 80/99\n",
      "----------\n",
      "Train Loss: 0.5590, Val Loss: 0.7253\n",
      "\n"
     ]
    },
    {
     "name": "stderr",
     "output_type": "stream",
     "text": [
      "100%|██████████████████████████████████████████████████████████████████████| 12/12 [00:09<00:00,  1.30it/s, loss=0.598]\n",
      "100%|████████████████████████████████████████████████████████████████████████| 4/4 [00:01<00:00,  3.41it/s, loss=0.708]\n"
     ]
    },
    {
     "name": "stdout",
     "output_type": "stream",
     "text": [
      "Epoch 81/99\n",
      "----------\n",
      "Train Loss: 0.5617, Val Loss: 0.7167\n",
      "\n"
     ]
    },
    {
     "name": "stderr",
     "output_type": "stream",
     "text": [
      "100%|██████████████████████████████████████████████████████████████████████| 12/12 [00:09<00:00,  1.30it/s, loss=0.532]\n",
      "100%|████████████████████████████████████████████████████████████████████████| 4/4 [00:01<00:00,  3.45it/s, loss=0.707]\n"
     ]
    },
    {
     "name": "stdout",
     "output_type": "stream",
     "text": [
      "Epoch 82/99\n",
      "----------\n",
      "Train Loss: 0.5578, Val Loss: 0.7181\n",
      "\n"
     ]
    },
    {
     "name": "stderr",
     "output_type": "stream",
     "text": [
      "100%|██████████████████████████████████████████████████████████████████████| 12/12 [00:09<00:00,  1.30it/s, loss=0.562]\n",
      "100%|████████████████████████████████████████████████████████████████████████| 4/4 [00:01<00:00,  3.48it/s, loss=0.703]\n"
     ]
    },
    {
     "name": "stdout",
     "output_type": "stream",
     "text": [
      "Epoch 83/99\n",
      "----------\n",
      "Train Loss: 0.5616, Val Loss: 0.7141\n",
      "\n"
     ]
    },
    {
     "name": "stderr",
     "output_type": "stream",
     "text": [
      "100%|██████████████████████████████████████████████████████████████████████| 12/12 [00:09<00:00,  1.30it/s, loss=0.555]\n",
      "100%|████████████████████████████████████████████████████████████████████████| 4/4 [00:01<00:00,  3.49it/s, loss=0.737]\n"
     ]
    },
    {
     "name": "stdout",
     "output_type": "stream",
     "text": [
      "Epoch 84/99\n",
      "----------\n",
      "Train Loss: 0.5595, Val Loss: 0.7220\n",
      "\n"
     ]
    },
    {
     "name": "stderr",
     "output_type": "stream",
     "text": [
      "100%|██████████████████████████████████████████████████████████████████████| 12/12 [00:09<00:00,  1.30it/s, loss=0.577]\n",
      "100%|████████████████████████████████████████████████████████████████████████| 4/4 [00:01<00:00,  3.52it/s, loss=0.727]\n"
     ]
    },
    {
     "name": "stdout",
     "output_type": "stream",
     "text": [
      "Epoch 85/99\n",
      "----------\n",
      "Train Loss: 0.5590, Val Loss: 0.7212\n",
      "\n"
     ]
    },
    {
     "name": "stderr",
     "output_type": "stream",
     "text": [
      "100%|██████████████████████████████████████████████████████████████████████| 12/12 [00:09<00:00,  1.29it/s, loss=0.567]\n",
      "100%|████████████████████████████████████████████████████████████████████████| 4/4 [00:01<00:00,  3.44it/s, loss=0.735]\n"
     ]
    },
    {
     "name": "stdout",
     "output_type": "stream",
     "text": [
      "Epoch 86/99\n",
      "----------\n",
      "Train Loss: 0.5556, Val Loss: 0.7232\n",
      "\n"
     ]
    },
    {
     "name": "stderr",
     "output_type": "stream",
     "text": [
      "100%|██████████████████████████████████████████████████████████████████████| 12/12 [00:09<00:00,  1.30it/s, loss=0.573]\n",
      "100%|████████████████████████████████████████████████████████████████████████| 4/4 [00:01<00:00,  3.40it/s, loss=0.709]\n"
     ]
    },
    {
     "name": "stdout",
     "output_type": "stream",
     "text": [
      "Epoch 87/99\n",
      "----------\n",
      "Train Loss: 0.5532, Val Loss: 0.7118\n",
      "✅ Best model saved! (Val Loss: 0.7118492424488068)\n",
      "\n"
     ]
    },
    {
     "name": "stderr",
     "output_type": "stream",
     "text": [
      "100%|██████████████████████████████████████████████████████████████████████| 12/12 [00:09<00:00,  1.30it/s, loss=0.576]\n",
      "100%|████████████████████████████████████████████████████████████████████████| 4/4 [00:01<00:00,  3.40it/s, loss=0.711]\n"
     ]
    },
    {
     "name": "stdout",
     "output_type": "stream",
     "text": [
      "Epoch 88/99\n",
      "----------\n",
      "Train Loss: 0.5517, Val Loss: 0.7133\n",
      "\n"
     ]
    },
    {
     "name": "stderr",
     "output_type": "stream",
     "text": [
      "100%|██████████████████████████████████████████████████████████████████████| 12/12 [00:09<00:00,  1.30it/s, loss=0.558]\n",
      "100%|████████████████████████████████████████████████████████████████████████| 4/4 [00:01<00:00,  3.47it/s, loss=0.714]\n"
     ]
    },
    {
     "name": "stdout",
     "output_type": "stream",
     "text": [
      "Epoch 89/99\n",
      "----------\n",
      "Train Loss: 0.5496, Val Loss: 0.7149\n",
      "\n"
     ]
    },
    {
     "name": "stderr",
     "output_type": "stream",
     "text": [
      "100%|██████████████████████████████████████████████████████████████████████| 12/12 [00:09<00:00,  1.30it/s, loss=0.515]\n",
      "100%|████████████████████████████████████████████████████████████████████████| 4/4 [00:01<00:00,  3.45it/s, loss=0.734]\n"
     ]
    },
    {
     "name": "stdout",
     "output_type": "stream",
     "text": [
      "Epoch 90/99\n",
      "----------\n",
      "Train Loss: 0.5455, Val Loss: 0.7244\n",
      "\n"
     ]
    },
    {
     "name": "stderr",
     "output_type": "stream",
     "text": [
      "100%|██████████████████████████████████████████████████████████████████████| 12/12 [00:09<00:00,  1.30it/s, loss=0.589]\n",
      "100%|█████████████████████████████████████████████████████████████████████████| 4/4 [00:01<00:00,  3.34it/s, loss=0.72]\n"
     ]
    },
    {
     "name": "stdout",
     "output_type": "stream",
     "text": [
      "Epoch 91/99\n",
      "----------\n",
      "Train Loss: 0.5472, Val Loss: 0.7137\n",
      "\n"
     ]
    },
    {
     "name": "stderr",
     "output_type": "stream",
     "text": [
      "100%|██████████████████████████████████████████████████████████████████████| 12/12 [00:09<00:00,  1.31it/s, loss=0.547]\n",
      "100%|████████████████████████████████████████████████████████████████████████| 4/4 [00:01<00:00,  3.43it/s, loss=0.733]\n"
     ]
    },
    {
     "name": "stdout",
     "output_type": "stream",
     "text": [
      "Epoch 92/99\n",
      "----------\n",
      "Train Loss: 0.5432, Val Loss: 0.7142\n",
      "\n"
     ]
    },
    {
     "name": "stderr",
     "output_type": "stream",
     "text": [
      "100%|██████████████████████████████████████████████████████████████████████| 12/12 [00:09<00:00,  1.30it/s, loss=0.555]\n",
      "100%|████████████████████████████████████████████████████████████████████████| 4/4 [00:01<00:00,  3.41it/s, loss=0.719]\n"
     ]
    },
    {
     "name": "stdout",
     "output_type": "stream",
     "text": [
      "Epoch 93/99\n",
      "----------\n",
      "Train Loss: 0.5430, Val Loss: 0.7165\n",
      "\n"
     ]
    },
    {
     "name": "stderr",
     "output_type": "stream",
     "text": [
      "100%|██████████████████████████████████████████████████████████████████████| 12/12 [00:09<00:00,  1.30it/s, loss=0.571]\n",
      "100%|████████████████████████████████████████████████████████████████████████| 4/4 [00:01<00:00,  3.42it/s, loss=0.706]\n"
     ]
    },
    {
     "name": "stdout",
     "output_type": "stream",
     "text": [
      "Epoch 94/99\n",
      "----------\n",
      "Train Loss: 0.5418, Val Loss: 0.7089\n",
      "✅ Best model saved! (Val Loss: 0.7089095711708069)\n",
      "\n"
     ]
    },
    {
     "name": "stderr",
     "output_type": "stream",
     "text": [
      "100%|██████████████████████████████████████████████████████████████████████| 12/12 [00:09<00:00,  1.31it/s, loss=0.549]\n",
      "100%|████████████████████████████████████████████████████████████████████████| 4/4 [00:01<00:00,  3.48it/s, loss=0.713]\n"
     ]
    },
    {
     "name": "stdout",
     "output_type": "stream",
     "text": [
      "Epoch 95/99\n",
      "----------\n",
      "Train Loss: 0.5392, Val Loss: 0.7145\n",
      "\n"
     ]
    },
    {
     "name": "stderr",
     "output_type": "stream",
     "text": [
      "100%|██████████████████████████████████████████████████████████████████████| 12/12 [00:09<00:00,  1.30it/s, loss=0.512]\n",
      "100%|████████████████████████████████████████████████████████████████████████| 4/4 [00:01<00:00,  3.39it/s, loss=0.699]\n"
     ]
    },
    {
     "name": "stdout",
     "output_type": "stream",
     "text": [
      "Epoch 96/99\n",
      "----------\n",
      "Train Loss: 0.5369, Val Loss: 0.7077\n",
      "✅ Best model saved! (Val Loss: 0.7077266871929169)\n",
      "\n"
     ]
    },
    {
     "name": "stderr",
     "output_type": "stream",
     "text": [
      "100%|██████████████████████████████████████████████████████████████████████| 12/12 [00:09<00:00,  1.30it/s, loss=0.572]\n",
      "100%|████████████████████████████████████████████████████████████████████████| 4/4 [00:01<00:00,  3.31it/s, loss=0.708]\n"
     ]
    },
    {
     "name": "stdout",
     "output_type": "stream",
     "text": [
      "Epoch 97/99\n",
      "----------\n",
      "Train Loss: 0.5386, Val Loss: 0.7104\n",
      "\n"
     ]
    },
    {
     "name": "stderr",
     "output_type": "stream",
     "text": [
      "100%|██████████████████████████████████████████████████████████████████████| 12/12 [00:09<00:00,  1.31it/s, loss=0.514]\n",
      "100%|████████████████████████████████████████████████████████████████████████| 4/4 [00:01<00:00,  3.39it/s, loss=0.709]\n"
     ]
    },
    {
     "name": "stdout",
     "output_type": "stream",
     "text": [
      "Epoch 98/99\n",
      "----------\n",
      "Train Loss: 0.5345, Val Loss: 0.7118\n",
      "\n"
     ]
    },
    {
     "name": "stderr",
     "output_type": "stream",
     "text": [
      "100%|██████████████████████████████████████████████████████████████████████| 12/12 [00:09<00:00,  1.30it/s, loss=0.524]\n",
      "100%|████████████████████████████████████████████████████████████████████████| 4/4 [00:01<00:00,  3.46it/s, loss=0.715]"
     ]
    },
    {
     "name": "stdout",
     "output_type": "stream",
     "text": [
      "Epoch 99/99\n",
      "----------\n",
      "Train Loss: 0.5341, Val Loss: 0.7146\n",
      "\n"
     ]
    },
    {
     "name": "stderr",
     "output_type": "stream",
     "text": [
      "\n"
     ]
    }
   ],
   "source": [
    "model, logs = train(train_dataloader, val_dataloader, model, loss_fn, optim, 100, log_freq=1, save_best_model=True, \n",
    "              best_model_name='best_model_dice.pth', last_model_name='last_model_dice.pth', save_path=MODEL_PATH)"
   ]
  },
  {
   "cell_type": "code",
   "execution_count": 14,
   "id": "96c98cee-c5cd-4654-92d9-09915dd36004",
   "metadata": {},
   "outputs": [
    {
     "name": "stdout",
     "output_type": "stream",
     "text": [
      "12\n"
     ]
    }
   ],
   "source": [
    "import torch.nn as nn\n",
    "\n",
    "model = FCN8s(in_channels=3, out_channels=len(labels_df))\n",
    "model.cuda()\n",
    "loss_fn = nn.CrossEntropyLoss()\n",
    "optim = torch.optim.Adam(model.parameters(), lr = 1e-3)\n",
    "print(model.out_channels)"
   ]
  },
  {
   "cell_type": "code",
   "execution_count": null,
   "id": "79bc5dc5-cba7-45dd-8c5f-466999fefab7",
   "metadata": {},
   "outputs": [
    {
     "name": "stderr",
     "output_type": "stream",
     "text": [
      "100%|███████████████████████████████████████████████████████████████████████| 12/12 [00:08<00:00,  1.34it/s, loss=2.27]\n",
      "Z:\\BEKA\\2025\\AI\\Bootcamp\\Source\\Advanced CV\\Project 3\\notebooks\\engine.py:183: FutureWarning: `torch.cuda.amp.autocast(args...)` is deprecated. Please use `torch.amp.autocast('cuda', args...)` instead.\n",
      "  with torch.cuda.amp.autocast():\n",
      "100%|█████████████████████████████████████████████████████████████████████████| 4/4 [00:01<00:00,  3.44it/s, loss=3.96]\n"
     ]
    },
    {
     "name": "stdout",
     "output_type": "stream",
     "text": [
      "Epoch 0/99\n",
      "----------\n",
      "Train Loss: 2.1823, Val Loss: 3.9859\n",
      "✅ Best model saved! (Val Loss: 3.9859291315078735)\n",
      "\n"
     ]
    },
    {
     "name": "stderr",
     "output_type": "stream",
     "text": [
      "100%|███████████████████████████████████████████████████████████████████████| 12/12 [00:08<00:00,  1.40it/s, loss=2.25]\n",
      "100%|█████████████████████████████████████████████████████████████████████████| 4/4 [00:01<00:00,  3.57it/s, loss=2.57]\n"
     ]
    },
    {
     "name": "stdout",
     "output_type": "stream",
     "text": [
      "Epoch 1/99\n",
      "----------\n",
      "Train Loss: 2.3264, Val Loss: 2.5777\n",
      "✅ Best model saved! (Val Loss: 2.5777209997177124)\n",
      "\n"
     ]
    },
    {
     "name": "stderr",
     "output_type": "stream",
     "text": [
      "100%|███████████████████████████████████████████████████████████████████████| 12/12 [00:08<00:00,  1.39it/s, loss=2.16]\n",
      "100%|█████████████████████████████████████████████████████████████████████████| 4/4 [00:01<00:00,  3.63it/s, loss=2.42]\n"
     ]
    },
    {
     "name": "stdout",
     "output_type": "stream",
     "text": [
      "Epoch 2/99\n",
      "----------\n",
      "Train Loss: 2.1853, Val Loss: 2.4170\n",
      "✅ Best model saved! (Val Loss: 2.4169987440109253)\n",
      "\n"
     ]
    },
    {
     "name": "stderr",
     "output_type": "stream",
     "text": [
      "100%|███████████████████████████████████████████████████████████████████████| 12/12 [00:08<00:00,  1.38it/s, loss=2.17]\n",
      "100%|█████████████████████████████████████████████████████████████████████████| 4/4 [00:01<00:00,  3.56it/s, loss=2.23]\n"
     ]
    },
    {
     "name": "stdout",
     "output_type": "stream",
     "text": [
      "Epoch 3/99\n",
      "----------\n",
      "Train Loss: 2.1323, Val Loss: 2.2414\n",
      "✅ Best model saved! (Val Loss: 2.2413809299468994)\n",
      "\n"
     ]
    },
    {
     "name": "stderr",
     "output_type": "stream",
     "text": [
      "100%|███████████████████████████████████████████████████████████████████████| 12/12 [00:08<00:00,  1.39it/s, loss=2.07]\n",
      "100%|█████████████████████████████████████████████████████████████████████████| 4/4 [00:01<00:00,  3.57it/s, loss=2.26]\n"
     ]
    },
    {
     "name": "stdout",
     "output_type": "stream",
     "text": [
      "Epoch 4/99\n",
      "----------\n",
      "Train Loss: 2.0640, Val Loss: 2.1922\n",
      "✅ Best model saved! (Val Loss: 2.1921679973602295)\n",
      "\n"
     ]
    },
    {
     "name": "stderr",
     "output_type": "stream",
     "text": [
      "100%|███████████████████████████████████████████████████████████████████████| 12/12 [00:08<00:00,  1.40it/s, loss=1.99]\n",
      "100%|█████████████████████████████████████████████████████████████████████████| 4/4 [00:01<00:00,  3.57it/s, loss=2.08]\n"
     ]
    },
    {
     "name": "stdout",
     "output_type": "stream",
     "text": [
      "Epoch 5/99\n",
      "----------\n",
      "Train Loss: 2.0068, Val Loss: 2.1217\n",
      "✅ Best model saved! (Val Loss: 2.121676206588745)\n",
      "\n"
     ]
    },
    {
     "name": "stderr",
     "output_type": "stream",
     "text": [
      "100%|███████████████████████████████████████████████████████████████████████| 12/12 [00:08<00:00,  1.37it/s, loss=1.92]\n",
      "100%|█████████████████████████████████████████████████████████████████████████| 4/4 [00:01<00:00,  3.42it/s, loss=2.08]\n"
     ]
    },
    {
     "name": "stdout",
     "output_type": "stream",
     "text": [
      "Epoch 6/99\n",
      "----------\n",
      "Train Loss: 1.9595, Val Loss: 2.0952\n",
      "✅ Best model saved! (Val Loss: 2.095232844352722)\n",
      "\n"
     ]
    },
    {
     "name": "stderr",
     "output_type": "stream",
     "text": [
      "100%|███████████████████████████████████████████████████████████████████████| 12/12 [00:08<00:00,  1.38it/s, loss=1.91]\n",
      "100%|█████████████████████████████████████████████████████████████████████████| 4/4 [00:01<00:00,  3.46it/s, loss=2.03]\n"
     ]
    },
    {
     "name": "stdout",
     "output_type": "stream",
     "text": [
      "Epoch 7/99\n",
      "----------\n",
      "Train Loss: 1.9175, Val Loss: 2.0576\n",
      "✅ Best model saved! (Val Loss: 2.0576332211494446)\n",
      "\n"
     ]
    },
    {
     "name": "stderr",
     "output_type": "stream",
     "text": [
      "100%|███████████████████████████████████████████████████████████████████████| 12/12 [00:08<00:00,  1.37it/s, loss=1.84]\n",
      "100%|█████████████████████████████████████████████████████████████████████████| 4/4 [00:01<00:00,  3.56it/s, loss=2.08]\n"
     ]
    },
    {
     "name": "stdout",
     "output_type": "stream",
     "text": [
      "Epoch 8/99\n",
      "----------\n",
      "Train Loss: 1.8775, Val Loss: 2.0406\n",
      "✅ Best model saved! (Val Loss: 2.040622293949127)\n",
      "\n"
     ]
    },
    {
     "name": "stderr",
     "output_type": "stream",
     "text": [
      "100%|███████████████████████████████████████████████████████████████████████| 12/12 [00:08<00:00,  1.39it/s, loss=1.83]\n",
      "100%|█████████████████████████████████████████████████████████████████████████| 4/4 [00:01<00:00,  3.59it/s, loss=2.04]\n"
     ]
    },
    {
     "name": "stdout",
     "output_type": "stream",
     "text": [
      "Epoch 9/99\n",
      "----------\n",
      "Train Loss: 1.8385, Val Loss: 2.0041\n",
      "✅ Best model saved! (Val Loss: 2.0040692389011383)\n",
      "\n"
     ]
    },
    {
     "name": "stderr",
     "output_type": "stream",
     "text": [
      "100%|███████████████████████████████████████████████████████████████████████| 12/12 [00:08<00:00,  1.39it/s, loss=1.82]\n",
      "100%|█████████████████████████████████████████████████████████████████████████| 4/4 [00:01<00:00,  3.48it/s, loss=1.91]\n"
     ]
    },
    {
     "name": "stdout",
     "output_type": "stream",
     "text": [
      "Epoch 10/99\n",
      "----------\n",
      "Train Loss: 1.8029, Val Loss: 1.9457\n",
      "✅ Best model saved! (Val Loss: 1.945732206106186)\n",
      "\n"
     ]
    },
    {
     "name": "stderr",
     "output_type": "stream",
     "text": [
      "100%|███████████████████████████████████████████████████████████████████████| 12/12 [00:08<00:00,  1.38it/s, loss=1.69]\n",
      "100%|█████████████████████████████████████████████████████████████████████████| 4/4 [00:01<00:00,  3.44it/s, loss=1.97]\n"
     ]
    },
    {
     "name": "stdout",
     "output_type": "stream",
     "text": [
      "Epoch 11/99\n",
      "----------\n",
      "Train Loss: 1.7603, Val Loss: 1.9296\n",
      "✅ Best model saved! (Val Loss: 1.929612636566162)\n",
      "\n"
     ]
    },
    {
     "name": "stderr",
     "output_type": "stream",
     "text": [
      "100%|███████████████████████████████████████████████████████████████████████| 12/12 [00:08<00:00,  1.38it/s, loss=1.78]\n",
      "100%|█████████████████████████████████████████████████████████████████████████| 4/4 [00:01<00:00,  3.49it/s, loss=1.88]\n"
     ]
    },
    {
     "name": "stdout",
     "output_type": "stream",
     "text": [
      "Epoch 12/99\n",
      "----------\n",
      "Train Loss: 1.7280, Val Loss: 1.8754\n",
      "✅ Best model saved! (Val Loss: 1.875362604856491)\n",
      "\n"
     ]
    },
    {
     "name": "stderr",
     "output_type": "stream",
     "text": [
      "100%|███████████████████████████████████████████████████████████████████████| 12/12 [00:08<00:00,  1.39it/s, loss=1.71]\n",
      "100%|█████████████████████████████████████████████████████████████████████████| 4/4 [00:01<00:00,  3.56it/s, loss=1.78]\n"
     ]
    },
    {
     "name": "stdout",
     "output_type": "stream",
     "text": [
      "Epoch 13/99\n",
      "----------\n",
      "Train Loss: 1.6857, Val Loss: 1.8240\n",
      "✅ Best model saved! (Val Loss: 1.8239979445934296)\n",
      "\n"
     ]
    },
    {
     "name": "stderr",
     "output_type": "stream",
     "text": [
      "100%|███████████████████████████████████████████████████████████████████████| 12/12 [00:08<00:00,  1.38it/s, loss=1.68]\n",
      "100%|█████████████████████████████████████████████████████████████████████████| 4/4 [00:01<00:00,  3.31it/s, loss=1.81]\n"
     ]
    },
    {
     "name": "stdout",
     "output_type": "stream",
     "text": [
      "Epoch 14/99\n",
      "----------\n",
      "Train Loss: 1.6462, Val Loss: 1.7979\n",
      "✅ Best model saved! (Val Loss: 1.7978625297546387)\n",
      "\n"
     ]
    },
    {
     "name": "stderr",
     "output_type": "stream",
     "text": [
      "100%|███████████████████████████████████████████████████████████████████████| 12/12 [00:08<00:00,  1.37it/s, loss=1.59]\n",
      "100%|█████████████████████████████████████████████████████████████████████████| 4/4 [00:01<00:00,  3.43it/s, loss=1.76]\n"
     ]
    },
    {
     "name": "stdout",
     "output_type": "stream",
     "text": [
      "Epoch 15/99\n",
      "----------\n",
      "Train Loss: 1.5988, Val Loss: 1.7571\n",
      "✅ Best model saved! (Val Loss: 1.757107824087143)\n",
      "\n"
     ]
    },
    {
     "name": "stderr",
     "output_type": "stream",
     "text": [
      "100%|████████████████████████████████████████████████████████████████████████| 12/12 [00:08<00:00,  1.38it/s, loss=1.5]\n",
      "100%|█████████████████████████████████████████████████████████████████████████| 4/4 [00:01<00:00,  3.55it/s, loss=1.73]\n"
     ]
    },
    {
     "name": "stdout",
     "output_type": "stream",
     "text": [
      "Epoch 16/99\n",
      "----------\n",
      "Train Loss: 1.5554, Val Loss: 1.7175\n",
      "✅ Best model saved! (Val Loss: 1.717516005039215)\n",
      "\n"
     ]
    },
    {
     "name": "stderr",
     "output_type": "stream",
     "text": [
      "100%|███████████████████████████████████████████████████████████████████████| 12/12 [00:09<00:00,  1.27it/s, loss=1.48]\n",
      "100%|█████████████████████████████████████████████████████████████████████████| 4/4 [00:01<00:00,  3.42it/s, loss=1.71]\n"
     ]
    },
    {
     "name": "stdout",
     "output_type": "stream",
     "text": [
      "Epoch 17/99\n",
      "----------\n",
      "Train Loss: 1.5143, Val Loss: 1.6795\n",
      "✅ Best model saved! (Val Loss: 1.6794752180576324)\n",
      "\n"
     ]
    },
    {
     "name": "stderr",
     "output_type": "stream",
     "text": [
      "100%|███████████████████████████████████████████████████████████████████████| 12/12 [00:08<00:00,  1.39it/s, loss=1.45]\n",
      "100%|█████████████████████████████████████████████████████████████████████████| 4/4 [00:01<00:00,  3.68it/s, loss=1.65]\n"
     ]
    },
    {
     "name": "stdout",
     "output_type": "stream",
     "text": [
      "Epoch 18/99\n",
      "----------\n",
      "Train Loss: 1.4739, Val Loss: 1.6354\n",
      "✅ Best model saved! (Val Loss: 1.6354445219039917)\n",
      "\n"
     ]
    },
    {
     "name": "stderr",
     "output_type": "stream",
     "text": [
      "100%|███████████████████████████████████████████████████████████████████████| 12/12 [00:08<00:00,  1.40it/s, loss=1.43]\n",
      "100%|█████████████████████████████████████████████████████████████████████████| 4/4 [00:01<00:00,  3.59it/s, loss=1.57]\n"
     ]
    },
    {
     "name": "stdout",
     "output_type": "stream",
     "text": [
      "Epoch 19/99\n",
      "----------\n",
      "Train Loss: 1.4336, Val Loss: 1.5882\n",
      "✅ Best model saved! (Val Loss: 1.5882072448730469)\n",
      "\n"
     ]
    },
    {
     "name": "stderr",
     "output_type": "stream",
     "text": [
      "100%|███████████████████████████████████████████████████████████████████████| 12/12 [00:08<00:00,  1.40it/s, loss=1.37]\n",
      "100%|█████████████████████████████████████████████████████████████████████████| 4/4 [00:01<00:00,  3.43it/s, loss=1.55]\n"
     ]
    },
    {
     "name": "stdout",
     "output_type": "stream",
     "text": [
      "Epoch 20/99\n",
      "----------\n",
      "Train Loss: 1.3914, Val Loss: 1.5529\n",
      "✅ Best model saved! (Val Loss: 1.552889496088028)\n",
      "\n"
     ]
    },
    {
     "name": "stderr",
     "output_type": "stream",
     "text": [
      "100%|███████████████████████████████████████████████████████████████████████| 12/12 [00:08<00:00,  1.39it/s, loss=1.37]\n",
      "100%|█████████████████████████████████████████████████████████████████████████| 4/4 [00:01<00:00,  3.55it/s, loss=1.54]\n"
     ]
    },
    {
     "name": "stdout",
     "output_type": "stream",
     "text": [
      "Epoch 21/99\n",
      "----------\n",
      "Train Loss: 1.3565, Val Loss: 1.5185\n",
      "✅ Best model saved! (Val Loss: 1.5185382664203644)\n",
      "\n"
     ]
    },
    {
     "name": "stderr",
     "output_type": "stream",
     "text": [
      "100%|███████████████████████████████████████████████████████████████████████| 12/12 [00:08<00:00,  1.40it/s, loss=1.31]\n",
      "100%|█████████████████████████████████████████████████████████████████████████| 4/4 [00:01<00:00,  3.48it/s, loss=1.46]\n"
     ]
    },
    {
     "name": "stdout",
     "output_type": "stream",
     "text": [
      "Epoch 22/99\n",
      "----------\n",
      "Train Loss: 1.3189, Val Loss: 1.4821\n",
      "✅ Best model saved! (Val Loss: 1.4820517301559448)\n",
      "\n"
     ]
    },
    {
     "name": "stderr",
     "output_type": "stream",
     "text": [
      "100%|███████████████████████████████████████████████████████████████████████| 12/12 [00:08<00:00,  1.39it/s, loss=1.29]\n",
      "100%|█████████████████████████████████████████████████████████████████████████| 4/4 [00:01<00:00,  3.63it/s, loss=1.45]\n"
     ]
    },
    {
     "name": "stdout",
     "output_type": "stream",
     "text": [
      "Epoch 23/99\n",
      "----------\n",
      "Train Loss: 1.2827, Val Loss: 1.4442\n",
      "✅ Best model saved! (Val Loss: 1.4441956877708435)\n",
      "\n"
     ]
    },
    {
     "name": "stderr",
     "output_type": "stream",
     "text": [
      "100%|███████████████████████████████████████████████████████████████████████| 12/12 [00:08<00:00,  1.40it/s, loss=1.23]\n",
      "100%|█████████████████████████████████████████████████████████████████████████| 4/4 [00:01<00:00,  3.58it/s, loss=1.42]\n"
     ]
    },
    {
     "name": "stdout",
     "output_type": "stream",
     "text": [
      "Epoch 24/99\n",
      "----------\n",
      "Train Loss: 1.2514, Val Loss: 1.4205\n",
      "✅ Best model saved! (Val Loss: 1.420531302690506)\n",
      "\n"
     ]
    },
    {
     "name": "stderr",
     "output_type": "stream",
     "text": [
      "100%|███████████████████████████████████████████████████████████████████████| 12/12 [00:08<00:00,  1.40it/s, loss=1.22]\n",
      "100%|█████████████████████████████████████████████████████████████████████████| 4/4 [00:01<00:00,  3.62it/s, loss=1.39]\n"
     ]
    },
    {
     "name": "stdout",
     "output_type": "stream",
     "text": [
      "Epoch 25/99\n",
      "----------\n",
      "Train Loss: 1.2200, Val Loss: 1.3868\n",
      "✅ Best model saved! (Val Loss: 1.3868015706539154)\n",
      "\n"
     ]
    },
    {
     "name": "stderr",
     "output_type": "stream",
     "text": [
      "100%|███████████████████████████████████████████████████████████████████████| 12/12 [00:08<00:00,  1.38it/s, loss=1.13]\n",
      "100%|█████████████████████████████████████████████████████████████████████████| 4/4 [00:01<00:00,  3.59it/s, loss=1.39]\n"
     ]
    },
    {
     "name": "stdout",
     "output_type": "stream",
     "text": [
      "Epoch 26/99\n",
      "----------\n",
      "Train Loss: 1.1925, Val Loss: 1.3685\n",
      "✅ Best model saved! (Val Loss: 1.368537813425064)\n",
      "\n"
     ]
    },
    {
     "name": "stderr",
     "output_type": "stream",
     "text": [
      "100%|███████████████████████████████████████████████████████████████████████| 12/12 [00:08<00:00,  1.38it/s, loss=1.13]\n",
      "100%|█████████████████████████████████████████████████████████████████████████| 4/4 [00:01<00:00,  3.61it/s, loss=1.38]\n"
     ]
    },
    {
     "name": "stdout",
     "output_type": "stream",
     "text": [
      "Epoch 27/99\n",
      "----------\n",
      "Train Loss: 1.1652, Val Loss: 1.3493\n",
      "✅ Best model saved! (Val Loss: 1.3492802381515503)\n",
      "\n"
     ]
    },
    {
     "name": "stderr",
     "output_type": "stream",
     "text": [
      "100%|████████████████████████████████████████████████████████████████████████| 12/12 [00:08<00:00,  1.40it/s, loss=1.1]\n",
      "100%|█████████████████████████████████████████████████████████████████████████| 4/4 [00:01<00:00,  3.57it/s, loss=1.33]\n"
     ]
    },
    {
     "name": "stdout",
     "output_type": "stream",
     "text": [
      "Epoch 28/99\n",
      "----------\n",
      "Train Loss: 1.1453, Val Loss: 1.3228\n",
      "✅ Best model saved! (Val Loss: 1.3228443264961243)\n",
      "\n"
     ]
    },
    {
     "name": "stderr",
     "output_type": "stream",
     "text": [
      "100%|████████████████████████████████████████████████████████████████████████| 12/12 [00:08<00:00,  1.39it/s, loss=1.1]\n",
      "100%|██████████████████████████████████████████████████████████████████████████| 4/4 [00:01<00:00,  3.55it/s, loss=1.3]\n"
     ]
    },
    {
     "name": "stdout",
     "output_type": "stream",
     "text": [
      "Epoch 29/99\n",
      "----------\n",
      "Train Loss: 1.1191, Val Loss: 1.2965\n",
      "✅ Best model saved! (Val Loss: 1.2964756488800049)\n",
      "\n"
     ]
    },
    {
     "name": "stderr",
     "output_type": "stream",
     "text": [
      "100%|███████████████████████████████████████████████████████████████████████| 12/12 [00:08<00:00,  1.40it/s, loss=1.12]\n",
      "100%|█████████████████████████████████████████████████████████████████████████| 4/4 [00:01<00:00,  3.55it/s, loss=1.28]\n"
     ]
    },
    {
     "name": "stdout",
     "output_type": "stream",
     "text": [
      "Epoch 30/99\n",
      "----------\n",
      "Train Loss: 1.1003, Val Loss: 1.2821\n",
      "✅ Best model saved! (Val Loss: 1.2821427881717682)\n",
      "\n"
     ]
    },
    {
     "name": "stderr",
     "output_type": "stream",
     "text": [
      "100%|███████████████████████████████████████████████████████████████████████| 12/12 [00:08<00:00,  1.40it/s, loss=1.14]\n",
      "100%|█████████████████████████████████████████████████████████████████████████| 4/4 [00:01<00:00,  3.53it/s, loss=1.26]\n"
     ]
    },
    {
     "name": "stdout",
     "output_type": "stream",
     "text": [
      "Epoch 31/99\n",
      "----------\n",
      "Train Loss: 1.0830, Val Loss: 1.2632\n",
      "✅ Best model saved! (Val Loss: 1.2632010281085968)\n",
      "\n"
     ]
    },
    {
     "name": "stderr",
     "output_type": "stream",
     "text": [
      "100%|███████████████████████████████████████████████████████████████████████| 12/12 [00:08<00:00,  1.40it/s, loss=1.06]\n",
      "100%|█████████████████████████████████████████████████████████████████████████| 4/4 [00:01<00:00,  3.61it/s, loss=1.27]\n"
     ]
    },
    {
     "name": "stdout",
     "output_type": "stream",
     "text": [
      "Epoch 32/99\n",
      "----------\n",
      "Train Loss: 1.0695, Val Loss: 1.2561\n",
      "✅ Best model saved! (Val Loss: 1.2560709714889526)\n",
      "\n"
     ]
    },
    {
     "name": "stderr",
     "output_type": "stream",
     "text": [
      " 83%|███████████████████████████████████████████████████████████▏           | 10/12 [00:07<00:01,  1.34it/s, loss=1.05]"
     ]
    }
   ],
   "source": [
    "model, logs = train(train_dataloader, val_dataloader, model, loss_fn, optim, 100, log_freq=1, save_best_model=True, \n",
    "              best_model_name='best_model_cross.pth', last_model_name='last_model_cross.pth', save_path=MODEL_PATH)"
   ]
  },
  {
   "cell_type": "code",
   "execution_count": null,
   "id": "a6ecf1bb-7022-473e-a112-6882174b9ffa",
   "metadata": {},
   "outputs": [],
   "source": []
  }
 ],
 "metadata": {
  "kernelspec": {
   "display_name": "Python 3 (ipykernel)",
   "language": "python",
   "name": "python3"
  },
  "language_info": {
   "codemirror_mode": {
    "name": "ipython",
    "version": 3
   },
   "file_extension": ".py",
   "mimetype": "text/x-python",
   "name": "python",
   "nbconvert_exporter": "python",
   "pygments_lexer": "ipython3",
   "version": "3.11.11"
  }
 },
 "nbformat": 4,
 "nbformat_minor": 5
}
