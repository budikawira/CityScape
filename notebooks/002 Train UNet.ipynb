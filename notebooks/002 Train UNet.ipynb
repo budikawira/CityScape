{
 "cells": [
  {
   "cell_type": "markdown",
   "metadata": {
    "id": "dVxGqaMqppnt"
   },
   "source": [
    "## Prepare datasets"
   ]
  },
  {
   "cell_type": "code",
   "execution_count": 1,
   "metadata": {
    "colab": {
     "base_uri": "https://localhost:8080/"
    },
    "id": "xvM8hwMIproK",
    "outputId": "756308a8-203b-40e7-a2a9-b4815d8e4ce0"
   },
   "outputs": [],
   "source": [
    "# from google.colab import drive\n",
    "\n",
    "# drive.mount(\"/content/drive\")"
   ]
  },
  {
   "cell_type": "code",
   "execution_count": 2,
   "metadata": {},
   "outputs": [],
   "source": [
    "import os\n",
    "import numpy as np\n",
    "import pandas as pd"
   ]
  },
  {
   "cell_type": "code",
   "execution_count": 3,
   "metadata": {
    "id": "8cNmPnRXqFT_"
   },
   "outputs": [],
   "source": [
    "TRAIN_IMG_PATH = \"../dataset/bootcamp/train/images\"\n",
    "TRAIN_MASK_PATH = \"../dataset/bootcamp/train/annotations\"\n",
    "VAL_IMG_PATH = \"../dataset/bootcamp/test/images\"\n",
    "VAL_MASK_PATH = \"../dataset/bootcamp/test/annotations\"\n",
    "\n",
    "EDA_DS_PATH = \"../dataset/bootcamp/train\"\n",
    "EDA_TRAIN_LABELS = os.path.join(EDA_DS_PATH, \"train_labels.csv\")\n",
    "EDA_TRAIN_FILES = os.path.join(EDA_DS_PATH, \"train_files.csv\")\n",
    "EDA_VAL_FILES = os.path.join(EDA_DS_PATH, \"val_files.csv\")\n",
    "\n",
    "MODEL_PATH = \"../models/UNet\"\n",
    "\n",
    "os.makedirs(MODEL_PATH, exist_ok=True)  # Ensure directory exist"
   ]
  },
  {
   "cell_type": "code",
   "execution_count": 4,
   "metadata": {},
   "outputs": [],
   "source": [
    "files_df = pd.read_csv(EDA_TRAIN_FILES)\n",
    "labels_df = pd.read_csv(EDA_TRAIN_LABELS)\n",
    "val_files_df = pd.read_csv(EDA_VAL_FILES)"
   ]
  },
  {
   "cell_type": "code",
   "execution_count": 5,
   "metadata": {},
   "outputs": [
    {
     "name": "stdout",
     "output_type": "stream",
     "text": [
      "            filename\n",
      "0  0001TP_006690.png\n",
      "1  0001TP_006720.png\n",
      "2  0001TP_006750.png\n",
      "3  0001TP_006780.png\n",
      "4  0001TP_006810.png\n",
      "\n",
      "   class     label\n",
      "0      0       sky\n",
      "1      1  building\n",
      "2      2      pole\n",
      "3      3      road\n",
      "4      4  sidewalk\n",
      "\n",
      "['0001TP_006690.png' '0001TP_006720.png' '0001TP_006750.png'\n",
      " '0001TP_006780.png' '0001TP_006810.png']\n",
      "\n",
      "['0016E5_07959.png' '0016E5_07961.png' '0016E5_07963.png'\n",
      " '0016E5_07965.png' '0016E5_07967.png']\n"
     ]
    }
   ],
   "source": [
    "print(files_df.head())\n",
    "print()\n",
    "print(labels_df.head())\n",
    "print()\n",
    "train_files = files_df['filename'].to_numpy()\n",
    "print(train_files[:5])\n",
    "print()\n",
    "val_files = val_files_df['filename'].to_numpy()\n",
    "print(val_files[:5])"
   ]
  },
  {
   "cell_type": "markdown",
   "metadata": {
    "id": "cfwctuSTpnIy"
   },
   "source": [
    "## Import some Library"
   ]
  },
  {
   "cell_type": "code",
   "execution_count": 6,
   "metadata": {
    "id": "4Rwt1IEZokg6"
   },
   "outputs": [],
   "source": [
    "import torch\n",
    "import torch.nn as nn\n",
    "import numpy as np\n",
    "import albumentations as A\n",
    "from albumentations.pytorch import ToTensorV2\n",
    "import os\n",
    "import matplotlib.pyplot as plt"
   ]
  },
  {
   "cell_type": "markdown",
   "metadata": {
    "id": "mxtL9QB1qfyF"
   },
   "source": [
    "## Datasets Loader"
   ]
  },
  {
   "cell_type": "code",
   "execution_count": 7,
   "metadata": {},
   "outputs": [],
   "source": [
    "# refer to dataset.py\n",
    "from dataset import CityScapes"
   ]
  },
  {
   "cell_type": "code",
   "execution_count": 8,
   "metadata": {},
   "outputs": [
    {
     "name": "stdout",
     "output_type": "stream",
     "text": [
      "tensor([[[-1.8439, -1.9124, -1.8782,  ..., -1.8268, -1.8610, -1.8268],\n",
      "         [-1.8782, -1.8782, -1.8953,  ..., -1.8268, -1.8610, -1.8268],\n",
      "         [-1.8953, -1.8610, -1.8610,  ..., -1.9124, -1.8782, -1.8439],\n",
      "         ...,\n",
      "         [-1.8610, -1.8610, -1.8439,  ..., -1.7240, -1.6727, -1.6727],\n",
      "         [-1.8439, -1.8439, -1.8439,  ..., -1.6898, -1.6213, -1.7240],\n",
      "         [-1.8439, -1.8610, -1.8439,  ..., -1.7240, -1.7240, -1.7412]],\n",
      "\n",
      "        [[-1.7556, -1.8256, -1.7906,  ..., -1.6681, -1.7031, -1.7206],\n",
      "         [-1.7906, -1.7906, -1.8081,  ..., -1.6681, -1.7031, -1.7206],\n",
      "         [-1.8081, -1.7731, -1.7731,  ..., -1.7556, -1.7206, -1.7381],\n",
      "         ...,\n",
      "         [-1.7556, -1.7556, -1.7381,  ..., -1.4580, -1.4055, -1.3880],\n",
      "         [-1.7381, -1.7381, -1.7381,  ..., -1.4580, -1.3704, -1.4405],\n",
      "         [-1.7556, -1.7556, -1.7381,  ..., -1.4580, -1.4405, -1.4580]],\n",
      "\n",
      "        [[-1.5256, -1.5953, -1.5604,  ..., -1.4210, -1.4559, -1.4384],\n",
      "         [-1.5604, -1.5604, -1.5779,  ..., -1.4210, -1.4559, -1.4559],\n",
      "         [-1.5779, -1.5430, -1.5430,  ..., -1.5081, -1.4733, -1.4733],\n",
      "         ...,\n",
      "         [-1.4907, -1.4907, -1.4733,  ..., -1.1247, -1.0724, -1.1421],\n",
      "         [-1.4733, -1.4733, -1.4733,  ..., -1.1421, -1.0898, -1.1421],\n",
      "         [-1.4733, -1.4907, -1.4733,  ..., -1.1421, -1.1421, -1.1421]]])\n",
      "\n",
      "tensor([[ 1,  1,  1,  ...,  1,  1,  1],\n",
      "        [ 1,  1,  1,  ...,  1,  1,  1],\n",
      "        [ 1,  1,  1,  ...,  1,  1,  1],\n",
      "        ...,\n",
      "        [ 4,  4,  4,  ..., 11, 11, 11],\n",
      "        [ 4,  4,  4,  ..., 11, 11, 11],\n",
      "        [ 4,  4,  4,  ..., 11, 11, 11]], dtype=torch.uint8)\n",
      "\n",
      "torch.Size([3, 256, 256])\n",
      "\n",
      "torch.Size([256, 256])\n"
     ]
    }
   ],
   "source": [
    "train_datasets = CityScapes(TRAIN_IMG_PATH, TRAIN_MASK_PATH, train_files)\n",
    "image, mask = train_datasets.__getitem__(0)\n",
    "print(image)\n",
    "print()\n",
    "print(mask)\n",
    "print()\n",
    "print(image.shape)\n",
    "print()\n",
    "print(mask.shape)\n",
    "\n",
    "val_datasets = CityScapes(VAL_IMG_PATH, VAL_MASK_PATH, val_files)"
   ]
  },
  {
   "cell_type": "code",
   "execution_count": 9,
   "metadata": {},
   "outputs": [],
   "source": [
    "from torch.utils.data import DataLoader\n",
    "\n",
    "train_dataloader = DataLoader(train_datasets, batch_size=32, shuffle=True, num_workers=0)\n",
    "val_dataloader = DataLoader(val_datasets, batch_size=32, shuffle=True, num_workers=0)"
   ]
  },
  {
   "cell_type": "markdown",
   "metadata": {
    "id": "rQhZ2-u3q1-p"
   },
   "source": [
    "## Model Architecture"
   ]
  },
  {
   "cell_type": "code",
   "execution_count": 10,
   "metadata": {
    "id": "-2xJJ2qpq58l"
   },
   "outputs": [],
   "source": [
    "from architecture import UNET"
   ]
  },
  {
   "cell_type": "markdown",
   "metadata": {
    "id": "YUYBnO-iq0SW"
   },
   "source": [
    "## Engine function"
   ]
  },
  {
   "cell_type": "markdown",
   "metadata": {
    "id": "iFRJ2NbgsoLl"
   },
   "source": [
    "- Dice coefficient metrics"
   ]
  },
  {
   "cell_type": "code",
   "execution_count": 11,
   "metadata": {
    "id": "n5zHKY1UsnuK"
   },
   "outputs": [
    {
     "name": "stderr",
     "output_type": "stream",
     "text": [
      "Z:\\BEKA\\2025\\AI\\Bootcamp\\Source\\Advanced CV\\Project 3\\notebooks\\engine.py:137: FutureWarning: `torch.cuda.amp.GradScaler(args...)` is deprecated. Please use `torch.amp.GradScaler('cuda', args...)` instead.\n",
      "  def train_engine(dataloader, model, loss_fn, optim, scaler=torch.cuda.amp.GradScaler()):\n"
     ]
    }
   ],
   "source": [
    "from engine import DiceLoss\n",
    "from engine import DiceCrossEntropyLoss\n",
    "from engine import train"
   ]
  },
  {
   "cell_type": "markdown",
   "metadata": {
    "id": "Troo9nfjssci"
   },
   "source": [
    "## Training with DiceLoss"
   ]
  },
  {
   "cell_type": "code",
   "execution_count": 14,
   "metadata": {},
   "outputs": [
    {
     "name": "stdout",
     "output_type": "stream",
     "text": [
      "12\n"
     ]
    }
   ],
   "source": [
    "model = UNET(in_channels=3, out_channels=len(labels_df))\n",
    "model.cuda()\n",
    "loss_fn = DiceLoss()\n",
    "optim = torch.optim.Adam(model.parameters(), lr = 1e-3)\n",
    "print(model.out_channels)"
   ]
  },
  {
   "cell_type": "code",
   "execution_count": 15,
   "metadata": {},
   "outputs": [
    {
     "name": "stderr",
     "output_type": "stream",
     "text": [
      "100%|██████████████████████████████████████████████████████████████████████| 12/12 [00:30<00:00,  2.50s/it, loss=0.871]\n",
      "Z:\\BEKA\\2025\\AI\\Bootcamp\\Source\\Advanced CV\\Project 3\\notebooks\\engine.py:154: FutureWarning: `torch.cuda.amp.autocast(args...)` is deprecated. Please use `torch.amp.autocast('cuda', args...)` instead.\n",
      "  with torch.cuda.amp.autocast():\n",
      "100%|████████████████████████████████████████████████████████████████████████| 4/4 [00:02<00:00,  1.91it/s, loss=0.975]\n"
     ]
    },
    {
     "name": "stdout",
     "output_type": "stream",
     "text": [
      "Epoch 0/99\n",
      "----------\n",
      "Train Loss: 0.8986, Val Loss: 0.9724\n",
      "✅ Best model saved! (Val Loss: 0.9724295437335968)\n",
      "\n"
     ]
    },
    {
     "name": "stderr",
     "output_type": "stream",
     "text": [
      "100%|██████████████████████████████████████████████████████████████████████| 12/12 [00:29<00:00,  2.44s/it, loss=0.851]\n",
      "100%|████████████████████████████████████████████████████████████████████████| 4/4 [00:02<00:00,  1.95it/s, loss=0.857]\n"
     ]
    },
    {
     "name": "stdout",
     "output_type": "stream",
     "text": [
      "Epoch 1/99\n",
      "----------\n",
      "Train Loss: 0.8547, Val Loss: 0.8612\n",
      "✅ Best model saved! (Val Loss: 0.8611787557601929)\n",
      "\n"
     ]
    },
    {
     "name": "stderr",
     "output_type": "stream",
     "text": [
      "100%|███████████████████████████████████████████████████████████████████████| 12/12 [00:29<00:00,  2.46s/it, loss=0.81]\n",
      "100%|████████████████████████████████████████████████████████████████████████| 4/4 [00:02<00:00,  1.99it/s, loss=0.819]\n"
     ]
    },
    {
     "name": "stdout",
     "output_type": "stream",
     "text": [
      "Epoch 2/99\n",
      "----------\n",
      "Train Loss: 0.8237, Val Loss: 0.8191\n",
      "✅ Best model saved! (Val Loss: 0.8191004693508148)\n",
      "\n"
     ]
    },
    {
     "name": "stderr",
     "output_type": "stream",
     "text": [
      "100%|██████████████████████████████████████████████████████████████████████| 12/12 [00:29<00:00,  2.44s/it, loss=0.792]\n",
      "100%|██████████████████████████████████████████████████████████████████████████| 4/4 [00:02<00:00,  1.99it/s, loss=0.8]\n"
     ]
    },
    {
     "name": "stdout",
     "output_type": "stream",
     "text": [
      "Epoch 3/99\n",
      "----------\n",
      "Train Loss: 0.8018, Val Loss: 0.8022\n",
      "✅ Best model saved! (Val Loss: 0.8021577000617981)\n",
      "\n"
     ]
    },
    {
     "name": "stderr",
     "output_type": "stream",
     "text": [
      "100%|███████████████████████████████████████████████████████████████████████| 12/12 [00:28<00:00,  2.40s/it, loss=0.75]\n",
      "100%|████████████████████████████████████████████████████████████████████████| 4/4 [00:02<00:00,  1.93it/s, loss=0.813]\n"
     ]
    },
    {
     "name": "stdout",
     "output_type": "stream",
     "text": [
      "Epoch 4/99\n",
      "----------\n",
      "Train Loss: 0.7634, Val Loss: 0.8103\n",
      "\n"
     ]
    },
    {
     "name": "stderr",
     "output_type": "stream",
     "text": [
      "100%|██████████████████████████████████████████████████████████████████████| 12/12 [00:28<00:00,  2.41s/it, loss=0.704]\n",
      "100%|████████████████████████████████████████████████████████████████████████| 4/4 [00:02<00:00,  1.95it/s, loss=0.776]\n"
     ]
    },
    {
     "name": "stdout",
     "output_type": "stream",
     "text": [
      "Epoch 5/99\n",
      "----------\n",
      "Train Loss: 0.7131, Val Loss: 0.7772\n",
      "✅ Best model saved! (Val Loss: 0.7771938592195511)\n",
      "\n"
     ]
    },
    {
     "name": "stderr",
     "output_type": "stream",
     "text": [
      "100%|██████████████████████████████████████████████████████████████████████| 12/12 [00:28<00:00,  2.37s/it, loss=0.697]\n",
      "100%|████████████████████████████████████████████████████████████████████████| 4/4 [00:02<00:00,  1.97it/s, loss=0.755]\n"
     ]
    },
    {
     "name": "stdout",
     "output_type": "stream",
     "text": [
      "Epoch 6/99\n",
      "----------\n",
      "Train Loss: 0.6931, Val Loss: 0.7543\n",
      "✅ Best model saved! (Val Loss: 0.7543355524539948)\n",
      "\n"
     ]
    },
    {
     "name": "stderr",
     "output_type": "stream",
     "text": [
      "100%|███████████████████████████████████████████████████████████████████████| 12/12 [00:29<00:00,  2.47s/it, loss=0.69]\n",
      "100%|████████████████████████████████████████████████████████████████████████| 4/4 [00:02<00:00,  1.92it/s, loss=0.797]\n"
     ]
    },
    {
     "name": "stdout",
     "output_type": "stream",
     "text": [
      "Epoch 7/99\n",
      "----------\n",
      "Train Loss: 0.6831, Val Loss: 0.7880\n",
      "\n"
     ]
    },
    {
     "name": "stderr",
     "output_type": "stream",
     "text": [
      "100%|██████████████████████████████████████████████████████████████████████| 12/12 [00:28<00:00,  2.40s/it, loss=0.623]\n",
      "100%|█████████████████████████████████████████████████████████████████████████| 4/4 [00:02<00:00,  1.85it/s, loss=0.76]\n"
     ]
    },
    {
     "name": "stdout",
     "output_type": "stream",
     "text": [
      "Epoch 8/99\n",
      "----------\n",
      "Train Loss: 0.6739, Val Loss: 0.7586\n",
      "\n"
     ]
    },
    {
     "name": "stderr",
     "output_type": "stream",
     "text": [
      "100%|██████████████████████████████████████████████████████████████████████| 12/12 [00:29<00:00,  2.45s/it, loss=0.673]\n",
      "100%|████████████████████████████████████████████████████████████████████████| 4/4 [00:02<00:00,  1.86it/s, loss=0.736]\n"
     ]
    },
    {
     "name": "stdout",
     "output_type": "stream",
     "text": [
      "Epoch 9/99\n",
      "----------\n",
      "Train Loss: 0.6700, Val Loss: 0.7475\n",
      "✅ Best model saved! (Val Loss: 0.7474530637264252)\n",
      "\n"
     ]
    },
    {
     "name": "stderr",
     "output_type": "stream",
     "text": [
      "100%|██████████████████████████████████████████████████████████████████████| 12/12 [00:29<00:00,  2.50s/it, loss=0.697]\n",
      "100%|████████████████████████████████████████████████████████████████████████| 4/4 [00:02<00:00,  1.88it/s, loss=0.772]\n"
     ]
    },
    {
     "name": "stdout",
     "output_type": "stream",
     "text": [
      "Epoch 10/99\n",
      "----------\n",
      "Train Loss: 0.6676, Val Loss: 0.7690\n",
      "\n"
     ]
    },
    {
     "name": "stderr",
     "output_type": "stream",
     "text": [
      "100%|███████████████████████████████████████████████████████████████████████| 12/12 [00:30<00:00,  2.52s/it, loss=0.65]\n",
      "100%|████████████████████████████████████████████████████████████████████████| 4/4 [00:02<00:00,  1.90it/s, loss=0.775]\n"
     ]
    },
    {
     "name": "stdout",
     "output_type": "stream",
     "text": [
      "Epoch 11/99\n",
      "----------\n",
      "Train Loss: 0.6684, Val Loss: 0.7792\n",
      "\n"
     ]
    },
    {
     "name": "stderr",
     "output_type": "stream",
     "text": [
      "100%|██████████████████████████████████████████████████████████████████████| 12/12 [00:29<00:00,  2.48s/it, loss=0.648]\n",
      "100%|████████████████████████████████████████████████████████████████████████| 4/4 [00:02<00:00,  1.96it/s, loss=0.754]\n"
     ]
    },
    {
     "name": "stdout",
     "output_type": "stream",
     "text": [
      "Epoch 12/99\n",
      "----------\n",
      "Train Loss: 0.6609, Val Loss: 0.7649\n",
      "\n"
     ]
    },
    {
     "name": "stderr",
     "output_type": "stream",
     "text": [
      "100%|██████████████████████████████████████████████████████████████████████| 12/12 [00:29<00:00,  2.43s/it, loss=0.642]\n",
      "100%|████████████████████████████████████████████████████████████████████████| 4/4 [00:02<00:00,  1.96it/s, loss=0.769]\n"
     ]
    },
    {
     "name": "stdout",
     "output_type": "stream",
     "text": [
      "Epoch 13/99\n",
      "----------\n",
      "Train Loss: 0.6575, Val Loss: 0.7667\n",
      "\n"
     ]
    },
    {
     "name": "stderr",
     "output_type": "stream",
     "text": [
      "100%|██████████████████████████████████████████████████████████████████████| 12/12 [00:29<00:00,  2.43s/it, loss=0.641]\n",
      "100%|████████████████████████████████████████████████████████████████████████| 4/4 [00:02<00:00,  1.93it/s, loss=0.752]\n"
     ]
    },
    {
     "name": "stdout",
     "output_type": "stream",
     "text": [
      "Epoch 14/99\n",
      "----------\n",
      "Train Loss: 0.6546, Val Loss: 0.7583\n",
      "\n"
     ]
    },
    {
     "name": "stderr",
     "output_type": "stream",
     "text": [
      "100%|██████████████████████████████████████████████████████████████████████| 12/12 [00:31<00:00,  2.60s/it, loss=0.659]\n",
      "100%|████████████████████████████████████████████████████████████████████████| 4/4 [00:02<00:00,  1.85it/s, loss=0.769]\n"
     ]
    },
    {
     "name": "stdout",
     "output_type": "stream",
     "text": [
      "Epoch 15/99\n",
      "----------\n",
      "Train Loss: 0.6573, Val Loss: 0.7691\n",
      "\n"
     ]
    },
    {
     "name": "stderr",
     "output_type": "stream",
     "text": [
      "100%|██████████████████████████████████████████████████████████████████████| 12/12 [00:29<00:00,  2.49s/it, loss=0.642]\n",
      "100%|████████████████████████████████████████████████████████████████████████| 4/4 [00:02<00:00,  1.92it/s, loss=0.738]\n"
     ]
    },
    {
     "name": "stdout",
     "output_type": "stream",
     "text": [
      "Epoch 16/99\n",
      "----------\n",
      "Train Loss: 0.6541, Val Loss: 0.7407\n",
      "✅ Best model saved! (Val Loss: 0.7407334744930267)\n",
      "\n"
     ]
    },
    {
     "name": "stderr",
     "output_type": "stream",
     "text": [
      "100%|██████████████████████████████████████████████████████████████████████| 12/12 [00:29<00:00,  2.47s/it, loss=0.672]\n",
      "100%|████████████████████████████████████████████████████████████████████████| 4/4 [00:02<00:00,  1.92it/s, loss=0.813]\n"
     ]
    },
    {
     "name": "stdout",
     "output_type": "stream",
     "text": [
      "Epoch 17/99\n",
      "----------\n",
      "Train Loss: 0.6585, Val Loss: 0.8088\n",
      "\n"
     ]
    },
    {
     "name": "stderr",
     "output_type": "stream",
     "text": [
      "100%|██████████████████████████████████████████████████████████████████████| 12/12 [00:29<00:00,  2.44s/it, loss=0.658]\n",
      "100%|████████████████████████████████████████████████████████████████████████| 4/4 [00:02<00:00,  1.90it/s, loss=0.755]\n"
     ]
    },
    {
     "name": "stdout",
     "output_type": "stream",
     "text": [
      "Epoch 18/99\n",
      "----------\n",
      "Train Loss: 0.6683, Val Loss: 0.7564\n",
      "\n"
     ]
    },
    {
     "name": "stderr",
     "output_type": "stream",
     "text": [
      "100%|███████████████████████████████████████████████████████████████████████| 12/12 [00:28<00:00,  2.37s/it, loss=0.67]\n",
      "100%|████████████████████████████████████████████████████████████████████████| 4/4 [00:02<00:00,  1.97it/s, loss=0.737]\n"
     ]
    },
    {
     "name": "stdout",
     "output_type": "stream",
     "text": [
      "Epoch 19/99\n",
      "----------\n",
      "Train Loss: 0.6549, Val Loss: 0.7377\n",
      "✅ Best model saved! (Val Loss: 0.7377329468727112)\n",
      "\n"
     ]
    },
    {
     "name": "stderr",
     "output_type": "stream",
     "text": [
      "100%|██████████████████████████████████████████████████████████████████████| 12/12 [00:29<00:00,  2.46s/it, loss=0.676]\n",
      "100%|████████████████████████████████████████████████████████████████████████| 4/4 [00:02<00:00,  1.88it/s, loss=0.723]\n"
     ]
    },
    {
     "name": "stdout",
     "output_type": "stream",
     "text": [
      "Epoch 20/99\n",
      "----------\n",
      "Train Loss: 0.6496, Val Loss: 0.7349\n",
      "✅ Best model saved! (Val Loss: 0.734854519367218)\n",
      "\n"
     ]
    },
    {
     "name": "stderr",
     "output_type": "stream",
     "text": [
      "100%|██████████████████████████████████████████████████████████████████████| 12/12 [00:30<00:00,  2.56s/it, loss=0.624]\n",
      "100%|████████████████████████████████████████████████████████████████████████| 4/4 [00:02<00:00,  1.88it/s, loss=0.737]\n"
     ]
    },
    {
     "name": "stdout",
     "output_type": "stream",
     "text": [
      "Epoch 21/99\n",
      "----------\n",
      "Train Loss: 0.6441, Val Loss: 0.7306\n",
      "✅ Best model saved! (Val Loss: 0.7305716723203659)\n",
      "\n"
     ]
    },
    {
     "name": "stderr",
     "output_type": "stream",
     "text": [
      "100%|██████████████████████████████████████████████████████████████████████| 12/12 [00:30<00:00,  2.56s/it, loss=0.615]\n",
      "100%|████████████████████████████████████████████████████████████████████████| 4/4 [00:02<00:00,  1.92it/s, loss=0.741]\n"
     ]
    },
    {
     "name": "stdout",
     "output_type": "stream",
     "text": [
      "Epoch 22/99\n",
      "----------\n",
      "Train Loss: 0.6386, Val Loss: 0.7391\n",
      "\n"
     ]
    },
    {
     "name": "stderr",
     "output_type": "stream",
     "text": [
      "100%|██████████████████████████████████████████████████████████████████████| 12/12 [00:30<00:00,  2.55s/it, loss=0.646]\n",
      "100%|████████████████████████████████████████████████████████████████████████| 4/4 [00:02<00:00,  1.84it/s, loss=0.736]\n"
     ]
    },
    {
     "name": "stdout",
     "output_type": "stream",
     "text": [
      "Epoch 23/99\n",
      "----------\n",
      "Train Loss: 0.6362, Val Loss: 0.7279\n",
      "✅ Best model saved! (Val Loss: 0.727899044752121)\n",
      "\n"
     ]
    },
    {
     "name": "stderr",
     "output_type": "stream",
     "text": [
      "100%|███████████████████████████████████████████████████████████████████████| 12/12 [00:30<00:00,  2.57s/it, loss=0.64]\n",
      "100%|█████████████████████████████████████████████████████████████████████████| 4/4 [00:02<00:00,  1.88it/s, loss=0.72]\n"
     ]
    },
    {
     "name": "stdout",
     "output_type": "stream",
     "text": [
      "Epoch 24/99\n",
      "----------\n",
      "Train Loss: 0.6385, Val Loss: 0.7305\n",
      "\n"
     ]
    },
    {
     "name": "stderr",
     "output_type": "stream",
     "text": [
      "100%|██████████████████████████████████████████████████████████████████████| 12/12 [00:30<00:00,  2.55s/it, loss=0.621]\n",
      "100%|████████████████████████████████████████████████████████████████████████| 4/4 [00:02<00:00,  1.85it/s, loss=0.737]\n"
     ]
    },
    {
     "name": "stdout",
     "output_type": "stream",
     "text": [
      "Epoch 25/99\n",
      "----------\n",
      "Train Loss: 0.6333, Val Loss: 0.7344\n",
      "\n"
     ]
    },
    {
     "name": "stderr",
     "output_type": "stream",
     "text": [
      "100%|██████████████████████████████████████████████████████████████████████| 12/12 [00:29<00:00,  2.47s/it, loss=0.624]\n",
      "100%|████████████████████████████████████████████████████████████████████████| 4/4 [00:02<00:00,  1.88it/s, loss=0.721]\n"
     ]
    },
    {
     "name": "stdout",
     "output_type": "stream",
     "text": [
      "Epoch 26/99\n",
      "----------\n",
      "Train Loss: 0.6310, Val Loss: 0.7162\n",
      "✅ Best model saved! (Val Loss: 0.7162236869335175)\n",
      "\n"
     ]
    },
    {
     "name": "stderr",
     "output_type": "stream",
     "text": [
      "100%|██████████████████████████████████████████████████████████████████████| 12/12 [00:29<00:00,  2.48s/it, loss=0.645]\n",
      "100%|████████████████████████████████████████████████████████████████████████| 4/4 [00:02<00:00,  1.91it/s, loss=0.716]\n"
     ]
    },
    {
     "name": "stdout",
     "output_type": "stream",
     "text": [
      "Epoch 27/99\n",
      "----------\n",
      "Train Loss: 0.6307, Val Loss: 0.7159\n",
      "✅ Best model saved! (Val Loss: 0.7158673107624054)\n",
      "\n"
     ]
    },
    {
     "name": "stderr",
     "output_type": "stream",
     "text": [
      "100%|██████████████████████████████████████████████████████████████████████| 12/12 [00:29<00:00,  2.48s/it, loss=0.609]\n",
      "100%|████████████████████████████████████████████████████████████████████████| 4/4 [00:02<00:00,  1.87it/s, loss=0.723]\n"
     ]
    },
    {
     "name": "stdout",
     "output_type": "stream",
     "text": [
      "Epoch 28/99\n",
      "----------\n",
      "Train Loss: 0.6242, Val Loss: 0.7261\n",
      "\n"
     ]
    },
    {
     "name": "stderr",
     "output_type": "stream",
     "text": [
      "100%|██████████████████████████████████████████████████████████████████████| 12/12 [00:29<00:00,  2.45s/it, loss=0.659]\n",
      "100%|████████████████████████████████████████████████████████████████████████| 4/4 [00:02<00:00,  1.88it/s, loss=0.754]\n"
     ]
    },
    {
     "name": "stdout",
     "output_type": "stream",
     "text": [
      "Epoch 29/99\n",
      "----------\n",
      "Train Loss: 0.6226, Val Loss: 0.7455\n",
      "\n"
     ]
    },
    {
     "name": "stderr",
     "output_type": "stream",
     "text": [
      "100%|██████████████████████████████████████████████████████████████████████| 12/12 [00:28<00:00,  2.37s/it, loss=0.612]\n",
      "100%|█████████████████████████████████████████████████████████████████████████| 4/4 [00:02<00:00,  1.90it/s, loss=0.74]\n"
     ]
    },
    {
     "name": "stdout",
     "output_type": "stream",
     "text": [
      "Epoch 30/99\n",
      "----------\n",
      "Train Loss: 0.6331, Val Loss: 0.7438\n",
      "\n"
     ]
    },
    {
     "name": "stderr",
     "output_type": "stream",
     "text": [
      "100%|██████████████████████████████████████████████████████████████████████| 12/12 [00:29<00:00,  2.49s/it, loss=0.604]\n",
      "100%|████████████████████████████████████████████████████████████████████████| 4/4 [00:02<00:00,  1.92it/s, loss=0.725]\n"
     ]
    },
    {
     "name": "stdout",
     "output_type": "stream",
     "text": [
      "Epoch 31/99\n",
      "----------\n",
      "Train Loss: 0.6374, Val Loss: 0.7239\n",
      "\n"
     ]
    },
    {
     "name": "stderr",
     "output_type": "stream",
     "text": [
      "100%|██████████████████████████████████████████████████████████████████████| 12/12 [00:29<00:00,  2.47s/it, loss=0.626]\n",
      "100%|████████████████████████████████████████████████████████████████████████| 4/4 [00:02<00:00,  1.95it/s, loss=0.751]\n"
     ]
    },
    {
     "name": "stdout",
     "output_type": "stream",
     "text": [
      "Epoch 32/99\n",
      "----------\n",
      "Train Loss: 0.6319, Val Loss: 0.7506\n",
      "\n"
     ]
    },
    {
     "name": "stderr",
     "output_type": "stream",
     "text": [
      "100%|██████████████████████████████████████████████████████████████████████| 12/12 [00:28<00:00,  2.40s/it, loss=0.618]\n",
      "100%|████████████████████████████████████████████████████████████████████████| 4/4 [00:02<00:00,  1.93it/s, loss=0.736]\n"
     ]
    },
    {
     "name": "stdout",
     "output_type": "stream",
     "text": [
      "Epoch 33/99\n",
      "----------\n",
      "Train Loss: 0.6288, Val Loss: 0.7420\n",
      "\n"
     ]
    },
    {
     "name": "stderr",
     "output_type": "stream",
     "text": [
      "100%|██████████████████████████████████████████████████████████████████████| 12/12 [00:29<00:00,  2.43s/it, loss=0.603]\n",
      "100%|████████████████████████████████████████████████████████████████████████| 4/4 [00:02<00:00,  1.92it/s, loss=0.757]\n"
     ]
    },
    {
     "name": "stdout",
     "output_type": "stream",
     "text": [
      "Epoch 34/99\n",
      "----------\n",
      "Train Loss: 0.6247, Val Loss: 0.7530\n",
      "\n"
     ]
    },
    {
     "name": "stderr",
     "output_type": "stream",
     "text": [
      "100%|██████████████████████████████████████████████████████████████████████| 12/12 [00:28<00:00,  2.39s/it, loss=0.639]\n",
      "100%|████████████████████████████████████████████████████████████████████████| 4/4 [00:02<00:00,  1.95it/s, loss=0.717]\n"
     ]
    },
    {
     "name": "stdout",
     "output_type": "stream",
     "text": [
      "Epoch 35/99\n",
      "----------\n",
      "Train Loss: 0.6249, Val Loss: 0.7150\n",
      "✅ Best model saved! (Val Loss: 0.715005099773407)\n",
      "\n"
     ]
    },
    {
     "name": "stderr",
     "output_type": "stream",
     "text": [
      "100%|██████████████████████████████████████████████████████████████████████| 12/12 [00:29<00:00,  2.48s/it, loss=0.625]\n",
      "100%|█████████████████████████████████████████████████████████████████████████| 4/4 [00:02<00:00,  1.95it/s, loss=0.72]\n"
     ]
    },
    {
     "name": "stdout",
     "output_type": "stream",
     "text": [
      "Epoch 36/99\n",
      "----------\n",
      "Train Loss: 0.6246, Val Loss: 0.7196\n",
      "\n"
     ]
    },
    {
     "name": "stderr",
     "output_type": "stream",
     "text": [
      "100%|██████████████████████████████████████████████████████████████████████| 12/12 [00:29<00:00,  2.47s/it, loss=0.603]\n",
      "100%|████████████████████████████████████████████████████████████████████████| 4/4 [00:02<00:00,  1.92it/s, loss=0.738]\n"
     ]
    },
    {
     "name": "stdout",
     "output_type": "stream",
     "text": [
      "Epoch 37/99\n",
      "----------\n",
      "Train Loss: 0.6204, Val Loss: 0.7355\n",
      "\n"
     ]
    },
    {
     "name": "stderr",
     "output_type": "stream",
     "text": [
      "100%|██████████████████████████████████████████████████████████████████████| 12/12 [00:28<00:00,  2.41s/it, loss=0.585]\n",
      "100%|████████████████████████████████████████████████████████████████████████| 4/4 [00:02<00:00,  1.93it/s, loss=0.709]\n"
     ]
    },
    {
     "name": "stdout",
     "output_type": "stream",
     "text": [
      "Epoch 38/99\n",
      "----------\n",
      "Train Loss: 0.6140, Val Loss: 0.7172\n",
      "\n"
     ]
    },
    {
     "name": "stderr",
     "output_type": "stream",
     "text": [
      "100%|██████████████████████████████████████████████████████████████████████| 12/12 [00:29<00:00,  2.48s/it, loss=0.576]\n",
      "100%|████████████████████████████████████████████████████████████████████████| 4/4 [00:02<00:00,  1.92it/s, loss=0.715]\n"
     ]
    },
    {
     "name": "stdout",
     "output_type": "stream",
     "text": [
      "Epoch 39/99\n",
      "----------\n",
      "Train Loss: 0.6096, Val Loss: 0.7184\n",
      "\n"
     ]
    },
    {
     "name": "stderr",
     "output_type": "stream",
     "text": [
      "100%|██████████████████████████████████████████████████████████████████████| 12/12 [00:29<00:00,  2.48s/it, loss=0.617]\n",
      "100%|████████████████████████████████████████████████████████████████████████| 4/4 [00:02<00:00,  1.94it/s, loss=0.715]\n"
     ]
    },
    {
     "name": "stdout",
     "output_type": "stream",
     "text": [
      "Epoch 40/99\n",
      "----------\n",
      "Train Loss: 0.6117, Val Loss: 0.7176\n",
      "\n"
     ]
    },
    {
     "name": "stderr",
     "output_type": "stream",
     "text": [
      "100%|██████████████████████████████████████████████████████████████████████| 12/12 [00:29<00:00,  2.47s/it, loss=0.639]\n",
      "100%|████████████████████████████████████████████████████████████████████████| 4/4 [00:02<00:00,  1.93it/s, loss=0.715]\n"
     ]
    },
    {
     "name": "stdout",
     "output_type": "stream",
     "text": [
      "Epoch 41/99\n",
      "----------\n",
      "Train Loss: 0.6112, Val Loss: 0.7108\n",
      "✅ Best model saved! (Val Loss: 0.7108387500047684)\n",
      "\n"
     ]
    },
    {
     "name": "stderr",
     "output_type": "stream",
     "text": [
      "100%|██████████████████████████████████████████████████████████████████████| 12/12 [00:28<00:00,  2.40s/it, loss=0.602]\n",
      "100%|████████████████████████████████████████████████████████████████████████| 4/4 [00:02<00:00,  1.94it/s, loss=0.706]\n"
     ]
    },
    {
     "name": "stdout",
     "output_type": "stream",
     "text": [
      "Epoch 42/99\n",
      "----------\n",
      "Train Loss: 0.6055, Val Loss: 0.7112\n",
      "\n"
     ]
    },
    {
     "name": "stderr",
     "output_type": "stream",
     "text": [
      "100%|██████████████████████████████████████████████████████████████████████| 12/12 [00:29<00:00,  2.48s/it, loss=0.632]\n",
      "100%|████████████████████████████████████████████████████████████████████████| 4/4 [00:02<00:00,  1.93it/s, loss=0.733]\n"
     ]
    },
    {
     "name": "stdout",
     "output_type": "stream",
     "text": [
      "Epoch 43/99\n",
      "----------\n",
      "Train Loss: 0.6071, Val Loss: 0.7348\n",
      "\n"
     ]
    },
    {
     "name": "stderr",
     "output_type": "stream",
     "text": [
      "100%|██████████████████████████████████████████████████████████████████████| 12/12 [00:29<00:00,  2.47s/it, loss=0.604]\n",
      "100%|████████████████████████████████████████████████████████████████████████| 4/4 [00:02<00:00,  1.93it/s, loss=0.723]\n"
     ]
    },
    {
     "name": "stdout",
     "output_type": "stream",
     "text": [
      "Epoch 44/99\n",
      "----------\n",
      "Train Loss: 0.6111, Val Loss: 0.7232\n",
      "\n"
     ]
    },
    {
     "name": "stderr",
     "output_type": "stream",
     "text": [
      "100%|██████████████████████████████████████████████████████████████████████| 12/12 [00:30<00:00,  2.52s/it, loss=0.616]\n",
      "100%|████████████████████████████████████████████████████████████████████████| 4/4 [00:02<00:00,  1.91it/s, loss=0.722]\n"
     ]
    },
    {
     "name": "stdout",
     "output_type": "stream",
     "text": [
      "Epoch 45/99\n",
      "----------\n",
      "Train Loss: 0.6094, Val Loss: 0.7246\n",
      "\n"
     ]
    },
    {
     "name": "stderr",
     "output_type": "stream",
     "text": [
      "100%|██████████████████████████████████████████████████████████████████████| 12/12 [00:30<00:00,  2.53s/it, loss=0.614]\n",
      "100%|████████████████████████████████████████████████████████████████████████| 4/4 [00:02<00:00,  1.86it/s, loss=0.714]\n"
     ]
    },
    {
     "name": "stdout",
     "output_type": "stream",
     "text": [
      "Epoch 46/99\n",
      "----------\n",
      "Train Loss: 0.6065, Val Loss: 0.7200\n",
      "\n"
     ]
    },
    {
     "name": "stderr",
     "output_type": "stream",
     "text": [
      "100%|██████████████████████████████████████████████████████████████████████| 12/12 [00:30<00:00,  2.51s/it, loss=0.611]\n",
      "100%|████████████████████████████████████████████████████████████████████████| 4/4 [00:02<00:00,  1.88it/s, loss=0.724]\n"
     ]
    },
    {
     "name": "stdout",
     "output_type": "stream",
     "text": [
      "Epoch 47/99\n",
      "----------\n",
      "Train Loss: 0.6016, Val Loss: 0.7157\n",
      "\n"
     ]
    },
    {
     "name": "stderr",
     "output_type": "stream",
     "text": [
      "100%|██████████████████████████████████████████████████████████████████████| 12/12 [00:30<00:00,  2.51s/it, loss=0.565]\n",
      "100%|████████████████████████████████████████████████████████████████████████| 4/4 [00:02<00:00,  1.87it/s, loss=0.701]\n"
     ]
    },
    {
     "name": "stdout",
     "output_type": "stream",
     "text": [
      "Epoch 48/99\n",
      "----------\n",
      "Train Loss: 0.5986, Val Loss: 0.7049\n",
      "✅ Best model saved! (Val Loss: 0.7049239128828049)\n",
      "\n"
     ]
    },
    {
     "name": "stderr",
     "output_type": "stream",
     "text": [
      "100%|██████████████████████████████████████████████████████████████████████| 12/12 [00:29<00:00,  2.45s/it, loss=0.612]\n",
      "100%|████████████████████████████████████████████████████████████████████████| 4/4 [00:02<00:00,  1.89it/s, loss=0.717]\n"
     ]
    },
    {
     "name": "stdout",
     "output_type": "stream",
     "text": [
      "Epoch 49/99\n",
      "----------\n",
      "Train Loss: 0.6016, Val Loss: 0.7161\n",
      "\n"
     ]
    },
    {
     "name": "stderr",
     "output_type": "stream",
     "text": [
      "100%|██████████████████████████████████████████████████████████████████████| 12/12 [00:28<00:00,  2.35s/it, loss=0.619]\n",
      "100%|████████████████████████████████████████████████████████████████████████| 4/4 [00:02<00:00,  1.91it/s, loss=0.733]\n"
     ]
    },
    {
     "name": "stdout",
     "output_type": "stream",
     "text": [
      "Epoch 50/99\n",
      "----------\n",
      "Train Loss: 0.6021, Val Loss: 0.7238\n",
      "\n"
     ]
    },
    {
     "name": "stderr",
     "output_type": "stream",
     "text": [
      "100%|██████████████████████████████████████████████████████████████████████| 12/12 [00:28<00:00,  2.41s/it, loss=0.573]\n",
      "100%|████████████████████████████████████████████████████████████████████████| 4/4 [00:02<00:00,  1.89it/s, loss=0.714]\n"
     ]
    },
    {
     "name": "stdout",
     "output_type": "stream",
     "text": [
      "Epoch 51/99\n",
      "----------\n",
      "Train Loss: 0.6013, Val Loss: 0.7136\n",
      "\n"
     ]
    },
    {
     "name": "stderr",
     "output_type": "stream",
     "text": [
      "100%|██████████████████████████████████████████████████████████████████████| 12/12 [00:29<00:00,  2.47s/it, loss=0.612]\n",
      "100%|████████████████████████████████████████████████████████████████████████| 4/4 [00:02<00:00,  1.93it/s, loss=0.709]\n"
     ]
    },
    {
     "name": "stdout",
     "output_type": "stream",
     "text": [
      "Epoch 52/99\n",
      "----------\n",
      "Train Loss: 0.5995, Val Loss: 0.7137\n",
      "\n"
     ]
    },
    {
     "name": "stderr",
     "output_type": "stream",
     "text": [
      "100%|██████████████████████████████████████████████████████████████████████| 12/12 [00:28<00:00,  2.41s/it, loss=0.584]\n",
      "100%|████████████████████████████████████████████████████████████████████████| 4/4 [00:02<00:00,  1.99it/s, loss=0.718]\n"
     ]
    },
    {
     "name": "stdout",
     "output_type": "stream",
     "text": [
      "Epoch 53/99\n",
      "----------\n",
      "Train Loss: 0.5973, Val Loss: 0.7173\n",
      "\n"
     ]
    },
    {
     "name": "stderr",
     "output_type": "stream",
     "text": [
      "100%|██████████████████████████████████████████████████████████████████████| 12/12 [00:29<00:00,  2.45s/it, loss=0.577]\n",
      "100%|████████████████████████████████████████████████████████████████████████| 4/4 [00:02<00:00,  1.96it/s, loss=0.714]\n"
     ]
    },
    {
     "name": "stdout",
     "output_type": "stream",
     "text": [
      "Epoch 54/99\n",
      "----------\n",
      "Train Loss: 0.5930, Val Loss: 0.7138\n",
      "\n"
     ]
    },
    {
     "name": "stderr",
     "output_type": "stream",
     "text": [
      "100%|██████████████████████████████████████████████████████████████████████| 12/12 [00:29<00:00,  2.47s/it, loss=0.601]\n",
      "100%|████████████████████████████████████████████████████████████████████████| 4/4 [00:02<00:00,  1.91it/s, loss=0.738]\n"
     ]
    },
    {
     "name": "stdout",
     "output_type": "stream",
     "text": [
      "Epoch 55/99\n",
      "----------\n",
      "Train Loss: 0.5937, Val Loss: 0.7243\n",
      "\n"
     ]
    },
    {
     "name": "stderr",
     "output_type": "stream",
     "text": [
      "100%|██████████████████████████████████████████████████████████████████████| 12/12 [00:29<00:00,  2.44s/it, loss=0.604]\n",
      "100%|████████████████████████████████████████████████████████████████████████| 4/4 [00:02<00:00,  1.93it/s, loss=0.725]\n"
     ]
    },
    {
     "name": "stdout",
     "output_type": "stream",
     "text": [
      "Epoch 56/99\n",
      "----------\n",
      "Train Loss: 0.5940, Val Loss: 0.7191\n",
      "\n"
     ]
    },
    {
     "name": "stderr",
     "output_type": "stream",
     "text": [
      "100%|██████████████████████████████████████████████████████████████████████| 12/12 [00:28<00:00,  2.38s/it, loss=0.636]\n",
      "100%|████████████████████████████████████████████████████████████████████████| 4/4 [00:02<00:00,  1.95it/s, loss=0.744]\n"
     ]
    },
    {
     "name": "stdout",
     "output_type": "stream",
     "text": [
      "Epoch 57/99\n",
      "----------\n",
      "Train Loss: 0.6069, Val Loss: 0.7350\n",
      "\n"
     ]
    },
    {
     "name": "stderr",
     "output_type": "stream",
     "text": [
      "100%|██████████████████████████████████████████████████████████████████████| 12/12 [00:29<00:00,  2.44s/it, loss=0.607]\n",
      "100%|████████████████████████████████████████████████████████████████████████| 4/4 [00:02<00:00,  1.98it/s, loss=0.704]\n"
     ]
    },
    {
     "name": "stdout",
     "output_type": "stream",
     "text": [
      "Epoch 58/99\n",
      "----------\n",
      "Train Loss: 0.6025, Val Loss: 0.7122\n",
      "\n"
     ]
    },
    {
     "name": "stderr",
     "output_type": "stream",
     "text": [
      "100%|██████████████████████████████████████████████████████████████████████| 12/12 [00:29<00:00,  2.43s/it, loss=0.582]\n",
      "100%|████████████████████████████████████████████████████████████████████████| 4/4 [00:02<00:00,  1.97it/s, loss=0.703]\n"
     ]
    },
    {
     "name": "stdout",
     "output_type": "stream",
     "text": [
      "Epoch 59/99\n",
      "----------\n",
      "Train Loss: 0.5933, Val Loss: 0.7127\n",
      "\n"
     ]
    },
    {
     "name": "stderr",
     "output_type": "stream",
     "text": [
      "100%|██████████████████████████████████████████████████████████████████████| 12/12 [00:30<00:00,  2.56s/it, loss=0.582]\n",
      "100%|████████████████████████████████████████████████████████████████████████| 4/4 [00:02<00:00,  1.88it/s, loss=0.716]\n"
     ]
    },
    {
     "name": "stdout",
     "output_type": "stream",
     "text": [
      "Epoch 60/99\n",
      "----------\n",
      "Train Loss: 0.5965, Val Loss: 0.7291\n",
      "\n"
     ]
    },
    {
     "name": "stderr",
     "output_type": "stream",
     "text": [
      "100%|██████████████████████████████████████████████████████████████████████| 12/12 [00:31<00:00,  2.59s/it, loss=0.609]\n",
      "100%|████████████████████████████████████████████████████████████████████████| 4/4 [00:02<00:00,  1.87it/s, loss=0.718]\n"
     ]
    },
    {
     "name": "stdout",
     "output_type": "stream",
     "text": [
      "Epoch 61/99\n",
      "----------\n",
      "Train Loss: 0.5979, Val Loss: 0.7167\n",
      "\n"
     ]
    },
    {
     "name": "stderr",
     "output_type": "stream",
     "text": [
      "100%|██████████████████████████████████████████████████████████████████████| 12/12 [00:29<00:00,  2.48s/it, loss=0.592]\n",
      "100%|████████████████████████████████████████████████████████████████████████| 4/4 [00:02<00:00,  1.90it/s, loss=0.735]\n"
     ]
    },
    {
     "name": "stdout",
     "output_type": "stream",
     "text": [
      "Epoch 62/99\n",
      "----------\n",
      "Train Loss: 0.5950, Val Loss: 0.7253\n",
      "\n"
     ]
    },
    {
     "name": "stderr",
     "output_type": "stream",
     "text": [
      "100%|██████████████████████████████████████████████████████████████████████| 12/12 [00:29<00:00,  2.46s/it, loss=0.602]\n",
      "100%|████████████████████████████████████████████████████████████████████████| 4/4 [00:02<00:00,  1.94it/s, loss=0.713]\n"
     ]
    },
    {
     "name": "stdout",
     "output_type": "stream",
     "text": [
      "Epoch 63/99\n",
      "----------\n",
      "Train Loss: 0.5947, Val Loss: 0.7124\n",
      "\n"
     ]
    },
    {
     "name": "stderr",
     "output_type": "stream",
     "text": [
      "100%|██████████████████████████████████████████████████████████████████████| 12/12 [00:29<00:00,  2.45s/it, loss=0.565]\n",
      "100%|████████████████████████████████████████████████████████████████████████| 4/4 [00:02<00:00,  1.94it/s, loss=0.723]\n"
     ]
    },
    {
     "name": "stdout",
     "output_type": "stream",
     "text": [
      "Epoch 64/99\n",
      "----------\n",
      "Train Loss: 0.5907, Val Loss: 0.7252\n",
      "\n"
     ]
    },
    {
     "name": "stderr",
     "output_type": "stream",
     "text": [
      "100%|██████████████████████████████████████████████████████████████████████| 12/12 [00:29<00:00,  2.47s/it, loss=0.599]\n",
      "100%|█████████████████████████████████████████████████████████████████████████| 4/4 [00:02<00:00,  1.90it/s, loss=0.71]\n"
     ]
    },
    {
     "name": "stdout",
     "output_type": "stream",
     "text": [
      "Epoch 65/99\n",
      "----------\n",
      "Train Loss: 0.5981, Val Loss: 0.7193\n",
      "\n"
     ]
    },
    {
     "name": "stderr",
     "output_type": "stream",
     "text": [
      "100%|██████████████████████████████████████████████████████████████████████| 12/12 [00:30<00:00,  2.51s/it, loss=0.619]\n",
      "100%|████████████████████████████████████████████████████████████████████████| 4/4 [00:02<00:00,  1.90it/s, loss=0.728]\n"
     ]
    },
    {
     "name": "stdout",
     "output_type": "stream",
     "text": [
      "Epoch 66/99\n",
      "----------\n",
      "Train Loss: 0.6017, Val Loss: 0.7172\n",
      "\n"
     ]
    },
    {
     "name": "stderr",
     "output_type": "stream",
     "text": [
      "100%|██████████████████████████████████████████████████████████████████████| 12/12 [00:29<00:00,  2.44s/it, loss=0.591]\n",
      "100%|████████████████████████████████████████████████████████████████████████| 4/4 [00:02<00:00,  1.86it/s, loss=0.716]\n"
     ]
    },
    {
     "name": "stdout",
     "output_type": "stream",
     "text": [
      "Epoch 67/99\n",
      "----------\n",
      "Train Loss: 0.5962, Val Loss: 0.7207\n",
      "\n"
     ]
    },
    {
     "name": "stderr",
     "output_type": "stream",
     "text": [
      "100%|███████████████████████████████████████████████████████████████████████| 12/12 [00:29<00:00,  2.50s/it, loss=0.62]\n",
      "100%|████████████████████████████████████████████████████████████████████████| 4/4 [00:02<00:00,  1.90it/s, loss=0.722]\n"
     ]
    },
    {
     "name": "stdout",
     "output_type": "stream",
     "text": [
      "Epoch 68/99\n",
      "----------\n",
      "Train Loss: 0.5939, Val Loss: 0.7172\n",
      "\n"
     ]
    },
    {
     "name": "stderr",
     "output_type": "stream",
     "text": [
      "100%|██████████████████████████████████████████████████████████████████████| 12/12 [00:30<00:00,  2.54s/it, loss=0.602]\n",
      "100%|████████████████████████████████████████████████████████████████████████| 4/4 [00:02<00:00,  1.88it/s, loss=0.713]\n"
     ]
    },
    {
     "name": "stdout",
     "output_type": "stream",
     "text": [
      "Epoch 69/99\n",
      "----------\n",
      "Train Loss: 0.5881, Val Loss: 0.7087\n",
      "\n"
     ]
    },
    {
     "name": "stderr",
     "output_type": "stream",
     "text": [
      "100%|██████████████████████████████████████████████████████████████████████| 12/12 [00:30<00:00,  2.51s/it, loss=0.589]\n",
      "100%|████████████████████████████████████████████████████████████████████████| 4/4 [00:02<00:00,  1.93it/s, loss=0.713]\n"
     ]
    },
    {
     "name": "stdout",
     "output_type": "stream",
     "text": [
      "Epoch 70/99\n",
      "----------\n",
      "Train Loss: 0.5868, Val Loss: 0.7096\n",
      "\n"
     ]
    },
    {
     "name": "stderr",
     "output_type": "stream",
     "text": [
      "100%|██████████████████████████████████████████████████████████████████████| 12/12 [00:29<00:00,  2.47s/it, loss=0.607]\n",
      "100%|█████████████████████████████████████████████████████████████████████████| 4/4 [00:02<00:00,  1.93it/s, loss=0.71]\n"
     ]
    },
    {
     "name": "stdout",
     "output_type": "stream",
     "text": [
      "Epoch 71/99\n",
      "----------\n",
      "Train Loss: 0.5840, Val Loss: 0.7129\n",
      "\n"
     ]
    },
    {
     "name": "stderr",
     "output_type": "stream",
     "text": [
      "100%|██████████████████████████████████████████████████████████████████████| 12/12 [00:29<00:00,  2.49s/it, loss=0.635]\n",
      "100%|████████████████████████████████████████████████████████████████████████| 4/4 [00:02<00:00,  1.93it/s, loss=0.713]\n"
     ]
    },
    {
     "name": "stdout",
     "output_type": "stream",
     "text": [
      "Epoch 72/99\n",
      "----------\n",
      "Train Loss: 0.5899, Val Loss: 0.7218\n",
      "\n"
     ]
    },
    {
     "name": "stderr",
     "output_type": "stream",
     "text": [
      "100%|██████████████████████████████████████████████████████████████████████| 12/12 [00:30<00:00,  2.51s/it, loss=0.585]\n",
      "100%|████████████████████████████████████████████████████████████████████████| 4/4 [00:02<00:00,  1.93it/s, loss=0.729]\n"
     ]
    },
    {
     "name": "stdout",
     "output_type": "stream",
     "text": [
      "Epoch 73/99\n",
      "----------\n",
      "Train Loss: 0.5962, Val Loss: 0.7229\n",
      "\n"
     ]
    },
    {
     "name": "stderr",
     "output_type": "stream",
     "text": [
      "100%|██████████████████████████████████████████████████████████████████████| 12/12 [00:29<00:00,  2.46s/it, loss=0.606]\n",
      "100%|████████████████████████████████████████████████████████████████████████| 4/4 [00:02<00:00,  1.93it/s, loss=0.711]\n"
     ]
    },
    {
     "name": "stdout",
     "output_type": "stream",
     "text": [
      "Epoch 74/99\n",
      "----------\n",
      "Train Loss: 0.5928, Val Loss: 0.7130\n",
      "\n"
     ]
    },
    {
     "name": "stderr",
     "output_type": "stream",
     "text": [
      "100%|██████████████████████████████████████████████████████████████████████| 12/12 [00:30<00:00,  2.50s/it, loss=0.601]\n",
      "100%|████████████████████████████████████████████████████████████████████████| 4/4 [00:02<00:00,  1.88it/s, loss=0.717]\n"
     ]
    },
    {
     "name": "stdout",
     "output_type": "stream",
     "text": [
      "Epoch 75/99\n",
      "----------\n",
      "Train Loss: 0.5881, Val Loss: 0.7132\n",
      "\n"
     ]
    },
    {
     "name": "stderr",
     "output_type": "stream",
     "text": [
      "100%|██████████████████████████████████████████████████████████████████████| 12/12 [00:30<00:00,  2.54s/it, loss=0.611]\n",
      "100%|████████████████████████████████████████████████████████████████████████| 4/4 [00:02<00:00,  1.88it/s, loss=0.719]\n"
     ]
    },
    {
     "name": "stdout",
     "output_type": "stream",
     "text": [
      "Epoch 76/99\n",
      "----------\n",
      "Train Loss: 0.5855, Val Loss: 0.7101\n",
      "\n"
     ]
    },
    {
     "name": "stderr",
     "output_type": "stream",
     "text": [
      "100%|██████████████████████████████████████████████████████████████████████| 12/12 [00:29<00:00,  2.46s/it, loss=0.579]\n",
      "100%|████████████████████████████████████████████████████████████████████████| 4/4 [00:02<00:00,  1.90it/s, loss=0.712]\n"
     ]
    },
    {
     "name": "stdout",
     "output_type": "stream",
     "text": [
      "Epoch 77/99\n",
      "----------\n",
      "Train Loss: 0.5804, Val Loss: 0.7132\n",
      "\n"
     ]
    },
    {
     "name": "stderr",
     "output_type": "stream",
     "text": [
      "100%|██████████████████████████████████████████████████████████████████████| 12/12 [00:30<00:00,  2.54s/it, loss=0.611]\n",
      "100%|█████████████████████████████████████████████████████████████████████████| 4/4 [00:02<00:00,  1.91it/s, loss=0.71]\n"
     ]
    },
    {
     "name": "stdout",
     "output_type": "stream",
     "text": [
      "Epoch 78/99\n",
      "----------\n",
      "Train Loss: 0.5802, Val Loss: 0.7140\n",
      "\n"
     ]
    },
    {
     "name": "stderr",
     "output_type": "stream",
     "text": [
      "100%|██████████████████████████████████████████████████████████████████████| 12/12 [00:29<00:00,  2.49s/it, loss=0.579]\n",
      "100%|████████████████████████████████████████████████████████████████████████| 4/4 [00:02<00:00,  1.90it/s, loss=0.703]\n"
     ]
    },
    {
     "name": "stdout",
     "output_type": "stream",
     "text": [
      "Epoch 79/99\n",
      "----------\n",
      "Train Loss: 0.5769, Val Loss: 0.7069\n",
      "\n"
     ]
    },
    {
     "name": "stderr",
     "output_type": "stream",
     "text": [
      "100%|██████████████████████████████████████████████████████████████████████| 12/12 [00:30<00:00,  2.54s/it, loss=0.565]\n",
      "100%|████████████████████████████████████████████████████████████████████████| 4/4 [00:02<00:00,  1.91it/s, loss=0.713]\n"
     ]
    },
    {
     "name": "stdout",
     "output_type": "stream",
     "text": [
      "Epoch 80/99\n",
      "----------\n",
      "Train Loss: 0.5740, Val Loss: 0.7072\n",
      "\n"
     ]
    },
    {
     "name": "stderr",
     "output_type": "stream",
     "text": [
      "100%|██████████████████████████████████████████████████████████████████████| 12/12 [00:30<00:00,  2.51s/it, loss=0.567]\n",
      "100%|████████████████████████████████████████████████████████████████████████| 4/4 [00:02<00:00,  1.90it/s, loss=0.718]\n"
     ]
    },
    {
     "name": "stdout",
     "output_type": "stream",
     "text": [
      "Epoch 81/99\n",
      "----------\n",
      "Train Loss: 0.5749, Val Loss: 0.7196\n",
      "\n"
     ]
    },
    {
     "name": "stderr",
     "output_type": "stream",
     "text": [
      "100%|██████████████████████████████████████████████████████████████████████| 12/12 [00:30<00:00,  2.53s/it, loss=0.588]\n",
      "100%|████████████████████████████████████████████████████████████████████████| 4/4 [00:02<00:00,  1.90it/s, loss=0.719]\n"
     ]
    },
    {
     "name": "stdout",
     "output_type": "stream",
     "text": [
      "Epoch 82/99\n",
      "----------\n",
      "Train Loss: 0.5780, Val Loss: 0.7221\n",
      "\n"
     ]
    },
    {
     "name": "stderr",
     "output_type": "stream",
     "text": [
      "100%|██████████████████████████████████████████████████████████████████████| 12/12 [00:30<00:00,  2.52s/it, loss=0.563]\n",
      "100%|████████████████████████████████████████████████████████████████████████| 4/4 [00:02<00:00,  1.92it/s, loss=0.713]\n"
     ]
    },
    {
     "name": "stdout",
     "output_type": "stream",
     "text": [
      "Epoch 83/99\n",
      "----------\n",
      "Train Loss: 0.5795, Val Loss: 0.7111\n",
      "\n"
     ]
    },
    {
     "name": "stderr",
     "output_type": "stream",
     "text": [
      "100%|██████████████████████████████████████████████████████████████████████| 12/12 [00:29<00:00,  2.48s/it, loss=0.585]\n",
      "100%|████████████████████████████████████████████████████████████████████████| 4/4 [00:02<00:00,  1.92it/s, loss=0.713]\n"
     ]
    },
    {
     "name": "stdout",
     "output_type": "stream",
     "text": [
      "Epoch 84/99\n",
      "----------\n",
      "Train Loss: 0.5760, Val Loss: 0.7121\n",
      "\n"
     ]
    },
    {
     "name": "stderr",
     "output_type": "stream",
     "text": [
      "100%|██████████████████████████████████████████████████████████████████████| 12/12 [00:28<00:00,  2.38s/it, loss=0.606]\n",
      "100%|████████████████████████████████████████████████████████████████████████| 4/4 [00:02<00:00,  1.92it/s, loss=0.711]\n"
     ]
    },
    {
     "name": "stdout",
     "output_type": "stream",
     "text": [
      "Epoch 85/99\n",
      "----------\n",
      "Train Loss: 0.5795, Val Loss: 0.7185\n",
      "\n"
     ]
    },
    {
     "name": "stderr",
     "output_type": "stream",
     "text": [
      "100%|███████████████████████████████████████████████████████████████████████| 12/12 [00:30<00:00,  2.52s/it, loss=0.57]\n",
      "100%|████████████████████████████████████████████████████████████████████████| 4/4 [00:02<00:00,  1.91it/s, loss=0.682]\n"
     ]
    },
    {
     "name": "stdout",
     "output_type": "stream",
     "text": [
      "Epoch 86/99\n",
      "----------\n",
      "Train Loss: 0.5756, Val Loss: 0.6975\n",
      "✅ Best model saved! (Val Loss: 0.697456106543541)\n",
      "\n"
     ]
    },
    {
     "name": "stderr",
     "output_type": "stream",
     "text": [
      "100%|██████████████████████████████████████████████████████████████████████| 12/12 [00:29<00:00,  2.47s/it, loss=0.594]\n",
      "100%|████████████████████████████████████████████████████████████████████████| 4/4 [00:02<00:00,  1.90it/s, loss=0.717]\n"
     ]
    },
    {
     "name": "stdout",
     "output_type": "stream",
     "text": [
      "Epoch 87/99\n",
      "----------\n",
      "Train Loss: 0.5718, Val Loss: 0.7103\n",
      "\n"
     ]
    },
    {
     "name": "stderr",
     "output_type": "stream",
     "text": [
      "100%|██████████████████████████████████████████████████████████████████████| 12/12 [00:29<00:00,  2.48s/it, loss=0.577]\n",
      "100%|████████████████████████████████████████████████████████████████████████| 4/4 [00:02<00:00,  1.86it/s, loss=0.699]\n"
     ]
    },
    {
     "name": "stdout",
     "output_type": "stream",
     "text": [
      "Epoch 88/99\n",
      "----------\n",
      "Train Loss: 0.5694, Val Loss: 0.7029\n",
      "\n"
     ]
    },
    {
     "name": "stderr",
     "output_type": "stream",
     "text": [
      "100%|██████████████████████████████████████████████████████████████████████| 12/12 [00:29<00:00,  2.49s/it, loss=0.564]\n",
      "100%|█████████████████████████████████████████████████████████████████████████| 4/4 [00:02<00:00,  1.91it/s, loss=0.72]\n"
     ]
    },
    {
     "name": "stdout",
     "output_type": "stream",
     "text": [
      "Epoch 89/99\n",
      "----------\n",
      "Train Loss: 0.5675, Val Loss: 0.7105\n",
      "\n"
     ]
    },
    {
     "name": "stderr",
     "output_type": "stream",
     "text": [
      "100%|██████████████████████████████████████████████████████████████████████| 12/12 [00:30<00:00,  2.54s/it, loss=0.568]\n",
      "100%|████████████████████████████████████████████████████████████████████████| 4/4 [00:02<00:00,  1.86it/s, loss=0.727]\n"
     ]
    },
    {
     "name": "stdout",
     "output_type": "stream",
     "text": [
      "Epoch 90/99\n",
      "----------\n",
      "Train Loss: 0.5667, Val Loss: 0.7219\n",
      "\n"
     ]
    },
    {
     "name": "stderr",
     "output_type": "stream",
     "text": [
      "100%|██████████████████████████████████████████████████████████████████████| 12/12 [00:30<00:00,  2.52s/it, loss=0.571]\n",
      "100%|████████████████████████████████████████████████████████████████████████| 4/4 [00:02<00:00,  1.81it/s, loss=0.756]\n"
     ]
    },
    {
     "name": "stdout",
     "output_type": "stream",
     "text": [
      "Epoch 91/99\n",
      "----------\n",
      "Train Loss: 0.5738, Val Loss: 0.7533\n",
      "\n"
     ]
    },
    {
     "name": "stderr",
     "output_type": "stream",
     "text": [
      "100%|██████████████████████████████████████████████████████████████████████| 12/12 [00:29<00:00,  2.48s/it, loss=0.559]\n",
      "100%|████████████████████████████████████████████████████████████████████████| 4/4 [00:02<00:00,  1.94it/s, loss=0.722]\n"
     ]
    },
    {
     "name": "stdout",
     "output_type": "stream",
     "text": [
      "Epoch 92/99\n",
      "----------\n",
      "Train Loss: 0.5722, Val Loss: 0.7120\n",
      "\n"
     ]
    },
    {
     "name": "stderr",
     "output_type": "stream",
     "text": [
      "100%|██████████████████████████████████████████████████████████████████████| 12/12 [00:30<00:00,  2.52s/it, loss=0.588]\n",
      "100%|████████████████████████████████████████████████████████████████████████| 4/4 [00:02<00:00,  1.91it/s, loss=0.708]\n"
     ]
    },
    {
     "name": "stdout",
     "output_type": "stream",
     "text": [
      "Epoch 93/99\n",
      "----------\n",
      "Train Loss: 0.5708, Val Loss: 0.7091\n",
      "\n"
     ]
    },
    {
     "name": "stderr",
     "output_type": "stream",
     "text": [
      "100%|██████████████████████████████████████████████████████████████████████| 12/12 [00:29<00:00,  2.48s/it, loss=0.579]\n",
      "100%|████████████████████████████████████████████████████████████████████████| 4/4 [00:02<00:00,  1.89it/s, loss=0.714]\n"
     ]
    },
    {
     "name": "stdout",
     "output_type": "stream",
     "text": [
      "Epoch 94/99\n",
      "----------\n",
      "Train Loss: 0.5684, Val Loss: 0.7097\n",
      "\n"
     ]
    },
    {
     "name": "stderr",
     "output_type": "stream",
     "text": [
      "100%|██████████████████████████████████████████████████████████████████████| 12/12 [00:29<00:00,  2.49s/it, loss=0.574]\n",
      "100%|████████████████████████████████████████████████████████████████████████| 4/4 [00:02<00:00,  1.92it/s, loss=0.708]\n"
     ]
    },
    {
     "name": "stdout",
     "output_type": "stream",
     "text": [
      "Epoch 95/99\n",
      "----------\n",
      "Train Loss: 0.5645, Val Loss: 0.7070\n",
      "\n"
     ]
    },
    {
     "name": "stderr",
     "output_type": "stream",
     "text": [
      "100%|███████████████████████████████████████████████████████████████████████| 12/12 [00:29<00:00,  2.44s/it, loss=0.55]\n",
      "100%|████████████████████████████████████████████████████████████████████████| 4/4 [00:02<00:00,  1.94it/s, loss=0.716]\n"
     ]
    },
    {
     "name": "stdout",
     "output_type": "stream",
     "text": [
      "Epoch 96/99\n",
      "----------\n",
      "Train Loss: 0.5630, Val Loss: 0.7101\n",
      "\n"
     ]
    },
    {
     "name": "stderr",
     "output_type": "stream",
     "text": [
      "100%|██████████████████████████████████████████████████████████████████████| 12/12 [00:28<00:00,  2.41s/it, loss=0.561]\n",
      "100%|████████████████████████████████████████████████████████████████████████| 4/4 [00:02<00:00,  1.93it/s, loss=0.716]\n"
     ]
    },
    {
     "name": "stdout",
     "output_type": "stream",
     "text": [
      "Epoch 97/99\n",
      "----------\n",
      "Train Loss: 0.5656, Val Loss: 0.7097\n",
      "\n"
     ]
    },
    {
     "name": "stderr",
     "output_type": "stream",
     "text": [
      "100%|██████████████████████████████████████████████████████████████████████| 12/12 [00:28<00:00,  2.38s/it, loss=0.579]\n",
      "100%|████████████████████████████████████████████████████████████████████████| 4/4 [00:02<00:00,  1.94it/s, loss=0.709]\n"
     ]
    },
    {
     "name": "stdout",
     "output_type": "stream",
     "text": [
      "Epoch 98/99\n",
      "----------\n",
      "Train Loss: 0.5646, Val Loss: 0.7101\n",
      "\n"
     ]
    },
    {
     "name": "stderr",
     "output_type": "stream",
     "text": [
      "100%|███████████████████████████████████████████████████████████████████████| 12/12 [00:28<00:00,  2.35s/it, loss=0.56]\n",
      "100%|████████████████████████████████████████████████████████████████████████| 4/4 [00:02<00:00,  1.94it/s, loss=0.703]"
     ]
    },
    {
     "name": "stdout",
     "output_type": "stream",
     "text": [
      "Epoch 99/99\n",
      "----------\n",
      "Train Loss: 0.5615, Val Loss: 0.7071\n",
      "\n"
     ]
    },
    {
     "name": "stderr",
     "output_type": "stream",
     "text": [
      "\n"
     ]
    }
   ],
   "source": [
    "model, logs = train(train_dataloader, val_dataloader, model, loss_fn, optim, 100, log_freq=1, save_best_model=True, \n",
    "              best_model_name='best_model_dice.pth', last_model_name='last_model_dice.pth', save_path=MODEL_PATH)"
   ]
  },
  {
   "cell_type": "code",
   "execution_count": 16,
   "metadata": {},
   "outputs": [],
   "source": [
    "logs_df = pd.DataFrame(logs)\n",
    "logs_df.to_csv(os.path.join(MODEL_PATH, 'logs_dice.csv'), index=False)"
   ]
  },
  {
   "cell_type": "markdown",
   "metadata": {},
   "source": [
    "## Training with CrossEntropyLoss"
   ]
  },
  {
   "cell_type": "code",
   "execution_count": 17,
   "metadata": {},
   "outputs": [
    {
     "name": "stdout",
     "output_type": "stream",
     "text": [
      "12\n"
     ]
    }
   ],
   "source": [
    "model = UNET(in_channels=3, out_channels=len(labels_df))\n",
    "model.cuda()\n",
    "loss_fn = nn.CrossEntropyLoss()\n",
    "optim = torch.optim.Adam(model.parameters(), lr = 1e-3)\n",
    "print(model.out_channels)"
   ]
  },
  {
   "cell_type": "code",
   "execution_count": 18,
   "metadata": {},
   "outputs": [
    {
     "name": "stderr",
     "output_type": "stream",
     "text": [
      "100%|████████████████████████████████████████████████████████████████████████| 12/12 [00:30<00:00,  2.51s/it, loss=1.4]\n",
      "100%|█████████████████████████████████████████████████████████████████████████| 4/4 [00:02<00:00,  1.93it/s, loss=2.86]\n"
     ]
    },
    {
     "name": "stdout",
     "output_type": "stream",
     "text": [
      "Epoch 0/99\n",
      "----------\n",
      "Train Loss: 1.7162, Val Loss: 2.8588\n",
      "✅ Best model saved! (Val Loss: 2.8588353991508484)\n",
      "\n"
     ]
    },
    {
     "name": "stderr",
     "output_type": "stream",
     "text": [
      "100%|███████████████████████████████████████████████████████████████████████| 12/12 [00:29<00:00,  2.43s/it, loss=1.11]\n",
      "100%|█████████████████████████████████████████████████████████████████████████| 4/4 [00:02<00:00,  1.96it/s, loss=2.23]\n"
     ]
    },
    {
     "name": "stdout",
     "output_type": "stream",
     "text": [
      "Epoch 1/99\n",
      "----------\n",
      "Train Loss: 1.2231, Val Loss: 2.3103\n",
      "✅ Best model saved! (Val Loss: 2.3103461861610413)\n",
      "\n"
     ]
    },
    {
     "name": "stderr",
     "output_type": "stream",
     "text": [
      "100%|███████████████████████████████████████████████████████████████████████| 12/12 [00:29<00:00,  2.44s/it, loss=1.06]\n",
      "100%|█████████████████████████████████████████████████████████████████████████| 4/4 [00:02<00:00,  1.97it/s, loss=1.25]\n"
     ]
    },
    {
     "name": "stdout",
     "output_type": "stream",
     "text": [
      "Epoch 2/99\n",
      "----------\n",
      "Train Loss: 1.0063, Val Loss: 1.2532\n",
      "✅ Best model saved! (Val Loss: 1.2531730830669403)\n",
      "\n"
     ]
    },
    {
     "name": "stderr",
     "output_type": "stream",
     "text": [
      "100%|██████████████████████████████████████████████████████████████████████| 12/12 [00:29<00:00,  2.42s/it, loss=0.753]\n",
      "100%|█████████████████████████████████████████████████████████████████████████| 4/4 [00:02<00:00,  1.98it/s, loss=1.18]\n"
     ]
    },
    {
     "name": "stdout",
     "output_type": "stream",
     "text": [
      "Epoch 3/99\n",
      "----------\n",
      "Train Loss: 0.8494, Val Loss: 1.1878\n",
      "✅ Best model saved! (Val Loss: 1.1877586841583252)\n",
      "\n"
     ]
    },
    {
     "name": "stderr",
     "output_type": "stream",
     "text": [
      "100%|██████████████████████████████████████████████████████████████████████| 12/12 [00:29<00:00,  2.43s/it, loss=0.701]\n",
      "100%|████████████████████████████████████████████████████████████████████████| 4/4 [00:02<00:00,  1.99it/s, loss=0.882]\n"
     ]
    },
    {
     "name": "stdout",
     "output_type": "stream",
     "text": [
      "Epoch 4/99\n",
      "----------\n",
      "Train Loss: 0.7523, Val Loss: 0.8597\n",
      "✅ Best model saved! (Val Loss: 0.8597245663404465)\n",
      "\n"
     ]
    },
    {
     "name": "stderr",
     "output_type": "stream",
     "text": [
      "100%|██████████████████████████████████████████████████████████████████████| 12/12 [00:29<00:00,  2.43s/it, loss=0.701]\n",
      "100%|████████████████████████████████████████████████████████████████████████| 4/4 [00:02<00:00,  1.98it/s, loss=0.894]\n"
     ]
    },
    {
     "name": "stdout",
     "output_type": "stream",
     "text": [
      "Epoch 5/99\n",
      "----------\n",
      "Train Loss: 0.7040, Val Loss: 0.9350\n",
      "\n"
     ]
    },
    {
     "name": "stderr",
     "output_type": "stream",
     "text": [
      "100%|██████████████████████████████████████████████████████████████████████| 12/12 [00:29<00:00,  2.43s/it, loss=0.617]\n",
      "100%|████████████████████████████████████████████████████████████████████████| 4/4 [00:02<00:00,  1.87it/s, loss=0.994]\n"
     ]
    },
    {
     "name": "stdout",
     "output_type": "stream",
     "text": [
      "Epoch 6/99\n",
      "----------\n",
      "Train Loss: 0.6474, Val Loss: 0.9999\n",
      "\n"
     ]
    },
    {
     "name": "stderr",
     "output_type": "stream",
     "text": [
      "100%|██████████████████████████████████████████████████████████████████████| 12/12 [00:29<00:00,  2.45s/it, loss=0.612]\n",
      "100%|████████████████████████████████████████████████████████████████████████| 4/4 [00:02<00:00,  1.98it/s, loss=0.826]\n"
     ]
    },
    {
     "name": "stdout",
     "output_type": "stream",
     "text": [
      "Epoch 7/99\n",
      "----------\n",
      "Train Loss: 0.6081, Val Loss: 0.7937\n",
      "✅ Best model saved! (Val Loss: 0.7936612963676453)\n",
      "\n"
     ]
    },
    {
     "name": "stderr",
     "output_type": "stream",
     "text": [
      "100%|██████████████████████████████████████████████████████████████████████| 12/12 [00:29<00:00,  2.44s/it, loss=0.502]\n",
      "100%|████████████████████████████████████████████████████████████████████████| 4/4 [00:02<00:00,  1.98it/s, loss=0.728]\n"
     ]
    },
    {
     "name": "stdout",
     "output_type": "stream",
     "text": [
      "Epoch 8/99\n",
      "----------\n",
      "Train Loss: 0.5719, Val Loss: 0.7474\n",
      "✅ Best model saved! (Val Loss: 0.7473895102739334)\n",
      "\n"
     ]
    },
    {
     "name": "stderr",
     "output_type": "stream",
     "text": [
      "100%|██████████████████████████████████████████████████████████████████████| 12/12 [00:29<00:00,  2.45s/it, loss=0.531]\n",
      "100%|████████████████████████████████████████████████████████████████████████| 4/4 [00:02<00:00,  1.90it/s, loss=0.639]\n"
     ]
    },
    {
     "name": "stdout",
     "output_type": "stream",
     "text": [
      "Epoch 9/99\n",
      "----------\n",
      "Train Loss: 0.5424, Val Loss: 0.6048\n",
      "✅ Best model saved! (Val Loss: 0.6048481464385986)\n",
      "\n"
     ]
    },
    {
     "name": "stderr",
     "output_type": "stream",
     "text": [
      "100%|██████████████████████████████████████████████████████████████████████| 12/12 [00:29<00:00,  2.43s/it, loss=0.549]\n",
      "100%|████████████████████████████████████████████████████████████████████████| 4/4 [00:02<00:00,  1.95it/s, loss=0.589]\n"
     ]
    },
    {
     "name": "stdout",
     "output_type": "stream",
     "text": [
      "Epoch 10/99\n",
      "----------\n",
      "Train Loss: 0.5322, Val Loss: 0.5704\n",
      "✅ Best model saved! (Val Loss: 0.5704465806484222)\n",
      "\n"
     ]
    },
    {
     "name": "stderr",
     "output_type": "stream",
     "text": [
      "100%|██████████████████████████████████████████████████████████████████████| 12/12 [00:29<00:00,  2.45s/it, loss=0.607]\n",
      "100%|█████████████████████████████████████████████████████████████████████████| 4/4 [00:02<00:00,  1.95it/s, loss=0.61]\n"
     ]
    },
    {
     "name": "stdout",
     "output_type": "stream",
     "text": [
      "Epoch 11/99\n",
      "----------\n",
      "Train Loss: 0.5289, Val Loss: 0.5938\n",
      "\n"
     ]
    },
    {
     "name": "stderr",
     "output_type": "stream",
     "text": [
      "100%|██████████████████████████████████████████████████████████████████████| 12/12 [00:29<00:00,  2.44s/it, loss=0.521]\n",
      "100%|█████████████████████████████████████████████████████████████████████████| 4/4 [00:02<00:00,  1.98it/s, loss=0.69]\n"
     ]
    },
    {
     "name": "stdout",
     "output_type": "stream",
     "text": [
      "Epoch 12/99\n",
      "----------\n",
      "Train Loss: 0.5172, Val Loss: 0.6540\n",
      "\n"
     ]
    },
    {
     "name": "stderr",
     "output_type": "stream",
     "text": [
      "100%|██████████████████████████████████████████████████████████████████████| 12/12 [00:29<00:00,  2.43s/it, loss=0.476]\n",
      "100%|████████████████████████████████████████████████████████████████████████| 4/4 [00:02<00:00,  1.96it/s, loss=0.769]\n"
     ]
    },
    {
     "name": "stdout",
     "output_type": "stream",
     "text": [
      "Epoch 13/99\n",
      "----------\n",
      "Train Loss: 0.4902, Val Loss: 0.7636\n",
      "\n"
     ]
    },
    {
     "name": "stderr",
     "output_type": "stream",
     "text": [
      "100%|██████████████████████████████████████████████████████████████████████| 12/12 [00:28<00:00,  2.41s/it, loss=0.466]\n",
      "100%|████████████████████████████████████████████████████████████████████████| 4/4 [00:01<00:00,  2.01it/s, loss=0.561]\n"
     ]
    },
    {
     "name": "stdout",
     "output_type": "stream",
     "text": [
      "Epoch 14/99\n",
      "----------\n",
      "Train Loss: 0.4729, Val Loss: 0.5462\n",
      "✅ Best model saved! (Val Loss: 0.5462116748094559)\n",
      "\n"
     ]
    },
    {
     "name": "stderr",
     "output_type": "stream",
     "text": [
      "100%|██████████████████████████████████████████████████████████████████████| 12/12 [00:29<00:00,  2.43s/it, loss=0.483]\n",
      "100%|████████████████████████████████████████████████████████████████████████| 4/4 [00:02<00:00,  1.99it/s, loss=0.582]\n"
     ]
    },
    {
     "name": "stdout",
     "output_type": "stream",
     "text": [
      "Epoch 15/99\n",
      "----------\n",
      "Train Loss: 0.4523, Val Loss: 0.5287\n",
      "✅ Best model saved! (Val Loss: 0.5286679267883301)\n",
      "\n"
     ]
    },
    {
     "name": "stderr",
     "output_type": "stream",
     "text": [
      "100%|██████████████████████████████████████████████████████████████████████| 12/12 [00:28<00:00,  2.41s/it, loss=0.461]\n",
      "100%|████████████████████████████████████████████████████████████████████████| 4/4 [00:02<00:00,  1.98it/s, loss=0.916]\n"
     ]
    },
    {
     "name": "stdout",
     "output_type": "stream",
     "text": [
      "Epoch 16/99\n",
      "----------\n",
      "Train Loss: 0.4430, Val Loss: 0.9161\n",
      "\n"
     ]
    },
    {
     "name": "stderr",
     "output_type": "stream",
     "text": [
      "100%|██████████████████████████████████████████████████████████████████████| 12/12 [00:28<00:00,  2.41s/it, loss=0.401]\n",
      "100%|████████████████████████████████████████████████████████████████████████| 4/4 [00:02<00:00,  1.99it/s, loss=0.441]\n"
     ]
    },
    {
     "name": "stdout",
     "output_type": "stream",
     "text": [
      "Epoch 17/99\n",
      "----------\n",
      "Train Loss: 0.4433, Val Loss: 0.4500\n",
      "✅ Best model saved! (Val Loss: 0.4500012621283531)\n",
      "\n"
     ]
    },
    {
     "name": "stderr",
     "output_type": "stream",
     "text": [
      "100%|██████████████████████████████████████████████████████████████████████| 12/12 [00:28<00:00,  2.41s/it, loss=0.446]\n",
      "100%|█████████████████████████████████████████████████████████████████████████| 4/4 [00:02<00:00,  1.97it/s, loss=0.48]\n"
     ]
    },
    {
     "name": "stdout",
     "output_type": "stream",
     "text": [
      "Epoch 18/99\n",
      "----------\n",
      "Train Loss: 0.4308, Val Loss: 0.5178\n",
      "\n"
     ]
    },
    {
     "name": "stderr",
     "output_type": "stream",
     "text": [
      "100%|███████████████████████████████████████████████████████████████████████| 12/12 [00:28<00:00,  2.42s/it, loss=0.51]\n",
      "100%|████████████████████████████████████████████████████████████████████████| 4/4 [00:01<00:00,  2.02it/s, loss=0.704]\n"
     ]
    },
    {
     "name": "stdout",
     "output_type": "stream",
     "text": [
      "Epoch 19/99\n",
      "----------\n",
      "Train Loss: 0.4305, Val Loss: 0.6897\n",
      "\n"
     ]
    },
    {
     "name": "stderr",
     "output_type": "stream",
     "text": [
      "100%|██████████████████████████████████████████████████████████████████████| 12/12 [00:29<00:00,  2.42s/it, loss=0.454]\n",
      "100%|████████████████████████████████████████████████████████████████████████| 4/4 [00:01<00:00,  2.02it/s, loss=0.459]\n"
     ]
    },
    {
     "name": "stdout",
     "output_type": "stream",
     "text": [
      "Epoch 20/99\n",
      "----------\n",
      "Train Loss: 0.4110, Val Loss: 0.4715\n",
      "\n"
     ]
    },
    {
     "name": "stderr",
     "output_type": "stream",
     "text": [
      "100%|██████████████████████████████████████████████████████████████████████| 12/12 [00:29<00:00,  2.43s/it, loss=0.454]\n",
      "100%|████████████████████████████████████████████████████████████████████████| 4/4 [00:02<00:00,  1.98it/s, loss=0.445]\n"
     ]
    },
    {
     "name": "stdout",
     "output_type": "stream",
     "text": [
      "Epoch 21/99\n",
      "----------\n",
      "Train Loss: 0.4054, Val Loss: 0.4632\n",
      "\n"
     ]
    },
    {
     "name": "stderr",
     "output_type": "stream",
     "text": [
      "100%|███████████████████████████████████████████████████████████████████████| 12/12 [00:29<00:00,  2.42s/it, loss=0.41]\n",
      "100%|████████████████████████████████████████████████████████████████████████| 4/4 [00:01<00:00,  2.04it/s, loss=0.796]\n"
     ]
    },
    {
     "name": "stdout",
     "output_type": "stream",
     "text": [
      "Epoch 22/99\n",
      "----------\n",
      "Train Loss: 0.4141, Val Loss: 0.7808\n",
      "\n"
     ]
    },
    {
     "name": "stderr",
     "output_type": "stream",
     "text": [
      "100%|██████████████████████████████████████████████████████████████████████| 12/12 [00:29<00:00,  2.43s/it, loss=0.352]\n",
      "100%|████████████████████████████████████████████████████████████████████████| 4/4 [00:02<00:00,  1.92it/s, loss=0.479]\n"
     ]
    },
    {
     "name": "stdout",
     "output_type": "stream",
     "text": [
      "Epoch 23/99\n",
      "----------\n",
      "Train Loss: 0.4003, Val Loss: 0.4489\n",
      "✅ Best model saved! (Val Loss: 0.4488525316119194)\n",
      "\n"
     ]
    },
    {
     "name": "stderr",
     "output_type": "stream",
     "text": [
      "100%|██████████████████████████████████████████████████████████████████████| 12/12 [00:29<00:00,  2.43s/it, loss=0.378]\n",
      "100%|█████████████████████████████████████████████████████████████████████████| 4/4 [00:02<00:00,  1.99it/s, loss=0.66]\n"
     ]
    },
    {
     "name": "stdout",
     "output_type": "stream",
     "text": [
      "Epoch 24/99\n",
      "----------\n",
      "Train Loss: 0.3862, Val Loss: 0.7001\n",
      "\n"
     ]
    },
    {
     "name": "stderr",
     "output_type": "stream",
     "text": [
      "100%|██████████████████████████████████████████████████████████████████████| 12/12 [00:29<00:00,  2.43s/it, loss=0.298]\n",
      "100%|█████████████████████████████████████████████████████████████████████████| 4/4 [00:02<00:00,  1.93it/s, loss=0.43]\n"
     ]
    },
    {
     "name": "stdout",
     "output_type": "stream",
     "text": [
      "Epoch 25/99\n",
      "----------\n",
      "Train Loss: 0.3617, Val Loss: 0.4257\n",
      "✅ Best model saved! (Val Loss: 0.425739124417305)\n",
      "\n"
     ]
    },
    {
     "name": "stderr",
     "output_type": "stream",
     "text": [
      "100%|██████████████████████████████████████████████████████████████████████| 12/12 [00:29<00:00,  2.44s/it, loss=0.353]\n",
      "100%|████████████████████████████████████████████████████████████████████████| 4/4 [00:02<00:00,  1.96it/s, loss=0.398]\n"
     ]
    },
    {
     "name": "stdout",
     "output_type": "stream",
     "text": [
      "Epoch 26/99\n",
      "----------\n",
      "Train Loss: 0.3611, Val Loss: 0.3828\n",
      "✅ Best model saved! (Val Loss: 0.3828485831618309)\n",
      "\n"
     ]
    },
    {
     "name": "stderr",
     "output_type": "stream",
     "text": [
      "100%|██████████████████████████████████████████████████████████████████████| 12/12 [00:29<00:00,  2.46s/it, loss=0.345]\n",
      "100%|████████████████████████████████████████████████████████████████████████| 4/4 [00:02<00:00,  2.00it/s, loss=0.431]\n"
     ]
    },
    {
     "name": "stdout",
     "output_type": "stream",
     "text": [
      "Epoch 27/99\n",
      "----------\n",
      "Train Loss: 0.3611, Val Loss: 0.4105\n",
      "\n"
     ]
    },
    {
     "name": "stderr",
     "output_type": "stream",
     "text": [
      "100%|██████████████████████████████████████████████████████████████████████| 12/12 [00:29<00:00,  2.43s/it, loss=0.341]\n",
      "100%|████████████████████████████████████████████████████████████████████████| 4/4 [00:02<00:00,  1.96it/s, loss=0.354]\n"
     ]
    },
    {
     "name": "stdout",
     "output_type": "stream",
     "text": [
      "Epoch 28/99\n",
      "----------\n",
      "Train Loss: 0.3493, Val Loss: 0.3948\n",
      "\n"
     ]
    },
    {
     "name": "stderr",
     "output_type": "stream",
     "text": [
      "100%|██████████████████████████████████████████████████████████████████████| 12/12 [00:29<00:00,  2.43s/it, loss=0.408]\n",
      "100%|████████████████████████████████████████████████████████████████████████| 4/4 [00:02<00:00,  1.97it/s, loss=0.414]\n"
     ]
    },
    {
     "name": "stdout",
     "output_type": "stream",
     "text": [
      "Epoch 29/99\n",
      "----------\n",
      "Train Loss: 0.3461, Val Loss: 0.4192\n",
      "\n"
     ]
    },
    {
     "name": "stderr",
     "output_type": "stream",
     "text": [
      "100%|██████████████████████████████████████████████████████████████████████| 12/12 [00:29<00:00,  2.43s/it, loss=0.447]\n",
      "100%|████████████████████████████████████████████████████████████████████████| 4/4 [00:02<00:00,  1.91it/s, loss=0.495]\n"
     ]
    },
    {
     "name": "stdout",
     "output_type": "stream",
     "text": [
      "Epoch 30/99\n",
      "----------\n",
      "Train Loss: 0.3564, Val Loss: 0.5022\n",
      "\n"
     ]
    },
    {
     "name": "stderr",
     "output_type": "stream",
     "text": [
      "100%|██████████████████████████████████████████████████████████████████████| 12/12 [00:29<00:00,  2.48s/it, loss=0.382]\n",
      "100%|████████████████████████████████████████████████████████████████████████| 4/4 [00:02<00:00,  1.91it/s, loss=0.451]\n"
     ]
    },
    {
     "name": "stdout",
     "output_type": "stream",
     "text": [
      "Epoch 31/99\n",
      "----------\n",
      "Train Loss: 0.3384, Val Loss: 0.4559\n",
      "\n"
     ]
    },
    {
     "name": "stderr",
     "output_type": "stream",
     "text": [
      "100%|██████████████████████████████████████████████████████████████████████| 12/12 [00:29<00:00,  2.49s/it, loss=0.364]\n",
      "100%|████████████████████████████████████████████████████████████████████████| 4/4 [00:02<00:00,  1.93it/s, loss=0.379]\n"
     ]
    },
    {
     "name": "stdout",
     "output_type": "stream",
     "text": [
      "Epoch 32/99\n",
      "----------\n",
      "Train Loss: 0.3240, Val Loss: 0.3696\n",
      "✅ Best model saved! (Val Loss: 0.36957787722349167)\n",
      "\n"
     ]
    },
    {
     "name": "stderr",
     "output_type": "stream",
     "text": [
      "100%|███████████████████████████████████████████████████████████████████████| 12/12 [00:29<00:00,  2.47s/it, loss=0.34]\n",
      "100%|█████████████████████████████████████████████████████████████████████████| 4/4 [00:02<00:00,  1.99it/s, loss=0.42]\n"
     ]
    },
    {
     "name": "stdout",
     "output_type": "stream",
     "text": [
      "Epoch 33/99\n",
      "----------\n",
      "Train Loss: 0.3214, Val Loss: 0.4014\n",
      "\n"
     ]
    },
    {
     "name": "stderr",
     "output_type": "stream",
     "text": [
      "100%|██████████████████████████████████████████████████████████████████████| 12/12 [00:29<00:00,  2.44s/it, loss=0.323]\n",
      "100%|████████████████████████████████████████████████████████████████████████| 4/4 [00:02<00:00,  1.98it/s, loss=0.379]\n"
     ]
    },
    {
     "name": "stdout",
     "output_type": "stream",
     "text": [
      "Epoch 34/99\n",
      "----------\n",
      "Train Loss: 0.3154, Val Loss: 0.3666\n",
      "✅ Best model saved! (Val Loss: 0.3666262552142143)\n",
      "\n"
     ]
    },
    {
     "name": "stderr",
     "output_type": "stream",
     "text": [
      "100%|██████████████████████████████████████████████████████████████████████| 12/12 [00:29<00:00,  2.44s/it, loss=0.284]\n",
      "100%|████████████████████████████████████████████████████████████████████████| 4/4 [00:02<00:00,  1.99it/s, loss=0.397]\n"
     ]
    },
    {
     "name": "stdout",
     "output_type": "stream",
     "text": [
      "Epoch 35/99\n",
      "----------\n",
      "Train Loss: 0.3091, Val Loss: 0.3940\n",
      "\n"
     ]
    },
    {
     "name": "stderr",
     "output_type": "stream",
     "text": [
      "100%|██████████████████████████████████████████████████████████████████████| 12/12 [00:29<00:00,  2.47s/it, loss=0.297]\n",
      "100%|████████████████████████████████████████████████████████████████████████| 4/4 [00:01<00:00,  2.01it/s, loss=0.406]\n"
     ]
    },
    {
     "name": "stdout",
     "output_type": "stream",
     "text": [
      "Epoch 36/99\n",
      "----------\n",
      "Train Loss: 0.3033, Val Loss: 0.3829\n",
      "\n"
     ]
    },
    {
     "name": "stderr",
     "output_type": "stream",
     "text": [
      "100%|██████████████████████████████████████████████████████████████████████| 12/12 [00:29<00:00,  2.44s/it, loss=0.326]\n",
      "100%|████████████████████████████████████████████████████████████████████████| 4/4 [00:02<00:00,  1.94it/s, loss=0.394]\n"
     ]
    },
    {
     "name": "stdout",
     "output_type": "stream",
     "text": [
      "Epoch 37/99\n",
      "----------\n",
      "Train Loss: 0.2964, Val Loss: 0.3863\n",
      "\n"
     ]
    },
    {
     "name": "stderr",
     "output_type": "stream",
     "text": [
      "100%|██████████████████████████████████████████████████████████████████████| 12/12 [00:29<00:00,  2.45s/it, loss=0.303]\n",
      "100%|████████████████████████████████████████████████████████████████████████| 4/4 [00:02<00:00,  1.95it/s, loss=0.336]\n"
     ]
    },
    {
     "name": "stdout",
     "output_type": "stream",
     "text": [
      "Epoch 38/99\n",
      "----------\n",
      "Train Loss: 0.2922, Val Loss: 0.3360\n",
      "✅ Best model saved! (Val Loss: 0.33601343631744385)\n",
      "\n"
     ]
    },
    {
     "name": "stderr",
     "output_type": "stream",
     "text": [
      "100%|██████████████████████████████████████████████████████████████████████| 12/12 [00:29<00:00,  2.45s/it, loss=0.271]\n",
      "100%|████████████████████████████████████████████████████████████████████████| 4/4 [00:02<00:00,  2.00it/s, loss=0.417]\n"
     ]
    },
    {
     "name": "stdout",
     "output_type": "stream",
     "text": [
      "Epoch 39/99\n",
      "----------\n",
      "Train Loss: 0.2887, Val Loss: 0.3802\n",
      "\n"
     ]
    },
    {
     "name": "stderr",
     "output_type": "stream",
     "text": [
      "100%|██████████████████████████████████████████████████████████████████████| 12/12 [00:29<00:00,  2.45s/it, loss=0.253]\n",
      "100%|████████████████████████████████████████████████████████████████████████| 4/4 [00:02<00:00,  1.94it/s, loss=0.508]\n"
     ]
    },
    {
     "name": "stdout",
     "output_type": "stream",
     "text": [
      "Epoch 40/99\n",
      "----------\n",
      "Train Loss: 0.2835, Val Loss: 0.5280\n",
      "\n"
     ]
    },
    {
     "name": "stderr",
     "output_type": "stream",
     "text": [
      "100%|██████████████████████████████████████████████████████████████████████| 12/12 [00:29<00:00,  2.45s/it, loss=0.262]\n",
      "100%|████████████████████████████████████████████████████████████████████████| 4/4 [00:02<00:00,  1.95it/s, loss=0.368]\n"
     ]
    },
    {
     "name": "stdout",
     "output_type": "stream",
     "text": [
      "Epoch 41/99\n",
      "----------\n",
      "Train Loss: 0.2756, Val Loss: 0.3407\n",
      "\n"
     ]
    },
    {
     "name": "stderr",
     "output_type": "stream",
     "text": [
      "100%|██████████████████████████████████████████████████████████████████████| 12/12 [00:29<00:00,  2.45s/it, loss=0.284]\n",
      "100%|████████████████████████████████████████████████████████████████████████| 4/4 [00:02<00:00,  1.96it/s, loss=0.493]\n"
     ]
    },
    {
     "name": "stdout",
     "output_type": "stream",
     "text": [
      "Epoch 42/99\n",
      "----------\n",
      "Train Loss: 0.2678, Val Loss: 0.4726\n",
      "\n"
     ]
    },
    {
     "name": "stderr",
     "output_type": "stream",
     "text": [
      "100%|██████████████████████████████████████████████████████████████████████| 12/12 [00:29<00:00,  2.47s/it, loss=0.333]\n",
      "100%|████████████████████████████████████████████████████████████████████████| 4/4 [00:02<00:00,  1.95it/s, loss=0.457]\n"
     ]
    },
    {
     "name": "stdout",
     "output_type": "stream",
     "text": [
      "Epoch 43/99\n",
      "----------\n",
      "Train Loss: 0.2773, Val Loss: 0.4695\n",
      "\n"
     ]
    },
    {
     "name": "stderr",
     "output_type": "stream",
     "text": [
      "100%|███████████████████████████████████████████████████████████████████████| 12/12 [00:29<00:00,  2.46s/it, loss=0.25]\n",
      "100%|████████████████████████████████████████████████████████████████████████| 4/4 [00:02<00:00,  1.93it/s, loss=0.378]\n"
     ]
    },
    {
     "name": "stdout",
     "output_type": "stream",
     "text": [
      "Epoch 44/99\n",
      "----------\n",
      "Train Loss: 0.2661, Val Loss: 0.3919\n",
      "\n"
     ]
    },
    {
     "name": "stderr",
     "output_type": "stream",
     "text": [
      "100%|██████████████████████████████████████████████████████████████████████| 12/12 [00:29<00:00,  2.44s/it, loss=0.265]\n",
      "100%|████████████████████████████████████████████████████████████████████████| 4/4 [00:02<00:00,  1.99it/s, loss=0.444]\n"
     ]
    },
    {
     "name": "stdout",
     "output_type": "stream",
     "text": [
      "Epoch 45/99\n",
      "----------\n",
      "Train Loss: 0.2659, Val Loss: 0.3848\n",
      "\n"
     ]
    },
    {
     "name": "stderr",
     "output_type": "stream",
     "text": [
      "100%|███████████████████████████████████████████████████████████████████████| 12/12 [00:29<00:00,  2.43s/it, loss=0.26]\n",
      "100%|████████████████████████████████████████████████████████████████████████| 4/4 [00:02<00:00,  1.90it/s, loss=0.368]\n"
     ]
    },
    {
     "name": "stdout",
     "output_type": "stream",
     "text": [
      "Epoch 46/99\n",
      "----------\n",
      "Train Loss: 0.2634, Val Loss: 0.3706\n",
      "\n"
     ]
    },
    {
     "name": "stderr",
     "output_type": "stream",
     "text": [
      "100%|███████████████████████████████████████████████████████████████████████| 12/12 [00:29<00:00,  2.44s/it, loss=0.24]\n",
      "100%|████████████████████████████████████████████████████████████████████████| 4/4 [00:02<00:00,  1.93it/s, loss=0.318]\n"
     ]
    },
    {
     "name": "stdout",
     "output_type": "stream",
     "text": [
      "Epoch 47/99\n",
      "----------\n",
      "Train Loss: 0.2452, Val Loss: 0.3225\n",
      "✅ Best model saved! (Val Loss: 0.3225211128592491)\n",
      "\n"
     ]
    },
    {
     "name": "stderr",
     "output_type": "stream",
     "text": [
      "100%|██████████████████████████████████████████████████████████████████████| 12/12 [00:29<00:00,  2.45s/it, loss=0.218]\n",
      "100%|████████████████████████████████████████████████████████████████████████| 4/4 [00:02<00:00,  1.98it/s, loss=0.342]\n"
     ]
    },
    {
     "name": "stdout",
     "output_type": "stream",
     "text": [
      "Epoch 48/99\n",
      "----------\n",
      "Train Loss: 0.2380, Val Loss: 0.3517\n",
      "\n"
     ]
    },
    {
     "name": "stderr",
     "output_type": "stream",
     "text": [
      "100%|██████████████████████████████████████████████████████████████████████| 12/12 [00:29<00:00,  2.43s/it, loss=0.217]\n",
      "100%|████████████████████████████████████████████████████████████████████████| 4/4 [00:02<00:00,  2.00it/s, loss=0.336]\n"
     ]
    },
    {
     "name": "stdout",
     "output_type": "stream",
     "text": [
      "Epoch 49/99\n",
      "----------\n",
      "Train Loss: 0.2426, Val Loss: 0.3128\n",
      "✅ Best model saved! (Val Loss: 0.3127725124359131)\n",
      "\n"
     ]
    },
    {
     "name": "stderr",
     "output_type": "stream",
     "text": [
      "100%|██████████████████████████████████████████████████████████████████████| 12/12 [00:29<00:00,  2.44s/it, loss=0.271]\n",
      "100%|████████████████████████████████████████████████████████████████████████| 4/4 [00:01<00:00,  2.01it/s, loss=0.281]\n"
     ]
    },
    {
     "name": "stdout",
     "output_type": "stream",
     "text": [
      "Epoch 50/99\n",
      "----------\n",
      "Train Loss: 0.2427, Val Loss: 0.3397\n",
      "\n"
     ]
    },
    {
     "name": "stderr",
     "output_type": "stream",
     "text": [
      "100%|██████████████████████████████████████████████████████████████████████| 12/12 [00:29<00:00,  2.45s/it, loss=0.264]\n",
      "100%|████████████████████████████████████████████████████████████████████████| 4/4 [00:02<00:00,  1.98it/s, loss=0.366]\n"
     ]
    },
    {
     "name": "stdout",
     "output_type": "stream",
     "text": [
      "Epoch 51/99\n",
      "----------\n",
      "Train Loss: 0.2395, Val Loss: 0.3883\n",
      "\n"
     ]
    },
    {
     "name": "stderr",
     "output_type": "stream",
     "text": [
      "100%|██████████████████████████████████████████████████████████████████████| 12/12 [00:29<00:00,  2.44s/it, loss=0.256]\n",
      "100%|████████████████████████████████████████████████████████████████████████| 4/4 [00:02<00:00,  1.95it/s, loss=0.339]\n"
     ]
    },
    {
     "name": "stdout",
     "output_type": "stream",
     "text": [
      "Epoch 52/99\n",
      "----------\n",
      "Train Loss: 0.2318, Val Loss: 0.3352\n",
      "\n"
     ]
    },
    {
     "name": "stderr",
     "output_type": "stream",
     "text": [
      "100%|██████████████████████████████████████████████████████████████████████| 12/12 [00:29<00:00,  2.45s/it, loss=0.213]\n",
      "100%|████████████████████████████████████████████████████████████████████████| 4/4 [00:02<00:00,  1.98it/s, loss=0.315]\n"
     ]
    },
    {
     "name": "stdout",
     "output_type": "stream",
     "text": [
      "Epoch 53/99\n",
      "----------\n",
      "Train Loss: 0.2340, Val Loss: 0.3218\n",
      "\n"
     ]
    },
    {
     "name": "stderr",
     "output_type": "stream",
     "text": [
      "100%|██████████████████████████████████████████████████████████████████████| 12/12 [00:29<00:00,  2.43s/it, loss=0.248]\n",
      "100%|████████████████████████████████████████████████████████████████████████| 4/4 [00:02<00:00,  1.98it/s, loss=0.386]\n"
     ]
    },
    {
     "name": "stdout",
     "output_type": "stream",
     "text": [
      "Epoch 54/99\n",
      "----------\n",
      "Train Loss: 0.2227, Val Loss: 0.3424\n",
      "\n"
     ]
    },
    {
     "name": "stderr",
     "output_type": "stream",
     "text": [
      "100%|██████████████████████████████████████████████████████████████████████| 12/12 [00:29<00:00,  2.43s/it, loss=0.238]\n",
      "100%|████████████████████████████████████████████████████████████████████████| 4/4 [00:01<00:00,  2.02it/s, loss=0.329]\n"
     ]
    },
    {
     "name": "stdout",
     "output_type": "stream",
     "text": [
      "Epoch 55/99\n",
      "----------\n",
      "Train Loss: 0.2137, Val Loss: 0.3273\n",
      "\n"
     ]
    },
    {
     "name": "stderr",
     "output_type": "stream",
     "text": [
      "100%|██████████████████████████████████████████████████████████████████████| 12/12 [00:29<00:00,  2.45s/it, loss=0.312]\n",
      "100%|████████████████████████████████████████████████████████████████████████| 4/4 [00:02<00:00,  1.98it/s, loss=0.329]\n"
     ]
    },
    {
     "name": "stdout",
     "output_type": "stream",
     "text": [
      "Epoch 56/99\n",
      "----------\n",
      "Train Loss: 0.2273, Val Loss: 0.3425\n",
      "\n"
     ]
    },
    {
     "name": "stderr",
     "output_type": "stream",
     "text": [
      "100%|██████████████████████████████████████████████████████████████████████| 12/12 [00:29<00:00,  2.43s/it, loss=0.274]\n",
      "100%|████████████████████████████████████████████████████████████████████████| 4/4 [00:02<00:00,  1.89it/s, loss=0.359]\n"
     ]
    },
    {
     "name": "stdout",
     "output_type": "stream",
     "text": [
      "Epoch 57/99\n",
      "----------\n",
      "Train Loss: 0.2277, Val Loss: 0.3240\n",
      "\n"
     ]
    },
    {
     "name": "stderr",
     "output_type": "stream",
     "text": [
      "100%|██████████████████████████████████████████████████████████████████████| 12/12 [00:29<00:00,  2.44s/it, loss=0.227]\n",
      "100%|████████████████████████████████████████████████████████████████████████| 4/4 [00:02<00:00,  1.99it/s, loss=0.313]\n"
     ]
    },
    {
     "name": "stdout",
     "output_type": "stream",
     "text": [
      "Epoch 58/99\n",
      "----------\n",
      "Train Loss: 0.2214, Val Loss: 0.3302\n",
      "\n"
     ]
    },
    {
     "name": "stderr",
     "output_type": "stream",
     "text": [
      "100%|██████████████████████████████████████████████████████████████████████| 12/12 [00:29<00:00,  2.45s/it, loss=0.208]\n",
      "100%|████████████████████████████████████████████████████████████████████████| 4/4 [00:01<00:00,  2.02it/s, loss=0.378]\n"
     ]
    },
    {
     "name": "stdout",
     "output_type": "stream",
     "text": [
      "Epoch 59/99\n",
      "----------\n",
      "Train Loss: 0.2189, Val Loss: 0.3369\n",
      "\n"
     ]
    },
    {
     "name": "stderr",
     "output_type": "stream",
     "text": [
      "100%|██████████████████████████████████████████████████████████████████████| 12/12 [00:29<00:00,  2.48s/it, loss=0.215]\n",
      "100%|████████████████████████████████████████████████████████████████████████| 4/4 [00:02<00:00,  1.98it/s, loss=0.369]\n"
     ]
    },
    {
     "name": "stdout",
     "output_type": "stream",
     "text": [
      "Epoch 60/99\n",
      "----------\n",
      "Train Loss: 0.2113, Val Loss: 0.3300\n",
      "\n"
     ]
    },
    {
     "name": "stderr",
     "output_type": "stream",
     "text": [
      "100%|██████████████████████████████████████████████████████████████████████| 12/12 [00:29<00:00,  2.45s/it, loss=0.243]\n",
      "100%|████████████████████████████████████████████████████████████████████████| 4/4 [00:02<00:00,  1.89it/s, loss=0.306]\n"
     ]
    },
    {
     "name": "stdout",
     "output_type": "stream",
     "text": [
      "Epoch 61/99\n",
      "----------\n",
      "Train Loss: 0.2079, Val Loss: 0.3346\n",
      "\n"
     ]
    },
    {
     "name": "stderr",
     "output_type": "stream",
     "text": [
      "100%|██████████████████████████████████████████████████████████████████████| 12/12 [00:29<00:00,  2.48s/it, loss=0.208]\n",
      "100%|████████████████████████████████████████████████████████████████████████| 4/4 [00:02<00:00,  1.91it/s, loss=0.341]\n"
     ]
    },
    {
     "name": "stdout",
     "output_type": "stream",
     "text": [
      "Epoch 62/99\n",
      "----------\n",
      "Train Loss: 0.2065, Val Loss: 0.3580\n",
      "\n"
     ]
    },
    {
     "name": "stderr",
     "output_type": "stream",
     "text": [
      "100%|██████████████████████████████████████████████████████████████████████| 12/12 [00:29<00:00,  2.49s/it, loss=0.204]\n",
      "100%|████████████████████████████████████████████████████████████████████████| 4/4 [00:02<00:00,  1.88it/s, loss=0.339]\n"
     ]
    },
    {
     "name": "stdout",
     "output_type": "stream",
     "text": [
      "Epoch 63/99\n",
      "----------\n",
      "Train Loss: 0.2001, Val Loss: 0.3135\n",
      "\n"
     ]
    },
    {
     "name": "stderr",
     "output_type": "stream",
     "text": [
      "100%|███████████████████████████████████████████████████████████████████████| 12/12 [00:30<00:00,  2.51s/it, loss=0.21]\n",
      "100%|████████████████████████████████████████████████████████████████████████| 4/4 [00:02<00:00,  1.92it/s, loss=0.321]\n"
     ]
    },
    {
     "name": "stdout",
     "output_type": "stream",
     "text": [
      "Epoch 64/99\n",
      "----------\n",
      "Train Loss: 0.1977, Val Loss: 0.3208\n",
      "\n"
     ]
    },
    {
     "name": "stderr",
     "output_type": "stream",
     "text": [
      "100%|██████████████████████████████████████████████████████████████████████| 12/12 [00:29<00:00,  2.49s/it, loss=0.201]\n",
      "100%|████████████████████████████████████████████████████████████████████████| 4/4 [00:02<00:00,  1.91it/s, loss=0.386]\n"
     ]
    },
    {
     "name": "stdout",
     "output_type": "stream",
     "text": [
      "Epoch 65/99\n",
      "----------\n",
      "Train Loss: 0.1986, Val Loss: 0.3706\n",
      "\n"
     ]
    },
    {
     "name": "stderr",
     "output_type": "stream",
     "text": [
      "100%|██████████████████████████████████████████████████████████████████████| 12/12 [00:29<00:00,  2.44s/it, loss=0.198]\n",
      "100%|████████████████████████████████████████████████████████████████████████| 4/4 [00:02<00:00,  1.99it/s, loss=0.383]\n"
     ]
    },
    {
     "name": "stdout",
     "output_type": "stream",
     "text": [
      "Epoch 66/99\n",
      "----------\n",
      "Train Loss: 0.1914, Val Loss: 0.3679\n",
      "\n"
     ]
    },
    {
     "name": "stderr",
     "output_type": "stream",
     "text": [
      "100%|██████████████████████████████████████████████████████████████████████| 12/12 [00:29<00:00,  2.47s/it, loss=0.159]\n",
      "100%|████████████████████████████████████████████████████████████████████████| 4/4 [00:02<00:00,  1.96it/s, loss=0.428]\n"
     ]
    },
    {
     "name": "stdout",
     "output_type": "stream",
     "text": [
      "Epoch 67/99\n",
      "----------\n",
      "Train Loss: 0.1873, Val Loss: 0.3464\n",
      "\n"
     ]
    },
    {
     "name": "stderr",
     "output_type": "stream",
     "text": [
      "100%|██████████████████████████████████████████████████████████████████████| 12/12 [00:29<00:00,  2.48s/it, loss=0.199]\n",
      "100%|████████████████████████████████████████████████████████████████████████| 4/4 [00:02<00:00,  1.98it/s, loss=0.378]\n"
     ]
    },
    {
     "name": "stdout",
     "output_type": "stream",
     "text": [
      "Epoch 68/99\n",
      "----------\n",
      "Train Loss: 0.1812, Val Loss: 0.3377\n",
      "\n"
     ]
    },
    {
     "name": "stderr",
     "output_type": "stream",
     "text": [
      "100%|██████████████████████████████████████████████████████████████████████| 12/12 [00:29<00:00,  2.43s/it, loss=0.176]\n",
      "100%|█████████████████████████████████████████████████████████████████████████| 4/4 [00:02<00:00,  1.88it/s, loss=0.31]\n"
     ]
    },
    {
     "name": "stdout",
     "output_type": "stream",
     "text": [
      "Epoch 69/99\n",
      "----------\n",
      "Train Loss: 0.1817, Val Loss: 0.3182\n",
      "\n"
     ]
    },
    {
     "name": "stderr",
     "output_type": "stream",
     "text": [
      "100%|██████████████████████████████████████████████████████████████████████| 12/12 [00:29<00:00,  2.44s/it, loss=0.168]\n",
      "100%|████████████████████████████████████████████████████████████████████████| 4/4 [00:02<00:00,  1.90it/s, loss=0.424]\n"
     ]
    },
    {
     "name": "stdout",
     "output_type": "stream",
     "text": [
      "Epoch 70/99\n",
      "----------\n",
      "Train Loss: 0.1840, Val Loss: 0.3433\n",
      "\n"
     ]
    },
    {
     "name": "stderr",
     "output_type": "stream",
     "text": [
      "100%|██████████████████████████████████████████████████████████████████████| 12/12 [00:29<00:00,  2.44s/it, loss=0.185]\n",
      "100%|████████████████████████████████████████████████████████████████████████| 4/4 [00:02<00:00,  1.91it/s, loss=0.314]\n"
     ]
    },
    {
     "name": "stdout",
     "output_type": "stream",
     "text": [
      "Epoch 71/99\n",
      "----------\n",
      "Train Loss: 0.1808, Val Loss: 0.3251\n",
      "\n"
     ]
    },
    {
     "name": "stderr",
     "output_type": "stream",
     "text": [
      "100%|██████████████████████████████████████████████████████████████████████| 12/12 [00:29<00:00,  2.44s/it, loss=0.202]\n",
      "100%|█████████████████████████████████████████████████████████████████████████| 4/4 [00:01<00:00,  2.02it/s, loss=0.25]\n"
     ]
    },
    {
     "name": "stdout",
     "output_type": "stream",
     "text": [
      "Epoch 72/99\n",
      "----------\n",
      "Train Loss: 0.1858, Val Loss: 0.3051\n",
      "✅ Best model saved! (Val Loss: 0.30509868264198303)\n",
      "\n"
     ]
    },
    {
     "name": "stderr",
     "output_type": "stream",
     "text": [
      "100%|███████████████████████████████████████████████████████████████████████| 12/12 [00:29<00:00,  2.44s/it, loss=0.17]\n",
      "100%|████████████████████████████████████████████████████████████████████████| 4/4 [00:01<00:00,  2.01it/s, loss=0.264]\n"
     ]
    },
    {
     "name": "stdout",
     "output_type": "stream",
     "text": [
      "Epoch 73/99\n",
      "----------\n",
      "Train Loss: 0.1807, Val Loss: 0.3188\n",
      "\n"
     ]
    },
    {
     "name": "stderr",
     "output_type": "stream",
     "text": [
      "100%|██████████████████████████████████████████████████████████████████████| 12/12 [00:29<00:00,  2.43s/it, loss=0.167]\n",
      "100%|████████████████████████████████████████████████████████████████████████| 4/4 [00:01<00:00,  2.00it/s, loss=0.315]\n"
     ]
    },
    {
     "name": "stdout",
     "output_type": "stream",
     "text": [
      "Epoch 74/99\n",
      "----------\n",
      "Train Loss: 0.1718, Val Loss: 0.3157\n",
      "\n"
     ]
    },
    {
     "name": "stderr",
     "output_type": "stream",
     "text": [
      "100%|██████████████████████████████████████████████████████████████████████| 12/12 [00:29<00:00,  2.44s/it, loss=0.218]\n",
      "100%|████████████████████████████████████████████████████████████████████████| 4/4 [00:02<00:00,  1.91it/s, loss=0.296]\n"
     ]
    },
    {
     "name": "stdout",
     "output_type": "stream",
     "text": [
      "Epoch 75/99\n",
      "----------\n",
      "Train Loss: 0.1733, Val Loss: 0.3140\n",
      "\n"
     ]
    },
    {
     "name": "stderr",
     "output_type": "stream",
     "text": [
      "100%|██████████████████████████████████████████████████████████████████████| 12/12 [00:29<00:00,  2.44s/it, loss=0.178]\n",
      "100%|████████████████████████████████████████████████████████████████████████| 4/4 [00:01<00:00,  2.02it/s, loss=0.313]\n"
     ]
    },
    {
     "name": "stdout",
     "output_type": "stream",
     "text": [
      "Epoch 76/99\n",
      "----------\n",
      "Train Loss: 0.1740, Val Loss: 0.3237\n",
      "\n"
     ]
    },
    {
     "name": "stderr",
     "output_type": "stream",
     "text": [
      "100%|██████████████████████████████████████████████████████████████████████| 12/12 [00:29<00:00,  2.46s/it, loss=0.198]\n",
      "100%|████████████████████████████████████████████████████████████████████████| 4/4 [00:02<00:00,  1.89it/s, loss=0.294]\n"
     ]
    },
    {
     "name": "stdout",
     "output_type": "stream",
     "text": [
      "Epoch 77/99\n",
      "----------\n",
      "Train Loss: 0.1888, Val Loss: 0.3362\n",
      "\n"
     ]
    },
    {
     "name": "stderr",
     "output_type": "stream",
     "text": [
      "100%|██████████████████████████████████████████████████████████████████████| 12/12 [00:29<00:00,  2.43s/it, loss=0.158]\n",
      "100%|████████████████████████████████████████████████████████████████████████| 4/4 [00:02<00:00,  1.99it/s, loss=0.343]\n"
     ]
    },
    {
     "name": "stdout",
     "output_type": "stream",
     "text": [
      "Epoch 78/99\n",
      "----------\n",
      "Train Loss: 0.1770, Val Loss: 0.3427\n",
      "\n"
     ]
    },
    {
     "name": "stderr",
     "output_type": "stream",
     "text": [
      "100%|██████████████████████████████████████████████████████████████████████| 12/12 [00:29<00:00,  2.43s/it, loss=0.186]\n",
      "100%|████████████████████████████████████████████████████████████████████████| 4/4 [00:02<00:00,  1.96it/s, loss=0.358]\n"
     ]
    },
    {
     "name": "stdout",
     "output_type": "stream",
     "text": [
      "Epoch 79/99\n",
      "----------\n",
      "Train Loss: 0.1792, Val Loss: 0.3720\n",
      "\n"
     ]
    },
    {
     "name": "stderr",
     "output_type": "stream",
     "text": [
      "100%|██████████████████████████████████████████████████████████████████████| 12/12 [00:29<00:00,  2.48s/it, loss=0.175]\n",
      "100%|████████████████████████████████████████████████████████████████████████| 4/4 [00:01<00:00,  2.01it/s, loss=0.389]\n"
     ]
    },
    {
     "name": "stdout",
     "output_type": "stream",
     "text": [
      "Epoch 80/99\n",
      "----------\n",
      "Train Loss: 0.1818, Val Loss: 0.3923\n",
      "\n"
     ]
    },
    {
     "name": "stderr",
     "output_type": "stream",
     "text": [
      "100%|██████████████████████████████████████████████████████████████████████| 12/12 [00:29<00:00,  2.45s/it, loss=0.176]\n",
      "100%|████████████████████████████████████████████████████████████████████████| 4/4 [00:01<00:00,  2.01it/s, loss=0.289]\n"
     ]
    },
    {
     "name": "stdout",
     "output_type": "stream",
     "text": [
      "Epoch 81/99\n",
      "----------\n",
      "Train Loss: 0.1748, Val Loss: 0.3116\n",
      "\n"
     ]
    },
    {
     "name": "stderr",
     "output_type": "stream",
     "text": [
      "100%|██████████████████████████████████████████████████████████████████████| 12/12 [00:29<00:00,  2.43s/it, loss=0.142]\n",
      "100%|████████████████████████████████████████████████████████████████████████| 4/4 [00:02<00:00,  1.97it/s, loss=0.335]\n"
     ]
    },
    {
     "name": "stdout",
     "output_type": "stream",
     "text": [
      "Epoch 82/99\n",
      "----------\n",
      "Train Loss: 0.1635, Val Loss: 0.3171\n",
      "\n"
     ]
    },
    {
     "name": "stderr",
     "output_type": "stream",
     "text": [
      "100%|██████████████████████████████████████████████████████████████████████| 12/12 [00:29<00:00,  2.44s/it, loss=0.184]\n",
      "100%|████████████████████████████████████████████████████████████████████████| 4/4 [00:02<00:00,  1.92it/s, loss=0.337]\n"
     ]
    },
    {
     "name": "stdout",
     "output_type": "stream",
     "text": [
      "Epoch 83/99\n",
      "----------\n",
      "Train Loss: 0.1583, Val Loss: 0.3373\n",
      "\n"
     ]
    },
    {
     "name": "stderr",
     "output_type": "stream",
     "text": [
      "100%|██████████████████████████████████████████████████████████████████████| 12/12 [00:29<00:00,  2.44s/it, loss=0.167]\n",
      "100%|████████████████████████████████████████████████████████████████████████| 4/4 [00:02<00:00,  1.99it/s, loss=0.309]\n"
     ]
    },
    {
     "name": "stdout",
     "output_type": "stream",
     "text": [
      "Epoch 84/99\n",
      "----------\n",
      "Train Loss: 0.1538, Val Loss: 0.3165\n",
      "\n"
     ]
    },
    {
     "name": "stderr",
     "output_type": "stream",
     "text": [
      "100%|██████████████████████████████████████████████████████████████████████| 12/12 [00:29<00:00,  2.45s/it, loss=0.183]\n",
      "100%|████████████████████████████████████████████████████████████████████████| 4/4 [00:02<00:00,  1.99it/s, loss=0.289]\n"
     ]
    },
    {
     "name": "stdout",
     "output_type": "stream",
     "text": [
      "Epoch 85/99\n",
      "----------\n",
      "Train Loss: 0.1503, Val Loss: 0.3088\n",
      "\n"
     ]
    },
    {
     "name": "stderr",
     "output_type": "stream",
     "text": [
      "100%|██████████████████████████████████████████████████████████████████████| 12/12 [00:29<00:00,  2.48s/it, loss=0.152]\n",
      "100%|████████████████████████████████████████████████████████████████████████| 4/4 [00:02<00:00,  1.94it/s, loss=0.353]\n"
     ]
    },
    {
     "name": "stdout",
     "output_type": "stream",
     "text": [
      "Epoch 86/99\n",
      "----------\n",
      "Train Loss: 0.1508, Val Loss: 0.3451\n",
      "\n"
     ]
    },
    {
     "name": "stderr",
     "output_type": "stream",
     "text": [
      "100%|██████████████████████████████████████████████████████████████████████| 12/12 [00:29<00:00,  2.46s/it, loss=0.179]\n",
      "100%|████████████████████████████████████████████████████████████████████████| 4/4 [00:02<00:00,  1.98it/s, loss=0.368]\n"
     ]
    },
    {
     "name": "stdout",
     "output_type": "stream",
     "text": [
      "Epoch 87/99\n",
      "----------\n",
      "Train Loss: 0.1531, Val Loss: 0.3382\n",
      "\n"
     ]
    },
    {
     "name": "stderr",
     "output_type": "stream",
     "text": [
      "100%|██████████████████████████████████████████████████████████████████████| 12/12 [00:29<00:00,  2.44s/it, loss=0.143]\n",
      "100%|████████████████████████████████████████████████████████████████████████| 4/4 [00:02<00:00,  1.98it/s, loss=0.319]\n"
     ]
    },
    {
     "name": "stdout",
     "output_type": "stream",
     "text": [
      "Epoch 88/99\n",
      "----------\n",
      "Train Loss: 0.1471, Val Loss: 0.3132\n",
      "\n"
     ]
    },
    {
     "name": "stderr",
     "output_type": "stream",
     "text": [
      "100%|██████████████████████████████████████████████████████████████████████| 12/12 [00:29<00:00,  2.45s/it, loss=0.137]\n",
      "100%|████████████████████████████████████████████████████████████████████████| 4/4 [00:01<00:00,  2.01it/s, loss=0.256]\n"
     ]
    },
    {
     "name": "stdout",
     "output_type": "stream",
     "text": [
      "Epoch 89/99\n",
      "----------\n",
      "Train Loss: 0.1456, Val Loss: 0.2962\n",
      "✅ Best model saved! (Val Loss: 0.29622992873191833)\n",
      "\n"
     ]
    },
    {
     "name": "stderr",
     "output_type": "stream",
     "text": [
      "100%|██████████████████████████████████████████████████████████████████████| 12/12 [00:29<00:00,  2.46s/it, loss=0.147]\n",
      "100%|████████████████████████████████████████████████████████████████████████| 4/4 [00:02<00:00,  1.89it/s, loss=0.389]\n"
     ]
    },
    {
     "name": "stdout",
     "output_type": "stream",
     "text": [
      "Epoch 90/99\n",
      "----------\n",
      "Train Loss: 0.1437, Val Loss: 0.3644\n",
      "\n"
     ]
    },
    {
     "name": "stderr",
     "output_type": "stream",
     "text": [
      "100%|██████████████████████████████████████████████████████████████████████| 12/12 [00:29<00:00,  2.47s/it, loss=0.171]\n",
      "100%|████████████████████████████████████████████████████████████████████████| 4/4 [00:02<00:00,  1.93it/s, loss=0.334]\n"
     ]
    },
    {
     "name": "stdout",
     "output_type": "stream",
     "text": [
      "Epoch 91/99\n",
      "----------\n",
      "Train Loss: 0.1485, Val Loss: 0.3230\n",
      "\n"
     ]
    },
    {
     "name": "stderr",
     "output_type": "stream",
     "text": [
      "100%|██████████████████████████████████████████████████████████████████████| 12/12 [00:29<00:00,  2.45s/it, loss=0.144]\n",
      "100%|████████████████████████████████████████████████████████████████████████| 4/4 [00:01<00:00,  2.01it/s, loss=0.296]\n"
     ]
    },
    {
     "name": "stdout",
     "output_type": "stream",
     "text": [
      "Epoch 92/99\n",
      "----------\n",
      "Train Loss: 0.1433, Val Loss: 0.3245\n",
      "\n"
     ]
    },
    {
     "name": "stderr",
     "output_type": "stream",
     "text": [
      "100%|██████████████████████████████████████████████████████████████████████| 12/12 [00:29<00:00,  2.45s/it, loss=0.162]\n",
      "100%|████████████████████████████████████████████████████████████████████████| 4/4 [00:02<00:00,  1.92it/s, loss=0.331]\n"
     ]
    },
    {
     "name": "stdout",
     "output_type": "stream",
     "text": [
      "Epoch 93/99\n",
      "----------\n",
      "Train Loss: 0.1443, Val Loss: 0.3326\n",
      "\n"
     ]
    },
    {
     "name": "stderr",
     "output_type": "stream",
     "text": [
      "100%|██████████████████████████████████████████████████████████████████████| 12/12 [00:29<00:00,  2.44s/it, loss=0.143]\n",
      "100%|████████████████████████████████████████████████████████████████████████| 4/4 [00:02<00:00,  1.89it/s, loss=0.284]\n"
     ]
    },
    {
     "name": "stdout",
     "output_type": "stream",
     "text": [
      "Epoch 94/99\n",
      "----------\n",
      "Train Loss: 0.1421, Val Loss: 0.3073\n",
      "\n"
     ]
    },
    {
     "name": "stderr",
     "output_type": "stream",
     "text": [
      "100%|██████████████████████████████████████████████████████████████████████| 12/12 [00:29<00:00,  2.45s/it, loss=0.124]\n",
      "100%|████████████████████████████████████████████████████████████████████████| 4/4 [00:02<00:00,  2.00it/s, loss=0.297]\n"
     ]
    },
    {
     "name": "stdout",
     "output_type": "stream",
     "text": [
      "Epoch 95/99\n",
      "----------\n",
      "Train Loss: 0.1382, Val Loss: 0.3249\n",
      "\n"
     ]
    },
    {
     "name": "stderr",
     "output_type": "stream",
     "text": [
      "100%|██████████████████████████████████████████████████████████████████████| 12/12 [00:29<00:00,  2.44s/it, loss=0.162]\n",
      "100%|████████████████████████████████████████████████████████████████████████| 4/4 [00:02<00:00,  1.96it/s, loss=0.359]\n"
     ]
    },
    {
     "name": "stdout",
     "output_type": "stream",
     "text": [
      "Epoch 96/99\n",
      "----------\n",
      "Train Loss: 0.1373, Val Loss: 0.3305\n",
      "\n"
     ]
    },
    {
     "name": "stderr",
     "output_type": "stream",
     "text": [
      "100%|██████████████████████████████████████████████████████████████████████| 12/12 [00:29<00:00,  2.44s/it, loss=0.147]\n",
      "100%|████████████████████████████████████████████████████████████████████████| 4/4 [00:02<00:00,  1.90it/s, loss=0.378]\n"
     ]
    },
    {
     "name": "stdout",
     "output_type": "stream",
     "text": [
      "Epoch 97/99\n",
      "----------\n",
      "Train Loss: 0.1364, Val Loss: 0.3382\n",
      "\n"
     ]
    },
    {
     "name": "stderr",
     "output_type": "stream",
     "text": [
      "100%|██████████████████████████████████████████████████████████████████████| 12/12 [00:29<00:00,  2.44s/it, loss=0.115]\n",
      "100%|████████████████████████████████████████████████████████████████████████| 4/4 [00:02<00:00,  1.91it/s, loss=0.324]\n"
     ]
    },
    {
     "name": "stdout",
     "output_type": "stream",
     "text": [
      "Epoch 98/99\n",
      "----------\n",
      "Train Loss: 0.1333, Val Loss: 0.3276\n",
      "\n"
     ]
    },
    {
     "name": "stderr",
     "output_type": "stream",
     "text": [
      "100%|██████████████████████████████████████████████████████████████████████| 12/12 [00:29<00:00,  2.44s/it, loss=0.239]\n",
      "100%|████████████████████████████████████████████████████████████████████████| 4/4 [00:02<00:00,  2.00it/s, loss=0.476]"
     ]
    },
    {
     "name": "stdout",
     "output_type": "stream",
     "text": [
      "Epoch 99/99\n",
      "----------\n",
      "Train Loss: 0.1405, Val Loss: 0.4245\n",
      "\n"
     ]
    },
    {
     "name": "stderr",
     "output_type": "stream",
     "text": [
      "\n"
     ]
    }
   ],
   "source": [
    "model_2, logs_2 = train(train_dataloader, val_dataloader, model, loss_fn, optim, 100, log_freq=1, save_best_model=True, \n",
    "              best_model_name='best_model_cross.pth', last_model_name='last_model_cross.pth', save_path=MODEL_PATH)"
   ]
  },
  {
   "cell_type": "code",
   "execution_count": 19,
   "metadata": {},
   "outputs": [],
   "source": [
    "logs_2_df = pd.DataFrame(logs_2)\n",
    "logs_2_df.to_csv(os.path.join(MODEL_PATH, 'logs_cross.csv'), index=False)"
   ]
  },
  {
   "cell_type": "markdown",
   "metadata": {},
   "source": [
    "## Training with DiceLoss combine with CrossEntropyLoss"
   ]
  },
  {
   "cell_type": "code",
   "execution_count": 12,
   "metadata": {},
   "outputs": [
    {
     "name": "stdout",
     "output_type": "stream",
     "text": [
      "12\n"
     ]
    }
   ],
   "source": [
    "\n",
    "model = UNET(in_channels=3, out_channels=len(labels_df))\n",
    "model.cuda()\n",
    "loss_fn = DiceCrossEntropyLoss()\n",
    "optim = torch.optim.Adam(model.parameters(), lr = 1e-3)\n",
    "print(model.out_channels)"
   ]
  },
  {
   "cell_type": "code",
   "execution_count": 13,
   "metadata": {},
   "outputs": [
    {
     "name": "stderr",
     "output_type": "stream",
     "text": [
      "100%|███████████████████████████████████████████████████████████████████████| 12/12 [00:29<00:00,  2.47s/it, loss=1.14]\n",
      "Z:\\BEKA\\2025\\AI\\Bootcamp\\Source\\Advanced CV\\Project 3\\notebooks\\engine.py:183: FutureWarning: `torch.cuda.amp.autocast(args...)` is deprecated. Please use `torch.amp.autocast('cuda', args...)` instead.\n",
      "  with torch.cuda.amp.autocast():\n",
      "100%|█████████████████████████████████████████████████████████████████████████| 4/4 [00:02<00:00,  1.94it/s, loss=2.46]\n"
     ]
    },
    {
     "name": "stdout",
     "output_type": "stream",
     "text": [
      "Epoch 0/99\n",
      "----------\n",
      "Train Loss: 1.3020, Val Loss: 2.4749\n",
      "✅ Best model saved! (Val Loss: 2.474944770336151)\n",
      "\n"
     ]
    },
    {
     "name": "stderr",
     "output_type": "stream",
     "text": [
      "100%|██████████████████████████████████████████████████████████████████████| 12/12 [00:28<00:00,  2.39s/it, loss=0.931]\n",
      "100%|█████████████████████████████████████████████████████████████████████████| 4/4 [00:02<00:00,  1.96it/s, loss=2.33]\n"
     ]
    },
    {
     "name": "stdout",
     "output_type": "stream",
     "text": [
      "Epoch 1/99\n",
      "----------\n",
      "Train Loss: 0.9988, Val Loss: 2.3639\n",
      "✅ Best model saved! (Val Loss: 2.3638995885849)\n",
      "\n"
     ]
    },
    {
     "name": "stderr",
     "output_type": "stream",
     "text": [
      "100%|██████████████████████████████████████████████████████████████████████| 12/12 [00:28<00:00,  2.39s/it, loss=0.841]\n",
      "100%|████████████████████████████████████████████████████████████████████████| 4/4 [00:02<00:00,  1.95it/s, loss=0.968]\n"
     ]
    },
    {
     "name": "stdout",
     "output_type": "stream",
     "text": [
      "Epoch 2/99\n",
      "----------\n",
      "Train Loss: 0.8700, Val Loss: 0.9766\n",
      "✅ Best model saved! (Val Loss: 0.9765968173742294)\n",
      "\n"
     ]
    },
    {
     "name": "stderr",
     "output_type": "stream",
     "text": [
      "100%|██████████████████████████████████████████████████████████████████████| 12/12 [00:29<00:00,  2.42s/it, loss=0.774]\n",
      "100%|████████████████████████████████████████████████████████████████████████| 4/4 [00:02<00:00,  1.93it/s, loss=0.931]\n"
     ]
    },
    {
     "name": "stdout",
     "output_type": "stream",
     "text": [
      "Epoch 3/99\n",
      "----------\n",
      "Train Loss: 0.7975, Val Loss: 0.9381\n",
      "✅ Best model saved! (Val Loss: 0.9380597472190857)\n",
      "\n"
     ]
    },
    {
     "name": "stderr",
     "output_type": "stream",
     "text": [
      "100%|██████████████████████████████████████████████████████████████████████| 12/12 [00:29<00:00,  2.43s/it, loss=0.687]\n",
      "100%|████████████████████████████████████████████████████████████████████████| 4/4 [00:02<00:00,  1.92it/s, loss=0.836]\n"
     ]
    },
    {
     "name": "stdout",
     "output_type": "stream",
     "text": [
      "Epoch 4/99\n",
      "----------\n",
      "Train Loss: 0.7409, Val Loss: 0.8438\n",
      "✅ Best model saved! (Val Loss: 0.8438175916671753)\n",
      "\n"
     ]
    },
    {
     "name": "stderr",
     "output_type": "stream",
     "text": [
      "100%|██████████████████████████████████████████████████████████████████████| 12/12 [00:28<00:00,  2.38s/it, loss=0.687]\n",
      "100%|████████████████████████████████████████████████████████████████████████| 4/4 [00:02<00:00,  1.91it/s, loss=0.876]\n"
     ]
    },
    {
     "name": "stdout",
     "output_type": "stream",
     "text": [
      "Epoch 5/99\n",
      "----------\n",
      "Train Loss: 0.6972, Val Loss: 0.8822\n",
      "\n"
     ]
    },
    {
     "name": "stderr",
     "output_type": "stream",
     "text": [
      "100%|██████████████████████████████████████████████████████████████████████| 12/12 [00:28<00:00,  2.41s/it, loss=0.687]\n",
      "100%|████████████████████████████████████████████████████████████████████████| 4/4 [00:02<00:00,  1.81it/s, loss=0.725]\n"
     ]
    },
    {
     "name": "stdout",
     "output_type": "stream",
     "text": [
      "Epoch 6/99\n",
      "----------\n",
      "Train Loss: 0.6762, Val Loss: 0.7487\n",
      "✅ Best model saved! (Val Loss: 0.7487070262432098)\n",
      "\n"
     ]
    },
    {
     "name": "stderr",
     "output_type": "stream",
     "text": [
      "100%|██████████████████████████████████████████████████████████████████████| 12/12 [00:29<00:00,  2.43s/it, loss=0.664]\n",
      "100%|████████████████████████████████████████████████████████████████████████| 4/4 [00:02<00:00,  1.91it/s, loss=0.604]\n"
     ]
    },
    {
     "name": "stdout",
     "output_type": "stream",
     "text": [
      "Epoch 7/99\n",
      "----------\n",
      "Train Loss: 0.6371, Val Loss: 0.6053\n",
      "✅ Best model saved! (Val Loss: 0.6052729040384293)\n",
      "\n"
     ]
    },
    {
     "name": "stderr",
     "output_type": "stream",
     "text": [
      "100%|███████████████████████████████████████████████████████████████████████| 12/12 [00:29<00:00,  2.43s/it, loss=0.61]\n",
      "100%|████████████████████████████████████████████████████████████████████████| 4/4 [00:02<00:00,  1.91it/s, loss=0.679]\n"
     ]
    },
    {
     "name": "stdout",
     "output_type": "stream",
     "text": [
      "Epoch 8/99\n",
      "----------\n",
      "Train Loss: 0.6280, Val Loss: 0.6916\n",
      "\n"
     ]
    },
    {
     "name": "stderr",
     "output_type": "stream",
     "text": [
      "100%|██████████████████████████████████████████████████████████████████████| 12/12 [00:29<00:00,  2.42s/it, loss=0.609]\n",
      "100%|████████████████████████████████████████████████████████████████████████| 4/4 [00:02<00:00,  1.96it/s, loss=0.796]\n"
     ]
    },
    {
     "name": "stdout",
     "output_type": "stream",
     "text": [
      "Epoch 9/99\n",
      "----------\n",
      "Train Loss: 0.6059, Val Loss: 0.7806\n",
      "\n"
     ]
    },
    {
     "name": "stderr",
     "output_type": "stream",
     "text": [
      "100%|██████████████████████████████████████████████████████████████████████| 12/12 [00:29<00:00,  2.43s/it, loss=0.591]\n",
      "100%|████████████████████████████████████████████████████████████████████████| 4/4 [00:02<00:00,  1.95it/s, loss=0.644]\n"
     ]
    },
    {
     "name": "stdout",
     "output_type": "stream",
     "text": [
      "Epoch 10/99\n",
      "----------\n",
      "Train Loss: 0.6197, Val Loss: 0.6291\n",
      "\n"
     ]
    },
    {
     "name": "stderr",
     "output_type": "stream",
     "text": [
      "100%|██████████████████████████████████████████████████████████████████████| 12/12 [00:28<00:00,  2.41s/it, loss=0.591]\n",
      "100%|████████████████████████████████████████████████████████████████████████| 4/4 [00:02<00:00,  1.95it/s, loss=0.732]\n"
     ]
    },
    {
     "name": "stdout",
     "output_type": "stream",
     "text": [
      "Epoch 11/99\n",
      "----------\n",
      "Train Loss: 0.5891, Val Loss: 0.7846\n",
      "\n"
     ]
    },
    {
     "name": "stderr",
     "output_type": "stream",
     "text": [
      "100%|██████████████████████████████████████████████████████████████████████| 12/12 [00:29<00:00,  2.43s/it, loss=0.586]\n",
      "100%|████████████████████████████████████████████████████████████████████████| 4/4 [00:02<00:00,  1.93it/s, loss=0.733]\n"
     ]
    },
    {
     "name": "stdout",
     "output_type": "stream",
     "text": [
      "Epoch 12/99\n",
      "----------\n",
      "Train Loss: 0.5676, Val Loss: 0.7051\n",
      "\n"
     ]
    },
    {
     "name": "stderr",
     "output_type": "stream",
     "text": [
      "100%|██████████████████████████████████████████████████████████████████████| 12/12 [00:29<00:00,  2.44s/it, loss=0.603]\n",
      "100%|████████████████████████████████████████████████████████████████████████| 4/4 [00:02<00:00,  1.93it/s, loss=0.641]\n"
     ]
    },
    {
     "name": "stdout",
     "output_type": "stream",
     "text": [
      "Epoch 13/99\n",
      "----------\n",
      "Train Loss: 0.5579, Val Loss: 0.6588\n",
      "\n"
     ]
    },
    {
     "name": "stderr",
     "output_type": "stream",
     "text": [
      "100%|██████████████████████████████████████████████████████████████████████| 12/12 [00:28<00:00,  2.40s/it, loss=0.553]\n",
      "100%|████████████████████████████████████████████████████████████████████████| 4/4 [00:02<00:00,  1.96it/s, loss=0.617]\n"
     ]
    },
    {
     "name": "stdout",
     "output_type": "stream",
     "text": [
      "Epoch 14/99\n",
      "----------\n",
      "Train Loss: 0.5455, Val Loss: 0.5948\n",
      "✅ Best model saved! (Val Loss: 0.5948178172111511)\n",
      "\n"
     ]
    },
    {
     "name": "stderr",
     "output_type": "stream",
     "text": [
      "100%|████████████████████████████████████████████████████████████████████████| 12/12 [00:28<00:00,  2.41s/it, loss=0.5]\n",
      "100%|████████████████████████████████████████████████████████████████████████| 4/4 [00:02<00:00,  1.91it/s, loss=0.628]\n"
     ]
    },
    {
     "name": "stdout",
     "output_type": "stream",
     "text": [
      "Epoch 15/99\n",
      "----------\n",
      "Train Loss: 0.5287, Val Loss: 0.5847\n",
      "✅ Best model saved! (Val Loss: 0.5846743285655975)\n",
      "\n"
     ]
    },
    {
     "name": "stderr",
     "output_type": "stream",
     "text": [
      "100%|██████████████████████████████████████████████████████████████████████| 12/12 [00:28<00:00,  2.40s/it, loss=0.553]\n",
      "100%|████████████████████████████████████████████████████████████████████████| 4/4 [00:02<00:00,  1.90it/s, loss=0.559]\n"
     ]
    },
    {
     "name": "stdout",
     "output_type": "stream",
     "text": [
      "Epoch 16/99\n",
      "----------\n",
      "Train Loss: 0.5278, Val Loss: 0.5777\n",
      "✅ Best model saved! (Val Loss: 0.5776738524436951)\n",
      "\n"
     ]
    },
    {
     "name": "stderr",
     "output_type": "stream",
     "text": [
      "100%|██████████████████████████████████████████████████████████████████████| 12/12 [00:43<00:00,  3.59s/it, loss=0.587]\n",
      "100%|████████████████████████████████████████████████████████████████████████| 4/4 [00:06<00:00,  1.57s/it, loss=0.672]\n"
     ]
    },
    {
     "name": "stdout",
     "output_type": "stream",
     "text": [
      "Epoch 17/99\n",
      "----------\n",
      "Train Loss: 0.5292, Val Loss: 0.6694\n",
      "\n"
     ]
    },
    {
     "name": "stderr",
     "output_type": "stream",
     "text": [
      "100%|██████████████████████████████████████████████████████████████████████| 12/12 [00:29<00:00,  2.43s/it, loss=0.481]\n",
      "100%|████████████████████████████████████████████████████████████████████████| 4/4 [00:02<00:00,  1.90it/s, loss=0.496]\n"
     ]
    },
    {
     "name": "stdout",
     "output_type": "stream",
     "text": [
      "Epoch 18/99\n",
      "----------\n",
      "Train Loss: 0.5170, Val Loss: 0.5050\n",
      "✅ Best model saved! (Val Loss: 0.5050324499607086)\n",
      "\n"
     ]
    },
    {
     "name": "stderr",
     "output_type": "stream",
     "text": [
      "100%|██████████████████████████████████████████████████████████████████████| 12/12 [00:28<00:00,  2.41s/it, loss=0.556]\n",
      "100%|████████████████████████████████████████████████████████████████████████| 4/4 [00:02<00:00,  1.90it/s, loss=0.562]\n"
     ]
    },
    {
     "name": "stdout",
     "output_type": "stream",
     "text": [
      "Epoch 19/99\n",
      "----------\n",
      "Train Loss: 0.5068, Val Loss: 0.6016\n",
      "\n"
     ]
    },
    {
     "name": "stderr",
     "output_type": "stream",
     "text": [
      "100%|██████████████████████████████████████████████████████████████████████| 12/12 [00:29<00:00,  2.43s/it, loss=0.545]\n",
      "100%|████████████████████████████████████████████████████████████████████████| 4/4 [00:02<00:00,  1.84it/s, loss=0.569]\n"
     ]
    },
    {
     "name": "stdout",
     "output_type": "stream",
     "text": [
      "Epoch 20/99\n",
      "----------\n",
      "Train Loss: 0.5001, Val Loss: 0.5533\n",
      "\n"
     ]
    },
    {
     "name": "stderr",
     "output_type": "stream",
     "text": [
      "100%|██████████████████████████████████████████████████████████████████████| 12/12 [00:29<00:00,  2.44s/it, loss=0.461]\n",
      "100%|████████████████████████████████████████████████████████████████████████| 4/4 [00:02<00:00,  1.95it/s, loss=0.483]\n"
     ]
    },
    {
     "name": "stdout",
     "output_type": "stream",
     "text": [
      "Epoch 21/99\n",
      "----------\n",
      "Train Loss: 0.4868, Val Loss: 0.4726\n",
      "✅ Best model saved! (Val Loss: 0.4725543335080147)\n",
      "\n"
     ]
    },
    {
     "name": "stderr",
     "output_type": "stream",
     "text": [
      "100%|██████████████████████████████████████████████████████████████████████| 12/12 [00:29<00:00,  2.43s/it, loss=0.448]\n",
      "100%|████████████████████████████████████████████████████████████████████████| 4/4 [00:02<00:00,  1.86it/s, loss=0.467]\n"
     ]
    },
    {
     "name": "stdout",
     "output_type": "stream",
     "text": [
      "Epoch 22/99\n",
      "----------\n",
      "Train Loss: 0.4767, Val Loss: 0.4583\n",
      "✅ Best model saved! (Val Loss: 0.4583088308572769)\n",
      "\n"
     ]
    },
    {
     "name": "stderr",
     "output_type": "stream",
     "text": [
      "100%|██████████████████████████████████████████████████████████████████████| 12/12 [00:29<00:00,  2.42s/it, loss=0.526]\n",
      "100%|████████████████████████████████████████████████████████████████████████| 4/4 [00:02<00:00,  1.94it/s, loss=0.479]\n"
     ]
    },
    {
     "name": "stdout",
     "output_type": "stream",
     "text": [
      "Epoch 23/99\n",
      "----------\n",
      "Train Loss: 0.4670, Val Loss: 0.4876\n",
      "\n"
     ]
    },
    {
     "name": "stderr",
     "output_type": "stream",
     "text": [
      "100%|██████████████████████████████████████████████████████████████████████| 12/12 [00:28<00:00,  2.42s/it, loss=0.484]\n",
      "100%|████████████████████████████████████████████████████████████████████████| 4/4 [00:02<00:00,  1.94it/s, loss=0.466]\n"
     ]
    },
    {
     "name": "stdout",
     "output_type": "stream",
     "text": [
      "Epoch 24/99\n",
      "----------\n",
      "Train Loss: 0.4664, Val Loss: 0.4607\n",
      "\n"
     ]
    },
    {
     "name": "stderr",
     "output_type": "stream",
     "text": [
      "100%|██████████████████████████████████████████████████████████████████████| 12/12 [00:28<00:00,  2.39s/it, loss=0.451]\n",
      "100%|████████████████████████████████████████████████████████████████████████| 4/4 [00:02<00:00,  1.98it/s, loss=0.434]\n"
     ]
    },
    {
     "name": "stdout",
     "output_type": "stream",
     "text": [
      "Epoch 25/99\n",
      "----------\n",
      "Train Loss: 0.4523, Val Loss: 0.4403\n",
      "✅ Best model saved! (Val Loss: 0.4402950778603554)\n",
      "\n"
     ]
    },
    {
     "name": "stderr",
     "output_type": "stream",
     "text": [
      "100%|██████████████████████████████████████████████████████████████████████| 12/12 [00:28<00:00,  2.41s/it, loss=0.478]\n",
      "100%|████████████████████████████████████████████████████████████████████████| 4/4 [00:02<00:00,  1.98it/s, loss=0.492]\n"
     ]
    },
    {
     "name": "stdout",
     "output_type": "stream",
     "text": [
      "Epoch 26/99\n",
      "----------\n",
      "Train Loss: 0.4556, Val Loss: 0.4736\n",
      "\n"
     ]
    },
    {
     "name": "stderr",
     "output_type": "stream",
     "text": [
      "100%|██████████████████████████████████████████████████████████████████████| 12/12 [00:28<00:00,  2.41s/it, loss=0.436]\n",
      "100%|████████████████████████████████████████████████████████████████████████| 4/4 [00:02<00:00,  1.94it/s, loss=0.464]\n"
     ]
    },
    {
     "name": "stdout",
     "output_type": "stream",
     "text": [
      "Epoch 27/99\n",
      "----------\n",
      "Train Loss: 0.4396, Val Loss: 0.4569\n",
      "\n"
     ]
    },
    {
     "name": "stderr",
     "output_type": "stream",
     "text": [
      "100%|██████████████████████████████████████████████████████████████████████| 12/12 [00:28<00:00,  2.39s/it, loss=0.464]\n",
      "100%|████████████████████████████████████████████████████████████████████████| 4/4 [00:02<00:00,  1.93it/s, loss=0.438]\n"
     ]
    },
    {
     "name": "stdout",
     "output_type": "stream",
     "text": [
      "Epoch 28/99\n",
      "----------\n",
      "Train Loss: 0.4357, Val Loss: 0.4311\n",
      "✅ Best model saved! (Val Loss: 0.43108857423067093)\n",
      "\n"
     ]
    },
    {
     "name": "stderr",
     "output_type": "stream",
     "text": [
      "100%|███████████████████████████████████████████████████████████████████████| 12/12 [00:28<00:00,  2.39s/it, loss=0.44]\n",
      "100%|████████████████████████████████████████████████████████████████████████| 4/4 [00:02<00:00,  1.96it/s, loss=0.526]\n"
     ]
    },
    {
     "name": "stdout",
     "output_type": "stream",
     "text": [
      "Epoch 29/99\n",
      "----------\n",
      "Train Loss: 0.4250, Val Loss: 0.5347\n",
      "\n"
     ]
    },
    {
     "name": "stderr",
     "output_type": "stream",
     "text": [
      "100%|██████████████████████████████████████████████████████████████████████| 12/12 [00:29<00:00,  2.44s/it, loss=0.463]\n",
      "100%|████████████████████████████████████████████████████████████████████████| 4/4 [00:02<00:00,  1.90it/s, loss=0.613]\n"
     ]
    },
    {
     "name": "stdout",
     "output_type": "stream",
     "text": [
      "Epoch 30/99\n",
      "----------\n",
      "Train Loss: 0.4205, Val Loss: 0.5843\n",
      "\n"
     ]
    },
    {
     "name": "stderr",
     "output_type": "stream",
     "text": [
      "100%|██████████████████████████████████████████████████████████████████████| 12/12 [00:29<00:00,  2.44s/it, loss=0.469]\n",
      "100%|████████████████████████████████████████████████████████████████████████| 4/4 [00:02<00:00,  1.93it/s, loss=0.495]\n"
     ]
    },
    {
     "name": "stdout",
     "output_type": "stream",
     "text": [
      "Epoch 31/99\n",
      "----------\n",
      "Train Loss: 0.4692, Val Loss: 0.5317\n",
      "\n"
     ]
    },
    {
     "name": "stderr",
     "output_type": "stream",
     "text": [
      "100%|██████████████████████████████████████████████████████████████████████| 12/12 [00:28<00:00,  2.41s/it, loss=0.466]\n",
      "100%|████████████████████████████████████████████████████████████████████████| 4/4 [00:02<00:00,  1.93it/s, loss=0.565]\n"
     ]
    },
    {
     "name": "stdout",
     "output_type": "stream",
     "text": [
      "Epoch 32/99\n",
      "----------\n",
      "Train Loss: 0.4623, Val Loss: 0.5344\n",
      "\n"
     ]
    },
    {
     "name": "stderr",
     "output_type": "stream",
     "text": [
      "100%|██████████████████████████████████████████████████████████████████████| 12/12 [00:28<00:00,  2.40s/it, loss=0.441]\n",
      "100%|████████████████████████████████████████████████████████████████████████| 4/4 [00:02<00:00,  1.93it/s, loss=0.492]\n"
     ]
    },
    {
     "name": "stdout",
     "output_type": "stream",
     "text": [
      "Epoch 33/99\n",
      "----------\n",
      "Train Loss: 0.4494, Val Loss: 0.4759\n",
      "\n"
     ]
    },
    {
     "name": "stderr",
     "output_type": "stream",
     "text": [
      "100%|██████████████████████████████████████████████████████████████████████| 12/12 [00:28<00:00,  2.38s/it, loss=0.449]\n",
      "100%|████████████████████████████████████████████████████████████████████████| 4/4 [00:02<00:00,  1.95it/s, loss=0.411]\n"
     ]
    },
    {
     "name": "stdout",
     "output_type": "stream",
     "text": [
      "Epoch 34/99\n",
      "----------\n",
      "Train Loss: 0.4287, Val Loss: 0.4380\n",
      "\n"
     ]
    },
    {
     "name": "stderr",
     "output_type": "stream",
     "text": [
      "100%|██████████████████████████████████████████████████████████████████████| 12/12 [00:28<00:00,  2.42s/it, loss=0.414]\n",
      "100%|██████████████████████████████████████████████████████████████████████████| 4/4 [00:02<00:00,  1.88it/s, loss=0.4]\n"
     ]
    },
    {
     "name": "stdout",
     "output_type": "stream",
     "text": [
      "Epoch 35/99\n",
      "----------\n",
      "Train Loss: 0.4147, Val Loss: 0.3995\n",
      "✅ Best model saved! (Val Loss: 0.3994993343949318)\n",
      "\n"
     ]
    },
    {
     "name": "stderr",
     "output_type": "stream",
     "text": [
      "100%|██████████████████████████████████████████████████████████████████████| 12/12 [00:29<00:00,  2.44s/it, loss=0.406]\n",
      "100%|█████████████████████████████████████████████████████████████████████████| 4/4 [00:02<00:00,  1.93it/s, loss=0.41]\n"
     ]
    },
    {
     "name": "stdout",
     "output_type": "stream",
     "text": [
      "Epoch 36/99\n",
      "----------\n",
      "Train Loss: 0.4058, Val Loss: 0.4254\n",
      "\n"
     ]
    },
    {
     "name": "stderr",
     "output_type": "stream",
     "text": [
      "100%|██████████████████████████████████████████████████████████████████████| 12/12 [00:29<00:00,  2.43s/it, loss=0.376]\n",
      "100%|████████████████████████████████████████████████████████████████████████| 4/4 [00:02<00:00,  1.93it/s, loss=0.412]\n"
     ]
    },
    {
     "name": "stdout",
     "output_type": "stream",
     "text": [
      "Epoch 37/99\n",
      "----------\n",
      "Train Loss: 0.3957, Val Loss: 0.4111\n",
      "\n"
     ]
    },
    {
     "name": "stderr",
     "output_type": "stream",
     "text": [
      "100%|██████████████████████████████████████████████████████████████████████| 12/12 [00:28<00:00,  2.39s/it, loss=0.391]\n",
      "100%|█████████████████████████████████████████████████████████████████████████| 4/4 [00:02<00:00,  1.94it/s, loss=0.41]\n"
     ]
    },
    {
     "name": "stdout",
     "output_type": "stream",
     "text": [
      "Epoch 38/99\n",
      "----------\n",
      "Train Loss: 0.3915, Val Loss: 0.3901\n",
      "✅ Best model saved! (Val Loss: 0.39006952941417694)\n",
      "\n"
     ]
    },
    {
     "name": "stderr",
     "output_type": "stream",
     "text": [
      "100%|██████████████████████████████████████████████████████████████████████| 12/12 [00:28<00:00,  2.37s/it, loss=0.375]\n",
      "100%|████████████████████████████████████████████████████████████████████████| 4/4 [00:02<00:00,  1.93it/s, loss=0.572]\n"
     ]
    },
    {
     "name": "stdout",
     "output_type": "stream",
     "text": [
      "Epoch 39/99\n",
      "----------\n",
      "Train Loss: 0.3888, Val Loss: 0.5344\n",
      "\n"
     ]
    },
    {
     "name": "stderr",
     "output_type": "stream",
     "text": [
      "100%|██████████████████████████████████████████████████████████████████████| 12/12 [00:29<00:00,  2.44s/it, loss=0.395]\n",
      "100%|████████████████████████████████████████████████████████████████████████| 4/4 [00:02<00:00,  1.96it/s, loss=0.426]\n"
     ]
    },
    {
     "name": "stdout",
     "output_type": "stream",
     "text": [
      "Epoch 40/99\n",
      "----------\n",
      "Train Loss: 0.3862, Val Loss: 0.4068\n",
      "\n"
     ]
    },
    {
     "name": "stderr",
     "output_type": "stream",
     "text": [
      "100%|██████████████████████████████████████████████████████████████████████| 12/12 [00:29<00:00,  2.44s/it, loss=0.387]\n",
      "100%|████████████████████████████████████████████████████████████████████████| 4/4 [00:02<00:00,  1.93it/s, loss=0.383]\n"
     ]
    },
    {
     "name": "stdout",
     "output_type": "stream",
     "text": [
      "Epoch 41/99\n",
      "----------\n",
      "Train Loss: 0.3744, Val Loss: 0.3919\n",
      "\n"
     ]
    },
    {
     "name": "stderr",
     "output_type": "stream",
     "text": [
      "100%|███████████████████████████████████████████████████████████████████████| 12/12 [00:29<00:00,  2.46s/it, loss=0.39]\n",
      "100%|████████████████████████████████████████████████████████████████████████| 4/4 [00:02<00:00,  1.87it/s, loss=0.415]\n"
     ]
    },
    {
     "name": "stdout",
     "output_type": "stream",
     "text": [
      "Epoch 42/99\n",
      "----------\n",
      "Train Loss: 0.3662, Val Loss: 0.4150\n",
      "\n"
     ]
    },
    {
     "name": "stderr",
     "output_type": "stream",
     "text": [
      "100%|██████████████████████████████████████████████████████████████████████| 12/12 [00:28<00:00,  2.39s/it, loss=0.381]\n",
      "100%|█████████████████████████████████████████████████████████████████████████| 4/4 [00:02<00:00,  1.95it/s, loss=0.56]\n"
     ]
    },
    {
     "name": "stdout",
     "output_type": "stream",
     "text": [
      "Epoch 43/99\n",
      "----------\n",
      "Train Loss: 0.3711, Val Loss: 0.5701\n",
      "\n"
     ]
    },
    {
     "name": "stderr",
     "output_type": "stream",
     "text": [
      "100%|██████████████████████████████████████████████████████████████████████| 12/12 [00:28<00:00,  2.39s/it, loss=0.416]\n",
      "100%|████████████████████████████████████████████████████████████████████████| 4/4 [00:02<00:00,  1.96it/s, loss=0.427]\n"
     ]
    },
    {
     "name": "stdout",
     "output_type": "stream",
     "text": [
      "Epoch 44/99\n",
      "----------\n",
      "Train Loss: 0.3759, Val Loss: 0.4173\n",
      "\n"
     ]
    },
    {
     "name": "stderr",
     "output_type": "stream",
     "text": [
      "100%|██████████████████████████████████████████████████████████████████████| 12/12 [00:29<00:00,  2.43s/it, loss=0.344]\n",
      "100%|████████████████████████████████████████████████████████████████████████| 4/4 [00:02<00:00,  1.97it/s, loss=0.681]\n"
     ]
    },
    {
     "name": "stdout",
     "output_type": "stream",
     "text": [
      "Epoch 45/99\n",
      "----------\n",
      "Train Loss: 0.3699, Val Loss: 0.6628\n",
      "\n"
     ]
    },
    {
     "name": "stderr",
     "output_type": "stream",
     "text": [
      "100%|██████████████████████████████████████████████████████████████████████| 12/12 [00:28<00:00,  2.40s/it, loss=0.432]\n",
      "100%|████████████████████████████████████████████████████████████████████████| 4/4 [00:02<00:00,  1.92it/s, loss=0.384]\n"
     ]
    },
    {
     "name": "stdout",
     "output_type": "stream",
     "text": [
      "Epoch 46/99\n",
      "----------\n",
      "Train Loss: 0.3816, Val Loss: 0.4100\n",
      "\n"
     ]
    },
    {
     "name": "stderr",
     "output_type": "stream",
     "text": [
      "100%|██████████████████████████████████████████████████████████████████████| 12/12 [00:28<00:00,  2.35s/it, loss=0.394]\n",
      "100%|████████████████████████████████████████████████████████████████████████| 4/4 [00:02<00:00,  1.98it/s, loss=0.418]\n"
     ]
    },
    {
     "name": "stdout",
     "output_type": "stream",
     "text": [
      "Epoch 47/99\n",
      "----------\n",
      "Train Loss: 0.3830, Val Loss: 0.4665\n",
      "\n"
     ]
    },
    {
     "name": "stderr",
     "output_type": "stream",
     "text": [
      "100%|██████████████████████████████████████████████████████████████████████| 12/12 [00:28<00:00,  2.38s/it, loss=0.336]\n",
      "100%|████████████████████████████████████████████████████████████████████████| 4/4 [00:02<00:00,  1.91it/s, loss=0.359]\n"
     ]
    },
    {
     "name": "stdout",
     "output_type": "stream",
     "text": [
      "Epoch 48/99\n",
      "----------\n",
      "Train Loss: 0.3597, Val Loss: 0.3872\n",
      "✅ Best model saved! (Val Loss: 0.38716578483581543)\n",
      "\n"
     ]
    },
    {
     "name": "stderr",
     "output_type": "stream",
     "text": [
      "100%|██████████████████████████████████████████████████████████████████████| 12/12 [00:29<00:00,  2.45s/it, loss=0.359]\n",
      "100%|████████████████████████████████████████████████████████████████████████| 4/4 [00:02<00:00,  1.94it/s, loss=0.346]\n"
     ]
    },
    {
     "name": "stdout",
     "output_type": "stream",
     "text": [
      "Epoch 49/99\n",
      "----------\n",
      "Train Loss: 0.3492, Val Loss: 0.3566\n",
      "✅ Best model saved! (Val Loss: 0.35661234706640244)\n",
      "\n"
     ]
    },
    {
     "name": "stderr",
     "output_type": "stream",
     "text": [
      "100%|██████████████████████████████████████████████████████████████████████| 12/12 [00:29<00:00,  2.44s/it, loss=0.329]\n",
      "100%|████████████████████████████████████████████████████████████████████████| 4/4 [00:02<00:00,  1.88it/s, loss=0.366]\n"
     ]
    },
    {
     "name": "stdout",
     "output_type": "stream",
     "text": [
      "Epoch 50/99\n",
      "----------\n",
      "Train Loss: 0.3407, Val Loss: 0.3749\n",
      "\n"
     ]
    },
    {
     "name": "stderr",
     "output_type": "stream",
     "text": [
      "100%|██████████████████████████████████████████████████████████████████████| 12/12 [00:28<00:00,  2.40s/it, loss=0.311]\n",
      "100%|████████████████████████████████████████████████████████████████████████| 4/4 [00:02<00:00,  1.89it/s, loss=0.393]\n"
     ]
    },
    {
     "name": "stdout",
     "output_type": "stream",
     "text": [
      "Epoch 51/99\n",
      "----------\n",
      "Train Loss: 0.3332, Val Loss: 0.3967\n",
      "\n"
     ]
    },
    {
     "name": "stderr",
     "output_type": "stream",
     "text": [
      "100%|██████████████████████████████████████████████████████████████████████| 12/12 [00:29<00:00,  2.45s/it, loss=0.363]\n",
      "100%|████████████████████████████████████████████████████████████████████████| 4/4 [00:02<00:00,  1.86it/s, loss=0.365]\n"
     ]
    },
    {
     "name": "stdout",
     "output_type": "stream",
     "text": [
      "Epoch 52/99\n",
      "----------\n",
      "Train Loss: 0.3303, Val Loss: 0.3935\n",
      "\n"
     ]
    },
    {
     "name": "stderr",
     "output_type": "stream",
     "text": [
      "100%|██████████████████████████████████████████████████████████████████████| 12/12 [00:29<00:00,  2.50s/it, loss=0.327]\n",
      "100%|████████████████████████████████████████████████████████████████████████| 4/4 [00:02<00:00,  1.84it/s, loss=0.399]\n"
     ]
    },
    {
     "name": "stdout",
     "output_type": "stream",
     "text": [
      "Epoch 53/99\n",
      "----------\n",
      "Train Loss: 0.3316, Val Loss: 0.3865\n",
      "\n"
     ]
    },
    {
     "name": "stderr",
     "output_type": "stream",
     "text": [
      "100%|███████████████████████████████████████████████████████████████████████| 12/12 [00:30<00:00,  2.52s/it, loss=0.31]\n",
      "100%|████████████████████████████████████████████████████████████████████████| 4/4 [00:02<00:00,  1.83it/s, loss=0.372]\n"
     ]
    },
    {
     "name": "stdout",
     "output_type": "stream",
     "text": [
      "Epoch 54/99\n",
      "----------\n",
      "Train Loss: 0.3231, Val Loss: 0.3853\n",
      "\n"
     ]
    },
    {
     "name": "stderr",
     "output_type": "stream",
     "text": [
      "100%|██████████████████████████████████████████████████████████████████████| 12/12 [00:29<00:00,  2.46s/it, loss=0.319]\n",
      "100%|████████████████████████████████████████████████████████████████████████| 4/4 [00:02<00:00,  1.84it/s, loss=0.359]\n"
     ]
    },
    {
     "name": "stdout",
     "output_type": "stream",
     "text": [
      "Epoch 55/99\n",
      "----------\n",
      "Train Loss: 0.3182, Val Loss: 0.3601\n",
      "\n"
     ]
    },
    {
     "name": "stderr",
     "output_type": "stream",
     "text": [
      "100%|██████████████████████████████████████████████████████████████████████| 12/12 [00:29<00:00,  2.48s/it, loss=0.309]\n",
      "100%|████████████████████████████████████████████████████████████████████████| 4/4 [00:02<00:00,  1.87it/s, loss=0.322]\n"
     ]
    },
    {
     "name": "stdout",
     "output_type": "stream",
     "text": [
      "Epoch 56/99\n",
      "----------\n",
      "Train Loss: 0.3178, Val Loss: 0.3595\n",
      "\n"
     ]
    },
    {
     "name": "stderr",
     "output_type": "stream",
     "text": [
      "100%|██████████████████████████████████████████████████████████████████████| 12/12 [00:29<00:00,  2.49s/it, loss=0.363]\n",
      "100%|████████████████████████████████████████████████████████████████████████| 4/4 [00:02<00:00,  1.87it/s, loss=0.375]\n"
     ]
    },
    {
     "name": "stdout",
     "output_type": "stream",
     "text": [
      "Epoch 57/99\n",
      "----------\n",
      "Train Loss: 0.3095, Val Loss: 0.3721\n",
      "\n"
     ]
    },
    {
     "name": "stderr",
     "output_type": "stream",
     "text": [
      "100%|██████████████████████████████████████████████████████████████████████| 12/12 [00:29<00:00,  2.45s/it, loss=0.318]\n",
      "100%|████████████████████████████████████████████████████████████████████████| 4/4 [00:02<00:00,  1.89it/s, loss=0.331]\n"
     ]
    },
    {
     "name": "stdout",
     "output_type": "stream",
     "text": [
      "Epoch 58/99\n",
      "----------\n",
      "Train Loss: 0.3052, Val Loss: 0.3630\n",
      "\n"
     ]
    },
    {
     "name": "stderr",
     "output_type": "stream",
     "text": [
      "100%|████████████████████████████████████████████████████████████████████████| 12/12 [00:29<00:00,  2.43s/it, loss=0.3]\n",
      "100%|████████████████████████████████████████████████████████████████████████| 4/4 [00:02<00:00,  1.93it/s, loss=0.388]\n"
     ]
    },
    {
     "name": "stdout",
     "output_type": "stream",
     "text": [
      "Epoch 59/99\n",
      "----------\n",
      "Train Loss: 0.2998, Val Loss: 0.4065\n",
      "\n"
     ]
    },
    {
     "name": "stderr",
     "output_type": "stream",
     "text": [
      "100%|██████████████████████████████████████████████████████████████████████| 12/12 [00:29<00:00,  2.44s/it, loss=0.315]\n",
      "100%|████████████████████████████████████████████████████████████████████████| 4/4 [00:02<00:00,  1.88it/s, loss=0.431]\n"
     ]
    },
    {
     "name": "stdout",
     "output_type": "stream",
     "text": [
      "Epoch 60/99\n",
      "----------\n",
      "Train Loss: 0.3104, Val Loss: 0.4309\n",
      "\n"
     ]
    },
    {
     "name": "stderr",
     "output_type": "stream",
     "text": [
      "100%|██████████████████████████████████████████████████████████████████████| 12/12 [00:29<00:00,  2.42s/it, loss=0.288]\n",
      "100%|████████████████████████████████████████████████████████████████████████| 4/4 [00:02<00:00,  1.90it/s, loss=0.383]\n"
     ]
    },
    {
     "name": "stdout",
     "output_type": "stream",
     "text": [
      "Epoch 61/99\n",
      "----------\n",
      "Train Loss: 0.3104, Val Loss: 0.4051\n",
      "\n"
     ]
    },
    {
     "name": "stderr",
     "output_type": "stream",
     "text": [
      "100%|████████████████████████████████████████████████████████████████████████| 12/12 [00:29<00:00,  2.42s/it, loss=0.3]\n",
      "100%|████████████████████████████████████████████████████████████████████████| 4/4 [00:02<00:00,  1.85it/s, loss=0.413]\n"
     ]
    },
    {
     "name": "stdout",
     "output_type": "stream",
     "text": [
      "Epoch 62/99\n",
      "----------\n",
      "Train Loss: 0.3006, Val Loss: 0.3933\n",
      "\n"
     ]
    },
    {
     "name": "stderr",
     "output_type": "stream",
     "text": [
      "100%|██████████████████████████████████████████████████████████████████████| 12/12 [00:28<00:00,  2.35s/it, loss=0.307]\n",
      "100%|████████████████████████████████████████████████████████████████████████| 4/4 [00:02<00:00,  1.95it/s, loss=0.339]\n"
     ]
    },
    {
     "name": "stdout",
     "output_type": "stream",
     "text": [
      "Epoch 63/99\n",
      "----------\n",
      "Train Loss: 0.2955, Val Loss: 0.3733\n",
      "\n"
     ]
    },
    {
     "name": "stderr",
     "output_type": "stream",
     "text": [
      "100%|███████████████████████████████████████████████████████████████████████| 12/12 [00:28<00:00,  2.38s/it, loss=0.31]\n",
      "100%|████████████████████████████████████████████████████████████████████████| 4/4 [00:02<00:00,  1.99it/s, loss=0.401]\n"
     ]
    },
    {
     "name": "stdout",
     "output_type": "stream",
     "text": [
      "Epoch 64/99\n",
      "----------\n",
      "Train Loss: 0.2932, Val Loss: 0.3993\n",
      "\n"
     ]
    },
    {
     "name": "stderr",
     "output_type": "stream",
     "text": [
      "100%|██████████████████████████████████████████████████████████████████████| 12/12 [00:28<00:00,  2.35s/it, loss=0.297]\n",
      "100%|████████████████████████████████████████████████████████████████████████| 4/4 [00:01<00:00,  2.01it/s, loss=0.399]\n"
     ]
    },
    {
     "name": "stdout",
     "output_type": "stream",
     "text": [
      "Epoch 65/99\n",
      "----------\n",
      "Train Loss: 0.2883, Val Loss: 0.3696\n",
      "\n"
     ]
    },
    {
     "name": "stderr",
     "output_type": "stream",
     "text": [
      "100%|██████████████████████████████████████████████████████████████████████| 12/12 [00:28<00:00,  2.38s/it, loss=0.298]\n",
      "100%|████████████████████████████████████████████████████████████████████████| 4/4 [00:02<00:00,  1.95it/s, loss=0.414]\n"
     ]
    },
    {
     "name": "stdout",
     "output_type": "stream",
     "text": [
      "Epoch 66/99\n",
      "----------\n",
      "Train Loss: 0.2872, Val Loss: 0.4111\n",
      "\n"
     ]
    },
    {
     "name": "stderr",
     "output_type": "stream",
     "text": [
      "100%|██████████████████████████████████████████████████████████████████████| 12/12 [00:28<00:00,  2.40s/it, loss=0.281]\n",
      "100%|████████████████████████████████████████████████████████████████████████| 4/4 [00:02<00:00,  1.67it/s, loss=0.394]\n"
     ]
    },
    {
     "name": "stdout",
     "output_type": "stream",
     "text": [
      "Epoch 67/99\n",
      "----------\n",
      "Train Loss: 0.2874, Val Loss: 0.3853\n",
      "\n"
     ]
    },
    {
     "name": "stderr",
     "output_type": "stream",
     "text": [
      "100%|██████████████████████████████████████████████████████████████████████| 12/12 [00:30<00:00,  2.53s/it, loss=0.302]\n",
      "100%|████████████████████████████████████████████████████████████████████████| 4/4 [00:02<00:00,  1.86it/s, loss=0.412]\n"
     ]
    },
    {
     "name": "stdout",
     "output_type": "stream",
     "text": [
      "Epoch 68/99\n",
      "----------\n",
      "Train Loss: 0.2836, Val Loss: 0.4025\n",
      "\n"
     ]
    },
    {
     "name": "stderr",
     "output_type": "stream",
     "text": [
      "100%|██████████████████████████████████████████████████████████████████████| 12/12 [00:29<00:00,  2.42s/it, loss=0.281]\n",
      "100%|████████████████████████████████████████████████████████████████████████| 4/4 [00:02<00:00,  1.93it/s, loss=0.373]\n"
     ]
    },
    {
     "name": "stdout",
     "output_type": "stream",
     "text": [
      "Epoch 69/99\n",
      "----------\n",
      "Train Loss: 0.2785, Val Loss: 0.3685\n",
      "\n"
     ]
    },
    {
     "name": "stderr",
     "output_type": "stream",
     "text": [
      "100%|██████████████████████████████████████████████████████████████████████| 12/12 [00:29<00:00,  2.46s/it, loss=0.251]\n",
      "100%|████████████████████████████████████████████████████████████████████████| 4/4 [00:02<00:00,  1.89it/s, loss=0.335]\n"
     ]
    },
    {
     "name": "stdout",
     "output_type": "stream",
     "text": [
      "Epoch 70/99\n",
      "----------\n",
      "Train Loss: 0.2695, Val Loss: 0.3554\n",
      "✅ Best model saved! (Val Loss: 0.3553941994905472)\n",
      "\n"
     ]
    },
    {
     "name": "stderr",
     "output_type": "stream",
     "text": [
      "100%|███████████████████████████████████████████████████████████████████████| 12/12 [00:28<00:00,  2.37s/it, loss=0.28]\n",
      "100%|████████████████████████████████████████████████████████████████████████| 4/4 [00:02<00:00,  1.89it/s, loss=0.329]\n"
     ]
    },
    {
     "name": "stdout",
     "output_type": "stream",
     "text": [
      "Epoch 71/99\n",
      "----------\n",
      "Train Loss: 0.2652, Val Loss: 0.3513\n",
      "✅ Best model saved! (Val Loss: 0.3513232469558716)\n",
      "\n"
     ]
    },
    {
     "name": "stderr",
     "output_type": "stream",
     "text": [
      "100%|██████████████████████████████████████████████████████████████████████| 12/12 [00:29<00:00,  2.46s/it, loss=0.263]\n",
      "100%|████████████████████████████████████████████████████████████████████████| 4/4 [00:02<00:00,  1.91it/s, loss=0.376]\n"
     ]
    },
    {
     "name": "stdout",
     "output_type": "stream",
     "text": [
      "Epoch 72/99\n",
      "----------\n",
      "Train Loss: 0.2632, Val Loss: 0.3827\n",
      "\n"
     ]
    },
    {
     "name": "stderr",
     "output_type": "stream",
     "text": [
      "100%|██████████████████████████████████████████████████████████████████████| 12/12 [00:30<00:00,  2.50s/it, loss=0.258]\n",
      "100%|████████████████████████████████████████████████████████████████████████| 4/4 [00:02<00:00,  1.90it/s, loss=0.331]\n"
     ]
    },
    {
     "name": "stdout",
     "output_type": "stream",
     "text": [
      "Epoch 73/99\n",
      "----------\n",
      "Train Loss: 0.2610, Val Loss: 0.3484\n",
      "✅ Best model saved! (Val Loss: 0.34836406260728836)\n",
      "\n"
     ]
    },
    {
     "name": "stderr",
     "output_type": "stream",
     "text": [
      "100%|███████████████████████████████████████████████████████████████████████| 12/12 [00:29<00:00,  2.45s/it, loss=0.24]\n",
      "100%|█████████████████████████████████████████████████████████████████████████| 4/4 [00:02<00:00,  1.89it/s, loss=0.35]\n"
     ]
    },
    {
     "name": "stdout",
     "output_type": "stream",
     "text": [
      "Epoch 74/99\n",
      "----------\n",
      "Train Loss: 0.2516, Val Loss: 0.3680\n",
      "\n"
     ]
    },
    {
     "name": "stderr",
     "output_type": "stream",
     "text": [
      "100%|██████████████████████████████████████████████████████████████████████| 12/12 [00:28<00:00,  2.41s/it, loss=0.277]\n",
      "100%|████████████████████████████████████████████████████████████████████████| 4/4 [00:02<00:00,  1.93it/s, loss=0.356]\n"
     ]
    },
    {
     "name": "stdout",
     "output_type": "stream",
     "text": [
      "Epoch 75/99\n",
      "----------\n",
      "Train Loss: 0.2543, Val Loss: 0.3880\n",
      "\n"
     ]
    },
    {
     "name": "stderr",
     "output_type": "stream",
     "text": [
      "100%|██████████████████████████████████████████████████████████████████████| 12/12 [00:29<00:00,  2.45s/it, loss=0.281]\n",
      "100%|████████████████████████████████████████████████████████████████████████| 4/4 [00:02<00:00,  1.91it/s, loss=0.413]\n"
     ]
    },
    {
     "name": "stdout",
     "output_type": "stream",
     "text": [
      "Epoch 76/99\n",
      "----------\n",
      "Train Loss: 0.2558, Val Loss: 0.4203\n",
      "\n"
     ]
    },
    {
     "name": "stderr",
     "output_type": "stream",
     "text": [
      "100%|██████████████████████████████████████████████████████████████████████| 12/12 [00:29<00:00,  2.44s/it, loss=0.281]\n",
      "100%|█████████████████████████████████████████████████████████████████████████| 4/4 [00:02<00:00,  1.95it/s, loss=0.47]\n"
     ]
    },
    {
     "name": "stdout",
     "output_type": "stream",
     "text": [
      "Epoch 77/99\n",
      "----------\n",
      "Train Loss: 0.2566, Val Loss: 0.4188\n",
      "\n"
     ]
    },
    {
     "name": "stderr",
     "output_type": "stream",
     "text": [
      "100%|██████████████████████████████████████████████████████████████████████| 12/12 [00:29<00:00,  2.43s/it, loss=0.245]\n",
      "100%|██████████████████████████████████████████████████████████████████████████| 4/4 [00:02<00:00,  1.94it/s, loss=0.4]\n"
     ]
    },
    {
     "name": "stdout",
     "output_type": "stream",
     "text": [
      "Epoch 78/99\n",
      "----------\n",
      "Train Loss: 0.2515, Val Loss: 0.3846\n",
      "\n"
     ]
    },
    {
     "name": "stderr",
     "output_type": "stream",
     "text": [
      "100%|██████████████████████████████████████████████████████████████████████| 12/12 [00:29<00:00,  2.44s/it, loss=0.245]\n",
      "100%|████████████████████████████████████████████████████████████████████████| 4/4 [00:02<00:00,  1.92it/s, loss=0.355]\n"
     ]
    },
    {
     "name": "stdout",
     "output_type": "stream",
     "text": [
      "Epoch 79/99\n",
      "----------\n",
      "Train Loss: 0.2468, Val Loss: 0.3645\n",
      "\n"
     ]
    },
    {
     "name": "stderr",
     "output_type": "stream",
     "text": [
      "100%|██████████████████████████████████████████████████████████████████████| 12/12 [00:28<00:00,  2.39s/it, loss=0.243]\n",
      "100%|████████████████████████████████████████████████████████████████████████| 4/4 [00:02<00:00,  1.90it/s, loss=0.383]\n"
     ]
    },
    {
     "name": "stdout",
     "output_type": "stream",
     "text": [
      "Epoch 80/99\n",
      "----------\n",
      "Train Loss: 0.2458, Val Loss: 0.3717\n",
      "\n"
     ]
    },
    {
     "name": "stderr",
     "output_type": "stream",
     "text": [
      "100%|██████████████████████████████████████████████████████████████████████| 12/12 [00:29<00:00,  2.44s/it, loss=0.224]\n",
      "100%|████████████████████████████████████████████████████████████████████████| 4/4 [00:02<00:00,  1.88it/s, loss=0.366]\n"
     ]
    },
    {
     "name": "stdout",
     "output_type": "stream",
     "text": [
      "Epoch 81/99\n",
      "----------\n",
      "Train Loss: 0.2402, Val Loss: 0.3888\n",
      "\n"
     ]
    },
    {
     "name": "stderr",
     "output_type": "stream",
     "text": [
      "100%|██████████████████████████████████████████████████████████████████████| 12/12 [00:29<00:00,  2.44s/it, loss=0.234]\n",
      "100%|████████████████████████████████████████████████████████████████████████| 4/4 [00:02<00:00,  1.86it/s, loss=0.347]\n"
     ]
    },
    {
     "name": "stdout",
     "output_type": "stream",
     "text": [
      "Epoch 82/99\n",
      "----------\n",
      "Train Loss: 0.2406, Val Loss: 0.3681\n",
      "\n"
     ]
    },
    {
     "name": "stderr",
     "output_type": "stream",
     "text": [
      "100%|██████████████████████████████████████████████████████████████████████| 12/12 [00:29<00:00,  2.45s/it, loss=0.247]\n",
      "100%|████████████████████████████████████████████████████████████████████████| 4/4 [00:02<00:00,  1.93it/s, loss=0.378]\n"
     ]
    },
    {
     "name": "stdout",
     "output_type": "stream",
     "text": [
      "Epoch 83/99\n",
      "----------\n",
      "Train Loss: 0.2386, Val Loss: 0.3959\n",
      "\n"
     ]
    },
    {
     "name": "stderr",
     "output_type": "stream",
     "text": [
      "100%|██████████████████████████████████████████████████████████████████████| 12/12 [00:29<00:00,  2.44s/it, loss=0.239]\n",
      "100%|████████████████████████████████████████████████████████████████████████| 4/4 [00:02<00:00,  1.95it/s, loss=0.351]\n"
     ]
    },
    {
     "name": "stdout",
     "output_type": "stream",
     "text": [
      "Epoch 84/99\n",
      "----------\n",
      "Train Loss: 0.2314, Val Loss: 0.3545\n",
      "\n"
     ]
    },
    {
     "name": "stderr",
     "output_type": "stream",
     "text": [
      "100%|██████████████████████████████████████████████████████████████████████| 12/12 [00:29<00:00,  2.45s/it, loss=0.208]\n",
      "100%|████████████████████████████████████████████████████████████████████████| 4/4 [00:02<00:00,  1.90it/s, loss=0.383]\n"
     ]
    },
    {
     "name": "stdout",
     "output_type": "stream",
     "text": [
      "Epoch 85/99\n",
      "----------\n",
      "Train Loss: 0.2277, Val Loss: 0.3611\n",
      "\n"
     ]
    },
    {
     "name": "stderr",
     "output_type": "stream",
     "text": [
      "100%|██████████████████████████████████████████████████████████████████████| 12/12 [00:29<00:00,  2.45s/it, loss=0.249]\n",
      "100%|████████████████████████████████████████████████████████████████████████| 4/4 [00:02<00:00,  1.86it/s, loss=0.352]\n"
     ]
    },
    {
     "name": "stdout",
     "output_type": "stream",
     "text": [
      "Epoch 86/99\n",
      "----------\n",
      "Train Loss: 0.2364, Val Loss: 0.3696\n",
      "\n"
     ]
    },
    {
     "name": "stderr",
     "output_type": "stream",
     "text": [
      "100%|██████████████████████████████████████████████████████████████████████| 12/12 [00:29<00:00,  2.44s/it, loss=0.239]\n",
      "100%|████████████████████████████████████████████████████████████████████████| 4/4 [00:02<00:00,  1.88it/s, loss=0.337]\n"
     ]
    },
    {
     "name": "stdout",
     "output_type": "stream",
     "text": [
      "Epoch 87/99\n",
      "----------\n",
      "Train Loss: 0.2388, Val Loss: 0.3601\n",
      "\n"
     ]
    },
    {
     "name": "stderr",
     "output_type": "stream",
     "text": [
      "100%|██████████████████████████████████████████████████████████████████████| 12/12 [00:29<00:00,  2.45s/it, loss=0.235]\n",
      "100%|████████████████████████████████████████████████████████████████████████| 4/4 [00:02<00:00,  1.92it/s, loss=0.395]\n"
     ]
    },
    {
     "name": "stdout",
     "output_type": "stream",
     "text": [
      "Epoch 88/99\n",
      "----------\n",
      "Train Loss: 0.2349, Val Loss: 0.3763\n",
      "\n"
     ]
    },
    {
     "name": "stderr",
     "output_type": "stream",
     "text": [
      "100%|██████████████████████████████████████████████████████████████████████| 12/12 [00:29<00:00,  2.44s/it, loss=0.231]\n",
      "100%|████████████████████████████████████████████████████████████████████████| 4/4 [00:02<00:00,  1.99it/s, loss=0.401]\n"
     ]
    },
    {
     "name": "stdout",
     "output_type": "stream",
     "text": [
      "Epoch 89/99\n",
      "----------\n",
      "Train Loss: 0.2290, Val Loss: 0.4107\n",
      "\n"
     ]
    },
    {
     "name": "stderr",
     "output_type": "stream",
     "text": [
      "100%|██████████████████████████████████████████████████████████████████████| 12/12 [00:28<00:00,  2.41s/it, loss=0.231]\n",
      "100%|████████████████████████████████████████████████████████████████████████| 4/4 [00:02<00:00,  1.93it/s, loss=0.369]\n"
     ]
    },
    {
     "name": "stdout",
     "output_type": "stream",
     "text": [
      "Epoch 90/99\n",
      "----------\n",
      "Train Loss: 0.2250, Val Loss: 0.3874\n",
      "\n"
     ]
    },
    {
     "name": "stderr",
     "output_type": "stream",
     "text": [
      "100%|██████████████████████████████████████████████████████████████████████| 12/12 [00:29<00:00,  2.46s/it, loss=0.231]\n",
      "100%|████████████████████████████████████████████████████████████████████████| 4/4 [00:02<00:00,  1.83it/s, loss=0.403]\n"
     ]
    },
    {
     "name": "stdout",
     "output_type": "stream",
     "text": [
      "Epoch 91/99\n",
      "----------\n",
      "Train Loss: 0.2199, Val Loss: 0.3685\n",
      "\n"
     ]
    },
    {
     "name": "stderr",
     "output_type": "stream",
     "text": [
      "100%|██████████████████████████████████████████████████████████████████████| 12/12 [00:29<00:00,  2.43s/it, loss=0.226]\n",
      "100%|████████████████████████████████████████████████████████████████████████| 4/4 [00:02<00:00,  1.89it/s, loss=0.432]\n"
     ]
    },
    {
     "name": "stdout",
     "output_type": "stream",
     "text": [
      "Epoch 92/99\n",
      "----------\n",
      "Train Loss: 0.2185, Val Loss: 0.4036\n",
      "\n"
     ]
    },
    {
     "name": "stderr",
     "output_type": "stream",
     "text": [
      "100%|██████████████████████████████████████████████████████████████████████| 12/12 [00:29<00:00,  2.46s/it, loss=0.216]\n",
      "100%|████████████████████████████████████████████████████████████████████████| 4/4 [00:02<00:00,  1.95it/s, loss=0.333]\n"
     ]
    },
    {
     "name": "stdout",
     "output_type": "stream",
     "text": [
      "Epoch 93/99\n",
      "----------\n",
      "Train Loss: 0.2136, Val Loss: 0.3541\n",
      "\n"
     ]
    },
    {
     "name": "stderr",
     "output_type": "stream",
     "text": [
      "100%|██████████████████████████████████████████████████████████████████████| 12/12 [00:28<00:00,  2.40s/it, loss=0.206]\n",
      "100%|████████████████████████████████████████████████████████████████████████| 4/4 [00:02<00:00,  1.95it/s, loss=0.356]\n"
     ]
    },
    {
     "name": "stdout",
     "output_type": "stream",
     "text": [
      "Epoch 94/99\n",
      "----------\n",
      "Train Loss: 0.2149, Val Loss: 0.3733\n",
      "\n"
     ]
    },
    {
     "name": "stderr",
     "output_type": "stream",
     "text": [
      "100%|██████████████████████████████████████████████████████████████████████| 12/12 [00:29<00:00,  2.42s/it, loss=0.226]\n",
      "100%|████████████████████████████████████████████████████████████████████████| 4/4 [00:02<00:00,  1.86it/s, loss=0.381]\n"
     ]
    },
    {
     "name": "stdout",
     "output_type": "stream",
     "text": [
      "Epoch 95/99\n",
      "----------\n",
      "Train Loss: 0.2162, Val Loss: 0.3927\n",
      "\n"
     ]
    },
    {
     "name": "stderr",
     "output_type": "stream",
     "text": [
      "100%|███████████████████████████████████████████████████████████████████████| 12/12 [00:29<00:00,  2.49s/it, loss=0.22]\n",
      "100%|████████████████████████████████████████████████████████████████████████| 4/4 [00:02<00:00,  1.90it/s, loss=0.427]\n"
     ]
    },
    {
     "name": "stdout",
     "output_type": "stream",
     "text": [
      "Epoch 96/99\n",
      "----------\n",
      "Train Loss: 0.2169, Val Loss: 0.3988\n",
      "\n"
     ]
    },
    {
     "name": "stderr",
     "output_type": "stream",
     "text": [
      "100%|██████████████████████████████████████████████████████████████████████| 12/12 [00:29<00:00,  2.49s/it, loss=0.201]\n",
      "100%|████████████████████████████████████████████████████████████████████████| 4/4 [00:02<00:00,  1.86it/s, loss=0.398]\n"
     ]
    },
    {
     "name": "stdout",
     "output_type": "stream",
     "text": [
      "Epoch 97/99\n",
      "----------\n",
      "Train Loss: 0.2094, Val Loss: 0.3675\n",
      "\n"
     ]
    },
    {
     "name": "stderr",
     "output_type": "stream",
     "text": [
      "100%|██████████████████████████████████████████████████████████████████████| 12/12 [00:29<00:00,  2.49s/it, loss=0.202]\n",
      "100%|████████████████████████████████████████████████████████████████████████| 4/4 [00:02<00:00,  1.90it/s, loss=0.392]\n"
     ]
    },
    {
     "name": "stdout",
     "output_type": "stream",
     "text": [
      "Epoch 98/99\n",
      "----------\n",
      "Train Loss: 0.2052, Val Loss: 0.3818\n",
      "\n"
     ]
    },
    {
     "name": "stderr",
     "output_type": "stream",
     "text": [
      "100%|██████████████████████████████████████████████████████████████████████| 12/12 [00:29<00:00,  2.50s/it, loss=0.216]\n",
      "100%|████████████████████████████████████████████████████████████████████████| 4/4 [00:02<00:00,  1.86it/s, loss=0.368]"
     ]
    },
    {
     "name": "stdout",
     "output_type": "stream",
     "text": [
      "Epoch 99/99\n",
      "----------\n",
      "Train Loss: 0.2046, Val Loss: 0.3851\n",
      "\n"
     ]
    },
    {
     "name": "stderr",
     "output_type": "stream",
     "text": [
      "\n"
     ]
    }
   ],
   "source": [
    "model_3, logs_3 = train(train_dataloader, val_dataloader, model, loss_fn, optim, 100, log_freq=1, save_best_model=True, \n",
    "              best_model_name='best_model_combined.pth', last_model_name='last_model_combined.pth', save_path=MODEL_PATH)"
   ]
  },
  {
   "cell_type": "code",
   "execution_count": 14,
   "metadata": {},
   "outputs": [],
   "source": [
    "logs_3_df = pd.DataFrame(logs_3)\n",
    "logs_3_df.to_csv(os.path.join(MODEL_PATH, 'logs_combined.csv'), index=False)"
   ]
  },
  {
   "cell_type": "code",
   "execution_count": null,
   "metadata": {},
   "outputs": [],
   "source": []
  }
 ],
 "metadata": {
  "accelerator": "GPU",
  "colab": {
   "gpuType": "T4",
   "provenance": []
  },
  "kernelspec": {
   "display_name": "Python 3 (ipykernel)",
   "language": "python",
   "name": "python3"
  },
  "language_info": {
   "codemirror_mode": {
    "name": "ipython",
    "version": 3
   },
   "file_extension": ".py",
   "mimetype": "text/x-python",
   "name": "python",
   "nbconvert_exporter": "python",
   "pygments_lexer": "ipython3",
   "version": "3.11.11"
  }
 },
 "nbformat": 4,
 "nbformat_minor": 4
}
